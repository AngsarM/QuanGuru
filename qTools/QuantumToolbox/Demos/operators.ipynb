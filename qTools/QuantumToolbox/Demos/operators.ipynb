{
 "nbformat": 4,
 "nbformat_minor": 2,
 "metadata": {
  "language_info": {
   "name": "python",
   "codemirror_mode": {
    "name": "ipython",
    "version": 3
   },
   "version": "3.7.6-final"
  },
  "orig_nbformat": 2,
  "file_extension": ".py",
  "mimetype": "text/x-python",
  "name": "python",
  "npconvert_exporter": "python",
  "pygments_lexer": "ipython3",
  "version": 3,
  "kernelspec": {
   "name": "python37664bitanaconda3virtualenvb329dec24e7e4f7f99b0b28d7020383d",
   "display_name": "Python 3.7.6 64-bit ('anaconda3': virtualenv)"
  }
 },
 "cells": [
  {
   "cell_type": "code",
   "execution_count": 1,
   "metadata": {},
   "outputs": [],
   "source": [
    "import qTools.QuantumToolbox.operators as qOperators"
   ]
  },
  {
   "cell_type": "markdown",
   "metadata": {},
   "source": [
    "# How-to-use functions in operators.py of QuantumToolbox\n",
    "---\n",
    "\n",
    "Each example is introduced in the order that they appear inside the file"
   ],
   "execution_count": null,
   "outputs": []
  },
  {
   "cell_type": "code",
   "execution_count": 2,
   "metadata": {},
   "outputs": [],
   "source": [
    "# Uncomment any (or both) of these two to print module docstrings\n",
    "#print(qOperators.__doc__)\n",
    "#help(qOperators)"
   ]
  },
  {
   "cell_type": "markdown",
   "metadata": {},
   "source": [
    "# Bosonic Operators\n",
    "---\n",
    "\n",
    "## number\n",
    "This is a method to create (bosonic) number operator for a given dimension."
   ],
   "execution_count": null,
   "outputs": []
  },
  {
   "cell_type": "code",
   "execution_count": 3,
   "metadata": {},
   "outputs": [
    {
     "output_type": "stream",
     "name": "stdout",
     "text": "(0, 0)\t0\n  (1, 1)\t1\n  (2, 2)\t2\n[[0 0 0]\n [0 1 0]\n [0 0 2]]\n[[0 0 0]\n [0 1 0]\n [0 0 2]]\n"
    }
   ],
   "source": [
    "# sparse=True by default\n",
    "# for dimension 3\n",
    "numberArray = qOperators.number(N=3, sparse=False)\n",
    "numberSparse = qOperators.number(3)\n",
    "\n",
    "print(numberSparse)\n",
    "# You obtain the array by simply calling .A on the sparse matrix\n",
    "# If sparse=True, function simply returns state.A\n",
    "# so, these two are equivalent, and I will create sparse and use .A in the rest of this example to print array\n",
    "print(numberSparse.A)\n",
    "print(numberArray)"
   ]
  },
  {
   "cell_type": "markdown",
   "metadata": {},
   "source": [
    "## destroy\n",
    "---\n",
    "This is a method to create (bosonic) annihilation operator for a given dimension."
   ],
   "execution_count": null,
   "outputs": []
  },
  {
   "cell_type": "code",
   "execution_count": 4,
   "metadata": {},
   "outputs": [
    {
     "output_type": "stream",
     "name": "stdout",
     "text": "(0, 1)\t1.0\n  (1, 2)\t1.4142135623730951\n[[0.         1.         0.        ]\n [0.         0.         1.41421356]\n [0.         0.         0.        ]]\n"
    }
   ],
   "source": [
    "# for dimension 3\n",
    "annihilation = qOperators.destroy(N=3)\n",
    "annihilation = qOperators.destroy(3)\n",
    "\n",
    "print(annihilation)\n",
    "print(annihilation.A)"
   ]
  },
  {
   "cell_type": "markdown",
   "metadata": {},
   "source": [
    "## create\n",
    "---\n",
    "This is a method to create (bosonic) creation operator for a given dimension."
   ],
   "execution_count": null,
   "outputs": []
  },
  {
   "cell_type": "code",
   "execution_count": 5,
   "metadata": {},
   "outputs": [
    {
     "output_type": "stream",
     "name": "stdout",
     "text": "(1, 0)\t1.0\n  (2, 1)\t1.4142135623730951\n[[0.         0.         0.        ]\n [1.         0.         0.        ]\n [0.         1.41421356 0.        ]]\n"
    }
   ],
   "source": [
    "# for dimension 3\n",
    "create = qOperators.create(3)\n",
    "\n",
    "print(create)\n",
    "print(create.A)"
   ]
  },
  {
   "cell_type": "markdown",
   "metadata": {},
   "source": [
    "# identity\n",
    "---\n",
    "This is a method to create an identity operator for a given dimension."
   ],
   "execution_count": null,
   "outputs": []
  },
  {
   "cell_type": "code",
   "execution_count": 6,
   "metadata": {},
   "outputs": [
    {
     "output_type": "stream",
     "name": "stdout",
     "text": "(0, 0)\t1.0\n  (1, 1)\t1.0\n  (2, 2)\t1.0\n[[1. 0. 0.]\n [0. 1. 0.]\n [0. 0. 1.]]\n"
    }
   ],
   "source": [
    "# for dimension 3\n",
    "identity = qOperators.identity(3)\n",
    "\n",
    "print(identity)\n",
    "print(identity.A)"
   ]
  },
  {
   "cell_type": "markdown",
   "metadata": {},
   "source": [
    "# Pauli matrices (Qubit operators)\n",
    "---\n",
    "\n",
    "## Sigma Z\n",
    "This is a method to create Pauli Z operator."
   ],
   "execution_count": null,
   "outputs": []
  },
  {
   "cell_type": "code",
   "execution_count": 7,
   "metadata": {},
   "outputs": [
    {
     "output_type": "stream",
     "name": "stdout",
     "text": "[[ 1  0]\n [ 0 -1]]\n  (0, 0)\t1\n  (1, 1)\t-1\n"
    }
   ],
   "source": [
    "sz = qOperators.sigmaz(sparse=False)\n",
    "sz = qOperators.sigmaz()\n",
    "\n",
    "print(sz.A)\n",
    "print(sz)"
   ]
  },
  {
   "cell_type": "markdown",
   "metadata": {},
   "source": [
    "## Sigma Y\n",
    "---\n",
    "\n",
    "This is a method to create Pauli Y operator."
   ],
   "execution_count": null,
   "outputs": []
  },
  {
   "cell_type": "code",
   "execution_count": 8,
   "metadata": {},
   "outputs": [
    {
     "output_type": "stream",
     "name": "stdout",
     "text": "[[0.+0.j 0.-1.j]\n [0.+1.j 0.+0.j]]\n  (1, 0)\t1j\n  (0, 1)\t(-0-1j)\n"
    }
   ],
   "source": [
    "sy = qOperators.sigmay(sparse=False)\n",
    "sy = qOperators.sigmay()\n",
    "\n",
    "print(sy.A)\n",
    "print(sy)"
   ]
  },
  {
   "cell_type": "markdown",
   "metadata": {},
   "source": [
    "## Sigma X\n",
    "---\n",
    "\n",
    "This is a method to create Pauli X operator."
   ],
   "execution_count": null,
   "outputs": []
  },
  {
   "cell_type": "code",
   "execution_count": 9,
   "metadata": {},
   "outputs": [
    {
     "output_type": "stream",
     "name": "stdout",
     "text": "[[0 1]\n [1 0]]\n  (1, 0)\t1\n  (0, 1)\t1\n"
    }
   ],
   "source": [
    "sx = qOperators.sigmax(sparse=False)\n",
    "sx = qOperators.sigmax()\n",
    "\n",
    "print(sx.A)\n",
    "print(sx)"
   ]
  },
  {
   "cell_type": "markdown",
   "metadata": {},
   "source": [
    "## Sigma +\n",
    "---\n",
    "\n",
    "This is a method to create Pauli + (creation) operator."
   ],
   "execution_count": null,
   "outputs": []
  },
  {
   "cell_type": "code",
   "execution_count": 10,
   "metadata": {},
   "outputs": [
    {
     "output_type": "stream",
     "name": "stdout",
     "text": "[[0 1]\n [0 0]]\n  (0, 1)\t1\n"
    }
   ],
   "source": [
    "sp = qOperators.sigmap(sparse=False)\n",
    "sp = qOperators.sigmap()\n",
    "\n",
    "print(sp.A)\n",
    "print(sp)"
   ]
  },
  {
   "cell_type": "markdown",
   "metadata": {},
   "source": [
    "## Sigma -\n",
    "---\n",
    "\n",
    "This is a method to create Pauli - (destruction) operator."
   ],
   "execution_count": null,
   "outputs": []
  },
  {
   "cell_type": "code",
   "execution_count": 11,
   "metadata": {},
   "outputs": [
    {
     "output_type": "stream",
     "name": "stdout",
     "text": "[[0 0]\n [1 0]]\n  (1, 0)\t1\n"
    }
   ],
   "source": [
    "sm = qOperators.sigmam(sparse=False)\n",
    "sm = qOperators.sigmam()\n",
    "\n",
    "print(sm.A)\n",
    "print(sm)"
   ]
  },
  {
   "cell_type": "code",
   "execution_count": null,
   "metadata": {},
   "outputs": [],
   "source": []
  }
 ]
}