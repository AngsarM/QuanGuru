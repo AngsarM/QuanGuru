{
 "nbformat": 4,
 "nbformat_minor": 2,
 "metadata": {
  "language_info": {
   "name": "python",
   "codemirror_mode": {
    "name": "ipython",
    "version": 3
   },
   "version": "3.7.6-final"
  },
  "orig_nbformat": 2,
  "file_extension": ".py",
  "mimetype": "text/x-python",
  "name": "python",
  "npconvert_exporter": "python",
  "pygments_lexer": "ipython3",
  "version": 3,
  "kernelspec": {
   "name": "python37664bitanaconda3virtualenvb329dec24e7e4f7f99b0b28d7020383d",
   "display_name": "Python 3.7.6 64-bit ('anaconda3': virtualenv)"
  }
 },
 "cells": [
  {
   "cell_type": "code",
   "execution_count": 1,
   "metadata": {},
   "outputs": [],
   "source": [
    "import qTools.QuantumToolbox.operators as qOperators"
   ]
  },
  {
   "cell_type": "markdown",
   "metadata": {},
   "source": [
    "# How-to-use functions in operators.py of QuantumToolbox\n",
    "---\n",
    "\n",
    "Each example is introduced in the order that they appear inside the file"
   ],
   "execution_count": null,
   "outputs": []
  },
  {
   "cell_type": "code",
   "execution_count": 2,
   "metadata": {},
   "outputs": [],
   "source": [
    "# Uncomment any (or both) of these two to print module docstrings\n",
    "#print(qOperators.__doc__)\n",
    "#help(qOperators)"
   ]
  },
  {
   "cell_type": "markdown",
   "metadata": {},
   "source": [
    "## number\n",
    "---\n",
    "This is a method to create (bosonic) number operator for a given dimension."
   ],
   "execution_count": null,
   "outputs": []
  },
  {
   "cell_type": "code",
   "execution_count": 5,
   "metadata": {},
   "outputs": [
    {
     "output_type": "stream",
     "name": "stdout",
     "text": "[[0 0 0]\n [0 1 0]\n [0 0 2]]\n[[0 0 0]\n [0 1 0]\n [0 0 2]]\n[[0 0 0]\n [0 1 0]\n [0 0 2]]\n"
    }
   ],
   "source": [
    "# sparse=True by default\n",
    "# for dimension 3\n",
    "numberArray = qOperators.number(N=3, sparse=False)\n",
    "numberSparse = qOperators.number(3)\n",
    "\n",
    "print(numberArray)\n",
    "# You obtain the array by simply calling .A on the sparse matrix\n",
    "# If sparse=True, function simply returns state.A\n",
    "# so, these two are equivalent, and I will create sparse and use .A in the rest of this example to print array\n",
    "print(numberSparse.A)\n",
    "print(numberArray)"
   ]
  },
  {
   "cell_type": "markdown",
   "metadata": {},
   "source": [
    "## destroy\n",
    "---\n",
    "This is a method to create (bosonic) annihilation operator for a given dimension."
   ],
   "execution_count": null,
   "outputs": []
  },
  {
   "cell_type": "code",
   "execution_count": 6,
   "metadata": {},
   "outputs": [
    {
     "output_type": "stream",
     "name": "stdout",
     "text": "(0, 1)\t1.0\n  (1, 2)\t1.4142135623730951\n[[0.         1.         0.        ]\n [0.         0.         1.41421356]\n [0.         0.         0.        ]]\n"
    }
   ],
   "source": [
    "# for dimension 2 and 1 at 1st element of the row matrix (see the print below)\n",
    "annihilation = qOperators.destroy(N=3)\n",
    "annihilation = qOperators.destroy(3)\n",
    "\n",
    "print(annihilation)\n",
    "print(annihilation.A)"
   ]
  },
  {
   "cell_type": "markdown",
   "metadata": {},
   "source": [
    "## create\n",
    "---\n",
    "This is a method to create (bosonic) creation operator for a given dimension."
   ],
   "execution_count": null,
   "outputs": []
  },
  {
   "cell_type": "code",
   "execution_count": 8,
   "metadata": {},
   "outputs": [
    {
     "output_type": "stream",
     "name": "stdout",
     "text": "(1, 0)\t1.0\n  (2, 1)\t1.4142135623730951\n[[0.         0.         0.        ]\n [1.         0.         0.        ]\n [0.         1.41421356 0.        ]]\n"
    }
   ],
   "source": [
    "# for dimension 2 and all the elements of the column matrix are 0 (see the print below)\n",
    "create = qOperators.create(3)\n",
    "\n",
    "print(create)\n",
    "print(create.A)"
   ]
  },
  {
   "cell_type": "markdown",
   "metadata": {},
   "source": [
    "## identity\n",
    "---\n",
    "This is a method to create an identity operator for a given dimension."
   ],
   "execution_count": null,
   "outputs": []
  },
  {
   "cell_type": "code",
   "execution_count": 9,
   "metadata": {},
   "outputs": [
    {
     "output_type": "stream",
     "name": "stdout",
     "text": "[[1. 0. 0.]\n [0. 1. 0.]\n [0. 0. 1.]]\n"
    }
   ],
   "source": [
    "identity = qOperators.identity(3)\n",
    "\n",
    "print(identity.A)"
   ]
  },
  {
   "cell_type": "markdown",
   "metadata": {},
   "source": [
    "## densityMatrix\n",
    "---\n",
    "This is a method to create a density matrix for a given ket (or pure) state."
   ],
   "execution_count": null,
   "outputs": []
  },
  {
   "cell_type": "code",
   "execution_count": null,
   "metadata": {},
   "outputs": [],
   "source": [
    "# density matrices of the super-position states created above\n",
    "densityMat1 = qStates.densityMatrix(ket=superPosState1)\n",
    "densityMat2 = qStates.densityMatrix(superPosState2)\n",
    "\n",
    "print(densityMat1.A)\n",
    "print(densityMat2.A)"
   ]
  },
  {
   "cell_type": "markdown",
   "metadata": {},
   "source": [
    "## normalise  -  normaliseKet  -  normaliseMat\n",
    "---\n",
    "normalise a method to normalise any given state. This method checks and if-else and calls either normaliseKet and normaliseMat.\n",
    "\n",
    "normaliseKet and normaliseMat are normalisation methods respectively for a ket state and density matrix."
   ],
   "execution_count": null,
   "outputs": []
  },
  {
   "cell_type": "code",
   "execution_count": null,
   "metadata": {},
   "outputs": [],
   "source": [
    "import numpy as np\n",
    "# create a non-normalised ket and density matrix\n",
    "nonNormalisedKet = np.sqrt(0.2)*qStates.basis(2,1) + np.sqrt(0.8)*qStates.basis(2,0)\n",
    "nonNormalisedDenMat = qStates.densityMatrix(nonNormalisedKet)\n",
    "\n",
    "# normalise these states\n",
    "\n",
    "# normalisedKet = qStates.normaliseKet(ket=nonNormalisedKet)\n",
    "normalisedKet = qStates.normalise(state=nonNormalisedKet)\n",
    "\n",
    "#normalisedDenMat = qStates.normaliseMat(denMat=nonNormalisedDenMat)\n",
    "normalisedDenMat = qStates.normalise(nonNormalisedDenMat)\n",
    "\n",
    "print(nonNormalisedKet.A)\n",
    "print(nonNormalisedDenMat.A)\n",
    "print(normalisedKet.A)\n",
    "print(normalisedDenMat.A)\n",
    "\n",
    "# see the populations in 1 and 0\n",
    "print(normalisedKet[0]**2)\n",
    "print(normalisedKet[1]**2)"
   ]
  },
  {
   "cell_type": "markdown",
   "metadata": {},
   "source": [
    "## compositeState\n",
    "---\n",
    "This is a method to create ket state for a composite quantum system from a given list of sub-system dimensions and a list state informations.\n",
    "\n",
    "This method can create super-position for a sub-state, so the list of state information can be a list of mixtures of int, list, and dict. (see superPos above to see how these are used)"
   ],
   "execution_count": null,
   "outputs": []
  },
  {
   "cell_type": "code",
   "execution_count": null,
   "metadata": {},
   "outputs": [],
   "source": [
    "# composite states for two (qubit) 2D systems\n",
    "\n",
    "# super-position state where first sub-system is in state 0 and second is in 1\n",
    "compositeState0 = qStates.compositeState(dimensions=[2, 2], excitations=[0,1], sparse=True)\n",
    "\n",
    "# super-position state where first sub-system is in equal super-position of 0&1 and second is in 1\n",
    "compositeState1 = qStates.compositeState(dimensions=[2, 2], excitations=[[0,1],1], sparse=True)\n",
    "\n",
    "# super-position state where first sub-system is in state 0 and second is in a super-position with 0.2 population in 0 and 0.8 in 1\n",
    "compositeState2 = qStates.compositeState(dimensions=[2, 2], excitations=[0,{0:0.2, 1:0.8}], sparse=True)\n",
    "\n",
    "print(compositeState0.A)\n",
    "print(compositeState1.A)\n",
    "print(compositeState2.A)\n",
    "\n",
    "# above prints are not very instructive, so let's see the next tool, partialTrace."
   ]
  },
  {
   "cell_type": "markdown",
   "metadata": {},
   "source": [
    "## partialTrace\n",
    "---\n",
    "This is a method to take partial trace to trace-out some of the sub-systems.\n",
    "\n",
    "Note: This function CANNOT keep sparse structure, i.e. always returns an array"
   ],
   "execution_count": null,
   "outputs": []
  },
  {
   "cell_type": "code",
   "execution_count": null,
   "metadata": {},
   "outputs": [],
   "source": [
    "# partial traces of the composite states above.\n",
    "stateFirstSystem0 = qStates.partialTrace(keep=[0], dims=[2, 2], state=compositeState0)\n",
    "stateSecondSystem0 = qStates.partialTrace(keep=[1], dims=[2, 2], state=compositeState0)\n",
    "\n",
    "stateFirstSystem1 = qStates.partialTrace(keep=[0], dims=[2, 2], state=compositeState1)\n",
    "stateSecondSystem1 = qStates.partialTrace(keep=[1], dims=[2, 2], state=compositeState1)\n",
    "\n",
    "stateFirstSystem2 = qStates.partialTrace(keep=[0], dims=[2, 2], state=compositeState2)\n",
    "stateSecondSystem2 = qStates.partialTrace(keep=[1], dims=[2, 2], state=compositeState2)\n",
    "\n",
    "# print and see the states of the first sub-system in each composite state\n",
    "print('States of first sub-system')\n",
    "print(stateFirstSystem0)\n",
    "print(stateFirstSystem1)\n",
    "print(stateFirstSystem2)\n",
    "\n",
    "# print and see the states of the second sub-system in each composite state\n",
    "print('States of second sub-system')\n",
    "print(stateSecondSystem0)\n",
    "print(stateSecondSystem1)\n",
    "print(stateSecondSystem2)"
   ]
  },
  {
   "cell_type": "markdown",
   "metadata": {},
   "source": [
    "## mat2Vec\n",
    "---\n",
    "This is a method to convert density matrix into density vector, which is used in super-operator representation for open-systems."
   ],
   "execution_count": null,
   "outputs": []
  },
  {
   "cell_type": "code",
   "execution_count": null,
   "metadata": {},
   "outputs": [],
   "source": [
    "# create a ket state and calculate the density matrix\n",
    "denMat = qStates.densityMatrix(ket=qStates.basis(dimension=2, state=1, sparse=True))\n",
    "\n",
    "# convert it into density vector\n",
    "denVec = qStates.mat2Vec(densityMatrix=denMat)\n",
    "\n",
    "print(denMat.A)\n",
    "print(denVec.A)"
   ]
  },
  {
   "cell_type": "markdown",
   "metadata": {},
   "source": [
    "## vec2mat\n",
    "---\n",
    "This is a method to convert density vector into density matrix."
   ],
   "execution_count": null,
   "outputs": []
  },
  {
   "cell_type": "code",
   "execution_count": null,
   "metadata": {},
   "outputs": [],
   "source": [
    "# convert above density vector back into the density matrix.\n",
    "denMatConverted = qStates.vec2mat(vec=denVec)\n",
    "\n",
    "print(denMatConverted.A)"
   ]
  },
  {
   "cell_type": "code",
   "execution_count": null,
   "metadata": {},
   "outputs": [],
   "source": []
  }
 ]
}