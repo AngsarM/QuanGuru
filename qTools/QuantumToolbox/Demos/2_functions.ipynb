{
 "nbformat": 4,
 "nbformat_minor": 2,
 "metadata": {
  "language_info": {
   "name": "python",
   "codemirror_mode": {
    "name": "ipython",
    "version": 3
   },
   "version": "3.7.6-final"
  },
  "orig_nbformat": 2,
  "file_extension": ".py",
  "mimetype": "text/x-python",
  "name": "python",
  "npconvert_exporter": "python",
  "pygments_lexer": "ipython3",
  "version": 3,
  "kernelspec": {
   "name": "python37664bitanaconda3virtualenvb329dec24e7e4f7f99b0b28d7020383d",
   "display_name": "Python 3.7.6 64-bit ('anaconda3': virtualenv)"
  }
 },
 "cells": [
  {
   "cell_type": "code",
   "execution_count": 1,
   "metadata": {},
   "outputs": [],
   "source": [
    "import qTools.QuantumToolbox.functions as qFunctions\n",
    "import qTools.QuantumToolbox.states as qStates\n",
    "import qTools.QuantumToolbox.operators as qOperators\n",
    "\n",
    "import numpy as np"
   ]
  },
  {
   "cell_type": "markdown",
   "metadata": {},
   "source": [
    "# How-to-use functions in functions.py of QuantumToolbox\n",
    "---\n",
    "\n",
    "Each example is introduced in the order that they appear inside the file\n",
    "\n",
    "The reason for having several functions for the same task is to improve performance.\n",
    "\n",
    "For example, an `if` statement can be avioded using ``expectationMat/expectationKet`` for\n",
    "``density matrices/ket states`` instead of the more general `expectation` function.\n",
    "\n",
    "Another example is that the function\n",
    "``expectationKetList/expectationMatList`` is suitable in ``multi-processing`` of list of time-series of states"
   ],
   "execution_count": null,
   "outputs": []
  },
  {
   "cell_type": "code",
   "execution_count": 2,
   "metadata": {},
   "outputs": [],
   "source": [
    "# Uncomment any (or both) of these two to print module docstrings\n",
    "#print(qFunctions.__doc__)\n",
    "#help(qFunctions)"
   ]
  },
  {
   "cell_type": "markdown",
   "metadata": {},
   "source": [
    "# Expectation Value Functions\n",
    "\n",
    "## expectation - expectationKet - expectationMat\n",
    "---\n",
    "These are methods to calculate the expectation value of a state for a given operator."
   ],
   "execution_count": null,
   "outputs": []
  },
  {
   "cell_type": "code",
   "execution_count": 3,
   "metadata": {},
   "outputs": [
    {
     "output_type": "stream",
     "name": "stdout",
     "text": "-1\n-1\n-1\n-1\n"
    }
   ],
   "source": [
    "# a qubit ket state\n",
    "ket = qStates.basis(dimension=2, state=1)\n",
    "\n",
    "# calculate the density matrix\n",
    "denMat = qStates.densityMatrix(ket)\n",
    "\n",
    "# Pauli Z operator\n",
    "sigmaz = qOperators.sigmaz()\n",
    "\n",
    "# expectation values using the function `expectation`\n",
    "expect1 = qFunctions.expectation(operator=sigmaz, state=ket)\n",
    "expect2 = qFunctions.expectation(sigmaz, denMat)\n",
    "\n",
    "# expectation value of the ket state using `expectationKet`\n",
    "expect3 = qFunctions.expectationKet(sigmaz, ket=ket)\n",
    "\n",
    "# expectation value of the density matrix using `expectationMat`\n",
    "expect4 = qFunctions.expectationMat(sigmaz, denMat=denMat)\n",
    "\n",
    "print(expect1)\n",
    "print(expect2)\n",
    "print(expect3)\n",
    "print(expect4)"
   ]
  },
  {
   "cell_type": "markdown",
   "metadata": {},
   "source": [
    "## expectationKetLis - expectationMatList\n",
    "---\n",
    "These are methods to calculate the expectation values for a `list` of states for a given operator."
   ],
   "execution_count": null,
   "outputs": []
  },
  {
   "cell_type": "code",
   "execution_count": 5,
   "metadata": {},
   "outputs": [
    {
     "output_type": "stream",
     "name": "stdout",
     "text": "[-1, 1, 0.0]\n[-1, 1, 0.0]\n"
    }
   ],
   "source": [
    "# a list of qubit ket states\n",
    "ket0 = qStates.basis(dimension=2, state=1)\n",
    "ket1 = qStates.basis(dimension=2, state=0)\n",
    "ket2 = np.sqrt(0.5)*qStates.basis(dimension=2, state=1) + np.sqrt(0.5)*qStates.basis(dimension=2, state=0)\n",
    "\n",
    "ketList = [ket0, ket1, ket2]\n",
    "\n",
    "# calculate the density matrices and create a list\n",
    "denMat0 = qStates.densityMatrix(ket0)\n",
    "denMat1 = qStates.densityMatrix(ket1)\n",
    "denMat2 = qStates.densityMatrix(ket2)\n",
    "\n",
    "denMatList = [denMat0, denMat1, denMat2]\n",
    "\n",
    "# Pauli Z operator\n",
    "sigmaz = qOperators.sigmaz()\n",
    "\n",
    "# expectation values using the function `expectationKetList/expectationMatList`\n",
    "expectKetList = qFunctions.expectationKetList(operator=sigmaz, kets=ketList)\n",
    "expectMatList = qFunctions.expectationMatList(sigmaz, denMats=denMatList)\n",
    "\n",
    "\n",
    "print(expectKetList)\n",
    "print(expectMatList)"
   ]
  },
  {
   "cell_type": "markdown",
   "metadata": {},
   "source": [
    "## expectationColArr\n",
    "---\n",
    "This is a method to calculate the expectation values of an `operator` for a list/matrix of ``ket (column) states`` by matrix multiplication.\n",
    "\n",
    "This method is introduced to be used for calculating the expectation values of a complete set of eigenstates obtained from numpy/scipy eigenvalue solver.\n",
    "\n",
    "It can be used in more general setting, if you know what you are doing!"
   ]
  },
  {
   "cell_type": "code",
   "execution_count": 8,
   "metadata": {},
   "outputs": [
    {
     "output_type": "stream",
     "name": "stdout",
     "text": "[ 1. -1.]\n[0. 0.]\n"
    }
   ],
   "source": [
    "# define a Hamiltonina\n",
    "ham = qOperators.sigmaz(sparse=False)\n",
    "\n",
    "# calculate it's eigenvalues and eigenvectors\n",
    "eigVals, eigVecs = np.linalg.eig(ham)\n",
    "\n",
    "# calculate the expectation values of these eigVecs for sigmaz and sigmax\n",
    "sz = qOperators.sigmaz()\n",
    "sx = qOperators.sigmax()\n",
    "\n",
    "expectZ = qFunctions.expectationColArr(sz, eigVecs)\n",
    "expectX = qFunctions.expectationColArr(sx, eigVecs)\n",
    "\n",
    "print(expectZ)\n",
    "print(expectX)"
   ]
  },
  {
   "cell_type": "markdown",
   "metadata": {},
   "source": [
    "# Fidelity Functions\n",
    "\n",
    "## fidelity - fidelityKet - fidelityPureMat\n",
    "---\n",
    "These are methods to calculate the fidelity between two states."
   ]
  },
  {
   "cell_type": "code",
   "execution_count": 10,
   "metadata": {},
   "outputs": [
    {
     "output_type": "stream",
     "name": "stdout",
     "text": "from ket states using the general function\n0\n0.5000000000000001\n0.5000000000000001\nfrom density matrices using the general function\n0\n0.5000000000000001\n0.5000000000000001\nfrom ket states using the special function\n0\n0.5000000000000001\n0.5000000000000001\nfrom (pure) density matrices using the special function\n0\n0.5000000000000001\n0.5000000000000001\n"
    }
   ],
   "source": [
    "# define some qubit states\n",
    "ket0 = qStates.basis(dimension=2, state=1)\n",
    "ket1 = qStates.basis(dimension=2, state=0)\n",
    "ket2 = np.sqrt(0.5)*qStates.basis(dimension=2, state=1) + np.sqrt(0.5)*qStates.basis(dimension=2, state=0)\n",
    "\n",
    "# calculate the corresponding density matrices\n",
    "denMat0 = qStates.densityMatrix(ket0)\n",
    "denMat1 = qStates.densityMatrix(ket1)\n",
    "denMat2 = qStates.densityMatrix(ket2)\n",
    "\n",
    "\n",
    "# calculate the fidelties between using `fidelity`\n",
    "fidelityKet01 = qFunctions.fidelity(state1=ket0, state2=ket1)\n",
    "fidelityKet02 = qFunctions.fidelity(state1=ket0, state2=ket2)\n",
    "fidelityKet12 = qFunctions.fidelity(state1=ket1, state2=ket2)\n",
    "\n",
    "fidelityMat01 = qFunctions.fidelity(state1=denMat0, state2=denMat1)\n",
    "fidelityMat02 = qFunctions.fidelity(state1=denMat0, state2=denMat2)\n",
    "fidelityMat12 = qFunctions.fidelity(state1=denMat1, state2=denMat2)\n",
    "\n",
    "# calculate the fidelties between using `fidelityKet`\n",
    "fidelityKet_01 = qFunctions.fidelityKet(ket1=ket0, ket2=ket1)\n",
    "fidelityKet_02 = qFunctions.fidelityKet(ket1=ket0, ket2=ket2)\n",
    "fidelityKet_12 = qFunctions.fidelityKet(ket1=ket1, ket2=ket2)\n",
    "\n",
    "# calculate the fidelties between using `fidelityPureMat`\n",
    "fidelityMat_01 = qFunctions.fidelityPureMat(denMat1=denMat0, denMat2=denMat1)\n",
    "fidelityMat_02 = qFunctions.fidelityPureMat(denMat1=denMat0, denMat2=denMat2)\n",
    "fidelityMat_12 = qFunctions.fidelityPureMat(denMat1=denMat1, denMat2=denMat2)\n",
    "\n",
    "print('from ket states using the general function')\n",
    "print(fidelityKet01)\n",
    "print(fidelityKet02)\n",
    "print(fidelityKet12)\n",
    "\n",
    "print('from density matrices using the general function')\n",
    "print(fidelityMat01)\n",
    "print(fidelityMat02)\n",
    "print(fidelityMat12)\n",
    "\n",
    "print('from ket states using the special function')\n",
    "print(fidelityKet_01)\n",
    "print(fidelityKet_02)\n",
    "print(fidelityKet_12)\n",
    "\n",
    "print('from (pure) density matrices using the special function')\n",
    "print(fidelityMat_01)\n",
    "print(fidelityMat_02)\n",
    "print(fidelityMat_12)"
   ]
  },
  {
   "cell_type": "markdown",
   "metadata": {},
   "source": [
    "## fidelityKetList - fidelityKetLists\n",
    "---\n",
    "These are methods to calculate the fidelity between `a ket state and a list of ket states` - `two lists of ket states`.\n",
    "\n",
    "`fidelityKetList` is introduced to be used for fidelity to initial state, i.e., given a time series of ket states and the initial state, it returns a list for the fidelity to initial state as a time series.\n",
    "\n",
    "`fidelityKetLists` is introduced to be used for comparing two time series, e.g. simulation fidelity between a digitial algorithm an ideal dynamics. This function uses a `zipped` item of two lists and will be improved later. So, I am skipping it for now."
   ]
  },
  {
   "cell_type": "code",
   "execution_count": 11,
   "metadata": {},
   "outputs": [
    {
     "output_type": "stream",
     "name": "stdout",
     "text": "[1, 0, 0.5000000000000001]\n"
    }
   ],
   "source": [
    "# a list of qubit ket states\n",
    "ket0 = qStates.basis(dimension=2, state=1)\n",
    "ket1 = qStates.basis(dimension=2, state=0)\n",
    "ket2 = np.sqrt(0.5)*qStates.basis(dimension=2, state=1) + np.sqrt(0.5)*qStates.basis(dimension=2, state=0)\n",
    "\n",
    "ketList = [ket0, ket1, ket2]\n",
    "\n",
    "# calculate fidelity to ket0\n",
    "fidelityList = qFunctions.fidelityKetList(ket0, ketList)\n",
    "\n",
    "print(fidelityList)"
   ]
  },
  {
   "cell_type": "markdown",
   "metadata": {},
   "source": [
    "# Entropy Functions\n",
    "\n",
    "## entropy - entropyKet\n",
    "---\n",
    "These are methods to calculate entropy for a given state.\n",
    "\n",
    "First function does not accept a ket as an input. Because, the entropy of a pure system is always zero, so it does not make sense for a (pure) ket state.\n",
    "\n",
    "So, the second function (entropyKet) does not make sense to exist, but I keep it for now."
   ]
  },
  {
   "cell_type": "code",
   "execution_count": 13,
   "metadata": {},
   "outputs": [
    {
     "output_type": "stream",
     "name": "stdout",
     "text": "-0.0\n-0.0\n2.2204460492503126e-16\n2.2204460492503126e-16\n-0.0\n-0.0\n0.6931471805599454\n0.6931471805599454\n"
    }
   ],
   "source": [
    "# define a composite quantum state\n",
    "compositeStateKet = qStates.compositeState(dimensions=[2, 2], excitations=[0,1], sparse=True)\n",
    "compositeStateMat = qStates.densityMatrix(compositeStateKet)\n",
    "\n",
    "entangledKet = qStates.normalise(qStates.compositeState(dimensions=[2, 2], excitations=[0,1], sparse=True) + qStates.compositeState(dimensions=[2, 2], excitations=[1,0], sparse=True))\n",
    "entangledMat = qStates.densityMatrix(entangledKet)\n",
    "\n",
    "# take partial traces, which returns density matrix in the array form\n",
    "stateFirstSystem = qStates.partialTrace(keep=[0], dims=[2, 2], state=compositeStateKet)\n",
    "stateSecondSystem = qStates.partialTrace(keep=[1], dims=[2, 2], state=compositeStateKet)\n",
    "\n",
    "stateFirstSystemEntangled = qStates.partialTrace(keep=[0], dims=[2, 2], state=entangledKet)\n",
    "stateSecondSystemEntangled = qStates.partialTrace(keep=[1], dims=[2, 2], state=entangledMat)\n",
    "\n",
    "# calculate entropy for total state\n",
    "entropyKet = qFunctions.entropyKet(compositeStateKet)\n",
    "entropyMat = qFunctions.entropy(compositeStateMat)\n",
    "entropyKetEntangled = qFunctions.entropyKet(entangledKet)\n",
    "entropyMatEntangled = qFunctions.entropy(entangledMat)\n",
    "\n",
    "# calculate entropies for sub-system states\n",
    "entropy1 = qFunctions.entropy(stateFirstSystem)\n",
    "entropy2 = qFunctions.entropy(stateSecondSystem)\n",
    "entropy1Entangled = qFunctions.entropy(stateFirstSystemEntangled)\n",
    "entropy2Entangled = qFunctions.entropy(stateSecondSystemEntangled)\n",
    "\n",
    "print(entropyKet)\n",
    "print(entropyMat)\n",
    "print(entropyKetEntangled)\n",
    "print(entropyMatEntangled)\n",
    "print(entropy1)\n",
    "print(entropy2)\n",
    "print(entropy1Entangled)\n",
    "print(entropy2Entangled)"
   ]
  },
  {
   "cell_type": "markdown",
   "metadata": {},
   "source": [
    "# Inverse Participation Ratio Functions\n",
    "\n",
    "## iprKet\n",
    "---\n",
    "This is a method to calculate the inverse participation ratio (a.k.a. number of principle components) for a given complete basis."
   ]
  }
 ]
}