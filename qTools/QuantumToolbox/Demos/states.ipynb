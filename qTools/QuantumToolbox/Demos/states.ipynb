{
 "nbformat": 4,
 "nbformat_minor": 2,
 "metadata": {
  "language_info": {
   "name": "python",
   "codemirror_mode": {
    "name": "ipython",
    "version": 3
   },
   "version": "3.7.6-final"
  },
  "orig_nbformat": 2,
  "file_extension": ".py",
  "mimetype": "text/x-python",
  "name": "python",
  "npconvert_exporter": "python",
  "pygments_lexer": "ipython3",
  "version": 3,
  "kernelspec": {
   "name": "python37664bitanaconda3virtualenvb329dec24e7e4f7f99b0b28d7020383d",
   "display_name": "Python 3.7.6 64-bit ('anaconda3': virtualenv)"
  }
 },
 "cells": [
  {
   "cell_type": "code",
   "execution_count": null,
   "metadata": {},
   "outputs": [],
   "source": [
    "import qTools.QuantumToolbox.states as qStates"
   ]
  },
  {
   "cell_type": "code",
   "execution_count": null,
   "metadata": {},
   "outputs": [],
   "source": [
    "print(qStates.basis.__doc__)\n",
    "\n",
    "ketState = qStates.basis(2, 0, sparse=True)\n",
    "\n",
    "print(ketState)\n",
    "print(ketState.A)"
   ]
  },
  {
   "cell_type": "code",
   "execution_count": null,
   "metadata": {},
   "outputs": [],
   "source": [
    "help(qStates.basisBra)\n",
    "\n",
    "braState = qStates.basisBra(2 , 0)\n",
    "\n",
    "print(braState)\n",
    "print(braState.A)"
   ]
  },
  {
   "cell_type": "code",
   "execution_count": null,
   "metadata": {},
   "outputs": [],
   "source": [
    "zeros = qStates.zeros(2)\n",
    "\n",
    "print(zeros)\n",
    "print(zeros.A)"
   ]
  },
  {
   "cell_type": "code",
   "execution_count": null,
   "metadata": {},
   "outputs": [],
   "source": [
    "superPosState0 = qStates.superPos(2, 1)\n",
    "superPosState1 = qStates.superPos(2, [0,1])\n",
    "superPosState2 = qStates.superPos(2, {0:0.2, 1:0.8})\n",
    "\n",
    "print(superPosState0)\n",
    "print(superPosState1.A)\n",
    "print(superPosState1[0]**2)\n",
    "print(superPosState1[1]**2)\n",
    "print(superPosState2.A)\n",
    "print(superPosState2[0]**2)\n",
    "print(superPosState2[1]**2)"
   ]
  },
  {
   "cell_type": "code",
   "execution_count": null,
   "metadata": {},
   "outputs": [],
   "source": [
    "densityMat1 = qStates.densityMatrix(superPosState1)\n",
    "densityMat2 = qStates.densityMatrix(superPosState2)\n",
    "\n",
    "print(densityMat1.A)\n",
    "print(densityMat2.A)"
   ]
  },
  {
   "cell_type": "code",
   "execution_count": null,
   "metadata": {},
   "outputs": [],
   "source": [
    "import numpy as np\n",
    "nonNormalisedKet = np.sqrt(0.2)*qStates.basis(2,1) + np.sqrt(0.8)*qStates.basis(2,0)\n",
    "nonNormalisedDenMat = qStates.densityMatrix(nonNormalisedKet)\n",
    "normalisedKet = qStates.normalise(nonNormalisedKet)\n",
    "normalisedDenMat = qStates.normalise(nonNormalisedDenMat)\n",
    "\n",
    "print(nonNormalisedKet.A)\n",
    "print(nonNormalisedDenMat.A)\n",
    "print(normalisedKet.A)\n",
    "print(normalisedDenMat.A)\n",
    "\n",
    "print(normalisedKet[0]**2)\n",
    "print(normalisedKet[1]**2)"
   ]
  },
  {
   "cell_type": "code",
   "execution_count": null,
   "metadata": {},
   "outputs": [],
   "source": []
  }
 ]
}