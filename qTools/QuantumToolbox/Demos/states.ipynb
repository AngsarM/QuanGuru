{
 "nbformat": 4,
 "nbformat_minor": 2,
 "metadata": {
  "language_info": {
   "name": "python",
   "codemirror_mode": {
    "name": "ipython",
    "version": 3
   },
   "version": "3.7.6-final"
  },
  "orig_nbformat": 2,
  "file_extension": ".py",
  "mimetype": "text/x-python",
  "name": "python",
  "npconvert_exporter": "python",
  "pygments_lexer": "ipython3",
  "version": 3,
  "kernelspec": {
   "name": "python37664bitanaconda3virtualenvb329dec24e7e4f7f99b0b28d7020383d",
   "display_name": "Python 3.7.6 64-bit ('anaconda3': virtualenv)"
  }
 },
 "cells": [
  {
   "cell_type": "code",
   "execution_count": 1,
   "metadata": {},
   "outputs": [],
   "source": [
    "import qTools.QuantumToolbox.states as qStates"
   ]
  },
  {
   "cell_type": "code",
   "execution_count": 2,
   "metadata": {},
   "outputs": [
    {
     "output_type": "stream",
     "name": "stdout",
     "text": "(0, 0)\t1\n[[1]\n [0]]\n"
    }
   ],
   "source": [
    "ketState = qStates.basis(2, 0, sparse=True)\n",
    "\n",
    "print(ketState)\n",
    "print(ketState.A)"
   ]
  },
  {
   "cell_type": "code",
   "execution_count": 3,
   "metadata": {},
   "outputs": [
    {
     "output_type": "stream",
     "name": "stdout",
     "text": "(0, 0)\t0.7071067811865475\n  (1, 0)\t0.7071067811865475\n[[0.70710678]\n [0.70710678]]\n1\n"
    }
   ],
   "source": [
    "ketSuperPosState = qStates.superPos(2, [0,1], sparse=True)\n",
    "\n",
    "print(ketSuperPosState)\n",
    "print(ketSuperPosState.A)\n",
    "print((((ketState[0]**2)+(ketState[1]**2)).diagonal()).sum())"
   ]
  },
  {
   "cell_type": "code",
   "execution_count": 4,
   "metadata": {},
   "outputs": [
    {
     "output_type": "stream",
     "name": "stdout",
     "text": "(0, 0)\t1\n[[1 0]\n [0 0]]\n  (1, 0)\t0.4999999999999999\n  (0, 0)\t0.4999999999999999\n  (1, 1)\t0.4999999999999999\n  (0, 1)\t0.4999999999999999\n[[0.5 0.5]\n [0.5 0.5]]\n"
    }
   ],
   "source": [
    "ketToDensityMat = qStates.densityMatrix(ketState)\n",
    "ketSuperPosToDensityMat = qStates.densityMatrix(ketSuperPosState)\n",
    "\n",
    "print(ketToDensityMat)\n",
    "print(ketToDensityMat.A)\n",
    "print(ketSuperPosToDensityMat)\n",
    "print(ketSuperPosToDensityMat.A)"
   ]
  },
  {
   "cell_type": "code",
   "execution_count": 5,
   "metadata": {},
   "outputs": [
    {
     "output_type": "stream",
     "name": "stdout",
     "text": "[[0.8]\n [0.2]]\n[[0.64 0.16]\n [0.16 0.04]]\n[[0.9701425 ]\n [0.24253563]]\n[[0.94117647 0.23529412]\n [0.23529412 0.05882353]]\n  (0, 0)\t0.9411764705882353\n  (0, 0)\t0.058823529411764705\n"
    }
   ],
   "source": [
    "nonNormalisedKet = 0.2*qStates.basis(2,1) + 0.8*qStates.basis(2,0)\n",
    "nonNormalisedDenMat = qStates.densityMatrix(nonNormalisedKet)\n",
    "normalisedKet = qStates.normalise(nonNormalisedKet)\n",
    "normalisedDenMat = qStates.normalise(nonNormalisedDenMat)\n",
    "\n",
    "print(nonNormalisedKet.A)\n",
    "print(nonNormalisedDenMat.A)\n",
    "print(normalisedKet.A)\n",
    "print(normalisedDenMat.A)\n",
    "\n",
    "print(normalisedKet[0]**2)\n",
    "print(normalisedKet[1]**2)"
   ]
  },
  {
   "cell_type": "code",
   "execution_count": 6,
   "metadata": {},
   "outputs": [
    {
     "output_type": "stream",
     "name": "stdout",
     "text": "[[0.94117647 0.23529412]\n [0.23529412 0.05882353]]\n"
    }
   ],
   "source": [
    "denMat = qStates.densityMatrix(qStates.superPos(2, {1:0.058823529411764705, 0:0.9411764705882353}))\n",
    "print(denMat.A)"
   ]
  },
  {
   "cell_type": "code",
   "execution_count": 7,
   "metadata": {},
   "outputs": [
    {
     "output_type": "stream",
     "name": "stdout",
     "text": "[[0.70710678]\n [0.70710678]]\n  (0, 0)\t0.4999999999999999\n  (0, 0)\t0.4999999999999999\n[[0.4472136 ]\n [0.89442719]]\n  (0, 0)\t0.2000000000000001\n  (0, 0)\t0.8000000000000004\n"
    }
   ],
   "source": [
    "superPosState1 = qStates.superPos(2, [0,1])\n",
    "superPosState2 = qStates.superPos(2, {0:0.2, 1:0.8})\n",
    "\n",
    "print(superPosState1.A)\n",
    "print(superPosState1[0]**2)\n",
    "print(superPosState1[1]**2)\n",
    "print(superPosState2.A)\n",
    "print(superPosState2[0]**2)\n",
    "print(superPosState2[1]**2)"
   ]
  },
  {
   "cell_type": "code",
   "execution_count": 9,
   "metadata": {},
   "outputs": [
    {
     "output_type": "stream",
     "name": "stdout",
     "text": "[[0.5 0.5]\n [0.5 0.5]]\n[[0.2 0.4]\n [0.4 0.8]]\n"
    }
   ],
   "source": [
    "densityMat1 = qStates.densityMatrix(superPosState1)\n",
    "densityMat2 = qStates.densityMatrix(superPosState2)\n",
    "\n",
    "print(densityMat1.A)\n",
    "print(densityMat2.A)"
   ]
  },
  {
   "cell_type": "code",
   "execution_count": null,
   "metadata": {},
   "outputs": [],
   "source": []
  }
 ]
}