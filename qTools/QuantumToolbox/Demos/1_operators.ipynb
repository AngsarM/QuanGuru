{
 "cells": [
  {
   "cell_type": "code",
   "execution_count": 1,
   "metadata": {},
   "outputs": [],
   "source": [
    "import qTools.QuantumToolbox.operators as qOperators"
   ]
  },
  {
   "cell_type": "markdown",
   "metadata": {},
   "source": [
    "# How-to-use functions in operators.py of QuantumToolbox\n",
    "---\n",
    "\n",
    "Each example is introduced in the order that they appear inside the file"
   ]
  },
  {
   "cell_type": "code",
   "execution_count": 2,
   "metadata": {},
   "outputs": [],
   "source": [
    "# Uncomment any (or both) of these two to print module docstrings\n",
    "#print(qOperators.__doc__)\n",
    "#help(qOperators)"
   ]
  },
  {
   "cell_type": "markdown",
   "metadata": {},
   "source": [
    "# Bosonic Operators\n",
    "---\n",
    "\n",
    "## number\n",
    "This is a method to create (bosonic) number operator for a given dimension."
   ]
  },
  {
   "cell_type": "code",
   "execution_count": 3,
   "metadata": {},
   "outputs": [
    {
     "output_type": "stream",
     "name": "stdout",
     "text": "(0, 0)\t0\n  (1, 1)\t1\n  (2, 2)\t2\n[[0 0 0]\n [0 1 0]\n [0 0 2]]\n[[0 0 0]\n [0 1 0]\n [0 0 2]]\n"
    }
   ],
   "source": [
    "# sparse=True by default\n",
    "# for dimension 3\n",
    "numberArray = qOperators.number(N=3, sparse=False)\n",
    "numberSparse = qOperators.number(3)\n",
    "\n",
    "print(numberSparse)\n",
    "# You obtain the array by simply calling .A on the sparse matrix\n",
    "# If sparse=True, function simply returns state.A\n",
    "# so, these two are equivalent, and I will create sparse and use .A in the rest of this example to print array\n",
    "print(numberSparse.A)\n",
    "print(numberArray)"
   ]
  },
  {
   "cell_type": "markdown",
   "metadata": {},
   "source": [
    "## destroy\n",
    "---\n",
    "This is a method to create (bosonic) annihilation operator for a given dimension."
   ]
  },
  {
   "cell_type": "code",
   "execution_count": 4,
   "metadata": {},
   "outputs": [
    {
     "output_type": "stream",
     "name": "stdout",
     "text": "(0, 1)\t1.0\n  (1, 2)\t1.4142135623730951\n[[0.         1.         0.        ]\n [0.         0.         1.41421356]\n [0.         0.         0.        ]]\n"
    }
   ],
   "source": [
    "# for dimension 3\n",
    "annihilation = qOperators.destroy(N=3)\n",
    "annihilation = qOperators.destroy(3)\n",
    "\n",
    "print(annihilation)\n",
    "print(annihilation.A)"
   ]
  },
  {
   "cell_type": "markdown",
   "metadata": {},
   "source": [
    "## create ($ \\hat{a}^{\\dagger}$)\n",
    "---\n",
    "This is a method to create (bosonic) creation operator for a given dimension."
   ]
  },
  {
   "cell_type": "code",
   "execution_count": 5,
   "metadata": {},
   "outputs": [
    {
     "output_type": "stream",
     "name": "stdout",
     "text": "(1, 0)\t1.0\n  (2, 1)\t1.4142135623730951\n[[0.         0.         0.        ]\n [1.         0.         0.        ]\n [0.         1.41421356 0.        ]]\n"
    }
   ],
   "source": [
    "# for dimension 3\n",
    "create = qOperators.create(3)\n",
    "\n",
    "print(create)\n",
    "print(create.A)"
   ]
  },
  {
   "cell_type": "markdown",
   "metadata": {},
   "source": [
    "# identity\n",
    "---\n",
    "This is a method to create an identity operator for a given dimension."
   ]
  },
  {
   "cell_type": "code",
   "execution_count": null,
   "metadata": {},
   "outputs": [],
   "source": [
    "# for dimension 3\n",
    "identity = qOperators.identity(3)\n",
    "\n",
    "print(identity)\n",
    "print(identity.A)"
   ]
  },
  {
   "cell_type": "markdown",
   "metadata": {},
   "source": [
    "# Pauli matrices (Qubit operators)\n",
    "---\n",
    "\n",
    "## Sigma Z\n",
    "This is a method to create Pauli Z operator."
   ]
  },
  {
   "cell_type": "code",
   "execution_count": null,
   "metadata": {},
   "outputs": [],
   "source": [
    "sz = qOperators.sigmaz(sparse=False)\n",
    "sz = qOperators.sigmaz()\n",
    "\n",
    "print(sz.A)\n",
    "print(sz)"
   ]
  },
  {
   "cell_type": "markdown",
   "metadata": {},
   "source": [
    "## Sigma Y\n",
    "---\n",
    "\n",
    "This is a method to create Pauli Y operator."
   ]
  },
  {
   "cell_type": "code",
   "execution_count": null,
   "metadata": {},
   "outputs": [],
   "source": [
    "sy = qOperators.sigmay(sparse=False)\n",
    "sy = qOperators.sigmay()\n",
    "\n",
    "print(sy.A)\n",
    "print(sy)"
   ]
  },
  {
   "cell_type": "markdown",
   "metadata": {},
   "source": [
    "## Sigma X\n",
    "---\n",
    "\n",
    "This is a method to create Pauli X operator."
   ]
  },
  {
   "cell_type": "code",
   "execution_count": null,
   "metadata": {},
   "outputs": [],
   "source": [
    "sx = qOperators.sigmax(sparse=False)\n",
    "sx = qOperators.sigmax()\n",
    "\n",
    "print(sx.A)\n",
    "print(sx)"
   ]
  },
  {
   "cell_type": "markdown",
   "metadata": {},
   "source": [
    "## Sigma +\n",
    "---\n",
    "\n",
    "This is a method to create Pauli + (creation) operator."
   ]
  },
  {
   "cell_type": "code",
   "execution_count": null,
   "metadata": {},
   "outputs": [],
   "source": [
    "sp = qOperators.sigmap(sparse=False)\n",
    "sp = qOperators.sigmap()\n",
    "\n",
    "print(sp.A)\n",
    "print(sp)"
   ]
  },
  {
   "cell_type": "markdown",
   "metadata": {},
   "source": [
    "## Sigma -\n",
    "---\n",
    "\n",
    "This is a method to create Pauli - (destruction) operator."
   ]
  },
  {
   "cell_type": "code",
   "execution_count": null,
   "metadata": {},
   "outputs": [],
   "source": [
    "sm = qOperators.sigmam(sparse=False)\n",
    "sm = qOperators.sigmam()\n",
    "\n",
    "print(sm.A)\n",
    "print(sm)"
   ]
  },
  {
   "cell_type": "markdown",
   "metadata": {},
   "source": [
    "# Spin Operators\n",
    "---\n",
    "\n",
    "These are spin operator for a given dimension or the corresponding spin quantum number (j, whic is an integer (boson) or half-integer (fermion)).\n",
    "\n",
    "Pauli matrices are j = 0.5 special case of these.\n",
    "\n",
    "## Jz\n",
    "This is a method to create spin Z operator for a given dimension or the corresponding spin quatum number.\n",
    "\n",
    "All the below examples are for dimension 5 (spin quantum number = 2)."
   ]
  },
  {
   "cell_type": "code",
   "execution_count": null,
   "metadata": {},
   "outputs": [],
   "source": [
    "# you can directly tell the spin quantum number by making isDim=False\n",
    "jz0 = qOperators.Jz(j=2, isDim=False, sparse=False)\n",
    "jz0 = qOperators.Jz(j=2, isDim=False)\n",
    "\n",
    "# or tell just tell dimension (= (2* spin quantum number) + 1) the dimension \n",
    "jz1 = qOperators.Jz(j=5, sparse=False)\n",
    "jz1 = qOperators.Jz(j=5, isDim=True)\n",
    "\n",
    "print(jz0)\n",
    "print(jz0.A)\n",
    "print(jz1)\n",
    "print(jz1.A)"
   ]
  },
  {
   "cell_type": "markdown",
   "metadata": {},
   "source": [
    "## Jp\n",
    "This is a method to create a creation operator for a given dimension or the corresponding spin quatum number."
   ]
  },
  {
   "cell_type": "code",
   "execution_count": null,
   "metadata": {},
   "outputs": [],
   "source": [
    "# you can directly tell the spin quantum number by making isDim=False\n",
    "jp0 = qOperators.Jp(j=2, isDim=False, sparse=False)\n",
    "jp0 = qOperators.Jp(j=2, isDim=False)\n",
    "\n",
    "# or tell just tell dimension (= (2* spin quantum number) + 1) the dimension \n",
    "jp1 = qOperators.Jp(j=5, sparse=False)\n",
    "jp1 = qOperators.Jp(j=5, isDim=True)\n",
    "\n",
    "print(jp0)\n",
    "print(jp0.A)\n",
    "print(jp1)\n",
    "print(jp1.A)"
   ]
  },
  {
   "cell_type": "markdown",
   "metadata": {},
   "source": [
    "## Jm\n",
    "This is a method to create a destruction operator for a given dimension or the corresponding spin quatum number."
   ]
  },
  {
   "cell_type": "code",
   "execution_count": null,
   "metadata": {},
   "outputs": [],
   "source": [
    "# you can directly tell the spin quantum number by making isDim=False\n",
    "jm0 = qOperators.Jm(j=2, isDim=False, sparse=False)\n",
    "jm0 = qOperators.Jm(j=2, isDim=False)\n",
    "\n",
    "# or tell just tell dimension (= (2* spin quantum number) + 1) the dimension \n",
    "jm1 = qOperators.Jm(j=5, sparse=False)\n",
    "jm1 = qOperators.Jm(j=5, isDim=True)\n",
    "\n",
    "print(jm0)\n",
    "print(jm0.A)\n",
    "print(jm1)\n",
    "print(jm1.A)"
   ]
  },
  {
   "cell_type": "markdown",
   "metadata": {},
   "source": [
    "## Jx\n",
    "---\n",
    "\n",
    "This is a method to create spin X operator for a given dimension or the corresponding spin quatum number."
   ]
  },
  {
   "cell_type": "code",
   "execution_count": null,
   "metadata": {},
   "outputs": [],
   "source": [
    "# you can directly tell the spin quantum number by making isDim=False\n",
    "jx0 = qOperators.Jx(j=2, isDim=False, sparse=False)\n",
    "jx0 = qOperators.Jx(j=2, isDim=False)\n",
    "\n",
    "# or tell just tell dimension (= (2* spin quantum number) + 1) the dimension \n",
    "jx1 = qOperators.Jx(j=5, sparse=False)\n",
    "jx1 = qOperators.Jx(j=5, isDim=True)\n",
    "\n",
    "print(jx0)\n",
    "print(jx0.A)\n",
    "print(jx1)\n",
    "print(jx1.A)"
   ]
  },
  {
   "cell_type": "markdown",
   "metadata": {},
   "source": [
    "## Jy\n",
    "---\n",
    "\n",
    "This is a method to create spin Y operator for a given dimension or the corresponding spin quatum number."
   ]
  },
  {
   "cell_type": "code",
   "execution_count": null,
   "metadata": {},
   "outputs": [],
   "source": [
    "# you can directly tell the spin quantum number by making isDim=False\n",
    "jy0 = qOperators.Jy(j=2, isDim=False, sparse=False)\n",
    "jy0 = qOperators.Jy(j=2, isDim=False)\n",
    "\n",
    "# or tell just tell dimension (= (2* spin quantum number) + 1) the dimension \n",
    "jy1 = qOperators.Jy(j=5, sparse=False)\n",
    "jy1 = qOperators.Jy(j=5, isDim=True)\n",
    "\n",
    "print(jy0)\n",
    "print(jy0.A)\n",
    "print(jy1)\n",
    "print(jy1.A)"
   ]
  },
  {
   "cell_type": "markdown",
   "metadata": {},
   "source": [
    "## Js\n",
    "---\n",
    "\n",
    "This is a method to create the total spin operator for a given dimension or the corresponding spin quatum number."
   ]
  },
  {
   "cell_type": "code",
   "execution_count": null,
   "metadata": {},
   "outputs": [],
   "source": [
    "# you can directly tell the spin quantum number by making isDim=False\n",
    "js0 = qOperators.Js(j=2, isDim=False, sparse=False)\n",
    "js0 = qOperators.Js(j=2, isDim=False)\n",
    "\n",
    "# or tell just tell dimension (= (2* spin quantum number) + 1) the dimension \n",
    "js1 = qOperators.Js(j=5, sparse=False)\n",
    "js1 = qOperators.Js(j=5, isDim=True)\n",
    "\n",
    "print(js0)\n",
    "print(js0.A)\n",
    "print(js1)\n",
    "print(js1.A)"
   ]
  },
  {
   "cell_type": "markdown",
   "metadata": {},
   "source": [
    "# Other Operators\n",
    "---\n",
    "\n",
    "These are method to create some EM-Field operators, Parity operator, and power of an operator.\n",
    "\n",
    "operatorPow\n",
    "---\n",
    "This a function to create an operator raised to a power by using the function refence to the operator."
   ]
  },
  {
   "cell_type": "code",
   "execution_count": null,
   "metadata": {},
   "outputs": [],
   "source": [
    "# square of Pauli operators are identity, so the third power is the operator itself.\n",
    "# let's use this function to calculate it for sigmax, so we pass the reference to sigmax as argument to the function.\n",
    "squareSigmaX = qOperators.operatorPow(op=qOperators.sigmax, dim=2, power=2, sparse=False)\n",
    "squareSigmaX = qOperators.operatorPow(op=qOperators.sigmax, dim=2, power=2)\n",
    "\n",
    "cubedSigmaX = qOperators.operatorPow(op=qOperators.sigmax, dim=2, power=3, sparse=False)\n",
    "cubedSigmaX = qOperators.operatorPow(op=qOperators.sigmax, dim=2, power=3)\n",
    "\n",
    "print(squareSigmaX)\n",
    "print(squareSigmaX.A)\n",
    "\n",
    "print(cubedSigmaX)\n",
    "print(cubedSigmaX.A)"
   ]
  },
  {
   "cell_type": "markdown",
   "metadata": {},
   "source": [
    "paritySUM - parityEXP\n",
    "---\n",
    "These two are methods to create a Parity operator."
   ]
  },
  {
   "cell_type": "code",
   "execution_count": null,
   "metadata": {},
   "outputs": [],
   "source": [
    "# ParitySUM creates the parity operator by explicity placing alternating +/- into a matrix of given dimension.\n",
    "paritySum = qOperators.paritySUM(N=5, sparse=False)\n",
    "paritySum = qOperators.paritySUM(N=5)\n",
    "\n",
    "# ParityEXP for 5 dimensional number operator by exponentiating int\n",
    "ham = qOperators.number(N=5, sparse=False)\n",
    "parityEXP = qOperators.parityEXP(HamiltonianCavity=ham) # returns an array since ham is an array\n",
    "\n",
    "ham = qOperators.number(N=5)\n",
    "parityEXP = qOperators.parityEXP(HamiltonianCavity=ham) # returns a sparse since ham is a sparse\n",
    "\n",
    "print(paritySum)\n",
    "print(paritySum.A)\n",
    "print(parityEXP)\n",
    "print(parityEXP.A)"
   ]
  },
  {
   "cell_type": "markdown",
   "metadata": {},
   "source": [
    "## basis\n",
    "---\n",
    "This is a method to create ket states for a given dimension."
   ]
  },
  {
   "cell_type": "code",
   "execution_count": null,
   "metadata": {},
   "outputs": [],
   "source": [
    "# sparse=True by default\n",
    "# for dimension 2 and 1 at 0th element of the column matrix (see the print below)\n",
    "ketStateSparse = qOperators.basis(dimension=2, state=0)\n",
    "ketStateArray = qOperators.basis(2, 0, sparse=False)\n",
    "\n",
    "print(ketStateSparse)\n",
    "print(ketStateSparse.A)\n",
    "print(ketStateArray)"
   ]
  },
  {
   "cell_type": "markdown",
   "metadata": {},
   "source": [
    "## displacement\n",
    "---\n",
    "This is a method to create the field-displacement operator for a given (truncation) dimension."
   ]
  },
  {
   "cell_type": "code",
   "execution_count": null,
   "metadata": {},
   "outputs": [],
   "source": [
    "# alpha is the displacement parameter\n",
    "disp = qOperators.displacement(alpha=1j, dim=4, sparse=False)\n",
    "disp = qOperators.displacement(alpha=1j, dim=4)\n",
    "\n",
    "print(disp)\n",
    "print(disp.A)"
   ]
  },
  {
   "cell_type": "markdown",
   "metadata": {},
   "source": [
    "## squeeze\n",
    "---\n",
    "This is a method to create the field-squeezing operator for a given (truncation) dimension."
   ]
  },
  {
   "cell_type": "code",
   "execution_count": null,
   "metadata": {},
   "outputs": [],
   "source": [
    "# alpha is the squeezing parameter\n",
    "squeeze = qOperators.squeeze(alpha=1j, dim=4, sparse=False)\n",
    "squeeze = qOperators.squeeze(alpha=1j, dim=4)\n",
    "\n",
    "print(squeeze)\n",
    "print(squeeze.A)"
   ]
  },
  {
   "cell_type": "markdown",
   "metadata": {},
   "source": [
    "## compositeOp\n",
    "---\n",
    "This is a method to create (extend the Hilbert space) operators of a sub-system in a composite system."
   ]
  },
  {
   "cell_type": "code",
   "execution_count": null,
   "metadata": {},
   "outputs": [],
   "source": [
    "# takes the matrix of the relevant operator as input. dimB is the total dimension before the sub-system, and dimA is the after.\n",
    "# create sigmaz of the first qubit in a two qubit composite system\n",
    "szQ1 = qOperators.compositeOp(operator=qOperators.sigmaz(), dimB=0, dimA=2)\n",
    "\n",
    "# create sigmaz of the second qubit in a two qubit composite system\n",
    "szQ2 = qOperators.compositeOp(operator=qOperators.sigmaz(), dimB=2, dimA=0)\n",
    "\n",
    "print(szQ1.A)\n",
    "print(szQ2.A)"
   ]
  },
  {
   "cell_type": "code",
   "execution_count": null,
   "metadata": {},
   "outputs": [],
   "source": []
  }
 ],
 "metadata": {
  "language_info": {
   "name": "python",
   "codemirror_mode": {
    "name": "ipython",
    "version": 3
   },
   "version": "3.7.6-final"
  },
  "orig_nbformat": 2,
  "file_extension": ".py",
  "mimetype": "text/x-python",
  "name": "python",
  "npconvert_exporter": "python",
  "pygments_lexer": "ipython3",
  "version": 3,
  "kernelspec": {
   "name": "python37664bitanaconda3virtualenvb329dec24e7e4f7f99b0b28d7020383d",
   "display_name": "Python 3.7.6 64-bit ('anaconda3': virtualenv)"
  }
 },
 "nbformat": 4,
 "nbformat_minor": 2
}