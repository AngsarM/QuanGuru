{
 "metadata": {
  "language_info": {
   "codemirror_mode": {
    "name": "ipython",
    "version": 3
   },
   "file_extension": ".py",
   "mimetype": "text/x-python",
   "name": "python",
   "nbconvert_exporter": "python",
   "pygments_lexer": "ipython3",
   "version": "3.8.3-final"
  },
  "orig_nbformat": 2,
  "kernelspec": {
   "name": "Python 3.8.3 64-bit ('base': conda)",
   "display_name": "Python 3.8.3 64-bit ('base': conda)",
   "metadata": {
    "interpreter": {
     "hash": "c57e21b4107dd72b33e419236c82672a7bcaad2e1fd657ab9655483a5a5e9f3c"
    }
   }
  }
 },
 "nbformat": 4,
 "nbformat_minor": 2,
 "cells": [
  {
   "cell_type": "code",
   "execution_count": 1,
   "metadata": {},
   "outputs": [],
   "source": [
    "import sys\n",
    "sys.path.append('C:\\\\Users\\\\angsa\\\\Codes\\\\QuantumSimulations\\\\qTools')\n",
    "import QuantumToolbox.evolution as evo\n",
    "import numpy as np\n",
    "from qTools import *\n",
    "import matplotlib.pyplot as plt\n",
    "from mpl_toolkits.mplot3d import Axes3D\n",
    "%matplotlib tk"
   ]
  },
  {
   "source": [
    "## Initial parameters"
   ],
   "cell_type": "markdown",
   "metadata": {}
  },
  {
   "cell_type": "code",
   "execution_count": 2,
   "metadata": {
    "tags": []
   },
   "outputs": [],
   "source": [
    "density = mat2Vec(np.array([[1, 0],[0, 0]]))    #Initial density matrix of an excited qubit\n",
    "H = 0.5*sigmaz()                                #Hamiltonian of a qubit\n",
    "\n",
    "rhoTestee = np.empty(shape=(10000,100))           # Empty arrays for the excited and ground state populations \n",
    "rhoTestg = np.empty(shape=(10000,100))\n",
    "\n",
    "rhoee = np.empty(shape=(10000,100))\n",
    "\n"
   ]
  },
  {
   "source": [
    "## Generating Populations for different decay rate and time"
   ],
   "cell_type": "markdown",
   "metadata": {}
  },
  {
   "cell_type": "code",
   "execution_count": 4,
   "metadata": {
    "tags": []
   },
   "outputs": [],
   "source": [
    "stat = 0\n",
    "for k in range(10000):\n",
    "    rhoTesteelist = []\n",
    "    rhoTestgglist = []\n",
    "    rhoeelist = []\n",
    "    for t in range(100):\n",
    "        stat = vec2Mat(LiouvillianExp(H, 0.01*t, [sigmam()], [0.00001*k])@density)\n",
    "        rhoeelist.append(np.exp(-0.00001*k*0.01*t))\n",
    "        rhoTesteelist.append(stat[0,0])\n",
    "        rhoTestgglist.append(stat[1,1])\n",
    "    \n",
    "    rhoTestee[k]=rhoTesteelist\n",
    "    rhoTestg[k]=rhoTestgglist\n",
    "    rhoee[k]=rhoeelist\n",
    "        "
   ]
  },
  {
   "source": [
    "## Test"
   ],
   "cell_type": "markdown",
   "metadata": {
    "tags": []
   }
  },
  {
   "cell_type": "code",
   "execution_count": 33,
   "metadata": {
    "tags": []
   },
   "outputs": [
    {
     "output_type": "stream",
     "name": "stdout",
     "text": "True\n"
    }
   ],
   "source": [
    "def test_willPass():\n",
    "    \n",
    "    assert (np.allclose(rhoTestee, rhoee)) is True # pylint: disable=comparison-with-itself\n",
    "\n",
    "print(np.allclose(rhoTestee, rhoee))    "
   ]
  },
  {
   "cell_type": "code",
   "execution_count": 30,
   "metadata": {
    "tags": []
   },
   "outputs": [],
   "source": [
    "gamma = np.linspace(0,0.09999,10000)\n",
    "Timelapse = np.linspace(0,0.99,100)\n",
    "\n",
    "x, y = np.meshgrid(Timelapse, gamma)\n",
    "fig = plt.figure()\n",
    "ax = plt.axes(projection='3d')\n",
    "ax.plot_surface(x, y, rhoTestee, cmap='viridis')\n",
    "plt.xlabel('time')\n",
    "plt.ylabel('gamma')\n",
    "ax.set_title('Time evolution of the excited state with qTools')\n",
    "plt.show()"
   ]
  },
  {
   "cell_type": "code",
   "execution_count": 31,
   "metadata": {},
   "outputs": [],
   "source": [
    "gamma = np.linspace(0,0.09999,10000)\n",
    "Timelapse = np.linspace(0,0.99,100)\n",
    "x, y = np.meshgrid(Timelapse, gamma)\n",
    "fig = plt.figure()\n",
    "ax = plt.axes(projection='3d')\n",
    "ax.plot_surface(x, y,rhoee, cmap='viridis')\n",
    "plt.xlabel('time')\n",
    "plt.ylabel('gamma')\n",
    "ax.set_title('Analytic time evolution of the excited population')\n",
    "plt.show()"
   ]
  },
  {
   "cell_type": "code",
   "execution_count": 32,
   "metadata": {},
   "outputs": [],
   "source": [
    "gamma = np.linspace(0,0.09999,10000)\n",
    "Timelapse = np.linspace(0,0.99,100)\n",
    "x, y = np.meshgrid(Timelapse, gamma)\n",
    "fig = plt.figure()\n",
    "ax = plt.axes(projection='3d')\n",
    "ax.plot_surface(x, y,rhoee-rhoTestee, cmap='viridis')\n",
    "plt.xlabel('time')\n",
    "plt.ylabel('gamma')\n",
    "ax.set_title('Difference between two methods')\n",
    "plt.show()"
   ]
  },
  {
   "source": [
    "### Tests when focusing on small decay rate"
   ],
   "cell_type": "markdown",
   "metadata": {}
  },
  {
   "cell_type": "code",
   "execution_count": 3,
   "metadata": {},
   "outputs": [],
   "source": [
    "density = mat2Vec(np.array([[1, 0],[0, 0]]))    #Initial density matrix of an excited qubit\n",
    "H = 0.5*sigmaz()                                #Hamiltonian of a qubit\n",
    "\n",
    "rhoTestee = np.empty(shape=(100,100))           # Empty arrays for the excited and ground state populations \n",
    "rhoTestgg = np.empty(shape=(100,100))\n",
    "rhoTesteg = np.empty(shape=(100,100))           # Empty arrays for the excited and ground state populations \n",
    "rhoTestge = np.empty(shape=(100,100))\n",
    "\n",
    "rhoee = np.empty(shape=(100,100))"
   ]
  },
  {
   "cell_type": "code",
   "execution_count": 9,
   "metadata": {},
   "outputs": [],
   "source": [
    "### Generating Populations\n",
    "stat = 0\n",
    "for k in range(100):\n",
    "    rhoTesteelist = []\n",
    "    rhoTestgglist = []\n",
    "    rhoTesteglist = []\n",
    "    rhoTestgelist = []\n",
    "    rhoeelist = []\n",
    "    for t in range(100):\n",
    "        stat = vec2Mat(LiouvillianExp(H, 300*t, [sigmam()], [0.00001*(k+1)])@density)\n",
    "        rhoeelist.append(np.exp(-0.00001*(k+1)*300*t))\n",
    "        rhoTesteelist.append(stat[0,0])\n",
    "        rhoTestgglist.append(stat[1,1])\n",
    "        rhoTesteglist.append(stat[0,1])\n",
    "        rhoTestgelist.append(stat[1,0])\n",
    "    \n",
    "    rhoTestee[k]=rhoTesteelist\n",
    "    rhoTestgg[k]=rhoTestgglist\n",
    "    rhoTesteg[k]=rhoTesteglist\n",
    "    rhoTestge[k]=rhoTestgelist\n",
    "    rhoee[k]=rhoeelist"
   ]
  },
  {
   "cell_type": "code",
   "execution_count": 10,
   "metadata": {},
   "outputs": [
    {
     "output_type": "stream",
     "name": "stdout",
     "text": [
      "True\n"
     ]
    }
   ],
   "source": [
    "def test_willPass():\n",
    "    \n",
    "    assert (np.allclose(rhoTestee, rhoee)) is True # pylint: disable=comparison-with-itself\n",
    "\n",
    "print(np.allclose(rhoTestee, rhoee)) "
   ]
  },
  {
   "cell_type": "code",
   "execution_count": 11,
   "metadata": {},
   "outputs": [],
   "source": [
    "gamma = np.linspace(0,0.00099,100)\n",
    "Timelapse = np.linspace(0,30000,100)\n",
    "\n",
    "x, y = np.meshgrid(Timelapse, gamma)\n",
    "fig = plt.figure()\n",
    "ax = plt.axes(projection='3d')\n",
    "ax.plot_surface(x, y, rhoTestee, cmap='viridis')\n",
    "plt.xlabel('time')\n",
    "plt.ylabel('gamma')\n",
    "ax.set_title('Time evolution of the excited state with qTools')\n",
    "plt.show()"
   ]
  },
  {
   "cell_type": "code",
   "execution_count": 12,
   "metadata": {},
   "outputs": [],
   "source": [
    "gamma = np.linspace(0,0.00099,100)\n",
    "Timelapse = np.linspace(0,30000,100)\n",
    "\n",
    "x, y = np.meshgrid(Timelapse, gamma)\n",
    "fig = plt.figure()\n",
    "ax = plt.axes(projection='3d')\n",
    "ax.plot_surface(x, y, rhoTesteg, cmap='viridis')\n",
    "plt.xlabel('time')\n",
    "plt.ylabel('gamma')\n",
    "ax.set_title('Time evolution of the coherence with qTools')\n",
    "plt.show()"
   ]
  },
  {
   "cell_type": "code",
   "execution_count": null,
   "metadata": {},
   "outputs": [],
   "source": []
  }
 ]
}