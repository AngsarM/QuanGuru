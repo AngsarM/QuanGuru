{
 "metadata": {
  "language_info": {
   "codemirror_mode": {
    "name": "ipython",
    "version": 3
   },
   "file_extension": ".py",
   "mimetype": "text/x-python",
   "name": "python",
   "nbconvert_exporter": "python",
   "pygments_lexer": "ipython3",
   "version": "3.8.3-final"
  },
  "orig_nbformat": 2,
  "kernelspec": {
   "name": "Python 3.8.3 64-bit ('base': conda)",
   "display_name": "Python 3.8.3 64-bit ('base': conda)",
   "metadata": {
    "interpreter": {
     "hash": "c57e21b4107dd72b33e419236c82672a7bcaad2e1fd657ab9655483a5a5e9f3c"
    }
   }
  }
 },
 "nbformat": 4,
 "nbformat_minor": 2,
 "cells": [
  {
   "cell_type": "code",
   "execution_count": 1,
   "metadata": {},
   "outputs": [],
   "source": [
    "import sys\n",
    "sys.path.append('C:\\\\Users\\\\Angsar\\\\Simulation Code')\n",
    "\n",
    "import matplotlib.pyplot as plt\n",
    "import matplotlib as mpl\n",
    "from matplotlib.animation import FuncAnimation\n",
    "import scipy.sparse as sp # type: ignore\n",
    "from qTools import *\n",
    "\n",
    "import numpy as np\n",
    "import math as math"
   ]
  },
  {
   "source": [
    "### Initial parameters"
   ],
   "cell_type": "markdown",
   "metadata": {}
  },
  {
   "cell_type": "code",
   "execution_count": 56,
   "metadata": {
    "tags": []
   },
   "outputs": [
    {
     "output_type": "stream",
     "name": "stdout",
     "text": "1.0\n4.999999999999999\n15.707963267948966\n"
    }
   ],
   "source": [
    "cof = (10E6)*pi  #normalizing coefficient\n",
    "omega = (5E6)*2*pi/cof   #qubit frequency\n",
    "kappaz = (1E6)*pi/cof      #qubit dephasing\n",
    "kappa = (50E6)*pi/cof        #qubit damping\n",
    "nbar = 4                    #average photon number\n",
    "time = (500E-9)*cof             #evolution time \n",
    "\n",
    "rho_ee = 1 \n",
    "rho_gg = 0 \n",
    "rho_eg = 0 \n",
    "rho_ge = 0   #initial density matrix\n",
    "print(omega)\n",
    "print(kappa)\n",
    "print(time)"
   ]
  },
  {
   "source": [
    "### Analytical solutions"
   ],
   "cell_type": "markdown",
   "metadata": {}
  },
  {
   "cell_type": "code",
   "execution_count": 57,
   "metadata": {},
   "outputs": [],
   "source": [
    "rho_eet = nbar/(1+2*nbar) + (rho_ee - nbar/(1+2*nbar))*np.exp(-kappa*time/(1+2*nbar))\n",
    "rho_ggt = (1+nbar)/(1+2*nbar) + (rho_gg - (1+nbar)/(1+2*nbar))*np.exp(-kappa*time/(1+2*nbar))\n",
    "rho_egt = rho_eg * np.exp(-(1j*omega+kappa*(1+2*nbar)/2+2*kappaz)*time)\n",
    "rho_get = rho_ge * np.exp(-(1j*omega+kappa*(1+2*nbar)/2+2*kappaz)*time)\n",
    "\n",
    "qFinal_analytical = np.array([[rho_eet, rho_egt],[rho_get,rho_ggt]])"
   ]
  },
  {
   "source": [
    "## qTools method\n",
    "### Initial parameters"
   ],
   "cell_type": "markdown",
   "metadata": {}
  },
  {
   "cell_type": "code",
   "execution_count": 58,
   "metadata": {},
   "outputs": [],
   "source": [
    "H = 0.5 * omega * sigmaz()\n",
    "c1 = sigmam()\n",
    "c2 = sigmap()   #collapse operators\n",
    "c3 = sigmaz()\n",
    "\n",
    "qRho = np.array([[rho_ee, rho_eg],[rho_ge,rho_gg]])\n",
    "\n"
   ]
  },
  {
   "source": [
    "### Final density matrix"
   ],
   "cell_type": "markdown",
   "metadata": {}
  },
  {
   "cell_type": "code",
   "execution_count": 59,
   "metadata": {},
   "outputs": [],
   "source": [
    "qFinal = vec2Mat(LiouvillianExp(H, time, [c1,c2,c3], [kappa*(nbar+1), 0, 0])@mat2Vec(qRho))"
   ]
  },
  {
   "source": [
    "## Compare the results"
   ],
   "cell_type": "markdown",
   "metadata": {}
  },
  {
   "cell_type": "code",
   "execution_count": 60,
   "metadata": {
    "tags": []
   },
   "outputs": [
    {
     "output_type": "stream",
     "name": "stdout",
     "text": "[[0.44453456+0.j 0.        -0.j]\n [0.        -0.j 0.55546544+0.j]]\n[[2.83763002e-171+0.j 0.00000000e+000+0.j]\n [0.00000000e+000+0.j 1.00000000e+000+0.j]]\n"
    },
    {
     "output_type": "execute_result",
     "data": {
      "text/plain": "False"
     },
     "metadata": {},
     "execution_count": 60
    }
   ],
   "source": [
    "print(qFinal_analytical)\n",
    "print(qFinal)\n",
    "np.allclose(qFinal_analytical, qFinal) "
   ]
  },
  {
   "cell_type": "code",
   "execution_count": null,
   "metadata": {},
   "outputs": [],
   "source": []
  }
 ]
}