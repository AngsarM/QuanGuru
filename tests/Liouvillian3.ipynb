{
 "metadata": {
  "language_info": {
   "codemirror_mode": {
    "name": "ipython",
    "version": 3
   },
   "file_extension": ".py",
   "mimetype": "text/x-python",
   "name": "python",
   "nbconvert_exporter": "python",
   "pygments_lexer": "ipython3",
   "version": "3.8.3-final"
  },
  "orig_nbformat": 2,
  "kernelspec": {
   "name": "Python 3.8.3 64-bit ('base': conda)",
   "display_name": "Python 3.8.3 64-bit ('base': conda)",
   "metadata": {
    "interpreter": {
     "hash": "c57e21b4107dd72b33e419236c82672a7bcaad2e1fd657ab9655483a5a5e9f3c"
    }
   }
  }
 },
 "nbformat": 4,
 "nbformat_minor": 2,
 "cells": [
  {
   "cell_type": "code",
   "execution_count": 2,
   "metadata": {},
   "outputs": [],
   "source": [
    "import sys\n",
    "sys.path.append('C:\\\\Users\\\\angsa\\\\Codes\\\\QuantumSimulations\\\\qTools')\n",
    "import QuantumToolbox.evolution as evo\n",
    "import numpy as np\n",
    "from qTools import *\n",
    "import matplotlib.pyplot as plt\n",
    "from mpl_toolkits.mplot3d import Axes3D\n",
    "%matplotlib tk"
   ]
  },
  {
   "source": [
    "### Initial parameters"
   ],
   "cell_type": "markdown",
   "metadata": {}
  },
  {
   "cell_type": "code",
   "execution_count": 4,
   "metadata": {},
   "outputs": [],
   "source": [
    "density = mat2Vec(np.array([[0.5, 0.5],[0.5, 0.5]]))    #Initial density matrix of an excited qubit\n",
    "H = 0.5*sigmaz()                                #Hamiltonian of a qubit\n",
    "\n",
    "rhoTesteg = np.empty(shape=(100,100),dtype=complex)    #Empty arrays for the excited and ground state populations \n",
    "rhoTestge = np.empty(shape=(100,100),dtype=complex)\n",
    "\n",
    "rhoeg = np.empty(shape=(100,100),dtype=complex)"
   ]
  },
  {
   "source": [
    "### Generating Populations for different decay rate and time"
   ],
   "cell_type": "markdown",
   "metadata": {}
  },
  {
   "cell_type": "code",
   "execution_count": 5,
   "metadata": {},
   "outputs": [],
   "source": [
    "stat = 0\n",
    "for k in range(100):\n",
    "    rhoTesteglist = []\n",
    "    rhoTestgelist = []\n",
    "    rhoeglist = []\n",
    "    for t in range(100):\n",
    "        stat = vec2Mat(LiouvillianExp(H, 50*t, [sigmaz()], [0.00001*(k+1)])@density)\n",
    "        rhoeglist.append(0.5*np.exp(-(0.00001*(k+1)*2+1j)*50*t))\n",
    "        rhoTesteglist.append(stat[0,1])\n",
    "        rhoTestgelist.append(stat[1,0])\n",
    "            \n",
    "    rhoTesteg[k]=rhoTesteglist\n",
    "    rhoTestge[k]=rhoTestgelist\n",
    "    rhoeg[k]=rhoeglist"
   ]
  },
  {
   "cell_type": "code",
   "execution_count": 6,
   "metadata": {},
   "outputs": [
    {
     "output_type": "stream",
     "name": "stdout",
     "text": [
      "True\n"
     ]
    }
   ],
   "source": [
    "print(np.allclose(rhoTesteg, rhoeg))"
   ]
  },
  {
   "cell_type": "code",
   "execution_count": 7,
   "metadata": {},
   "outputs": [],
   "source": [
    "gamma = np.linspace(0.01,1,100)\n",
    "Timelapse = np.linspace(0,4950,100)\n",
    "x, y = np.meshgrid(Timelapse, gamma)\n",
    "fig = plt.figure()\n",
    "ax = plt.axes(projection='3d')\n",
    "ax.plot_surface(x, y,rhoTesteg.real, cmap='viridis')\n",
    "plt.xlabel('time')\n",
    "plt.ylabel('gamma(MHz)')\n",
    "ax.set_title('Real part of the coherence with qTools')\n",
    "plt.show()"
   ]
  },
  {
   "cell_type": "code",
   "execution_count": 8,
   "metadata": {},
   "outputs": [],
   "source": [
    "gamma = np.linspace(0.01,1,100)\n",
    "Timelapse = np.linspace(0,4950,100)\n",
    "x, y = np.meshgrid(Timelapse, gamma)\n",
    "fig = plt.figure()\n",
    "ax = plt.axes(projection='3d')\n",
    "ax.plot_surface(x, y,rhoeg.real, cmap='viridis')\n",
    "plt.xlabel('time')\n",
    "plt.ylabel('gamma(MHz)')\n",
    "ax.set_title('Real part of the coherence (Analytic)')\n",
    "plt.show()"
   ]
  },
  {
   "cell_type": "code",
   "execution_count": 9,
   "metadata": {},
   "outputs": [],
   "source": [
    "gamma = np.linspace(0.01,1,100)\n",
    "Timelapse = np.linspace(0,4950,100)\n",
    "x, y = np.meshgrid(Timelapse, gamma)\n",
    "fig = plt.figure()\n",
    "ax = plt.axes(projection='3d')\n",
    "ax.plot_surface(x, y,rhoTesteg.imag, cmap='viridis')\n",
    "plt.xlabel('time')\n",
    "plt.ylabel('gamma(MHz)')\n",
    "ax.set_title('Imaginary part of the coherence with qTools')\n",
    "plt.show()"
   ]
  },
  {
   "cell_type": "code",
   "execution_count": 10,
   "metadata": {},
   "outputs": [],
   "source": [
    "gamma = np.linspace(0.01,1,100)\n",
    "Timelapse = np.linspace(0,4950,100)\n",
    "x, y = np.meshgrid(Timelapse, gamma)\n",
    "fig = plt.figure()\n",
    "ax = plt.axes(projection='3d')\n",
    "ax.plot_surface(x, y,rhoeg.imag, cmap='viridis')\n",
    "plt.xlabel('time')\n",
    "plt.ylabel('gamma(MHz)')\n",
    "ax.set_title('Imaginary part of the coherence (Analytic)')\n",
    "plt.show()"
   ]
  },
  {
   "cell_type": "code",
   "execution_count": null,
   "metadata": {},
   "outputs": [],
   "source": []
  }
 ]
}