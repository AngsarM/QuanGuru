{
 "nbformat": 4,
 "nbformat_minor": 2,
 "metadata": {
  "language_info": {
   "name": "python",
   "codemirror_mode": {
    "name": "ipython",
    "version": 3
   },
   "version": "3.7.6-final"
  },
  "orig_nbformat": 2,
  "file_extension": ".py",
  "mimetype": "text/x-python",
  "name": "python",
  "npconvert_exporter": "python",
  "pygments_lexer": "ipython3",
  "version": 3,
  "kernelspec": {
   "name": "python37664bitanaconda3virtualenvb329dec24e7e4f7f99b0b28d7020383d",
   "display_name": "Python 3.7.6 64-bit ('anaconda3': virtualenv)"
  }
 },
 "cells": [
  {
   "cell_type": "code",
   "execution_count": 1,
   "metadata": {},
   "outputs": [],
   "source": [
    "import qTools.QuantumToolbox.evolution as qEvol\n",
    "import qTools.QuantumToolbox.operators as qOperators"
   ]
  },
  {
   "cell_type": "markdown",
   "metadata": {},
   "source": [
    "# How-to-use functions in functions.py of QuantumToolbox\n",
    "---\n",
    "\n",
    "Each example is introduced in the order that they appear inside the file"
   ],
   "execution_count": null,
   "outputs": []
  },
  {
   "cell_type": "code",
   "execution_count": 2,
   "metadata": {},
   "outputs": [],
   "source": [
    "# Uncomment any (or both) of these two to print module docstrings\n",
    "#print(qEvol.__doc__)\n",
    "#help(qEvol)"
   ]
  },
  {
   "cell_type": "markdown",
   "metadata": {},
   "source": [
    "## Unitary\n",
    "---\n",
    "This is a method create unitary time evolution operator for a given Hamiltonian and time step (by exponentiation)."
   ],
   "execution_count": null,
   "outputs": []
  },
  {
   "cell_type": "code",
   "execution_count": 3,
   "metadata": {},
   "outputs": [
    {
     "output_type": "stream",
     "name": "stdout",
     "text": "(0, 0)\t(1+0j)\n  (1, 1)\t(0.5403023058681398-0.8414709848078965j)\n  (2, 2)\t(-0.4161468365471424-0.9092974268256817j)\n  (3, 3)\t(-0.9899924966004454-0.1411200080598672j)\n[[ 1.        +0.j          0.        +0.j          0.        +0.j\n   0.        +0.j        ]\n [ 0.        +0.j          0.54030231-0.84147098j  0.        +0.j\n   0.        +0.j        ]\n [ 0.        +0.j          0.        +0.j         -0.41614684-0.90929743j\n   0.        +0.j        ]\n [ 0.        +0.j          0.        +0.j          0.        +0.j\n  -0.9899925 -0.14112001j]]\n  (0, 0)\t(1+0j)\n  (0, 1)\t0j\n  (1, 1)\t(-0.4161468365471424-0.9092974268256817j)\n  (1, 2)\t0j\n  (2, 2)\t(-0.6536436208636119+0.7568024953079282j)\n  (2, 3)\t0j\n  (3, 3)\t(0.9601702866503661+0.27941549819892586j)\n[[ 1.        +0.j          0.        +0.j          0.        +0.j\n   0.        +0.j        ]\n [ 0.        +0.j         -0.41614684-0.90929743j  0.        +0.j\n   0.        +0.j        ]\n [ 0.        +0.j          0.        +0.j         -0.65364362+0.7568025j\n   0.        +0.j        ]\n [ 0.        +0.j          0.        +0.j          0.        +0.j\n   0.96017029+0.2794155j ]]\n"
    }
   ],
   "source": [
    "# create a Hamiltonian\n",
    "ham = qOperators.number(N=4)\n",
    "\n",
    "# create the unitary for timeStep=1 (default)\n",
    "unitary1 = qEvol.Unitary(Hamiltonian=ham)\n",
    "\n",
    "# create the unitary for timeStep=2\n",
    "unitary2 = qEvol.Unitary(Hamiltonian=ham, timeStep=2)\n",
    "\n",
    "print(unitary1)\n",
    "print(unitary1.A)\n",
    "print(unitary2)\n",
    "print(unitary2.A)"
   ]
  },
  {
   "cell_type": "markdown",
   "metadata": {},
   "source": [
    "# Everything beyond is not urgently required to start with the library, so it will be introduced later. After going through all these demos so far, docstrings should be enough for the remanining parts."
   ]
  }
 ]
}