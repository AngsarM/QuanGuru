{
 "metadata": {
  "language_info": {
   "codemirror_mode": {
    "name": "ipython",
    "version": 3
   },
   "file_extension": ".py",
   "mimetype": "text/x-python",
   "name": "python",
   "nbconvert_exporter": "python",
   "pygments_lexer": "ipython3",
   "version": "3.8.3-final"
  },
  "orig_nbformat": 2,
  "kernelspec": {
   "name": "python3",
   "display_name": "Python 3",
   "language": "python"
  }
 },
 "nbformat": 4,
 "nbformat_minor": 2,
 "cells": [
  {
   "cell_type": "code",
   "execution_count": null,
   "metadata": {},
   "outputs": [],
   "source": [
    "from notebooks.standardImports import *\n",
    "import random as rn"
   ]
  },
  {
   "source": [
    "# Squeeze Cavity"
   ],
   "cell_type": "markdown",
   "metadata": {}
  },
  {
   "cell_type": "code",
   "execution_count": null,
   "metadata": {},
   "outputs": [],
   "source": [
    "vacuumState = qt.basis(40, 0)\n",
    "alphaReal = 0.5*rn.random()\n",
    "alphaImag = 0.5*rn.random()\n",
    "theta1 = 2*np.pi*rn.random()\n",
    "alpha = (alphaReal+(alphaImag*1j))*(np.e**(theta1*1j))\n",
    "squeezeOp = qt.squeeze(alpha, 40)\n",
    "squeezedVacuum = squeezeOp @ vacuumState"
   ]
  },
  {
   "cell_type": "code",
   "execution_count": null,
   "metadata": {},
   "outputs": [],
   "source": [
    "phaseSpace = np.arange(-4, 4.1, 0.1)\n",
    "wignerFunc = qt.Wigner(squeezedVacuum, phaseSpace)"
   ]
  },
  {
   "cell_type": "code",
   "execution_count": null,
   "metadata": {},
   "outputs": [],
   "source": [
    "x, y = np.meshgrid(phaseSpace, phaseSpace)\n",
    "plt.pcolormesh(y, x, wignerFunc)\n",
    "plt.plot(phaseSpace, [0 for i in phaseSpace], color='silver', linestyle=\"--\", linewidth='0.75')\n",
    "plt.plot([0 for i in phaseSpace], phaseSpace, color='silver', linestyle=\"--\", linewidth='0.75')\n",
    "plt.show()"
   ]
  },
  {
   "cell_type": "code",
   "execution_count": null,
   "metadata": {},
   "outputs": [],
   "source": []
  }
 ]
}