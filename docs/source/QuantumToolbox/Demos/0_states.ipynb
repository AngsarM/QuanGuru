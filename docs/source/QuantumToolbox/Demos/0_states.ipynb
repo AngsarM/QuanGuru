{
 "cells": [
  {
   "cell_type": "code",
   "execution_count": 1,
   "metadata": {},
   "outputs": [],
   "source": [
    "import qTools.QuantumToolbox.states as qStates"
   ]
  },
  {
   "cell_type": "markdown",
   "metadata": {},
   "source": [
    "# How-to-use functions in states.py of QuantumToolbox\n",
    "---\n",
    "\n",
    "Each example is introduced in the order that the functions appear inside the file"
   ]
  },
  {
   "cell_type": "code",
   "execution_count": 2,
   "metadata": {},
   "outputs": [
    {
     "output_type": "stream",
     "name": "stdout",
     "text": "Help on module qTools.QuantumToolbox.states in qTools.QuantumToolbox:\n\nNAME\n    qTools.QuantumToolbox.states - Module of functions to create and/or normalise quantum states.\n\nDESCRIPTION\n    Functions\n    -------\n    :basis : Creates a `ket` state for a given dimension with 1 at a given row\n    :completeBasis : Creates a complete basis of `ket` states\n    :basisBra : Creates a `bra` state for a given dimension with 1 at a given column\n    :zeros : Creates a column matrix (ket) of zeros\n    :superPos : Creates a `ket` superposition state\n    \n    :densityMatrix : Converts a `ket` state into ``density matrix``\n    :completeBasisMat : Creates a complete basis of ``density matrices`` or convert a ``ket basis`` to ``density matrix``\n    \n    :normalise : Function to normalise `any` state (ket or density matrix)\n    :normaliseKet : Function to normalise `ket` state\n    :normaliseMat : Function to normalise a ``density matrix``\n    \n    :compositeState : Function to create ``composite ket`` states\n    :tensorProd : ``missing docstring``\n    :partialTrace : Calculates the partial trace of a `density matrix` of composite state\n    \n    :mat2Vec : Converts ``density matrix`` into ``density vector`` (used in super-operator representation)\n    :vec2mat : Converts ``density vector`` into ``density matrix``\n\nFUNCTIONS\n    basis(dimension: int, state: int, sparse: bool = True) -> ~Matrix\n        Creates a `ket` state for a given dimension with 1 at a given row\n        \n        Either as sparse (>>> sparse=True) or array (>>> sparse=False)\n        \n        Parameters\n        ----------\n        :param dimension : dimension of Hilbert space\n        :param state : row to place 1, i.e. index for the populated state\n        :param sparse : boolean for sparse or not (array)\n        \n        Returns\n        -------\n        :return : `ket` state with 1 at a given row\n        \n        Examples\n        --------\n        >>> basis(2, 1)\n        (0, 0)      1\n        >>> basis(2, 1, sparse=False)\n        [[1]\n        [0]]\n    \n    basisBra(dimension: int, state: int, sparse: bool = True) -> ~Matrix\n        Creates a `bra` state for a given dimension with 1 at a given column\n        \n        Either as sparse (>>> sparse=True) or array (>>> sparse=False)\n        \n        Parameters\n        ----------\n        :param `dimension` : dimension of Hilbert space\n        :param `state` : index number for the populated state\n        :param `sparse` : boolean for sparse or not (array)\n        \n        Returns\n        -------\n        :return: `bra` state\n        \n        Examples\n        --------\n        >>> basisBra(2, 1)\n        (0, 0)      1\n        >>> basisBra(2, 1, sparse=False)\n        [[1 0]]\n    \n    completeBasis(dimension: int, sparse: bool = True) -> List[~Matrix]\n        Creates a complete basis of `ket` states\n        \n        Either as sparse (>>> sparse=True) or array (>>> sparse=False)\n        \n        Parameters\n        ----------\n        :param dimension : dimension of Hilbert space\n        :param sparse : boolean for sparse or not (array)\n        \n        Returns\n        -------\n        :return : a list (complete basis) of `ket` states\n        \n        Examples\n        --------\n        >>> completeBasis0 = completeBasis(2, sparse=False)\n        >>> for state in completeBasis0:\n        >>>    print(state)\n        [[1]\n        [0]]\n        [[0]\n        [1]]\n        >>> completeBasis1 = completeBasis(2)\n        >>> for state in completeBasis1:\n        >>>    print(state)\n        (0, 0)      1\n        (1, 0)      1\n    \n    completeBasisMat(dimension: Union[int, NoneType] = None, compKetBase: Union[List[~Matrix], NoneType] = None, sparse: bool = True) -> List[~Matrix]\n        Creates a complete basis of ``density matrices`` or convert a ket basis to density matrix for a given dimension.\n        Note: This is not a complete basis for n-by-n matrices but for populations, i.e. diagonals.\n        \n        For a given basis, Keeps the sparse/array as sparse/array.\n        For a given dimension, either as sparse (>>> sparse=True) or array (>>> sparse=False)\n        \n        If a complete basis is given, keeps the sparse/array as sparse/array\n        \n        Parameters\n        ----------\n        :param `dimension` : dimension of Hilbert space (or default None if a ket basis is given)\n        :param `compKetBase`: a complete ket basis (or default None if dimension is given)\n        :param `sparse` : boolean for sparse or not (array)\n        \n        Returns\n        -------\n        :return : a list (complete basis) of ``density matrices``\n        \n        Raises\n        ------\n        :ValueError : raised if both complete ket basis and dimension are None (default). Dimension is used to create\n        \n        Examples\n        --------\n        >>> completeBasis0 = completeBasis(2, sparse=False)\n        >>> completeBasis1 = completeBasis(2)\n        >>> completeBasisMat0 = completeBasisMat(dimension=2, compKetBase=completeBasis0)\n        >>> for state in completeBasisMat0:\n        >>>    print(state)\n        [[1 0]\n        [0 0]]\n        [[0 0]\n        [0 1]]\n        >>> completeBasisMat1 = completeBasisMat(dimension=2, compKetBase=completeBasis1)\n        >>> for state in completeBasisMat1:\n        >>>    print(state)\n        (0, 0)      1\n        (1, 1)      1\n        >>> completeBasisMat01 = completeBasisMat(dimension=2, sparse=False)\n        >>> for state in completeBasisMat01:\n        >>>    print(state)\n        [[1 0]\n        [0 0]]\n        [[0 0]\n        [0 1]]\n        >>> completeBasisMat11 = completeBasisMat(dimension=2)\n        >>> for state in completeBasisMat11:\n        >>>    print(state)\n        (0, 0)      1\n        (1, 1)      1\n    \n    compositeState(dimensions: List[int], excitations: List[Union[Dict[int, float], List[int], int]], sparse: bool = True) -> ~Matrix\n        Function to create ``composite ket`` states\n        \n        Parameters\n        ----------\n        :param `dimensions` : list of dimensions for each sub-system of the composite quantum system\n        :param `excitations` : list of state information for sub-systems \\\n            This list can have mixture of dict, list, and int values,\n            which are used to create a superposition state for the corresponding sub-system \\\n            See: `superPos` function\n        :param `sparse`: boolean for sparse or not (array)\n        \n        Returns\n        -------\n        :return: composite ket state\n        \n        Examples\n        --------\n        >>> compositeState0 = compositeState(dimensions=[2, 2], excitations=[0,1], sparse=False)\n        [[0]\n        [1]\n        [0]\n        [0]]\n        >>> compositeState1 = compositeState(dimensions=[2, 2], excitations=[[0,1],1], sparse=False)\n        [[0.        ]\n        [0.70710678]\n        [0.        ]\n        [0.70710678]]\n        >>> compositeState2 = compositeState(dimensions=[2, 2], excitations=[0,{0:0.2, 1:0.8}], sparse=False)\n        [[0.4472136 ]\n        [0.89442719]\n        [0.        ]\n        [0.        ]]\n    \n    densityMatrix(ket: ~Matrix) -> ~Matrix\n        Converts a `ket` state into ``density matrix``\n        \n        Keeps the sparse/array as sparse/array\n        \n        Parameters\n        ----------\n        :param `ket` : ket state\n        \n        Returns\n        -------\n        :return: density Matrix\n        \n        Examples\n        --------\n        >>> ket = basis(2, 0)\n        >>> mat = densityMatrix(ket)\n        (0, 0)      1\n        >>> ket = basis(2, 0, False)\n        >>> mat = densityMatrix(ket)\n        [[1 0]\n        [0 0]]\n        >>> ket = superPos(2, [0,1], sparse=False)\n        >>> mat = densityMatrix(ket)\n        [[0.5 0.5]\n        [0.5 0.5]]\n        >>> ket = superPos(2, {0:0.2, 1:0.8}, sparse=False)\n        >>> mat = densityMatrix(ket)\n        [[0.2 0.4]\n        [0.4 0.8]]\n    \n    mat2Vec(denMat: ~Matrix) -> ~Matrix\n        Converts ``density matrix`` into ``density vector`` (used in super-operator respresentation)\n        \n        Keeps the sparse/array as sparse/array\n        \n        Parameters\n        ----------\n        :param `denMat`: density matrix to be converted\n        \n        Parameters\n        ----------\n        :return: density vector\n        \n        Examples\n        --------\n        >>> denMat = densityMatrix(ket=basis(dimension=2, state=1, sparse=True))\n        >>> denVec = mat2Vec(denMat=denMat)\n        [[0]\n        [0]\n        [0]\n        [1]]\n    \n    normalise(state: ~Matrix) -> ~Matrix\n        Function to normalise `any` state (ket or density matrix)\n        \n        Keeps the sparse/array as sparse/array\n        \n        Parameters\n        ----------\n        :param `state` : state to be normalised\n        \n        Returns\n        -------\n        :return: normalised state\n        \n        Examples\n        --------\n        >>> import numpy as np\n        >>> nonNormalisedKet = np.sqrt(0.2)*basis(2,1) + np.sqrt(0.8)*basis(2,0)\n        >>> normalisedKet = normalise(nonNormalisedKet)\n        [[0.89442719]\n        [0.4472136 ]]\n        >>> nonNormalisedMat = densityMatrix(nonNormalisedKet)\n        >>> normalisedMat = normalise(nonNormalisedMat)\n        [[0.8 0.4]\n        [0.4 0.2]]\n    \n    normaliseKet(ket: ~Matrix) -> ~Matrix\n        Function to normalise `ket` state\n        \n        Keeps the sparse/array as sparse/array\n        \n        Parameters\n        ----------\n        :param `state` : ket state to be normalised\n        \n        Returns\n        -------\n        :return: normalised `ket` state\n        \n        Examples\n        --------\n        >>> import numpy as np\n        >>> nonNormalisedKet = np.sqrt(0.2)*basis(2,1) + np.sqrt(0.8)*basis(2,0)\n        >>> normalisedKet = normaliseKet(nonNormalisedKet)\n        [[0.89442719]\n        [0.4472136 ]]\n    \n    normaliseMat(denMat: ~Matrix) -> ~Matrix\n        Function to normalise a ``density matrix``\n        \n        Keeps the sparse/array as sparse/array\n        \n        Parameters\n        ----------\n        :param `state` : ``density matrix`` to be normalised\n        \n        Returns\n        -------\n        :return: normalised ``density matrix``\n        \n        Examples\n        --------\n        >>> import numpy as np\n        >>> nonNormalisedMat = densityMatrix(nonNormalisedKet)\n        >>> normalisedMat = normalise(nonNormalisedMat)\n        [[0.8 0.4]\n        [0.4 0.2]]\n    \n    partialTrace(keep: Union[numpy.ndarray, List[int]], dims: Union[numpy.ndarray, List[int]], state: ~Matrix) -> numpy.ndarray\n        Calculates the partial trace of a `density matrix` of composite state\n        ρ_a = Tr_b(ρ)\n        \n        Adapted from: https://scicomp.stackexchange.com/questions/30052/calculate-partial-trace-of-an-outer-product-in-python\n        \n        Parameters\n        ----------\n        :param `keep` : An array of indices of the spaces to keep after being traced. For instance, if the space is\n            A x B x C x D and we want to trace out B and D, keep = [0,2]\n        dims : An array of the dimensions of each space. For instance, if the space is A x B x C x D,\n            dims = [dim_A, dim_B, dim_C, dim_D]\n        :param `state` : Matrix to trace\n        \n        Returns\n        -------\n        ρ_a : Traced matrix\n        \n        Examples\n        --------\n        >>> compositeState0 = compositeState(dimensions=[2, 2], excitations=[0,1], sparse=False)\n        >>> stateFirstSystem0 = partialTrace(keep=[0], dims=[2, 2], state=compositeState0)\n        [[1 0]\n        [0 0]]\n        >>> stateSecondSystem0 = partialTrace(keep=[1], dims=[2, 2], state=compositeState0)\n        [[0 0]\n        [0 1]]\n        >>> compositeState1 = compositeState(dimensions=[2, 2], excitations=[[0,1],1], sparse=False)\n        [[0. 0.]\n        [0. 1.]]\n        >>> stateFirstSystem1 = partialTrace(keep=[0], dims=[2, 2], state=compositeState1)\n        [[0.5 0.5]\n        [0.5 0.5]]\n        >>> stateSecondSystem1 = partialTrace(keep=[1], dims=[2, 2], state=compositeState1)\n        >>> compositeState2 = compositeState(dimensions=[2, 2], excitations=[0,{0:0.2, 1:0.8}], sparse=False)\n        >>> stateFirstSystem2 = partialTrace(keep=[0], dims=[2, 2], state=compositeState2)\n        [[1. 0.]\n        [0. 0.]]\n        >>> stateSecondSystem2 = partialTrace(keep=[1], dims=[2, 2], state=compositeState2)\n        [[0.2 0.4]\n        [0.4 0.8]]\n    \n    superPos(dimension: int, excitations: Union[Dict[int, float], List[int], int], sparse: bool = True) -> ~Matrix\n        Creates a `ket` superposition state\n        \n        Function to create a ``superposition ket`` state from a given `dictionary` or `list`, \\\n        or `ket` state from a given `integer` (in this case, it is equivalent to basis function)\n        \n        Parameters\n        ----------\n        :param `dimension`: dimension of Hilbert space\n        :param `excitations`: There are 3 possible uses of this \\\n            1) a `dictionary` with state:population (key:value), e.g. {0:0.2, 1:0.4, 2:0.4} \\\n            2) a `list` (e.g. [0,1,2]) for equally populated super-position \\\n            3) an `integer`, which is equivalent to basis function\n        \n        Returns\n        -------\n        :return: a superposition `ket` state\n        \n        Examples\n        --------\n        >>> ket = superPos(2, {0:0.2, 1:0.8}, sparse=False)\n        [[0.4472136 ]\n        [0.89442719]]\n        >>> ket = superPos(2, [0,1], sparse=False)\n        [[0.70710678]\n        [0.70710678]]\n        >>> ket = superPos(2, 1, sparse=False)\n        [[0.]\n        [1.]]\n    \n    tensorProd(*args: ~Matrix) -> ~Matrix\n        Function to calculate tensor product of given states (in the given order).\n        \n        The matrices can be sparse/ndarray, but they all should be the same either sparse/ndarray not a mixture.\n        \n        Parameters\n        ----------\n        :param `*args` : state matrices (arbitary number of them)\n        \n        Returns\n        -------\n        :return: tensor product of given states (in the given order)\n        \n        Examples\n        --------\n        # TODO Create some examples both in here and the demo script\n    \n    vec2mat(vec: ~Matrix) -> ~Matrix\n        Converts ``density vector`` into ``density matrix``\n        \n        Keeps the sparse/array as sparse/array\n        \n        Parameters\n        ----------\n        :param `vec`: density vector to be converted\n        \n        Parameters\n        ----------\n        :return: density matrix\n        \n        Examples\n        --------\n        >>> denMat = densityMatrix(ket=basis(dimension=2, state=1, sparse=True))\n        [[0 0]\n        [0 1]]\n        >>> denVec = mat2Vec(denMat=denMat)\n        >>> denMatConverted = vec2mat(vec=denVec)\n        [[0 0]\n        [0 1]]\n    \n    zeros(dimension: int, sparse: bool = True) -> ~Matrix\n        Creates a column matrix of zeros\n        \n        Either as sparse (>>> sparse=True) or array (>>> sparse=False)\n        \n        Parameters\n        ----------\n        :param `dimension` : dimension of Hilbert space\n        \n        Returns\n        -------\n        :return: ket of zeros\n        \n        Examples\n        --------\n        >>> zeros(2)\n        (0, 0)      0\n        >>> zeros(2, sparse=False)\n        [[0]\n        [0]]\n\nDATA\n    List = typing.List\n    Matrix = ~Matrix\n    Optional = typing.Optional\n    intList = typing.List[int]\n    matrixList = typing.List[~Matrix]\n    ndOrListInt = typing.Union[numpy.ndarray, typing.List[int]]\n    supInp = typing.Union[typing.Dict[int, float], typing.List[int], int]\n\nFILE\n    /Users/cahitkargi/VSCProjects/QuantumSimulations/qTools/QuantumToolbox/states.py\n\n\n"
    }
   ],
   "source": [
    "# Uncomment any (or both) of these two to print module docstrings\n",
    "#print(qStates.__doc__)\n",
    "help(qStates)"
   ]
  },
  {
   "cell_type": "markdown",
   "metadata": {},
   "source": [
    "## basis\n",
    "---\n",
    "This is a method to create ket states for a given dimension with 1 at a given row."
   ]
  },
  {
   "cell_type": "code",
   "execution_count": 3,
   "metadata": {},
   "outputs": [
    {
     "output_type": "stream",
     "name": "stdout",
     "text": "Sparse ket\n  (0, 0)\t1\nArray from Sparse ket\n[[1]\n [0]]\nArray from basis function by sparse=False\n[[1]\n [0]]\n"
    }
   ],
   "source": [
    "# sparse=True by default\n",
    "# for dimension 2 and 1 at 0th element of the column matrix (see the print below)\n",
    "ketStateSparse = qStates.basis(dimension=2, state=0)\n",
    "ketStateArray = qStates.basis(2, 0, sparse=False)\n",
    "\n",
    "print('Sparse ket')\n",
    "print(ketStateSparse)\n",
    "# You obtain the array by simply calling .A on the sparse matrix\n",
    "# If sparse=True, function simply returns state.A\n",
    "# so, these two are equivalent\n",
    "print('Array from Sparse ket')\n",
    "print(ketStateSparse.A)\n",
    "print('Array from basis function by sparse=False')\n",
    "print(ketStateArray)"
   ]
  },
  {
   "cell_type": "markdown",
   "metadata": {},
   "source": [
    "## completeBasis\n",
    "---\n",
    "This is a method to create a complete basis of ket states for a given dimension."
   ]
  },
  {
   "cell_type": "code",
   "execution_count": 4,
   "metadata": {},
   "outputs": [
    {
     "output_type": "stream",
     "name": "stdout",
     "text": "Sparse kets of the complete basis and array (.A) for each\n  (0, 0)\t1\n[[1]\n [0]]\n  (1, 0)\t1\n[[0]\n [1]]\nArray kets of the complete basis\n[[1]\n [0]]\n[[0]\n [1]]\n"
    }
   ],
   "source": [
    "completeBasisSparse = qStates.completeBasis(2)\n",
    "completeBasisArray = qStates.completeBasis(2, sparse=False)\n",
    "\n",
    "print('Sparse kets of the complete basis and array (.A) for each')\n",
    "for state in completeBasisSparse:\n",
    "    print(state)\n",
    "    print(state.A)\n",
    "print('Array kets of the complete basis')\n",
    "for state in completeBasisArray:\n",
    "    print(state)"
   ]
  },
  {
   "cell_type": "markdown",
   "metadata": {},
   "source": [
    "## basisBra\n",
    "---\n",
    "This is a method to create bra states for a given dimension."
   ]
  },
  {
   "cell_type": "code",
   "execution_count": 5,
   "metadata": {},
   "outputs": [
    {
     "output_type": "stream",
     "name": "stdout",
     "text": "Sparse Bra and array (.A) from the sparse Bra\n  (0, 1)\t1\n[[0 1]]\nArray Bra from basisBra function by sparse=False\n[[0 1]]\n"
    }
   ],
   "source": [
    "# for dimension 2 and 1 at 1st element of the row matrix (see the print below)\n",
    "braStateSparse = qStates.basisBra(dimension=2, state=1)\n",
    "braStateArray = qStates.basisBra(2, 1, sparse=False)\n",
    "\n",
    "print('Sparse Bra and array (.A) from the sparse Bra')\n",
    "print(braStateSparse)\n",
    "print(braStateSparse.A)\n",
    "print('Array Bra from basisBra function by sparse=False')\n",
    "print(braStateArray)"
   ]
  },
  {
   "cell_type": "markdown",
   "metadata": {},
   "source": [
    "## zeros\n",
    "---\n",
    "This is a method to create a column matrix of zeros for a given dimension."
   ]
  },
  {
   "cell_type": "code",
   "execution_count": 6,
   "metadata": {},
   "outputs": [
    {
     "output_type": "stream",
     "name": "stdout",
     "text": "Sparse zeros (ket) and array (.A) from the sparse Bra\n  (0, 0)\t0\n[[0]\n [0]]\nArray zeros (ket) from basisBra function by sparse=False\n[[0]\n [0]]\n"
    }
   ],
   "source": [
    "# for dimension 2 and all the elements of the column matrix are 0 (see the print below)\n",
    "zerosSparse = qStates.zeros(2)\n",
    "zerosArray = qStates.zeros(2, False)\n",
    "\n",
    "print('Sparse zeros (ket) and array (.A) from the sparse Bra')\n",
    "print(zerosSparse)\n",
    "print(zerosSparse.A)\n",
    "print('Array zeros (ket) from basisBra function by sparse=False')\n",
    "print(zerosArray)"
   ]
  },
  {
   "cell_type": "markdown",
   "metadata": {},
   "source": [
    "## superPos\n",
    "---\n",
    "This is a method to create a super-position state for a given dimension.\n",
    "Depending on the second argument, this returns:\n",
    "\n",
    "1) int: equivalent to basis, i.e. returns a ket state with a unit population at the given int \n",
    "\n",
    "2) list: creates an equally populated super-position state from a list of integers\n",
    "\n",
    "3) dict: creates a super-position by using the key as state int and the value as population"
   ]
  },
  {
   "cell_type": "code",
   "execution_count": 7,
   "metadata": {},
   "outputs": [
    {
     "output_type": "stream",
     "name": "stdout",
     "text": "Ket States\n  (1, 0)\t1.0\n[[0.]\n [1.]]\n[[0.]\n [1.]]\nEqual Super-position\n  (0, 0)\t0.7071067811865475\n  (1, 0)\t0.7071067811865475\n[[0.70710678]\n [0.70710678]]\n[0.5]\n[0.5]\nSuper-position of given populations (keys of the dict)\n  (0, 0)\t0.44721359549995804\n  (1, 0)\t0.8944271909999161\n[[0.4472136 ]\n [0.89442719]]\n[[0.4472136 ]\n [0.89442719]]\n[0.2]\n[0.8]\n"
    }
   ],
   "source": [
    "# 1 at 0th element of the column matrix (see the print below)\n",
    "superPosState0Sparse = qStates.superPos(dimension=2, excitations=1, sparse=True)\n",
    "superPosState0Array = qStates.superPos(dimension=2, excitations=1, sparse=False)\n",
    "# sqrt(0.5) at 0th and 1st elements of the column matrix, i.e. population of each state is 0.5\n",
    "superPosState1Sparse = qStates.superPos(2, excitations=[0,1])\n",
    "superPosState1Array = qStates.superPos(2, excitations=[0,1], sparse=False)\n",
    "# sqrt(0.2) at 0th and sqrt(0.8) at 1st element of the column matrix, i.e. population of 0 is 0.2, and population of 1 is 0.8\n",
    "superPosState2Sparse = qStates.superPos(2, {0:0.2, 1:0.8})\n",
    "superPosState2Array = qStates.superPos(2, {0:0.2, 1:0.8}, sparse=False)\n",
    "\n",
    "print('Ket States')\n",
    "print(superPosState0Sparse)\n",
    "print(superPosState0Sparse.A)\n",
    "print(superPosState0Array)\n",
    "print('Equal Super-position')\n",
    "print(superPosState1Sparse)\n",
    "print(superPosState1Array)\n",
    "print(superPosState1Array[0]**2)\n",
    "print(superPosState1Array[1]**2)\n",
    "print('Super-position of given populations (keys of the dict)')\n",
    "print(superPosState2Sparse)\n",
    "print(superPosState2Sparse.A)\n",
    "print(superPosState2Array)\n",
    "print(superPosState2Array[0]**2)\n",
    "print(superPosState2Array[1]**2)"
   ]
  },
  {
   "cell_type": "markdown",
   "metadata": {},
   "source": [
    "## densityMatrix\n",
    "---\n",
    "This is a method to create a density matrix for a given ket (or pure) state."
   ]
  },
  {
   "cell_type": "code",
   "execution_count": 8,
   "metadata": {},
   "outputs": [
    {
     "output_type": "stream",
     "name": "stdout",
     "text": "Sparse density matrix from a given sparse ket and array (.A) from the sparse density matrix\n  (1, 0)\t0.4000000000000002\n  (0, 0)\t0.2000000000000001\n  (1, 1)\t0.8000000000000004\n  (0, 1)\t0.4000000000000002\n[[0.2 0.4]\n [0.4 0.8]]\nArray density matrix from a given array ket\n[[0.2 0.4]\n [0.4 0.8]]\n"
    }
   ],
   "source": [
    "# density matrices of the super-position states created above. It creates sparse/array structure.\n",
    "densityMat2Sparse = qStates.densityMatrix(ket=superPosState2Sparse)\n",
    "densityMat2Array = qStates.densityMatrix(superPosState2Array)\n",
    "\n",
    "print('Sparse density matrix from a given sparse ket and array (.A) from the sparse density matrix')\n",
    "print(densityMat2Sparse)\n",
    "print(densityMat2Sparse.A)\n",
    "print('Array density matrix from a given array ket')\n",
    "print(densityMat2Array)"
   ]
  },
  {
   "cell_type": "markdown",
   "metadata": {},
   "source": [
    "## completeBasisMat\n",
    "---\n",
    "This is a method to convert a complete basis of ket states to density matrices or create a complete basis of density matrices for a given dimension.\n",
    "Note: This is not a complete basis for n-by-n matrices but for populations, i.e. diagonals."
   ]
  },
  {
   "cell_type": "code",
   "execution_count": 9,
   "metadata": {},
   "outputs": [
    {
     "output_type": "stream",
     "name": "stdout",
     "text": "(Sparse) Matrix basis from given (sparse) ket basis\n  (0, 0)\t1\n[[1 0]\n [0 0]]\n  (1, 1)\t1\n[[0 0]\n [0 1]]\n(Array) Matrix basis from given (array) ket basis\n[[1 0]\n [0 0]]\n[[0 0]\n [0 1]]\n(Sparse) Matrix basis from given dimension by sparse=True (default)\n  (0, 0)\t1\n[[1 0]\n [0 0]]\n  (1, 1)\t1\n[[0 0]\n [0 1]]\n(Array) Matrix basis from given dimension by sparse=False\n[[1 0]\n [0 0]]\n[[0 0]\n [0 1]]\n"
    }
   ],
   "source": [
    "completeBasisSparse = qStates.completeBasis(2)\n",
    "completeBasisArray = qStates.completeBasis(2, sparse=False)\n",
    "\n",
    "completeBasisMat0Sparse = qStates.completeBasisMat(compKetBase=completeBasisSparse)\n",
    "completeBasisMat1Array = qStates.completeBasisMat(compKetBase=completeBasisArray)\n",
    "\n",
    "completeBasisMat01Sparse = qStates.completeBasisMat(dimension=2)\n",
    "completeBasisMat11Array = qStates.completeBasisMat(dimension=2, sparse=False)\n",
    "\n",
    "print('(Sparse) Matrix basis from given (sparse) ket basis')\n",
    "for state in completeBasisMat0Sparse:\n",
    "    print(state)\n",
    "    print(state.A)\n",
    "print('(Array) Matrix basis from given (array) ket basis')\n",
    "for state in completeBasisMat1Array:\n",
    "    print(state)\n",
    "print('(Sparse) Matrix basis from given dimension by sparse=True (default)')\n",
    "for state in completeBasisMat01Sparse:\n",
    "    print(state)\n",
    "    print(state.A)\n",
    "print('(Array) Matrix basis from given dimension by sparse=False')\n",
    "for state in completeBasisMat11Array:\n",
    "    print(state)"
   ]
  },
  {
   "cell_type": "markdown",
   "metadata": {},
   "source": [
    "## normalise  -  normaliseKet  -  normaliseMat\n",
    "---\n",
    "normalise a method to normalise any given state. This method checks and if-else and calls either normaliseKet and normaliseMat.\n",
    "\n",
    "normaliseKet and normaliseMat are normalisation methods respectively for a ket state and density matrix."
   ]
  },
  {
   "cell_type": "code",
   "execution_count": 10,
   "metadata": {},
   "outputs": [
    {
     "output_type": "stream",
     "name": "stdout",
     "text": "[[0.89442719]\n [0.4472136 ]]\n[[0.8 0.4]\n [0.4 0.2]]\n[[0.89442719]\n [0.4472136 ]]\n[[0.8 0.4]\n [0.4 0.2]]\n  (0, 0)\t0.8000000000000004\n  (0, 0)\t0.2000000000000001\n"
    }
   ],
   "source": [
    "import numpy as np\n",
    "# create a non-normalised ket and density matrix\n",
    "nonNormalisedKet = np.sqrt(0.2)*qStates.basis(2,1) + np.sqrt(0.8)*qStates.basis(2,0)\n",
    "nonNormalisedDenMat = qStates.densityMatrix(nonNormalisedKet)\n",
    "\n",
    "# normalise these states\n",
    "\n",
    "# normalisedKet = qStates.normaliseKet(ket=nonNormalisedKet)\n",
    "normalisedKet = qStates.normalise(state=nonNormalisedKet)\n",
    "\n",
    "#normalisedDenMat = qStates.normaliseMat(denMat=nonNormalisedDenMat)\n",
    "normalisedDenMat = qStates.normalise(nonNormalisedDenMat)\n",
    "\n",
    "print(nonNormalisedKet.A)\n",
    "print(nonNormalisedDenMat.A)\n",
    "print(normalisedKet.A)\n",
    "print(normalisedDenMat.A)\n",
    "\n",
    "# see the populations in 1 and 0\n",
    "print(normalisedKet[0]**2)\n",
    "print(normalisedKet[1]**2)"
   ]
  },
  {
   "cell_type": "markdown",
   "metadata": {},
   "source": [
    "## compositeState\n",
    "---\n",
    "This is a method to create ket state for a composite quantum system from a given list of sub-system dimensions and a list state informations.\n",
    "\n",
    "This method can create super-position for a sub-state, so the list of state information can be a list of mixtures of int, list, and dict. (see superPos above to see how these are used)"
   ]
  },
  {
   "cell_type": "code",
   "execution_count": 11,
   "metadata": {},
   "outputs": [
    {
     "output_type": "stream",
     "name": "stdout",
     "text": "[[0]\n [1]\n [0]\n [0]]\n[[0.        ]\n [0.70710678]\n [0.        ]\n [0.70710678]]\n[[0.4472136 ]\n [0.89442719]\n [0.        ]\n [0.        ]]\n"
    }
   ],
   "source": [
    "# composite states for two (qubit) 2D systems\n",
    "\n",
    "# super-position state where first sub-system is in state 0 and second is in 1\n",
    "compositeState0 = qStates.compositeState(dimensions=[2, 2], excitations=[0,1], sparse=True)\n",
    "\n",
    "# super-position state where first sub-system is in equal super-position of 0&1 and second is in 1\n",
    "compositeState1 = qStates.compositeState(dimensions=[2, 2], excitations=[[0,1],1], sparse=True)\n",
    "\n",
    "# super-position state where first sub-system is in state 0 and second is in a super-position with 0.2 population in 0 and 0.8 in 1\n",
    "compositeState2 = qStates.compositeState(dimensions=[2, 2], excitations=[0,{0:0.2, 1:0.8}], sparse=True)\n",
    "\n",
    "print(compositeState0.A)\n",
    "print(compositeState1.A)\n",
    "print(compositeState2.A)\n",
    "\n",
    "# above prints are not very instructive, so let's see the next tool, partialTrace."
   ]
  },
  {
   "cell_type": "markdown",
   "metadata": {},
   "source": [
    "## tensorProd\n",
    "---\n",
    "This is a method to calculate tensor product of given states (in the given order)."
   ]
  },
  {
   "cell_type": "code",
   "execution_count": null,
   "metadata": {},
   "outputs": [],
   "source": []
  },
  {
   "cell_type": "markdown",
   "metadata": {},
   "source": [
    "## partialTrace\n",
    "---\n",
    "This is a method to take partial trace to trace-out some of the sub-systems.\n",
    "\n",
    "Note: This function CANNOT keep sparse structure, i.e. always returns an array"
   ]
  },
  {
   "cell_type": "code",
   "execution_count": 12,
   "metadata": {},
   "outputs": [
    {
     "output_type": "stream",
     "name": "stdout",
     "text": "States of first sub-system\n[[1 0]\n [0 0]]\n[[0.5 0.5]\n [0.5 0.5]]\n[[1. 0.]\n [0. 0.]]\nStates of second sub-system\n[[0 0]\n [0 1]]\n[[0. 0.]\n [0. 1.]]\n[[0.2 0.4]\n [0.4 0.8]]\n"
    }
   ],
   "source": [
    "# partial traces of the composite states above.\n",
    "stateFirstSystem0 = qStates.partialTrace(keep=[0], dims=[2, 2], state=compositeState0)\n",
    "stateSecondSystem0 = qStates.partialTrace(keep=[1], dims=[2, 2], state=compositeState0)\n",
    "\n",
    "stateFirstSystem1 = qStates.partialTrace(keep=[0], dims=[2, 2], state=compositeState1)\n",
    "stateSecondSystem1 = qStates.partialTrace(keep=[1], dims=[2, 2], state=compositeState1)\n",
    "\n",
    "stateFirstSystem2 = qStates.partialTrace(keep=[0], dims=[2, 2], state=compositeState2)\n",
    "stateSecondSystem2 = qStates.partialTrace(keep=[1], dims=[2, 2], state=compositeState2)\n",
    "\n",
    "# print and see the states of the first sub-system in each composite state\n",
    "print('States of first sub-system')\n",
    "print(stateFirstSystem0)\n",
    "print(stateFirstSystem1)\n",
    "print(stateFirstSystem2)\n",
    "\n",
    "# print and see the states of the second sub-system in each composite state\n",
    "print('States of second sub-system')\n",
    "print(stateSecondSystem0)\n",
    "print(stateSecondSystem1)\n",
    "print(stateSecondSystem2)"
   ]
  },
  {
   "cell_type": "markdown",
   "metadata": {},
   "source": [
    "## mat2Vec\n",
    "---\n",
    "This is a method to convert density matrix into density vector, which is used in super-operator representation for open-systems."
   ]
  },
  {
   "cell_type": "code",
   "execution_count": 14,
   "metadata": {},
   "outputs": [
    {
     "output_type": "stream",
     "name": "stdout",
     "text": "[[0 0]\n [0 1]]\n[[0]\n [0]\n [0]\n [1]]\n"
    }
   ],
   "source": [
    "# create a ket state and calculate the density matrix\n",
    "denMat = qStates.densityMatrix(ket=qStates.basis(dimension=2, state=1, sparse=True))\n",
    "\n",
    "# convert it into density vector\n",
    "denVec = qStates.mat2Vec(denMat=denMat.A)\n",
    "\n",
    "print(denMat.A)\n",
    "print(denVec)"
   ]
  },
  {
   "cell_type": "markdown",
   "metadata": {},
   "source": [
    "## vec2mat\n",
    "---\n",
    "This is a method to convert density vector into density matrix."
   ]
  },
  {
   "cell_type": "code",
   "execution_count": 15,
   "metadata": {},
   "outputs": [
    {
     "output_type": "stream",
     "name": "stdout",
     "text": "[[0 0]\n [0 1]]\n"
    }
   ],
   "source": [
    "# convert above density vector back into the density matrix.\n",
    "denMatConverted = qStates.vec2mat(vec=denVec)\n",
    "\n",
    "print(denMatConverted)"
   ]
  },
  {
   "cell_type": "code",
   "execution_count": null,
   "metadata": {},
   "outputs": [],
   "source": []
  }
 ],
 "metadata": {
  "file_extension": ".py",
  "kernelspec": {
   "display_name": "Python 3.7.6 64-bit ('anaconda3': virtualenv)",
   "language": "python",
   "name": "python37664bitanaconda3virtualenvb329dec24e7e4f7f99b0b28d7020383d"
  },
  "language_info": {
   "codemirror_mode": {
    "name": "ipython",
    "version": 3
   },
   "file_extension": ".py",
   "mimetype": "text/x-python",
   "name": "python",
   "nbconvert_exporter": "python",
   "pygments_lexer": "ipython3",
   "version": "3.7.6-final"
  },
  "mimetype": "text/x-python",
  "name": "python",
  "npconvert_exporter": "python",
  "pygments_lexer": "ipython3",
  "version": 3
 },
 "nbformat": 4,
 "nbformat_minor": 2
}