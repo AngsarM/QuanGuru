{
 "cells": [
  {
   "cell_type": "code",
   "execution_count": null,
   "metadata": {},
   "outputs": [],
   "source": [
    "import quanguru as qg\n",
    "import numpy as np\n",
    "import matplotlib.pyplot as plt\n",
    "import matplotlib.ticker as tck\n",
    "import matplotlib as mpl"
   ]
  },
  {
   "cell_type": "markdown",
   "metadata": {},
   "source": [
    "# Single qubit create, run, and plot"
   ]
  },
  {
   "cell_type": "code",
   "execution_count": null,
   "metadata": {},
   "outputs": [],
   "source": [
    "# create a qubit\n",
    "qub = qg.Qubit()\n",
    "\n",
    "# its default Hamiltonian is frequency*sigma_z. sigma_z is already there and can be changed to some other operator. but need to assign a frequency\n",
    "qub.frequency = 1\n",
    "qub.initialState = [0, 1]\n",
    "\n",
    "qub.simTotalTime = 4\n",
    "qub.simStepSize = 0.01"
   ]
  },
  {
   "cell_type": "code",
   "execution_count": null,
   "metadata": {},
   "outputs": [],
   "source": [
    "qub.runSimulation()\n",
    "\n",
    "sy = qg.sigmay()\n",
    "syexp = []\n",
    "for st in qub.states:\n",
    "    syexp.append(qg.expectation(sy, st))\n",
    "\n",
    "plt.plot(qub.simulation.timeList, syexp)"
   ]
  },
  {
   "cell_type": "markdown",
   "metadata": {},
   "source": [
    "#### An alternative"
   ]
  },
  {
   "cell_type": "code",
   "execution_count": null,
   "metadata": {},
   "outputs": [],
   "source": [
    "sim = qg.Qubit(frequency = 1, initialState = [0, 1], simTotalTime = 4, simStepSize = 0.01).runSimulation()\n",
    "sy = qg.sigmay()\n",
    "syexp = []\n",
    "for st in sim.getByNameOrAlias(\"Qubit2\").states:\n",
    "    syexp.append(qg.expectation(sy, st))\n",
    "plt.plot(sim.timeList, syexp)"
   ]
  },
  {
   "cell_type": "markdown",
   "metadata": {},
   "source": [
    "# Qubit frequency sweep"
   ]
  },
  {
   "cell_type": "code",
   "execution_count": null,
   "metadata": {},
   "outputs": [],
   "source": [
    "qub3 = qg.Qubit(frequency = 1, initialState = [0, 1], simTotalTime = 4, simStepSize = 0.01)\n",
    "freqSweep = qub3.simulation.Sweep.createSweep(system=\"Qubit3\", sweepKey=\"frequency\", sweepList=np.arange(-1, 1, 0.01))"
   ]
  },
  {
   "cell_type": "code",
   "execution_count": null,
   "metadata": {},
   "outputs": [],
   "source": [
    "%%time\n",
    "qub3.runSimulation(p=True)"
   ]
  },
  {
   "cell_type": "code",
   "execution_count": null,
   "metadata": {},
   "outputs": [],
   "source": [
    "%%time\n",
    "syexp = []\n",
    "for stL in qub3.states:\n",
    "    tt = []\n",
    "    for st in stL:\n",
    "        tt.append(qg.expectation(sy, st))\n",
    "    syexp.append(tt)"
   ]
  },
  {
   "cell_type": "code",
   "execution_count": null,
   "metadata": {},
   "outputs": [],
   "source": [
    "%%time\n",
    "Y, X = np.meshgrid(qub3.simulation.timeList, freqSweep.sweepList)\n",
    "plt.pcolormesh(X, Y, syexp)"
   ]
  },
  {
   "cell_type": "markdown",
   "metadata": {},
   "source": [
    "# Qubit frequency sweep and compute"
   ]
  },
  {
   "cell_type": "code",
   "execution_count": null,
   "metadata": {},
   "outputs": [],
   "source": [
    "def comp(simOB, st):\n",
    "    simOB.qRes.result = [\"y\", qg.expectation(sy, st)]\n",
    "qub4 = qg.Qubit(frequency = 1, initialState = [0, 1], simTotalTime = 4, simStepSize = 0.01, simCompute=comp)\n",
    "freqSweep = qub4.simulation.Sweep.createSweep(system=qub4, sweepKey=\"frequency\", sweepList=np.arange(-1, 1, 0.01))"
   ]
  },
  {
   "cell_type": "code",
   "execution_count": null,
   "metadata": {},
   "outputs": [],
   "source": [
    "%%time\n",
    "qub4.runSimulation(p=True)"
   ]
  },
  {
   "cell_type": "code",
   "execution_count": null,
   "metadata": {},
   "outputs": [],
   "source": [
    "%%time\n",
    "Y, X = np.meshgrid(qub4.simulation.timeList, freqSweep.sweepList)\n",
    "plt.pcolormesh(X, Y, qub4.simulation.results[\"y\"])"
   ]
  },
  {
   "cell_type": "code",
   "execution_count": null,
   "metadata": {},
   "outputs": [],
   "source": []
  }
 ],
 "metadata": {
  "kernelspec": {
   "display_name": "Python 3.9.1 64-bit",
   "metadata": {
    "interpreter": {
     "hash": "7812ea015bdcee6f23a998adcdd2ef97c151c0c241b7b7070987d9313e41299d"
    }
   },
   "name": "python3"
  },
  "language_info": {
   "codemirror_mode": {
    "name": "ipython",
    "version": 3
   },
   "file_extension": ".py",
   "mimetype": "text/x-python",
   "name": "python",
   "nbconvert_exporter": "python",
   "pygments_lexer": "ipython3",
   "version": "3.10.1"
  },
  "orig_nbformat": 2
 },
 "nbformat": 4,
 "nbformat_minor": 2
}
