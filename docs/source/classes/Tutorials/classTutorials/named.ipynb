{
 "cells": [
  {
   "cell_type": "code",
   "execution_count": 1,
   "metadata": {},
   "outputs": [],
   "source": [
    "import quanguru as qg"
   ]
  },
  {
   "cell_type": "markdown",
   "metadata": {},
   "source": [
    "# named\n",
    "\n",
    "All the objects that are created/needed by the user have unique default names and user defined aliases, and the `named` class implement these two.\n",
    "\n",
    "There can be any number of alias to a `named` object, but the aliases still need to be unique to that object, i.e. two objects cannot have the same alias, even if they have other aliases that are different.\n",
    "\n",
    "`named` class uses its name mangled `_named__name` attribute (which is an instance of `aliasClass`) to store its name and aliases. \n",
    "Since `aliasClass` already ensures that the name cannot be changed, `named` class is simply responsible for setting a unique name to it during instantiation.\n",
    "See below examples for how these names are created.\n",
    "\n",
    "Additionally, a weak-reference to all `named` instances are stored into a class attribute (`_allInstacesDict` which is an instance of `aliasDict`). "
   ]
  },
  {
   "cell_type": "code",
   "execution_count": 2,
   "metadata": {},
   "outputs": [
    {
     "name": "stdout",
     "output_type": "stream",
     "text": [
      "named1\n"
     ]
    }
   ],
   "source": [
    "# create a named and check its name\n",
    "n1 = qg.named()\n",
    "\n",
    "print(n1.name)"
   ]
  },
  {
   "cell_type": "markdown",
   "metadata": {},
   "source": [
    "The names are created by using the class attribute `label` and the number of instances, which is again stored in class attributes.\n",
    "\n",
    "`label` are always the same as class name. Therefore, for the above example, `n1` is the first `named` created,and its name is\n",
    "```console\n",
    "    named.label + named._externalInstances -> \"named\" + 1\n",
    "```\n",
    "\n",
    "Here, the class attribute `_externalInstances` means that `n1` is created externally by a user.\n",
    "`QuanGuru` also creates some objects internally to provide certain functionalities as well as house-keeping.\n",
    "Therefore, we distinguish between these, and the user does not need to know how many internal objects are created. \n",
    "For internal objects, the name is calculated as\n",
    "```console\n",
    "    \"_\" + named.label + named._internalInstances\n",
    "```\n",
    "The `_` in the beginning is again to distinguish between internal and external instances, because names need to be unique for any `named` instance regardless it is internal or external.\n",
    "\n",
    "Internally created objects are also labelled with a boolean stored inside the `_internal` attribute.\n",
    "We simply set this boolean to `True` when we create an internal object."
   ]
  },
  {
   "cell_type": "code",
   "execution_count": 4,
   "metadata": {},
   "outputs": [
    {
     "name": "stdout",
     "output_type": "stream",
     "text": [
      "_named1\n"
     ]
    }
   ],
   "source": [
    "# create an internal object\n",
    "ni = qg.named(_internal=True)\n",
    "#print its name. first internal named object so -> _ + named + 1\n",
    "print(ni.name)"
   ]
  },
  {
   "cell_type": "code",
   "execution_count": 3,
   "metadata": {},
   "outputs": [
    {
     "name": "stdout",
     "output_type": "stream",
     "text": [
      "_internal should be an instance of <class 'bool'>, <class 'NoneType'>, but <class 'str'> is given\n",
      "_internal should be an instance of <class 'bool'>, <class 'NoneType'>, but <class 'int'> is given\n"
     ]
    }
   ],
   "source": [
    "# note that internal has to be a boolean type.\n",
    "try:\n",
    "    qg.base.named(_internal=\"not a bool\")\n",
    "except TypeError as te:\n",
    "    print(te)\n",
    "\n",
    "# 0 means False, but 0 is not a boolean, so it also fails, because _internal expect a boolean type\n",
    "try:\n",
    "    qg.base.named(_internal=0)\n",
    "except TypeError as te:\n",
    "    print(te)"
   ]
  },
  {
   "cell_type": "code",
   "execution_count": null,
   "metadata": {},
   "outputs": [],
   "source": []
  }
 ],
 "metadata": {
  "interpreter": {
   "hash": "84140f987c0b0e0a7cc73ab2dfca74e3b05f3f4edb0e1638e7975794196701df"
  },
  "kernelspec": {
   "display_name": "Python 3.10.1 64-bit ('QuanGuruDev': venv)",
   "language": "python",
   "name": "python3"
  },
  "language_info": {
   "codemirror_mode": {
    "name": "ipython",
    "version": 3
   },
   "file_extension": ".py",
   "mimetype": "text/x-python",
   "name": "python",
   "nbconvert_exporter": "python",
   "pygments_lexer": "ipython3",
   "version": "3.10.1"
  },
  "orig_nbformat": 4
 },
 "nbformat": 4,
 "nbformat_minor": 2
}
