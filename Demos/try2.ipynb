{
 "nbformat": 4,
 "nbformat_minor": 2,
 "metadata": {
  "language_info": {
   "name": "python",
   "codemirror_mode": {
    "name": "ipython",
    "version": 3
   },
   "version": "3.7.6-final"
  },
  "orig_nbformat": 2,
  "file_extension": ".py",
  "mimetype": "text/x-python",
  "name": "python",
  "npconvert_exporter": "python",
  "pygments_lexer": "ipython3",
  "version": 3,
  "kernelspec": {
   "name": "python3",
   "display_name": "Python 3"
  }
 },
 "cells": [
  {
   "cell_type": "code",
   "execution_count": null,
   "metadata": {},
   "outputs": [],
   "source": [
    "from qTools import *\n",
    "import Cahit as ck\n",
    "\n",
    "import scipy.sparse as sp\n",
    "\n",
    "import numpy as np\n",
    "\n",
    "from functools import partial\n",
    "from multiprocessing import Pool, cpu_count\n",
    "\n",
    "\n",
    "import matplotlib.pyplot as plt\n",
    "import datetime\n",
    "\n",
    "import copy"
   ]
  },
  {
   "cell_type": "code",
   "execution_count": null,
   "metadata": {},
   "outputs": [],
   "source": [
    "resonatorDimension = 20\n",
    "g = 1.79\n",
    "qfreq = 2\n",
    "resFreq = 2"
   ]
  },
  {
   "cell_type": "code",
   "execution_count": null,
   "metadata": {},
   "outputs": [],
   "source": [
    "qSim = Simulation()\n",
    "qSim.finalTime = 1.2\n",
    "qSim.stepSize = 0.02\n",
    "qSim.delStates = True"
   ]
  },
  {
   "cell_type": "code",
   "execution_count": null,
   "metadata": {},
   "outputs": [],
   "source": [
    "print(qResults._allResults)"
   ]
  },
  {
   "cell_type": "code",
   "execution_count": null,
   "metadata": {},
   "outputs": [],
   "source": [
    "JCSys = QuantumSystem(name='JCSys')"
   ]
  },
  {
   "cell_type": "code",
   "execution_count": null,
   "metadata": {},
   "outputs": [],
   "source": [
    "JCSys._genericQSys__unitary"
   ]
  },
  {
   "cell_type": "code",
   "execution_count": null,
   "metadata": {},
   "outputs": [],
   "source": [
    "cav = Cavity(dimension=resonatorDimension, frequency=resFreq)\n",
    "JCSys.addSubSys(cav)\n",
    "\n",
    "qub = JCSys.createSubSys(Qubit)\n",
    "qub.frequency = qfreq"
   ]
  },
  {
   "cell_type": "code",
   "execution_count": null,
   "metadata": {},
   "outputs": [],
   "source": [
    "print(isinstance(cav, genericQSys))"
   ]
  },
  {
   "cell_type": "code",
   "execution_count": null,
   "metadata": {},
   "outputs": [],
   "source": [
    "copyJC = JCSys.copy()"
   ]
  },
  {
   "cell_type": "code",
   "execution_count": null,
   "metadata": {},
   "outputs": [],
   "source": [
    "print(copyJC.subSys['Cavity2'].dimension)"
   ]
  },
  {
   "cell_type": "code",
   "execution_count": null,
   "metadata": {},
   "outputs": [],
   "source": [
    "copyQub = qub.copy()\n",
    "copyCav = cav.copy()"
   ]
  },
  {
   "cell_type": "code",
   "execution_count": null,
   "metadata": {},
   "outputs": [],
   "source": [
    "print(copyQub.name)\n",
    "print(copyCav.name)\n",
    "print(copyCav.dimension)"
   ]
  },
  {
   "cell_type": "code",
   "execution_count": null,
   "metadata": {},
   "outputs": [],
   "source": [
    "qub2 = qub.__class__(dimension=2, frequency=2)"
   ]
  },
  {
   "cell_type": "code",
   "execution_count": null,
   "metadata": {},
   "outputs": [],
   "source": [
    "qub2.frequency"
   ]
  },
  {
   "cell_type": "code",
   "execution_count": null,
   "metadata": {},
   "outputs": [],
   "source": [
    "JCcoupling = JCSys.JC(cav, qub, g)\n",
    "\n",
    "#JCSys.initialState = [0,0]\n",
    "cav.initialState = 0\n",
    "qub.initialState = basis(2,0)"
   ]
  },
  {
   "cell_type": "code",
   "execution_count": null,
   "metadata": {},
   "outputs": [],
   "source": [
    "print(cav.initialState)"
   ]
  },
  {
   "cell_type": "code",
   "execution_count": null,
   "metadata": {},
   "outputs": [],
   "source": [
    "#digitalRabi = qProtocol(superSys=JCSys, subSys= [JCunitary, AJCunitary, JCunitary] name='RabiResults')\n",
    "\n",
    "JCunitary = freeEvolution(ratio=0.5, superSys=JCSys)\n",
    "qubset = JCunitary.createUpdate(system=qub, key='frequency', value=0)\n",
    "\n",
    "#AJCunitary = qProtocol()\n",
    "bitFlip = xGate(implementation='instant', superSys=qub)\n",
    "AJC = freeEvolution(superSys=JCSys)\n",
    "\n",
    "#AJCunitary.addStep(bitFlip, AJC, bitFlip)\n",
    "AJCunitary = qProtocol(steps=[bitFlip, AJC, bitFlip])\n",
    "digitalRabi = qProtocol(superSys=JCSys, steps=[JCunitary, AJCunitary, JCunitary], name='DigitalRabi')\n",
    "\n",
    "#digitalRabi.addStep(JCunitary, AJCunitary, JCunitary)"
   ]
  },
  {
   "cell_type": "code",
   "execution_count": null,
   "metadata": {},
   "outputs": [],
   "source": [
    "qSim.addSubSys(JCSys, digitalRabi)"
   ]
  },
  {
   "cell_type": "code",
   "execution_count": null,
   "metadata": {},
   "outputs": [],
   "source": [
    "print(qubset.subSys)"
   ]
  },
  {
   "cell_type": "code",
   "execution_count": null,
   "metadata": {},
   "outputs": [],
   "source": [
    "print(qSim.subSys)"
   ]
  },
  {
   "cell_type": "code",
   "execution_count": null,
   "metadata": {},
   "outputs": [],
   "source": [
    "qubFreqSweep = qSim.Sweep.createSweep(system=qub, sweepKey='frequency', sweepList=np.arange(0, 1+0.5, 0.5))\n",
    "cavFreqSweep = qSim.Sweep.createSweep(system=cav, sweepKey='frequency', multiParam=True)\n",
    "cavFreqSweep.sweepList = np.arange(-4, 4+0.1, 0.1)"
   ]
  },
  {
   "cell_type": "code",
   "execution_count": null,
   "metadata": {},
   "outputs": [],
   "source": [
    "print(qSim.instNames)"
   ]
  },
  {
   "cell_type": "code",
   "execution_count": null,
   "metadata": {},
   "outputs": [],
   "source": [
    "JCSys.name+digitalRabi.name+'Results'"
   ]
  },
  {
   "cell_type": "code",
   "execution_count": null,
   "metadata": {},
   "outputs": [],
   "source": [
    "print(qSim.getResultByName(JCSys.name+digitalRabi.name+'Results') is digitalRabi.qRes)"
   ]
  },
  {
   "cell_type": "code",
   "execution_count": null,
   "metadata": {},
   "outputs": [],
   "source": [
    "print(q)"
   ]
  },
  {
   "cell_type": "code",
   "execution_count": null,
   "metadata": {},
   "outputs": [],
   "source": [
    "cavParity = parityEXP(cav.freeMat)\n",
    "qubPop = qub.freeMat\n",
    "\n",
    "def expectn(qSim, state1):\n",
    "    #digitalRabi.qRes.results['cavParity'].append(expectationKet(cavParity, state1))\n",
    "    qSim.qRes.results['cavParity'].append(expectationKet(cavParity, state1))\n",
    "    #qSim.qRes.allResults['RabiResults'].results['cavParity'].append(expectationKet(cavParity, state1))\n",
    "    qSim.getResultByName('JCSysResults').results['cavParity'].append(expectationKet(cavParity, state1))\n",
    "    #qSim.qRes.qResults[digitalRabi].results['cavParity'].append(expectationKet(cavParity, state1))\n",
    "    #qSim.qRes.results['cavParity2'].append(expectationKet(cavParity, state1))\n",
    "    #qSim.qRes.result = fidelityKet(qSim.qSys.initialState, state1)\n",
    "\n",
    "qSim.compute = expectn"
   ]
  },
  {
   "cell_type": "code",
   "execution_count": null,
   "metadata": {},
   "outputs": [],
   "source": [
    "qSim._freeEvol()\n",
    "for qSys in qSim.subSys.values():\n",
    "    # TODO this will be modified after the structural changes of qSys objects\n",
    "    if isinstance(qSys, QuantumSystem):\n",
    "        # TODO Check first if constructed\n",
    "        qSys.constructCompSys()\n",
    "for protoc in qSim.subSys.keys():\n",
    "    # TODO tihis will be modified after the structural changes of qPro objects\n",
    "    protoc.prepare(qSim)\n",
    "qSim.Sweep.prepare()\n",
    "for qres in qSim.qRes.allResults.values():\n",
    "    qres._reset()"
   ]
  },
  {
   "cell_type": "code",
   "execution_count": null,
   "metadata": {},
   "outputs": [],
   "source": [
    "print(digitalRabi.stepSize)"
   ]
  },
  {
   "cell_type": "code",
   "execution_count": null,
   "metadata": {},
   "outputs": [],
   "source": [
    "qSim.stepSize = 0.01"
   ]
  },
  {
   "cell_type": "code",
   "execution_count": null,
   "metadata": {},
   "outputs": [],
   "source": [
    "print(qub._qSystem__dimsAfter)"
   ]
  },
  {
   "cell_type": "code",
   "execution_count": null,
   "metadata": {},
   "outputs": [],
   "source": [
    "print(qub._genericQSys__initialState)"
   ]
  },
  {
   "cell_type": "code",
   "execution_count": null,
   "metadata": {},
   "outputs": [],
   "source": [
    "qSim._freeEvol()"
   ]
  },
  {
   "cell_type": "code",
   "execution_count": null,
   "metadata": {},
   "outputs": [],
   "source": [
    "print(qSim.subSys)"
   ]
  },
  {
   "cell_type": "code",
   "execution_count": null,
   "metadata": {},
   "outputs": [],
   "source": [
    "print(list(qSim.subSys.keys())[0].superSys)"
   ]
  },
  {
   "cell_type": "code",
   "execution_count": null,
   "metadata": {},
   "outputs": [],
   "source": [
    "list(qSim.subSys.keys())[0].prepare(qSim)"
   ]
  },
  {
   "cell_type": "code",
   "execution_count": null,
   "metadata": {},
   "outputs": [],
   "source": [
    "print(list(qSim.subSys.keys())[0].samples)"
   ]
  },
  {
   "cell_type": "code",
   "execution_count": null,
   "metadata": {
    "tags": [
     "outputPrepend",
     "outputPrepend"
    ]
   },
   "outputs": [],
   "source": [
    "nw = datetime.datetime.now()\n",
    "\n",
    "results = qSim.run(p=True, coreCount='all')\n",
    "\n",
    "en = datetime.datetime.now()\n",
    "print(en-nw)"
   ]
  },
  {
   "cell_type": "code",
   "execution_count": null,
   "metadata": {},
   "outputs": [],
   "source": [
    "print(digitalRabi._timeBase__inBound)"
   ]
  },
  {
   "cell_type": "code",
   "execution_count": null,
   "metadata": {},
   "outputs": [],
   "source": [
    "for key in list(globals().keys()):\n",
    "    if globals()[key] is JCSys:\n",
    "        globals()[key] = 2.0"
   ]
  },
  {
   "cell_type": "code",
   "execution_count": null,
   "metadata": {},
   "outputs": [],
   "source": [
    "print(JCunitary.stepSize)"
   ]
  },
  {
   "cell_type": "code",
   "execution_count": null,
   "metadata": {},
   "outputs": [],
   "source": [
    "print([key for key, value in globals().items() if value is JCSys])"
   ]
  },
  {
   "cell_type": "code",
   "execution_count": null,
   "metadata": {},
   "outputs": [],
   "source": [
    "path, fname = qSim.qRes.saveAll(fileName='trial', path='/Users/cahitkargi/Desktop')"
   ]
  },
  {
   "cell_type": "code",
   "execution_count": null,
   "metadata": {},
   "outputs": [],
   "source": [
    "print(qSim.qRes.states.keys())\n",
    "print(digitalRabi.qRes.states.keys())\n",
    "print(qSim.qRes.states['RabiResults'] is digitalRabi.qRes.states['RabiResults'])"
   ]
  },
  {
   "cell_type": "code",
   "execution_count": null,
   "metadata": {},
   "outputs": [],
   "source": [
    "print(len(qSim.qRes.states['RabiResults']))\n",
    "print(len(digitalRabi.qRes.states['RabiResults']))\n",
    "print(len(qSim.qRes.states['RabiResults'][0]))\n",
    "print(len(digitalRabi.qRes.states['RabiResults'][0]))\n",
    "print(len(qSim.qRes.states['RabiResults'][0][0]))\n",
    "print(len(digitalRabi.qRes.states['RabiResults'][0][0]))"
   ]
  },
  {
   "cell_type": "code",
   "execution_count": null,
   "metadata": {},
   "outputs": [],
   "source": [
    "print(len(qSim.qRes.results['cavParity']))\n",
    "print(len(digitalRabi.qRes.results['cavParity']))"
   ]
  },
  {
   "cell_type": "code",
   "execution_count": null,
   "metadata": {},
   "outputs": [],
   "source": [
    "def plotRes(xList = cavFreqSweep.sweepList):\n",
    "    fig = plt.figure(figsize=(12,9))\n",
    "    setC = [0.88, 0.25, 0.02, 0.6]\n",
    "    \n",
    "    axGrids = ck.Plotting.Functions.grid(2, 3, fig=fig)\n",
    "\n",
    "    ck.Plotting.SimplePlots.colorPlot(xList, [x*qSim.stepSize for x in range(qSim.stepCount+1)], qSim.qRes.results['cavParity'][0],ax=axGrids[0], gif=fig, setC=setC)\n",
    "    ck.Plotting.SimplePlots.colorPlot(xList, [x*qSim.stepSize for x in range(qSim.stepCount+1)], qSim.qRes.results['cavParity'][1],ax=axGrids[1], gif=fig, setC=setC)\n",
    "    ck.Plotting.SimplePlots.colorPlot(xList, [x*qSim.stepSize for x in range(qSim.stepCount+1)], qSim.qRes.results['cavParity'][2],ax=axGrids[2], gif=fig, setC=setC)\n",
    "    '''ck.Plotting.SimplePlots.colorPlot(xList, [x*qSim.stepSize for x in range(qSim.steps+1)], digitalRabi.qRes.results['cavParity'][0],ax=axGrids[3], gif=fig, setC=setC)\n",
    "    ck.Plotting.SimplePlots.colorPlot(xList, [x*qSim.stepSize for x in range(qSim.steps+1)], digitalRabi.qRes.results['cavParity'][1],ax=axGrids[4], gif=fig, setC=setC)\n",
    "    ck.Plotting.SimplePlots.colorPlot(xList, [x*qSim.stepSize for x in range(qSim.steps+1)], digitalRabi.qRes.results['cavParity'][2],ax=axGrids[5], gif=fig, setC=setC)'''\n",
    "    '''ck.Plotting.SimplePlots.colorPlot(xList, [x*qSim.stepSize for x in range(qSim.steps+1)], qSim.qRes.resres['cavParity2'][0],ax=axGrids[2], gif=fig, setC=setC)\n",
    "    ck.Plotting.SimplePlots.colorPlot(xList, [x*qSim.stepSize for x in range(qSim.steps+1)], qSim.qRes.resres['cavParity2'][1],ax=axGrids[3], gif=fig, setC=setC)'''\n",
    "plotRes(cavFreqSweep.sweepList)"
   ]
  },
  {
   "cell_type": "code",
   "execution_count": null,
   "metadata": {},
   "outputs": [],
   "source": [
    "print(qResults._allResults)"
   ]
  },
  {
   "cell_type": "code",
   "execution_count": null,
   "metadata": {},
   "outputs": [],
   "source": [
    "print(digitalRabi.qRes.name)"
   ]
  },
  {
   "cell_type": "code",
   "execution_count": null,
   "metadata": {},
   "outputs": [],
   "source": [
    "qResults._allResults['Simulation1'].superSys = None"
   ]
  },
  {
   "cell_type": "code",
   "execution_count": null,
   "metadata": {},
   "outputs": [],
   "source": [
    "qResults._allResults['Sweep1'].superSys = qub"
   ]
  },
  {
   "cell_type": "code",
   "execution_count": null,
   "metadata": {},
   "outputs": [],
   "source": [
    "print(qResults._allResults)"
   ]
  },
  {
   "cell_type": "code",
   "execution_count": null,
   "metadata": {},
   "outputs": [],
   "source": [
    "print(JCSys._genericQSys__unitary.qRes.name)"
   ]
  },
  {
   "cell_type": "code",
   "execution_count": null,
   "metadata": {},
   "outputs": [],
   "source": [
    "print(hasattr(JCSys, '_paramUpdated'))"
   ]
  },
  {
   "cell_type": "code",
   "execution_count": null,
   "metadata": {},
   "outputs": [],
   "source": [
    "print(JCcoupling.superSys)"
   ]
  },
  {
   "cell_type": "code",
   "execution_count": null,
   "metadata": {},
   "outputs": [],
   "source": []
  }
 ]
}