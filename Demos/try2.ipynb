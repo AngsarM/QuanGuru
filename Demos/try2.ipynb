{
 "nbformat": 4,
 "nbformat_minor": 2,
 "metadata": {
  "language_info": {
   "name": "python",
   "codemirror_mode": {
    "name": "ipython",
    "version": 3
   },
   "version": "3.7.6-final"
  },
  "orig_nbformat": 2,
  "file_extension": ".py",
  "mimetype": "text/x-python",
  "name": "python",
  "npconvert_exporter": "python",
  "pygments_lexer": "ipython3",
  "version": 3,
  "kernelspec": {
   "name": "python3",
   "display_name": "Python 3"
  }
 },
 "cells": [
  {
   "cell_type": "code",
   "execution_count": 1,
   "metadata": {},
   "outputs": [],
   "source": [
    "from qTools import *\n",
    "import Cahit as ck\n",
    "\n",
    "import scipy.sparse as sp\n",
    "\n",
    "import numpy as np\n",
    "\n",
    "from functools import partial\n",
    "from multiprocessing import Pool, cpu_count\n",
    "\n",
    "import matplotlib.pyplot as plt\n",
    "import datetime\n",
    "\n",
    "import copy"
   ]
  },
  {
   "cell_type": "code",
   "execution_count": 2,
   "metadata": {},
   "outputs": [],
   "source": [
    "resonatorDimension = 20\n",
    "g = 1.79\n",
    "qfreq = 2\n",
    "resFreq = 2"
   ]
  },
  {
   "cell_type": "code",
   "execution_count": 3,
   "metadata": {},
   "outputs": [],
   "source": [
    "qSim = Simulation()\n",
    "qSim.finalTime = 1.2\n",
    "qSim.stepSize = 0.02\n",
    "qSim.delStates = True"
   ]
  },
  {
   "cell_type": "code",
   "execution_count": 4,
   "metadata": {},
   "outputs": [],
   "source": [
    "JCSys = QuantumSystem(name='JC')"
   ]
  },
  {
   "cell_type": "code",
   "execution_count": 5,
   "metadata": {},
   "outputs": [
    {
     "name": "stdout",
     "output_type": "stream",
     "text": "Cavity requires a dimension\nQubit requires a dimension\n"
    }
   ],
   "source": [
    "cav = Cavity(dimension=resonatorDimension, frequency=resFreq)\n",
    "JCSys.addSubSys(cav)\n",
    "\n",
    "qub = JCSys.createSubSys(Qubit)\n",
    "qub.frequency = qfreq"
   ]
  },
  {
   "cell_type": "code",
   "execution_count": 6,
   "metadata": {},
   "outputs": [],
   "source": [
    "JCcoupling = JCSys.JC(cav, qub, g)\n",
    "\n",
    "JCSys.initialState = [0,0]"
   ]
  },
  {
   "cell_type": "code",
   "execution_count": 7,
   "metadata": {},
   "outputs": [],
   "source": [
    "digitalRabi = qProtocol(superSys=JCSys, name='RabiResults')\n",
    "JCunitary = freeEvolution(ratio=0.5, superSys=JCSys)\n",
    "bitFlip = xGate(implementation='instant', superSys=qub, fixed=True)\n",
    "AJC = freeEvolution(superSys=JCSys)\n",
    "qubset = JCunitary.createUpdate(system=qub, key='frequency', value=0)\n",
    "digitalRabi.addStep(JCunitary, bitFlip, AJC, bitFlip, JCunitary)"
   ]
  },
  {
   "cell_type": "code",
   "execution_count": 8,
   "metadata": {},
   "outputs": [
    {
     "data": {
      "text/plain": "(<qTools.classes.QSys.QuantumSystem at 0x104e217d0>,\n <qTools.classes.QPro.qProtocol at 0xa165eaaa0>)"
     },
     "execution_count": 8,
     "metadata": {},
     "output_type": "execute_result"
    }
   ],
   "source": [
    "qSim.addQSystems(JCSys, digitalRabi)"
   ]
  },
  {
   "cell_type": "code",
   "execution_count": 9,
   "metadata": {},
   "outputs": [],
   "source": [
    "qubFreqSweep = qSim.Sweep.createSweep(system=qub, sweepKey='frequency', sweepList=np.arange(0, 1+0.5, 0.5))\n",
    "cavFreqSweep = qSim.Sweep.createSweep(system=cav, sweepKey='frequency', multiParam=True)\n",
    "cavFreqSweep.sweepList = np.arange(-4, 4+0.1, 0.1)"
   ]
  },
  {
   "cell_type": "code",
   "execution_count": 10,
   "metadata": {},
   "outputs": [],
   "source": [
    "cavParity = parityEXP(cav.freeMat)\n",
    "qubPop = qub.freeMat\n",
    "\n",
    "def expectn(qSim, state1):\n",
    "    #digitalRabi.qRes.results['cavParity'].append(expectationKet(cavParity, state1))\n",
    "    qSim.qRes.results['cavParity'].append(expectationKet(cavParity, state1))\n",
    "    qSim.qRes.allResults['RabiResults'].results['cavParity'].append(expectationKet(cavParity, state1))\n",
    "    #qSim.qRes.qResults[digitalRabi].results['cavParity'].append(expectationKet(cavParity, state1))\n",
    "    #qSim.qRes.results['cavParity2'].append(expectationKet(cavParity, state1))\n",
    "    #qSim.qRes.result = fidelityKet(qSim.qSys.initialState, state1)\n",
    "\n",
    "qSim.compute = expectn"
   ]
  },
  {
   "cell_type": "code",
   "execution_count": 11,
   "metadata": {},
   "outputs": [
    {
     "name": "stdout",
     "output_type": "stream",
     "text": "here2\n0:00:07.308726\n"
    }
   ],
   "source": [
    "nw = datetime.datetime.now()\n",
    "\n",
    "results = qSim.run(p=True, coreCount='all')\n",
    "\n",
    "en = datetime.datetime.now()\n",
    "print(en-nw)"
   ]
  },
  {
   "cell_type": "code",
   "execution_count": 12,
   "metadata": {},
   "outputs": [
    {
     "name": "stdout",
     "output_type": "stream",
     "text": "/Users/cahitkargi/Desktop\n"
    }
   ],
   "source": [
    "path, fname = qSim.qRes.saveAll(fileName='trial', path='/Users/cahitkargi/Desktop')"
   ]
  },
  {
   "cell_type": "code",
   "execution_count": null,
   "metadata": {},
   "outputs": [],
   "source": [
    "def plotRes(xList = cavFreqSweep.sweepList):\n",
    "    fig = plt.figure(figsize=(12,9))\n",
    "    setC = [0.88, 0.25, 0.02, 0.6]\n",
    "    axGrids = ck.Plotting.Functions.grid(2, 2, fig=fig)\n",
    "\n",
    "    ck.Plotting.SimplePlots.colorPlot(xList, [x*qSim.stepSize for x in range(qSim.steps+1)], qSim.qRes.results['cavParity'][0],ax=axGrids[0], gif=fig, setC=setC)\n",
    "    ck.Plotting.SimplePlots.colorPlot(xList, [x*qSim.stepSize for x in range(qSim.steps+1)], qSim.qRes.results['cavParity'][1],ax=axGrids[1], gif=fig, setC=setC)\n",
    "    '''ck.Plotting.SimplePlots.colorPlot(xList, [x*qSim.stepSize for x in range(qSim.steps+1)], qSim.qRes.resres['cavParity2'][0],ax=axGrids[2], gif=fig, setC=setC)\n",
    "    ck.Plotting.SimplePlots.colorPlot(xList, [x*qSim.stepSize for x in range(qSim.steps+1)], qSim.qRes.resres['cavParity2'][1],ax=axGrids[3], gif=fig, setC=setC)'''\n",
    "plotRes(cavFreqSweep.sweepList)"
   ]
  },
  {
   "cell_type": "code",
   "execution_count": null,
   "metadata": {},
   "outputs": [],
   "source": []
  }
 ]
}