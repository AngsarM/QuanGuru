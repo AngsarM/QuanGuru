{
 "cells": [
  {
   "cell_type": "code",
   "execution_count": 1,
   "metadata": {},
   "outputs": [],
   "source": [
    "from qTools import *\n",
    "settings.trueVals = True\n",
    "import Cahit as ck\n",
    "\n",
    "import scipy.sparse as sp\n",
    "\n",
    "import numpy as np\n",
    "\n",
    "from functools import partial\n",
    "from multiprocessing import Pool, cpu_count\n",
    "\n",
    "import matplotlib.pyplot as plt\n",
    "import datetime\n",
    "\n",
    "import copy"
   ]
  },
  {
   "cell_type": "code",
   "execution_count": null,
   "metadata": {},
   "outputs": [],
   "source": [
    "print(units.hbar)"
   ]
  },
  {
   "cell_type": "code",
   "execution_count": null,
   "metadata": {},
   "outputs": [],
   "source": [
    "import qTools\n",
    "for it in dir(qTools):\n",
    "    print(it)"
   ]
  },
  {
   "cell_type": "code",
   "execution_count": 2,
   "metadata": {},
   "outputs": [],
   "source": [
    "resonatorDimension = 20\n",
    "g = 1.79\n",
    "qfreq = 0\n",
    "resFreq = 2"
   ]
  },
  {
   "cell_type": "code",
   "execution_count": 3,
   "metadata": {},
   "outputs": [],
   "source": [
    "qSim = Simulation()\n",
    "qSim.finalTime = 1.2\n",
    "qSim.stepSize = 0.02\n",
    "qSim.delStates = True"
   ]
  },
  {
   "cell_type": "code",
   "execution_count": 4,
   "metadata": {},
   "outputs": [],
   "source": [
    "JCSys = QuantumSystem(name='JCSys')"
   ]
  },
  {
   "cell_type": "code",
   "execution_count": null,
   "metadata": {},
   "outputs": [],
   "source": [
    "JCSys._genericQSys__unitary"
   ]
  },
  {
   "cell_type": "code",
   "execution_count": 5,
   "metadata": {},
   "outputs": [
    {
     "output_type": "stream",
     "name": "stdout",
     "text": "Cavity requires a dimension\nQubit requires a dimension\n"
    }
   ],
   "source": [
    "cav = Cavity(dimension=resonatorDimension, frequency=resFreq)\n",
    "JCSys.addSubSys(cav)\n",
    "\n",
    "qub = JCSys.createSubSys(Qubit)\n",
    "qub.frequency = qfreq"
   ]
  },
  {
   "cell_type": "code",
   "execution_count": null,
   "metadata": {},
   "outputs": [],
   "source": [
    "print(JCSys.)"
   ]
  },
  {
   "cell_type": "code",
   "execution_count": null,
   "metadata": {},
   "outputs": [],
   "source": [
    "print(qSim.save())\n",
    "print(JCSys.save())\n",
    "print(qub.save())"
   ]
  },
  {
   "cell_type": "code",
   "execution_count": null,
   "metadata": {},
   "outputs": [],
   "source": [
    "copyJC = JCSys.copy()"
   ]
  },
  {
   "cell_type": "code",
   "execution_count": null,
   "metadata": {},
   "outputs": [],
   "source": [
    "print(copyJC.subSys['Cavity2'].dimension)"
   ]
  },
  {
   "cell_type": "code",
   "execution_count": null,
   "metadata": {},
   "outputs": [],
   "source": [
    "copyQub = qub.copy()\n",
    "copyCav = cav.copy()"
   ]
  },
  {
   "cell_type": "code",
   "execution_count": null,
   "metadata": {},
   "outputs": [],
   "source": [
    "print(copyQub.name)\n",
    "print(copyCav.name)\n",
    "print(copyCav.dimension)"
   ]
  },
  {
   "cell_type": "code",
   "execution_count": null,
   "metadata": {},
   "outputs": [],
   "source": [
    "qub2 = qub.__class__(dimension=2, frequency=2)"
   ]
  },
  {
   "cell_type": "code",
   "execution_count": null,
   "metadata": {},
   "outputs": [],
   "source": [
    "qub2.frequency"
   ]
  },
  {
   "cell_type": "code",
   "execution_count": null,
   "metadata": {},
   "outputs": [],
   "source": [
    "print(list(JCSys.qSystems.values())[0].initialState)"
   ]
  },
  {
   "cell_type": "code",
   "execution_count": 6,
   "metadata": {},
   "outputs": [],
   "source": [
    "JCcoupling = JCSys.JC(cav, qub, g)\n",
    "\n",
    "#JCSys.initialState = [0,0]\n",
    "cav.initialState = 0\n",
    "qub.initialState = basis(2,0)"
   ]
  },
  {
   "cell_type": "code",
   "execution_count": null,
   "metadata": {},
   "outputs": [],
   "source": [
    "print(cav.ind)"
   ]
  },
  {
   "cell_type": "code",
   "execution_count": null,
   "metadata": {},
   "outputs": [],
   "source": [
    "print(len(JCSys.subSys))"
   ]
  },
  {
   "cell_type": "code",
   "execution_count": 7,
   "metadata": {},
   "outputs": [],
   "source": [
    "#digitalRabi = qProtocol(superSys=JCSys, subSys= [JCunitary, AJCunitary, JCunitary] name='RabiResults')\n",
    "\n",
    "JCunitary = freeEvolution(ratio=0.5, superSys=JCSys)\n",
    "#qubset = JCunitary.createUpdate(system=qub, key='frequency', value=0)\n",
    "\n",
    "#AJCunitary = qProtocol()\n",
    "bitFlip = xGate(implementation='instant', superSys=qub)\n",
    "#AJC = freeEvolution(superSys=JCSys)\n",
    "\n",
    "#AJCunitary.addStep(bitFlip, AJC, bitFlip)\n",
    "#AJCunitary = qProtocol(steps=[bitFlip, AJC, bitFlip])\n",
    "#AJCunitary = qProtocol(steps=[bitFlip, JCunitary, JCunitary, bitFlip])\n",
    "digitalRabi = qProtocol(superSys=JCSys, steps=[JCunitary, bitFlip, JCunitary, JCunitary, bitFlip, JCunitary], name='DigitalRabi')\n",
    "\n",
    "#digitalRabi.addStep(JCunitary, AJCunitary, JCunitary)"
   ]
  },
  {
   "cell_type": "code",
   "execution_count": 8,
   "metadata": {},
   "outputs": [
    {
     "output_type": "execute_result",
     "data": {
      "text/plain": "<qTools.classes.QSys.QuantumSystem at 0xa1f7937d0>"
     },
     "metadata": {},
     "execution_count": 8
    }
   ],
   "source": [
    "qSim.addSubSys(JCSys, digitalRabi)"
   ]
  },
  {
   "cell_type": "code",
   "execution_count": null,
   "metadata": {},
   "outputs": [],
   "source": [
    "cav.dimension = 100"
   ]
  },
  {
   "cell_type": "code",
   "execution_count": null,
   "metadata": {},
   "outputs": [],
   "source": [
    "print(JCSys.initialState.shape)\n",
    "print(cav.initialState.shape)"
   ]
  },
  {
   "cell_type": "code",
   "execution_count": null,
   "metadata": {},
   "outputs": [],
   "source": [
    "qSim._freeEvol()\n",
    "for qSys in qSim.subSys.values():\n",
    "    # TODO this will be modified after the structural changes of qSys objects\n",
    "    if isinstance(qSys, QuantumSystem):\n",
    "        # TODO Check first if constructed\n",
    "        qSys.constructCompSys()\n",
    "for protoc in qSim.subSys.keys():\n",
    "    # TODO tihis will be modified after the structural changes of qPro objects\n",
    "    protoc.prepare(qSim)\n",
    "qSim.Sweep.prepare()"
   ]
  },
  {
   "cell_type": "code",
   "execution_count": null,
   "metadata": {},
   "outputs": [],
   "source": [
    "print()"
   ]
  },
  {
   "cell_type": "code",
   "execution_count": 9,
   "metadata": {},
   "outputs": [],
   "source": [
    "qubFreqSweep = qSim.Sweep.createSweep(system=qub, sweepKey='frequency', sweepList=np.arange(0, 1+0.5, 0.5))\n",
    "cavFreqSweep = qSim.Sweep.createSweep(system=cav, sweepKey='frequency', multiParam=True)\n",
    "cavFreqSweep.sweepList = np.arange(-4, 4+0.1, 0.1)"
   ]
  },
  {
   "cell_type": "code",
   "execution_count": null,
   "metadata": {},
   "outputs": [],
   "source": [
    "print(qSim.instNames)"
   ]
  },
  {
   "cell_type": "code",
   "execution_count": null,
   "metadata": {},
   "outputs": [],
   "source": [
    "JCSys.name+digitalRabi.name+'Results'"
   ]
  },
  {
   "cell_type": "code",
   "execution_count": null,
   "metadata": {},
   "outputs": [],
   "source": [
    "print(qSim.getResultByName(JCSys.name+digitalRabi.name+'Results') is digitalRabi.qRes)"
   ]
  },
  {
   "cell_type": "code",
   "execution_count": null,
   "metadata": {},
   "outputs": [],
   "source": [
    "print(q)"
   ]
  },
  {
   "cell_type": "code",
   "execution_count": 10,
   "metadata": {},
   "outputs": [],
   "source": [
    "cavParity = parityEXP(cav.freeMat)\n",
    "qubPop = qub.freeMat\n",
    "\n",
    "'''def calcTry(qSim, qSystems, qEvols):\n",
    "    qSim.qRes.calculated = ['try', 1]\n",
    "\n",
    "qSim.calculate = calcTry\n",
    "\n",
    "def calcTrySweep(sweep, qSystems, qEvols):\n",
    "    sweep.qRes.calculated = ['try', qSim.qSystems[0].subSys['Cavity1'].frequency]\n",
    "\n",
    "qSim.Sweep.calculate = calcTrySweep'''\n",
    "\n",
    "def expectn(qSim, state1):\n",
    "    '''print(qSim.qRes.calculated['try'])\n",
    "    print(qSim.Sweep.qRes.calculated['try'])'''\n",
    "    \n",
    "\n",
    "    #digitalRabi.qRes.results['cavParity'].append(expectationKet(cavParity, state1))\n",
    "    qSim.qRes.results['cavParity'].append(expectationKet(cavParity, state1))\n",
    "    #qSim.qRes.allResults['RabiResults'].results['cavParity'].append(expectationKet(cavParity, state1))\n",
    "    qSim.getResultByName('JCSysResults').results['cavParity'].append(expectationKet(cavParity, state1))\n",
    "    #qSim.qRes.qResults[digitalRabi].results['cavParity'].append(expectationKet(cavParity, state1))\n",
    "    #qSim.qRes.results['cavParity2'].append(expectationKet(cavParity, state1))\n",
    "    #qSim.qRes.result = fidelityKet(qSim.qSys.initialState, state1)\n",
    "\n",
    "qSim.compute = expectn"
   ]
  },
  {
   "cell_type": "code",
   "execution_count": null,
   "metadata": {},
   "outputs": [],
   "source": [
    "saveDict = qSim.save()\n",
    "for k,v in saveDict.items():\n",
    "    print(k,v)\n",
    "    '''if k is 'qSystems':\n",
    "        for key, val in v.items():\n",
    "            print(key, val)'''"
   ]
  },
  {
   "cell_type": "code",
   "execution_count": null,
   "metadata": {},
   "outputs": [],
   "source": [
    "qSim._freeEvol()\n",
    "for qSys in qSim.subSys.values():\n",
    "    # TODO this will be modified after the structural changes of qSys objects\n",
    "    if isinstance(qSys, QuantumSystem):\n",
    "        # TODO Check first if constructed\n",
    "        qSys.constructCompSys()\n",
    "for protoc in qSim.subSys.keys():\n",
    "    # TODO tihis will be modified after the structural changes of qPro objects\n",
    "    protoc.prepare(qSim)\n",
    "qSim.Sweep.prepare()\n",
    "for qres in qSim.qRes.allResults.values():\n",
    "    qres._reset()"
   ]
  },
  {
   "cell_type": "code",
   "execution_count": null,
   "metadata": {},
   "outputs": [],
   "source": [
    "print(digitalRabi.stepSize)"
   ]
  },
  {
   "cell_type": "code",
   "execution_count": null,
   "metadata": {},
   "outputs": [],
   "source": [
    "qSim.stepSize = 0.01"
   ]
  },
  {
   "cell_type": "code",
   "execution_count": null,
   "metadata": {},
   "outputs": [],
   "source": [
    "print(qub._qSystem__dimsAfter)"
   ]
  },
  {
   "cell_type": "code",
   "execution_count": null,
   "metadata": {},
   "outputs": [],
   "source": [
    "print(qub._qBase__initialState)"
   ]
  },
  {
   "cell_type": "code",
   "execution_count": null,
   "metadata": {},
   "outputs": [],
   "source": [
    "qSim._freeEvol()"
   ]
  },
  {
   "cell_type": "code",
   "execution_count": null,
   "metadata": {},
   "outputs": [],
   "source": [
    "print(qSim.subSys)"
   ]
  },
  {
   "cell_type": "code",
   "execution_count": null,
   "metadata": {},
   "outputs": [],
   "source": [
    "print(list(qSim.subSys.keys())[0].superSys)"
   ]
  },
  {
   "cell_type": "code",
   "execution_count": null,
   "metadata": {},
   "outputs": [],
   "source": [
    "list(qSim.subSys.keys())[0].prepare(qSim)"
   ]
  },
  {
   "cell_type": "code",
   "execution_count": null,
   "metadata": {},
   "outputs": [],
   "source": [
    "print(list(qSim.subSys.keys())[0].samples)"
   ]
  },
  {
   "cell_type": "code",
   "execution_count": 11,
   "metadata": {
    "tags": [
     "outputPrepend",
     "outputPrepend",
     "outputPrepend",
     "outputPrepend",
     "outputPrepend",
     "outputPrepend",
     "outputPrepend",
     "outputPrepend",
     "outputPrepend",
     "outputPrepend",
     "outputPrepend",
     "outputPrepend",
     "outputPrepend",
     "outputPrepend",
     "outputPrepend",
     "outputPrepend",
     "outputPrepend",
     "outputPrepend",
     "outputPrepend",
     "outputPrepend",
     "outputPrepend",
     "outputPrepend",
     "outputPrepend",
     "outputPrepend",
     "outputPrepend",
     "outputPrepend",
     "outputPrepend",
     "outputPrepend",
     "outputPrepend",
     "outputPrepend",
     "outputPrepend",
     "outputPrepend",
     "outputPrepend",
     "outputPrepend",
     "outputPrepend",
     "outputPrepend",
     "outputPrepend",
     "outputPrepend",
     "outputPrepend",
     "outputPrepend",
     "outputPrepend",
     "outputPrepend",
     "outputPrepend",
     "outputPrepend",
     "outputPrepend",
     "outputPrepend",
     "outputPrepend",
     "outputPrepend",
     "outputPrepend",
     "outputPrepend",
     "outputPrepend",
     "outputPrepend",
     "outputPrepend"
    ]
   },
   "outputs": [
    {
     "output_type": "stream",
     "name": "stdout",
     "text": "0.0 -4.0\n0.0 -3.9\n0.0 -3.5999999999999996\n0.0 -3.8\n0.0 -3.6999999999999997\n0.0 -3.4999999999999996\nhere\nhere\nhere\nhere\nhere\n0.0 -3.3999999999999995\nhere\nhere\nhere\nhere\nhere\nhere\nhere\nhere\nhere\n0.0 -3.2999999999999994\nhere\n0.0 -3.1999999999999993\nhere\n0.0 -3.099999999999999\n0.0 -2.999999999999999\n0.0 -2.899999999999999\nhere\nhere\nhere\n0.0 -2.799999999999999\nhere\n0.0 -2.699999999999999\nhere\nhere\nhere\nhere\nhere\nhere\nhere\nhere\n0.0 -2.5999999999999988\n0.0 -2.4999999999999987\nhere\nhere\n0.0 -2.3999999999999986\nhere\n0.0 -2.2999999999999985\nhere\n0.0 -2.1999999999999984\nhere\n0.0 -1.9999999999999982\nhere\n0.0 -2.0999999999999983\nhere\nhere\nhere\nhere\nhere\nhere\nhere\nhere\n0.0 -1.8999999999999981\nhere\n0.0 -1.799999999999998\nhere\n0.0 -1.699999999999998\nhere\n0.0 -1.4999999999999978\n0.0 -1.5999999999999979\nhere\nhere\n0.0 -1.3999999999999977\nhere\n0.0 -1.2999999999999976\nhere\nhere\nhere\nhere\nhere\nhere\nhere\nhere\n0.0 -1.1999999999999975\nhere\n0.0 -1.0999999999999974\n0.0 -0.9999999999999973\nhere\nhere\n0.0 -0.8999999999999972\n0.0 -0.7999999999999972\nhere\nhere\n0.0 -0.6999999999999971\n0.0 -0.599999999999997\nhere\nhere\nhere\nhere\nhere\nhere\nhere\nhere\nhere\n0.0 -0.4999999999999969\nhere\n0.0 -0.3999999999999968\nhere\n0.0 -0.2999999999999967\nhere\n0.0 -0.19999999999999662\n0.0 -0.09999999999999654\nhere\nhere\n0.0 0.1000000000000032\nhere\n0.0 3.552713678800501e-15\nhere\nhere\nhere\nhere\nhere\nhere\nhere\nhere\n0.0 0.20000000000000373\nhere\n0.0 0.30000000000000426\nhere\n0.0 0.4000000000000039\nhere\n0.0 0.5000000000000036\nhere\nhere\n0.0 0.7000000000000046\n0.0 0.6000000000000041\nhere\nhere\nhere\n0.0 0.8000000000000043\nhere\nhere\nhere\nhere\nhere\nhere\n0.0 0.9000000000000039\nhere\n0.0 1.0000000000000044\nhere\n0.0 1.100000000000005\nhere\n0.0 1.2000000000000046\nhere\nhere\n0.0 1.3000000000000043\n0.0 1.4000000000000048\nhere\n0.0 1.5000000000000053\nhere\nhere\nhere\nhere\nhere\nhere\nhere\nhere\n0.0 1.600000000000005\nhere\n0.0 1.7000000000000046\nhere\n0.0 1.8000000000000052\nhere\n0.0 1.9000000000000057\nhere\n0.0 2.0000000000000053\nhere\nhere\nhere\n0.0 2.100000000000005\nhere\n0.0 2.2000000000000055\nhere\nhere\nhere\nhere\nhere\nhere\n0.0 2.300000000000006\nhere\n0.0 2.5000000000000053\nhere\n0.0 2.4000000000000057\nhere\n0.0 2.600000000000006\nhere\n0.0 2.7000000000000064\nhere\n0.0 2.800000000000006\nhere\nhere\nhere\nhere\nhere\n0.0 2.9000000000000057\nhere\nhere\nhere\nhere\n0.0 3.000000000000006\nhere\n0.0 3.1000000000000068\nhere\n0.0 3.2000000000000064\nhere\n0.0 3.300000000000006\nhere\n0.0 3.4000000000000066\nhere\nhere\n0.0 3.500000000000007\nhere\nhere\n0.0 3.6000000000000068\nhere\nhere\nhere\nhere\nhere\nhere\n0.0 3.7000000000000064\nhere\n0.0 3.800000000000007\nhere\n0.0 3.9000000000000075\n0.0 4.000000000000007\nhere\nhere\n0.5 -4.0\nhere\nhere\n0.5 -3.9\nhere\n0.5 -3.8\nhere\nhere\nhere\nhere\nhere\nhere\nhere\n0.5 -3.6999999999999997\nhere\n0.5 -3.5999999999999996\nhere\n0.5 -3.4999999999999996\n0.5 -3.3999999999999995\nhere\nhere\nhere\n0.5 -3.2999999999999994\n0.5 -3.1999999999999993\n0.5 -3.099999999999999\nhere\nhere\nhere\nhere\nhere\nhere\nhere\nhere\nhere\n0.5 -2.999999999999999\nhere\n0.5 -2.899999999999999\nhere\n0.5 -2.799999999999999\nhere\n0.5 -2.699999999999999\nhere\nhere\n0.5 -2.5999999999999988\nhere\n0.5 -2.4999999999999987\n0.5 -2.3999999999999986\nhere\nhere\nhere\nhere\nhere\nhere\nhere\nhere\n0.5 -2.2999999999999985\nhere\n0.5 -2.1999999999999984\nhere\n0.5 -2.0999999999999983\nhere\n0.5 -1.9999999999999982\nhere\nhere\n0.5 -1.8999999999999981\nhere\nhere\n0.5 -1.699999999999998\nhere\n0.5 -1.799999999999998\nhere\nhere\nhere\nhere\nhere\nhere\n0.5 -1.5999999999999979\nhere\n0.5 -1.4999999999999978\nhere\n0.5 -1.3999999999999977\nhere\n0.5 -1.2999999999999976\nhere\nhere\nhere\n0.5 -1.1999999999999975\nhere\n0.5 -1.0999999999999974\nhere\n0.5 -0.9999999999999973\nhere\nhere\nhere\nhere\nhere\nhere\n0.5 -0.8999999999999972\nhere\n0.5 -0.7999999999999972\nhere\n0.5 -0.6999999999999971\nhere\nhere\n0.5 -0.599999999999997\nhere\nhere\n0.5 -0.4999999999999969\n0.5 -0.2999999999999967\n0.5 -0.3999999999999968\nhere\nhere\nhere\nhere\nhere\nhere\nhere\nhere\n0.5 -0.19999999999999662\nhere\n0.5 -0.09999999999999654\nhere\n0.5 3.552713678800501e-15\nhere\nhere\n0.5 0.1000000000000032\nhere\nhere\nhere\n0.5 0.20000000000000373\nhere\n0.5 0.30000000000000426\nhere\n0.5 0.4000000000000039\nhere\nhere\nhere\nhere\nhere\n0.5 0.6000000000000041\n0.5 0.5000000000000036\nhere\nhere\n0.5 0.7000000000000046\nhere\nhere\n0.5 0.8000000000000043\nhere\nhere\n0.5 0.9000000000000039\nhere\n0.5 1.0000000000000044\nhere\nhere\nhere\n0.5 1.100000000000005\nhere\nhere\nhere\nhere\n0.5 1.2000000000000046\nhere\n0.5 1.3000000000000043\nhere\n0.5 1.4000000000000048\nhere\nhere\n0.5 1.5000000000000053\nhere\n0.5 1.600000000000005\nhere\nhere\n0.5 1.7000000000000046\nhere\nhere\n0.5 1.8000000000000052\nhere\nhere\nhere\nhere\nhere\n0.5 1.9000000000000057\nhere\n0.5 2.0000000000000053\n0.5 2.100000000000005\nhere\nhere\n0.5 2.2000000000000055\nhere\nhere\nhere\n0.5 2.300000000000006\nhere\n0.5 2.4000000000000057\nhere\nhere\n0.5 2.5000000000000053\nhere\nhere\nhere\nhere\nhere\n0.5 2.600000000000006\nhere\n0.5 2.7000000000000064\n0.5 2.800000000000006\nhere\nhere\nhere\n0.5 2.9000000000000057\nhere\n0.5 3.000000000000006\nhere\nhere\n0.5 3.1000000000000068\nhere\nhere\n0.5 3.2000000000000064\nhere\nhere\nhere\nhere\nhere\n0.5 3.300000000000006\nhere\n0.5 3.4000000000000066\nhere\n0.5 3.500000000000007\nhere\nhere\n0.5 3.6000000000000068\nhere\n0.5 3.7000000000000064\nhere\n0.5 3.800000000000007\nhere\nhere\n0.5 3.9000000000000075\nhere\nhere\nhere\nhere\nhere\nhere\n0.5 4.000000000000007\nhere\n1.0 -4.0\nhere\n1.0 -3.9\nhere\n1.0 -3.8\nhere\nhere\n1.0 -3.6999999999999997\nhere\nhere\n1.0 -3.5999999999999996\nhere\n1.0 -3.4999999999999996\nhere\nhere\nhere\nhere\nhere\nhere\n1.0 -3.3999999999999995\nhere\n1.0 -3.2999999999999994\nhere\n1.0 -3.1999999999999993\nhere\nhere\n1.0 -3.099999999999999\nhere\n1.0 -2.999999999999999\nhere\nhere\n1.0 -2.799999999999999\n1.0 -2.899999999999999\nhere\nhere\nhere\nhere\nhere\nhere\nhere\n1.0 -2.699999999999999\nhere\n1.0 -2.5999999999999988\nhere\n1.0 -2.4999999999999987\nhere\nhere\n1.0 -2.3999999999999986\nhere\n1.0 -2.2999999999999985\nhere\nhere\nhere\n1.0 -2.1999999999999984\n1.0 -2.0999999999999983\nhere\nhere\nhere\nhere\nhere\nhere\n1.0 -1.9999999999999982\nhere\n1.0 -1.8999999999999981\n1.0 -1.799999999999998\nhere\nhere\nhere\n1.0 -1.699999999999998\nhere\n1.0 -1.5999999999999979\nhere\nhere\nhere\n1.0 -1.4999999999999978\n1.0 -1.3999999999999977\nhere\nhere\nhere\nhere\nhere\nhere\n1.0 -1.2999999999999976\nhere\n1.0 -1.1999999999999975\nhere\n1.0 -1.0999999999999974\nhere\n1.0 -0.9999999999999973\nhere\nhere\n1.0 -0.8999999999999972\nhere\nhere\nhere\n1.0 -0.7999999999999972\nhere\n1.0 -0.6999999999999971\nhere\nhere\nhere\nhere\nhere\n1.0 -0.599999999999997\nhere\n1.0 -0.4999999999999969\nhere\n1.0 -0.3999999999999968\nhere\n1.0 -0.2999999999999967\nhere\nhere\n1.0 -0.19999999999999662\nhere\nhere\n1.0 -0.09999999999999654\nhere\nhere\n1.0 3.552713678800501e-15\nhere\nhere\nhere\nhere\nhere\n1.0 0.1000000000000032\nhere\n1.0 0.20000000000000373\nhere\n1.0 0.30000000000000426\nhere\nhere\n1.0 0.4000000000000039\nhere\n1.0 0.5000000000000036\nhere\nhere\n1.0 0.6000000000000041\nhere\nhere\n1.0 0.7000000000000046\nhere\nhere\nhere\nhere\nhere\n1.0 0.8000000000000043\nhere\n1.0 0.9000000000000039\nhere\n1.0 1.0000000000000044\nhere\n1.0 1.100000000000005\nhere\nhere\n1.0 1.2000000000000046\nhere\nhere\n1.0 1.3000000000000043\nhere\nhere\nhere\n1.0 1.4000000000000048\nhere\nhere\nhere\nhere\n1.0 1.5000000000000053\nhere\n1.0 1.600000000000005\nhere\nhere\n1.0 1.7000000000000046\nhere\n1.0 1.8000000000000052\nhere\n1.0 1.9000000000000057\nhere\nhere\nhere\n1.0 2.0000000000000053\n1.0 2.100000000000005\nhere\nhere\nhere\nhere\nhere\nhere\n1.0 2.2000000000000055\nhere\n1.0 2.300000000000006\nhere\n1.0 2.4000000000000057\nhere\nhere\n1.0 2.5000000000000053\nhere\nhere\n1.0 2.600000000000006\nhere\n1.0 2.7000000000000064\nhere\nhere\n1.0 2.800000000000006\nhere\nhere\nhere\nhere\nhere\n1.0 2.9000000000000057\nhere\n1.0 3.000000000000006\nhere\n1.0 3.1000000000000068\nhere\n1.0 3.2000000000000064\nhere\nhere\n1.0 3.300000000000006\nhere\nhere\n1.0 3.4000000000000066\nhere\nhere\nhere\n1.0 3.500000000000007\nhere\nhere\nhere\nhere\n1.0 3.6000000000000068\nhere\n1.0 3.7000000000000064\nhere\n1.0 3.800000000000007\nhere\nhere\n1.0 3.9000000000000075\nhere\nhere\n1.0 4.000000000000007\nhere\nhere\nhere\nhere\n0:00:11.017819\n"
    }
   ],
   "source": [
    "nw = datetime.datetime.now()\n",
    "\n",
    "results = qSim.run(p=True, coreCount='all')\n",
    "\n",
    "en = datetime.datetime.now()\n",
    "print(en-nw)"
   ]
  },
  {
   "cell_type": "code",
   "execution_count": null,
   "metadata": {},
   "outputs": [],
   "source": [
    "print(dir(qSim.qRes))"
   ]
  },
  {
   "cell_type": "code",
   "execution_count": null,
   "metadata": {},
   "outputs": [],
   "source": [
    "print(digitalRabi._timeBase__inBound)"
   ]
  },
  {
   "cell_type": "code",
   "execution_count": null,
   "metadata": {},
   "outputs": [],
   "source": [
    "for key in list(globals().keys()):\n",
    "    if globals()[key] is JCSys:\n",
    "        globals()[key] = 2.0"
   ]
  },
  {
   "cell_type": "code",
   "execution_count": null,
   "metadata": {},
   "outputs": [],
   "source": [
    "print(JCunitary.stepSize)"
   ]
  },
  {
   "cell_type": "code",
   "execution_count": null,
   "metadata": {},
   "outputs": [],
   "source": [
    "print([key for key, value in globals().items() if value is JCSys])"
   ]
  },
  {
   "cell_type": "code",
   "execution_count": null,
   "metadata": {},
   "outputs": [],
   "source": [
    "print(qUniversal.instNames['copyStep1'].save())"
   ]
  },
  {
   "cell_type": "code",
   "execution_count": null,
   "metadata": {
    "tags": [
     "outputPrepend",
     "outputPrepend",
     "outputPrepend",
     "outputPrepend",
     "outputPrepend",
     "outputPrepend",
     "outputPrepend",
     "outputPrepend",
     "outputPrepend",
     "outputPrepend",
     "outputPrepend",
     "outputPrepend",
     "outputPrepend",
     "outputPrepend",
     "outputPrepend"
    ]
   },
   "outputs": [],
   "source": [
    "path, fname = qSim.qRes.saveAll(path='/Users/cahitkargi/Desktop', attributes=qSim.save())"
   ]
  },
  {
   "cell_type": "code",
   "execution_count": null,
   "metadata": {},
   "outputs": [],
   "source": [
    "print(qSim.qRes.states.keys())\n",
    "print(digitalRabi.qRes.states.keys())\n",
    "print(qSim.qRes.states['RabiResults'] is digitalRabi.qRes.states['RabiResults'])"
   ]
  },
  {
   "cell_type": "code",
   "execution_count": null,
   "metadata": {},
   "outputs": [],
   "source": [
    "print(len(qSim.qRes.states['RabiResults']))\n",
    "print(len(digitalRabi.qRes.states['RabiResults']))\n",
    "print(len(qSim.qRes.states['RabiResults'][0]))\n",
    "print(len(digitalRabi.qRes.states['RabiResults'][0]))\n",
    "print(len(qSim.qRes.states['RabiResults'][0][0]))\n",
    "print(len(digitalRabi.qRes.states['RabiResults'][0][0]))"
   ]
  },
  {
   "cell_type": "code",
   "execution_count": null,
   "metadata": {},
   "outputs": [],
   "source": [
    "print(len(qSim.qRes.results['cavParity']))"
   ]
  },
  {
   "cell_type": "code",
   "execution_count": null,
   "metadata": {},
   "outputs": [],
   "source": [
    "def plotRes(xList = cavFreqSweep.sweepList):\n",
    "    fig = plt.figure(figsize=(12,9))\n",
    "    setC = [0.88, 0.25, 0.02, 0.6]\n",
    "    \n",
    "    axGrids = ck.Plotting.Functions.grid(2, 3, fig=fig)\n",
    "\n",
    "    ck.Plotting.SimplePlots.colorPlot(xList, [x*qSim.stepSize for x in range(qSim.stepCount+1)], qSim.qRes.results['cavParity'][0],ax=axGrids[0], gif=fig, setC=setC)\n",
    "    ck.Plotting.SimplePlots.colorPlot(xList, [x*qSim.stepSize for x in range(qSim.stepCount+1)], qSim.qRes.results['cavParity'][1],ax=axGrids[1], gif=fig, setC=setC)\n",
    "    ck.Plotting.SimplePlots.colorPlot(xList, [x*qSim.stepSize for x in range(qSim.stepCount+1)], qSim.qRes.results['cavParity'][2],ax=axGrids[2], gif=fig, setC=setC)\n",
    "    '''ck.Plotting.SimplePlots.colorPlot(xList, [x*qSim.stepSize for x in range(qSim.steps+1)], digitalRabi.qRes.results['cavParity'][0],ax=axGrids[3], gif=fig, setC=setC)\n",
    "    ck.Plotting.SimplePlots.colorPlot(xList, [x*qSim.stepSize for x in range(qSim.steps+1)], digitalRabi.qRes.results['cavParity'][1],ax=axGrids[4], gif=fig, setC=setC)\n",
    "    ck.Plotting.SimplePlots.colorPlot(xList, [x*qSim.stepSize for x in range(qSim.steps+1)], digitalRabi.qRes.results['cavParity'][2],ax=axGrids[5], gif=fig, setC=setC)'''\n",
    "    '''ck.Plotting.SimplePlots.colorPlot(xList, [x*qSim.stepSize for x in range(qSim.steps+1)], qSim.qRes.resres['cavParity2'][0],ax=axGrids[2], gif=fig, setC=setC)\n",
    "    ck.Plotting.SimplePlots.colorPlot(xList, [x*qSim.stepSize for x in range(qSim.steps+1)], qSim.qRes.resres['cavParity2'][1],ax=axGrids[3], gif=fig, setC=setC)'''\n",
    "plotRes(cavFreqSweep.sweepList)"
   ]
  },
  {
   "cell_type": "code",
   "execution_count": null,
   "metadata": {},
   "outputs": [],
   "source": [
    "print(qResults._allResults)"
   ]
  },
  {
   "cell_type": "code",
   "execution_count": null,
   "metadata": {},
   "outputs": [],
   "source": [
    "print(digitalRabi.qRes.name)"
   ]
  },
  {
   "cell_type": "code",
   "execution_count": null,
   "metadata": {},
   "outputs": [],
   "source": [
    "qResults._allResults['Simulation1'].superSys = None"
   ]
  },
  {
   "cell_type": "code",
   "execution_count": null,
   "metadata": {},
   "outputs": [],
   "source": [
    "qResults._allResults['Sweep1'].superSys = qub"
   ]
  },
  {
   "cell_type": "code",
   "execution_count": null,
   "metadata": {},
   "outputs": [],
   "source": [
    "print(qResults._allResults)"
   ]
  },
  {
   "cell_type": "code",
   "execution_count": null,
   "metadata": {},
   "outputs": [],
   "source": [
    "print(JCSys._genericQSys__unitary.qRes.name)"
   ]
  },
  {
   "cell_type": "code",
   "execution_count": null,
   "metadata": {},
   "outputs": [],
   "source": [
    "print(hasattr(JCSys, '_paramUpdated'))"
   ]
  },
  {
   "cell_type": "code",
   "execution_count": null,
   "metadata": {},
   "outputs": [],
   "source": [
    "print(JCcoupling.superSys)"
   ]
  },
  {
   "cell_type": "code",
   "execution_count": null,
   "metadata": {},
   "outputs": [],
   "source": [
    "saveDict = qSim.save()\n",
    "for k,v in saveDict.items():\n",
    "    print(k,v)"
   ]
  },
  {
   "cell_type": "code",
   "execution_count": null,
   "metadata": {},
   "outputs": [],
   "source": []
  }
 ],
 "metadata": {
  "language_info": {
   "name": "python",
   "codemirror_mode": {
    "name": "ipython",
    "version": 3
   },
   "version": "3.7.6-final"
  },
  "orig_nbformat": 2,
  "file_extension": ".py",
  "mimetype": "text/x-python",
  "name": "python",
  "npconvert_exporter": "python",
  "pygments_lexer": "ipython3",
  "version": 3,
  "kernelspec": {
   "name": "python3",
   "display_name": "Python 3"
  }
 },
 "nbformat": 4,
 "nbformat_minor": 2
}