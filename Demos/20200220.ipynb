{
 "nbformat": 4,
 "nbformat_minor": 2,
 "metadata": {
  "language_info": {
   "name": "python",
   "codemirror_mode": {
    "name": "ipython",
    "version": 3
   },
   "version": "3.7.6-final"
  },
  "orig_nbformat": 2,
  "file_extension": ".py",
  "mimetype": "text/x-python",
  "name": "python",
  "npconvert_exporter": "python",
  "pygments_lexer": "ipython3",
  "version": 3,
  "kernelspec": {
   "name": "python3",
   "display_name": "Python 3"
  }
 },
 "cells": [
  {
   "cell_type": "code",
   "execution_count": null,
   "metadata": {},
   "outputs": [],
   "source": [
    "from qTools import *\n",
    "import Cahit as ck\n",
    "\n",
    "import scipy.sparse as sp\n",
    "import numpy as np\n",
    "#\n",
    "from functools import partial\n",
    "from multiprocessing import Pool, cpu_count\n",
    "\n",
    "import matplotlib.pyplot as plt\n",
    "import datetime"
   ]
  },
  {
   "cell_type": "code",
   "execution_count": null,
   "metadata": {},
   "outputs": [],
   "source": [
    "resonatorDimension = 100\n",
    "qfreq = 100\n",
    "resFreq = 1"
   ]
  },
  {
   "cell_type": "code",
   "execution_count": null,
   "metadata": {},
   "outputs": [],
   "source": [
    "Rabi = QuantumSystem()\n",
    "qSim = Simulation()\n",
    "qSim.addSubSys(Rabi)\n",
    "qSim.stepSize = 10e-3"
   ]
  },
  {
   "cell_type": "code",
   "execution_count": null,
   "metadata": {},
   "outputs": [],
   "source": [
    "cav = Cavity(dimension=100, frequency=1)\n",
    "Rabi.addSubSys(cav)\n",
    "\n",
    "qub = Rabi.createSubSys(subClass=Qubit, frequency=100, name='bob')"
   ]
  },
  {
   "cell_type": "code",
   "execution_count": null,
   "metadata": {},
   "outputs": [],
   "source": [
    "RabiCoupling = Rabi.createSysCoupling([qub,cav], [sigmax, create], [sigmax, destroy], couplingStrength=1)"
   ]
  },
  {
   "cell_type": "code",
   "execution_count": null,
   "metadata": {},
   "outputs": [],
   "source": [
    "Rabi.initialState = [0,1]\n",
    "\n",
    "gc = np.sqrt(qfreq*resFreq)/2\n",
    "\n",
    "fLoop = qSim.Sweep.createSweep(system=qub, sweepKey='frequency', sweepList=[10, 20, 30])\n",
    "\n",
    "gSweep = qSim.timeDependency.createSweep(system=RabiCoupling, sweepKey='couplingStrength', name='gVal')\n",
    "\n",
    "def gcList(sw, ind):\n",
    "    # qUniversal one returns the original value in parallel\n",
    "    #freq = qUniversal.instNames['bob'].frequency\n",
    "    qs = sw.superSys.superSys\n",
    "    freq = qs.qSystems.subSys['bob'].frequency\n",
    "    qs.finalTime = 5/freq\n",
    "    sw.subSys['gVal'].sweepList = np.linspace(0.0, 2*(np.sqrt(freq*resFreq)/2), qs.steps)\n",
    "    \n",
    "gAsign = qSim.Sweep.createSweep(system=gSweep, sweepKey='sweepList')\n",
    "gAsign.sweepFunction = gcList\n",
    "\n",
    "qSim.samples = 1"
   ]
  },
  {
   "cell_type": "code",
   "execution_count": null,
   "metadata": {},
   "outputs": [],
   "source": [
    "photonNumber = cav.freeMat\n",
    "qubPop = qub.freeMat\n",
    "\n",
    "def expect(qSim, state):\n",
    "    qSim.qRes.results['PhotonNumber'].append(expectationKet(photonNumber, state))\n",
    "    qSim.qRes.results['Something'].append(expectationKet(qubPop, state))\n",
    "\n",
    "qSim.compute = expect"
   ]
  },
  {
   "cell_type": "code",
   "execution_count": null,
   "metadata": {},
   "outputs": [],
   "source": [
    "nw = datetime.datetime.now()\n",
    "statesDigit = qSim.run(p=True, coreCount='all')\n",
    "en = datetime.datetime.now()\n",
    "print(en-nw)"
   ]
  },
  {
   "cell_type": "code",
   "execution_count": null,
   "metadata": {},
   "outputs": [],
   "source": [
    "print(len(qSim.qRes.results['PhotonNumber']))"
   ]
  },
  {
   "cell_type": "code",
   "execution_count": null,
   "metadata": {},
   "outputs": [],
   "source": [
    "print(qSim.Sweep.inds)"
   ]
  },
  {
   "cell_type": "code",
   "execution_count": null,
   "metadata": {},
   "outputs": [],
   "source": [
    "print((5/10)/10e-3)"
   ]
  },
  {
   "cell_type": "code",
   "execution_count": null,
   "metadata": {},
   "outputs": [],
   "source": [
    "print(len(np.linspace(0.0, 2*(np.sqrt(10)/2), int((5/10)/10e-3))))"
   ]
  },
  {
   "cell_type": "code",
   "execution_count": null,
   "metadata": {},
   "outputs": [],
   "source": [
    "plt.plot(np.linspace(0.0, 2*(np.sqrt(10)/2), int((5/10)//10e-3)+1)/((np.sqrt(10)/2)), qSim.qRes.results['PhotonNumber'][0])\n",
    "plt.plot(np.linspace(0.0, 2*(np.sqrt(20)/2), int((5/20)//10e-3)+1)/((np.sqrt(20)/2)), qSim.qRes.results['PhotonNumber'][1])\n",
    "plt.plot(np.linspace(0.0, 2*(np.sqrt(30)/2), int((5/30)//10e-3)+1)/((np.sqrt(30)/2)), qSim.qRes.results['PhotonNumber'][2])"
   ]
  },
  {
   "cell_type": "code",
   "execution_count": null,
   "metadata": {},
   "outputs": [],
   "source": [
    "plt.plot(np.linspace(0.0, 2*(np.sqrt(10)/2), int((5/10)//10e-3)+1)/((np.sqrt(10)/2)), qSim.qRes.results['Something'][0])\n",
    "plt.plot(np.linspace(0.0, 2*(np.sqrt(20)/2), int((5/20)//10e-3)+1)/((np.sqrt(20)/2)), qSim.qRes.results['Something'][1])\n",
    "plt.plot(np.linspace(0.0, 2*(np.sqrt(30)/2), int((5/30)//10e-3)+1)/((np.sqrt(30)/2)), qSim.qRes.results['Something'][2])"
   ]
  },
  {
   "cell_type": "code",
   "execution_count": null,
   "metadata": {},
   "outputs": [],
   "source": []
  }
 ]
}