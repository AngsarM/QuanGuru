{
 "cells": [
  {
   "cell_type": "code",
   "execution_count": null,
   "metadata": {},
   "outputs": [],
   "source": [
    "import numpy as np\n",
    "import matplotlib.pyplot as plt\n",
    "from multiprocessing import Pool, cpu_count\n",
    "\n",
    "from qTools.classes import *\n",
    "from qTools.QuantumToolbox import *"
   ]
  },
  {
   "cell_type": "markdown",
   "metadata": {},
   "source": [
    "# Define system"
   ]
  },
  {
   "cell_type": "code",
   "execution_count": null,
   "metadata": {},
   "outputs": [],
   "source": [
    "system = QuantumSystem(name = 'TestSystem')\n",
    "qub = Qubit(frequency=0)\n",
    "cav = Cavity(dimension=100, frequency=2)\n",
    "coupling = system.JC(qub, cav, 1.79)\n",
    "system.add(qub, cav)"
   ]
  },
  {
   "cell_type": "markdown",
   "metadata": {},
   "source": [
    "# Define protocol"
   ]
  },
  {
   "cell_type": "code",
   "execution_count": null,
   "metadata": {},
   "outputs": [],
   "source": [
    "tau = 10e-3\n",
    "protocol = Protocol(superSys=system)\n",
    "JC = FreeEvolution(time=tau/2)\n",
    "JC.createUpdate()\n",
    "X = Gate(qub, sigmax)\n",
    "protocol.add(JC, X, JC, JC, X, JC)\n",
    "system.Unitaries = protocol.unitary"
   ]
  },
  {
   "cell_type": "markdown",
   "metadata": {},
   "source": [
    "# Define Simulation/Sweep"
   ]
  },
  {
   "cell_type": "code",
   "execution_count": null,
   "metadata": {},
   "outputs": [],
   "source": [
    "sim = Simulation(qSys=system)\n",
    "system.initialState = [0,0]\n",
    "cavFreqSweep = sim.Loop.addSweep(sys=cav, sweepKey='frequency')\n",
    "cavFreqSweep.sweepList = np.arange(-4, 4+0.05, 0.05)/2\n",
    "sim.steps = 80"
   ]
  },
  {
   "cell_type": "markdown",
   "metadata": {},
   "source": [
    "# Define compute functions"
   ]
  },
  {
   "cell_type": "code",
   "execution_count": null,
   "metadata": {},
   "outputs": [],
   "source": [
    "cavParity = parityEXP(cav.freeMat)\n",
    "def expect(qSys, state):\n",
    "    expect = expectationKet(cavParity, state)\n",
    "    return expect\n",
    "sim.compute = expect"
   ]
  },
  {
   "cell_type": "markdown",
   "metadata": {},
   "source": [
    "# Run Simulation"
   ]
  },
  {
   "cell_type": "code",
   "execution_count": null,
   "metadata": {},
   "outputs": [],
   "source": [
    "p = Pool(processes=cpu_count())\n",
    "statesDigit, parityDigit = sim.run()\n",
    "p.close()\n",
    "p.join()"
   ]
  },
  {
   "cell_type": "code",
   "execution_count": null,
   "metadata": {},
   "outputs": [],
   "source": [
    "surf = plt.pcolormesh(np.transpose(parityDigit))\n",
    "plt.colorbar(surf)\n",
    "plt.show()"
   ]
  },
  {
   "cell_type": "code",
   "execution_count": null,
   "metadata": {},
   "outputs": [],
   "source": [
    "protocol.steps"
   ]
  },
  {
   "cell_type": "code",
   "execution_count": null,
   "metadata": {},
   "outputs": [],
   "source": [
    "print(JC.updates)"
   ]
  },
  {
   "cell_type": "code",
   "execution_count": null,
   "metadata": {},
   "outputs": [],
   "source": []
  }
 ],
 "metadata": {
  "language_info": {
   "name": "python",
   "codemirror_mode": {
    "name": "ipython",
    "version": 3
   },
   "version": "2.7.16-final"
  },
  "orig_nbformat": 2,
  "file_extension": ".py",
  "mimetype": "text/x-python",
  "name": "python",
  "npconvert_exporter": "python",
  "pygments_lexer": "ipython3",
  "version": 3,
  "kernelspec": {
   "name": "python3",
   "display_name": "Python 3"
  }
 },
 "nbformat": 4,
 "nbformat_minor": 2
}