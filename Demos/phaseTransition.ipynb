{
 "nbformat": 4,
 "nbformat_minor": 2,
 "metadata": {
  "language_info": {
   "name": "python",
   "codemirror_mode": {
    "name": "ipython",
    "version": 3
   },
   "version": "3.7.6-final"
  },
  "orig_nbformat": 2,
  "file_extension": ".py",
  "mimetype": "text/x-python",
  "name": "python",
  "npconvert_exporter": "python",
  "pygments_lexer": "ipython3",
  "version": 3,
  "kernelspec": {
   "name": "python3",
   "display_name": "Python 3"
  }
 },
 "cells": [
  {
   "cell_type": "code",
   "execution_count": null,
   "metadata": {},
   "outputs": [],
   "source": [
    "import numpy as np\n",
    "import matplotlib.pyplot as  plt\n",
    "import os\n",
    "\n",
    "from datetime import datetime\n",
    "import h5py\n",
    "\n",
    "# from Tools.plot import plot\n",
    "from multiprocessing import Pool, cpu_count\n",
    "\n",
    "from qTools import *\n"
   ]
  },
  {
   "cell_type": "markdown",
   "execution_count": null,
   "metadata": {},
   "outputs": [],
   "source": [
    "# Define Parameters"
   ]
  },
  {
   "cell_type": "code",
   "execution_count": null,
   "metadata": {},
   "outputs": [],
   "source": [
    "wC = 1.\n",
    "# wQ: sweepable\n",
    "# g: sweepable\n",
    "\n",
    "quench = 5/wC\n",
    "tau = 10e-3\n",
    "\n",
    "steps = int(quench/tau)\n",
    "print(steps)"
   ]
  },
  {
   "cell_type": "markdown",
   "execution_count": null,
   "metadata": {},
   "outputs": [],
   "source": [
    "# Define sweep lists"
   ]
  },
  {
   "cell_type": "code",
   "execution_count": null,
   "metadata": {},
   "outputs": [],
   "source": [
    "wQ_wC = np.linspace(10, 50, 20)\n",
    "wQ = wQ_wC * wC\n",
    "\n",
    "g_gc = np.linspace(0, 2, steps)\n",
    "\n",
    "g = []\n",
    "for wQi in wQ:\n",
    "    gc = np.sqrt(wQi*wC)/2\n",
    "    g.append(g_gc*gc)"
   ]
  },
  {
   "cell_type": "markdown",
   "execution_count": null,
   "metadata": {},
   "outputs": [],
   "source": [
    "# Create System"
   ]
  },
  {
   "cell_type": "code",
   "execution_count": null,
   "metadata": {},
   "outputs": [],
   "source": [
    "system = QuantumSystem()\n",
    "qub = Qubit(frequency=0)\n",
    "cav = Cavity(dimension=60, frequency=wC/2)\n",
    "coupling = system.JC(qub, cav, None)\n",
    "system.add(qub, cav)"
   ]
  },
  {
   "cell_type": "markdown",
   "execution_count": null,
   "metadata": {},
   "outputs": [],
   "source": [
    "# Create Protocol"
   ]
  },
  {
   "cell_type": "code",
   "execution_count": null,
   "metadata": {},
   "outputs": [],
   "source": [
    "protocol = qProtocol(superSys=system)\n",
    "JC = freeEvolution(ratio=0.5, superSys=system)\n",
    "AJC = freeEvolution(superSys=system)\n",
    "qubset = JC.createUpdate(system=qub, key='frequency')\n",
    "X = xGate(implementation='instant', superSys=qub, fixed=True)\n",
    "protocol.addStep(JC, X, AJC ,X, JC)"
   ]
  },
  {
   "cell_type": "markdown",
   "execution_count": null,
   "metadata": {},
   "outputs": [],
   "source": [
    "# Define Simulation & Sweeps"
   ]
  },
  {
   "cell_type": "code",
   "execution_count": null,
   "metadata": {},
   "outputs": [],
   "source": [
    "sim = Simulation()\n",
    "sim.stepSize = tau\n",
    "system.initialState = [1,0]\n",
    "sim.delStates = True\n",
    "sim.addQSystems(system, protocol)\n",
    "gSweep = sim.timeDependency.createSweep(system=coupling, sweepKey='couplingStrength')\n",
    "wQSweep = sim.Sweep.createSweep(system=qubset, sweepKey='value', sweepList=wQ)\n",
    "asdasd = sim.Sweep.createSweep(system=gSweep,sweepKey='sweepList',sweepList=g)"
   ]
  },
  {
   "cell_type": "markdown",
   "execution_count": null,
   "metadata": {},
   "outputs": [],
   "source": [
    "# Define results function"
   ]
  },
  {
   "cell_type": "code",
   "execution_count": null,
   "metadata": {},
   "outputs": [],
   "source": [
    "n = cav.freeMat\n",
    "def expect(qSim, state):\n",
    "    qSim.qRes.results['cavParity'].append(expectationKet(n, state))\n",
    "\n",
    "sim.compute = expect"
   ]
  },
  {
   "cell_type": "markdown",
   "execution_count": null,
   "metadata": {},
   "outputs": [],
   "source": [
    "# Run simulation"
   ]
  },
  {
   "cell_type": "code",
   "execution_count": null,
   "metadata": {},
   "outputs": [],
   "source": [
    "sim.run(p=True, coreCount='all')"
   ]
  },
  {
   "cell_type": "markdown",
   "execution_count": null,
   "metadata": {},
   "outputs": [],
   "source": [
    "# Plot"
   ]
  },
  {
   "cell_type": "code",
   "execution_count": null,
   "metadata": {},
   "outputs": [],
   "source": [
    "norm = []\n",
    "ones = np.ones(g_gc.size)\n",
    "for wQi in wQ:\n",
    "    norm.append(ones * cav.frequency/wQi)\n",
    "norm = np.array(norm)\n",
    "    \n",
    "Y, X = np.meshgrid(g_gc, wQ)\n",
    "fig = plt.figure()\n",
    "surf = plt.pcolormesh(Y, X, norm*sim.qRes.results['cavParity'])\n",
    "plt.colorbar(surf)\n",
    "plt.xlabel('g/gc')\n",
    "plt.ylabel(r'omegaQ')\n",
    "plt.title('Scalled photon number')\n",
    "\n",
    "plt.show()"
   ]
  },
  {
   "cell_type": "code",
   "execution_count": null,
   "metadata": {},
   "outputs": [],
   "source": []
  }
 ]
}