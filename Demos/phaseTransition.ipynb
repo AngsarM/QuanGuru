{
 "cells": [
  {
   "cell_type": "code",
   "execution_count": null,
   "metadata": {},
   "outputs": [],
   "source": [
    "import numpy as np\n",
    "import matplotlib.pyplot as  plt\n",
    "import os\n",
    "\n",
    "from datetime import datetime\n",
    "import h5py\n",
    "\n",
    "# from Tools.plot import plot\n",
    "from multiprocessing import Pool, cpu_count\n",
    "\n",
    "from qTools import *"
   ]
  },
  {
   "cell_type": "markdown",
   "metadata": {},
   "source": [
    "# Define Parameters"
   ]
  },
  {
   "cell_type": "code",
   "execution_count": null,
   "metadata": {
    "tags": []
   },
   "outputs": [],
   "source": [
    "wC = 1.\n",
    "# wQ: sweepable\n",
    "# g: sweepable\n",
    "\n",
    "quench = 5/wC\n",
    "tau = 10e-3\n",
    "\n",
    "steps = int(quench/tau)\n",
    "print(steps)"
   ]
  },
  {
   "cell_type": "markdown",
   "metadata": {},
   "source": [
    "# Define sweep lists"
   ]
  },
  {
   "cell_type": "code",
   "execution_count": null,
   "metadata": {},
   "outputs": [],
   "source": [
    "wQ_wC = np.linspace(10, 50, 20)\n",
    "wQ = wQ_wC * wC\n",
    "\n",
    "g_gc = np.linspace(0, 2, steps+1)\n",
    "\n",
    "g = []\n",
    "g_ratio = []\n",
    "for wQi in wQ:\n",
    "    gc = np.sqrt(wQi*wC)/2\n",
    "    g.append(g_gc*gc)\n",
    "    g_ratio.append(gc)"
   ]
  },
  {
   "cell_type": "markdown",
   "metadata": {},
   "source": [
    "# Create System"
   ]
  },
  {
   "cell_type": "code",
   "execution_count": null,
   "metadata": {},
   "outputs": [],
   "source": [
    "qub = Qubit(frequency=0)\n",
    "cav = Cavity(dimension=60, frequency=wC/2)\n",
    "system = qub + cav\n",
    "coupling = system.JC(0)\n",
    "coupling.superSys = system"
   ]
  },
  {
   "cell_type": "markdown",
   "metadata": {},
   "source": [
    "# Create Protocol"
   ]
  },
  {
   "cell_type": "code",
   "execution_count": null,
   "metadata": {},
   "outputs": [],
   "source": [
    "protocol = qProtocol(superSys=system)\n",
    "JC = freeEvolution(ratio=0.5, superSys=system)\n",
    "AJC = freeEvolution(superSys=system)\n",
    "qubset = JC.createUpdate(system=qub, key='frequency', value=0)\n",
    "X = xGate(implementation='instant', superSys=qub)\n",
    "protocol.addStep(JC, X, AJC ,X, JC)"
   ]
  },
  {
   "cell_type": "markdown",
   "metadata": {},
   "source": [
    "# Define Simulation & Sweeps"
   ]
  },
  {
   "cell_type": "code",
   "execution_count": null,
   "metadata": {},
   "outputs": [],
   "source": [
    "qubset.name"
   ]
  },
  {
   "cell_type": "code",
   "execution_count": null,
   "metadata": {},
   "outputs": [],
   "source": [
    "system.simStepSize = tau\n",
    "system.simTotalTime = quench\n",
    "system.simDelStates = True\n",
    "system.initialState = [1,0]\n",
    "\n",
    "system.simulation.addProtocol(protocol=protocol, system=system, protocolRemove=system._freeEvol)\n",
    "\n",
    "\"\"\"def gAtT(coupling, time):\n",
    "    wQi = coupling.getObjByName('Update1').value\n",
    "    gc = np.sqrt(wQi)/2\n",
    "    n = int(time/tau)\n",
    "    return g_gc[n]*gc\"\"\"\n",
    "\n",
    "def gAtT(coupling, time):\n",
    "    n = int(time/tau)\n",
    "    return g_gc[n]*coupling.auxObj.ratio\n",
    "\n",
    "coupling.timeDependency = gAtT\n",
    "\n",
    "wQSweep = system.simulation.Sweep.createSweep(system=qubset, sweepKey='value', sweepList=wQ)\n",
    "system.simulation.Sweep.createSweep(system=qubset.auxObj, sweepKey='ratio', sweepList=g_ratio)"
   ]
  },
  {
   "cell_type": "markdown",
   "metadata": {},
   "source": [
    "# Define results function"
   ]
  },
  {
   "cell_type": "code",
   "execution_count": null,
   "metadata": {},
   "outputs": [],
   "source": [
    "n = cav.freeMat\n",
    "def expect(qSim, state):\n",
    "    qSim.qRes.results['cavParity'].append(expectationKet(n, state))\n",
    "    qSim.qRes.results['g'].append(qSim.getObjByName('JCcoupling').couplingStrength)\n",
    "\n",
    "system.simCompute = expect\n",
    "\n",
    "system.runSimulation(p=True, coreCount='all')"
   ]
  },
  {
   "cell_type": "code",
   "execution_count": null,
   "metadata": {},
   "outputs": [],
   "source": [
    "sim = Simulation()\n",
    "sim.stepSize = tau\n",
    "system.initialState = [1,0]\n",
    "sim.delStates = True\n",
    "sim.addQSystems(system, protocol)\n",
    "gSweep = sim.timeDependency.createSweep(system=coupling, sweepKey='couplingStrength')\n",
    "wQSweep = sim.Sweep.createSweep(system=qubset, sweepKey='value', sweepList=wQ)\n",
    "asdasd = sim.Sweep.createSweep(system=gSweep, sweepKey='sweepList', sweepList=g)"
   ]
  },
  {
   "cell_type": "markdown",
   "metadata": {},
   "source": [
    "# Run simulation"
   ]
  },
  {
   "cell_type": "code",
   "execution_count": null,
   "metadata": {
    "tags": []
   },
   "outputs": [],
   "source": [
    "n = cav.freeMat\n",
    "def expect(qSim, state):\n",
    "    qSim.qRes.results['cavParity'].append(expectationKet(n, state))\n",
    "    qSim.qRes.results['g'].append(qSim.getObjByName('qCoupling1'))\n",
    "\n",
    "sim.compute = expect\n",
    "\n",
    "sim.run(p=True, coreCount='all')"
   ]
  },
  {
   "cell_type": "markdown",
   "metadata": {},
   "source": [
    "# Plot"
   ]
  },
  {
   "cell_type": "code",
   "execution_count": null,
   "metadata": {},
   "outputs": [],
   "source": [
    "norm = []\n",
    "ones = np.ones(g_gc.size)\n",
    "for wQi in wQ:\n",
    "    norm.append(ones * cav.frequency/wQi)\n",
    "norm = np.array(norm)\n",
    "    \n",
    "Y, X = np.meshgrid(g_gc, wQ)\n",
    "fig = plt.figure()\n",
    "surf = plt.pcolormesh(Y, X, norm*system.simulation.qRes.results['cavParity'])\n",
    "plt.colorbar(surf)\n",
    "plt.xlabel('g/gc')\n",
    "plt.ylabel(r'omegaQ')\n",
    "plt.title('Scalled photon number')\n",
    "\n",
    "plt.show()"
   ]
  },
  {
   "cell_type": "code",
   "execution_count": null,
   "metadata": {},
   "outputs": [],
   "source": [
    "g_gc = np.linspace(0, 2, steps+2)"
   ]
  },
  {
   "cell_type": "code",
   "execution_count": null,
   "metadata": {},
   "outputs": [],
   "source": [
    "norm = []\n",
    "ones = np.ones(g_gc.size)\n",
    "for wQi in wQ:\n",
    "    norm.append(ones * cav.frequency/wQi)\n",
    "norm = np.array(norm)\n",
    "    \n",
    "Y, X = np.meshgrid(g_gc, wQ)\n",
    "fig = plt.figure()\n",
    "surf = plt.pcolormesh(Y, X, norm*sim.qRes.results['cavParity'])\n",
    "plt.colorbar(surf)\n",
    "plt.xlabel('g/gc')\n",
    "plt.ylabel(r'omegaQ')\n",
    "plt.title('Scalled photon number')\n",
    "\n",
    "plt.show()"
   ]
  },
  {
   "cell_type": "code",
   "execution_count": null,
   "metadata": {},
   "outputs": [],
   "source": []
  }
 ],
 "metadata": {
  "language_info": {
   "name": "python",
   "codemirror_mode": {
    "name": "ipython",
    "version": 3
   },
   "version": "3.8.3-final"
  },
  "orig_nbformat": 2,
  "file_extension": ".py",
  "mimetype": "text/x-python",
  "name": "python",
  "npconvert_exporter": "python",
  "pygments_lexer": "ipython3",
  "version": 3,
  "kernelspec": {
   "name": "python3",
   "display_name": "Python 3"
  }
 },
 "nbformat": 4,
 "nbformat_minor": 2
}