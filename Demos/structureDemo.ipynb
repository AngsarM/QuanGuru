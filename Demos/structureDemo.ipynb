{
 "cells": [
  {
   "cell_type": "code",
   "execution_count": null,
   "metadata": {},
   "outputs": [],
   "source": [
    "from qTools import *\n",
    "import matplotlib.pyplot as plt"
   ]
  },
  {
   "cell_type": "code",
   "execution_count": null,
   "metadata": {
    "tags": []
   },
   "outputs": [],
   "source": [
    "system = QuantumSystem(dimension=5)\n",
    "system.operator = number\n",
    "system.frequency = 1\n",
    "print(system.totalHam.A)"
   ]
  },
  {
   "cell_type": "code",
   "execution_count": null,
   "metadata": {
    "tags": []
   },
   "outputs": [],
   "source": [
    "print(system.totalHam.A)"
   ]
  },
  {
   "cell_type": "code",
   "execution_count": null,
   "metadata": {
    "tags": []
   },
   "outputs": [],
   "source": [
    "compositeSystem = system + system\n",
    "print(compositeSystem.totalHam.shape)\n",
    "print(compositeSystem.totalHam.A)"
   ]
  },
  {
   "cell_type": "code",
   "execution_count": null,
   "metadata": {
    "tags": []
   },
   "outputs": [],
   "source": [
    "nonLinearTerm = system.addTerm(operator=destroy, frequency=1, order=2)\n",
    "nonLinearTerm.frequency = 2\n",
    "print(system._totalHamSimple.A)\n",
    "print(2*(destroy(dimension=system.dimension)@destroy(dimension=system.dimension)).A)"
   ]
  },
  {
   "cell_type": "code",
   "execution_count": null,
   "metadata": {
    "tags": []
   },
   "outputs": [],
   "source": [
    "print(system._totalHamSimple.A)\n",
    "print('\\n')\n",
    "print(2*(destroy(dimension=system.dimension)@destroy(dimension=system.dimension)).A)"
   ]
  },
  {
   "cell_type": "code",
   "execution_count": null,
   "metadata": {
    "tags": []
   },
   "outputs": [],
   "source": [
    "secondResonator = system.getObjByName('QuantumSystem3')\n",
    "\n",
    "print(secondResonator.terms)\n",
    "print(system.terms)"
   ]
  },
  {
   "cell_type": "code",
   "execution_count": null,
   "metadata": {
    "tags": []
   },
   "outputs": [],
   "source": [
    "secondResonator.frequency = 2\n",
    "\n",
    "print(system._totalHamSimple.A, '\\n')\n",
    "print(secondResonator._totalHamSimple.A)"
   ]
  },
  {
   "cell_type": "code",
   "execution_count": null,
   "metadata": {
    "tags": []
   },
   "outputs": [],
   "source": [
    "print(compositeSystem.subSys.keys(), compositeSystem.qSystems.keys())"
   ]
  },
  {
   "cell_type": "code",
   "execution_count": null,
   "metadata": {
    "tags": []
   },
   "outputs": [],
   "source": [
    "system.initialState = 0\n",
    "print(system.initialState.A)"
   ]
  },
  {
   "cell_type": "code",
   "execution_count": null,
   "metadata": {
    "tags": []
   },
   "outputs": [],
   "source": [
    "system.initialState = [0, 2]\n",
    "print(system.initialState.A)"
   ]
  },
  {
   "cell_type": "code",
   "execution_count": null,
   "metadata": {
    "tags": []
   },
   "outputs": [],
   "source": [
    "system.initialState = [0, 2, 4]\n",
    "print(system.initialState.A)"
   ]
  },
  {
   "cell_type": "code",
   "execution_count": null,
   "metadata": {
    "tags": []
   },
   "outputs": [],
   "source": [
    "system.initialState = {0:0.2, 2:0.4, 4:0.4}\n",
    "print(system.initialState.A)"
   ]
  },
  {
   "cell_type": "code",
   "execution_count": null,
   "metadata": {
    "tags": []
   },
   "outputs": [],
   "source": [
    "system.initialState = basis(5, 1)\n",
    "print(system.initialState.A)"
   ]
  },
  {
   "cell_type": "code",
   "execution_count": null,
   "metadata": {
    "tags": []
   },
   "outputs": [],
   "source": [
    "system = QuantumSystem(dimension=5, name='specialName')\n",
    "compositeSystem = system + system.copy(name='secondSpecialSystem')\n",
    "\n",
    "print(compositeSystem.subSys.keys())"
   ]
  },
  {
   "cell_type": "code",
   "execution_count": null,
   "metadata": {
    "tags": []
   },
   "outputs": [],
   "source": [
    "JCSys = Cavity(dimension=10, frequency=1, name='JCSysCavity') + Qubit(frequency=1, name='JCSysQubit')\n",
    "JCSys.name = 'JCSys'\n",
    "\n",
    "print(JCSys.name, JCSys.subSys.keys())"
   ]
  },
  {
   "cell_type": "code",
   "execution_count": null,
   "metadata": {},
   "outputs": [],
   "source": [
    "JCcoupling = JCSys.createSysCoupling([JCSys.subSys['JCSysQubit'], JCSys.subSys['JCSysCavity']], \n",
    "                                     [sigmap, destroy], [sigmam, create],\n",
    "                                     superSys=JCSys, couplingStrength=0.1)"
   ]
  },
  {
   "cell_type": "code",
   "execution_count": null,
   "metadata": {
    "tags": []
   },
   "outputs": [],
   "source": [
    "JCSys.initialState = [0, 0]\n",
    "JCSys.simTotalTime = 4\n",
    "JCSys.simStepSize = 0.01\n",
    "\n",
    "JCSys.runSimulation()\n",
    "\n",
    "print(JCSys._freeEvol.states)"
   ]
  },
  {
   "cell_type": "code",
   "execution_count": null,
   "metadata": {},
   "outputs": [],
   "source": [
    "expectation(qubitFreeMat, JCSys.initialState)"
   ]
  },
  {
   "cell_type": "code",
   "execution_count": null,
   "metadata": {
    "tags": []
   },
   "outputs": [],
   "source": [
    "qubitPolarisation = []\n",
    "qubitPopulation = []\n",
    "qubitPopulation0 = []\n",
    "photonNumber = []\n",
    "qubitFreeMat = JCSys.subSys['JCSysQubit'].freeMat\n",
    "cavityFree = JCSys.subSys['JCSysCavity'].freeMat\n",
    "states = JCSys._freeEvol.statesList\n",
    "for state in states:\n",
    "    qubitPolarisation.append(2*expectation(qubitFreeMat, state))\n",
    "    #qubitPopulation.append(fidelity(basis(2, 0), partialTrace([1], JCSys.subSysDimensions, state)))\n",
    "    qubitPopulation.append(fidelity(state, JCSys.initialState))\n",
    "    qubitPopulation0.append(1-fidelity(state, JCSys.initialState))\n",
    "    photonNumber.append(expectation(cavityFree, state))\n",
    "\n",
    "\n",
    "plt.plot(JCSys.simulation.timeList, qubitPolarisation, label=r'$<\\hat{\\sigma}_z>$')\n",
    "#plt.plot(JCSys.simulation.timeList, qubitPopulation, label=r'Qubit |1> Population')\n",
    "#plt.plot(JCSys.simulation.timeList, qubitPopulation0, label=r'Qubit |0> Population')\n",
    "plt.plot(JCSys.simulation.timeList, photonNumber, label=r'$<\\hat{a}^{\\dagger}\\hat{a}>$')\n",
    "plt.ylim([-1.1, 1.1])\n",
    "plt.yticks([-1, 0, 1])\n",
    "plt.xticks([0, 2, 4])\n",
    "plt.xlabel('Time')\n",
    "plt.ylabel('Legend')\n",
    "plt.legend()"
   ]
  },
  {
   "cell_type": "code",
   "execution_count": null,
   "metadata": {},
   "outputs": [],
   "source": []
  }
 ],
 "metadata": {
  "language_info": {
   "codemirror_mode": {
    "name": "ipython",
    "version": 3
   },
   "file_extension": ".py",
   "mimetype": "text/x-python",
   "name": "python",
   "nbconvert_exporter": "python",
   "pygments_lexer": "ipython3",
   "version": "3.8.3-final"
  },
  "orig_nbformat": 2,
  "kernelspec": {
   "name": "python38364bitd9806c2b30d7438a96dd0e693421993a",
   "display_name": "Python 3.8.3 64-bit"
  }
 },
 "nbformat": 4,
 "nbformat_minor": 2
}