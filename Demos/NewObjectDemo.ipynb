{
 "cells": [
  {
   "cell_type": "code",
   "execution_count": 1,
   "metadata": {},
   "outputs": [],
   "source": [
    "from qTools import *\n",
    "import Cahit as ck\n",
    "\n",
    "import scipy.sparse as sp\n",
    "import numpy as np\n",
    "\n",
    "from functools import partial\n",
    "from multiprocessing import Pool, cpu_count"
   ]
  },
  {
   "cell_type": "code",
   "execution_count": 2,
   "metadata": {},
   "outputs": [],
   "source": [
    "resonatorDimension = 200\n",
    "g = 1.79\n",
    "qfreq = 0\n",
    "resFreq = 2\n",
    "irreg = False"
   ]
  },
  {
   "cell_type": "code",
   "execution_count": null,
   "metadata": {},
   "outputs": [],
   "source": [
    "def digitalRabi(obj, stepSize):\n",
    "    sigmaX = sp.kron(QuantumToolbox.operators.identity(obj.subSystems['Cavity1'].dimension), obj.sigmaX(obj.subSystems['Qubit1'].dimension), format='csc')\n",
    "    HamJC = 2 * np.pi * (((obj.subSystems['Cavity1'].frequency/2)*obj.subSystems['Cavity1'].freeMat) + obj.couplingHam)\n",
    "    UnitaryJC = QuantumToolbox.liouvillian.Liouvillian(HamJC, timeStep=(stepSize / 2))\n",
    "    UnitaryAJC = (UnitaryJC @ UnitaryJC)\n",
    "    Unitary = UnitaryJC @ sigmaX @ UnitaryAJC @ sigmaX @ UnitaryJC\n",
    "    return Unitary"
   ]
  },
  {
   "cell_type": "code",
   "execution_count": null,
   "metadata": {},
   "outputs": [],
   "source": [
    "qSim = Simulation()\n",
    "qSim.tProtocol = evolveTimeIndep\n",
    "JCSys = qSim.qSys"
   ]
  },
  {
   "cell_type": "code",
   "execution_count": null,
   "metadata": {},
   "outputs": [],
   "source": [
    "cav = Cavity(dimension=resonatorDimension, frequency=resFreq)\n",
    "JCSys.addSubSys(cav)\n",
    "\n",
    "qub = JCSys.createSubSys(subClass=Qubit)\n",
    "qub.frequency = qfreq"
   ]
  },
  {
   "cell_type": "code",
   "execution_count": null,
   "metadata": {},
   "outputs": [],
   "source": [
    "JCcoupling = JCSys.JC(cav, qub, g)\n",
    "\n",
    "JCSys.initialState = sp.kron(states.basis(cav.dimension, 0), states.basis(2, 0), format='csc')"
   ]
  },
  {
   "cell_type": "code",
   "execution_count": null,
   "metadata": {},
   "outputs": [],
   "source": [
    "cavFreqSweep = qSim.addSweep(cav, 'frequency')\n",
    "cavFreqSweep.sweepList = np.arange(-4, 4, 0.05)\n",
    "\n",
    "cavParity = parityEXP(cav.freeMat)"
   ]
  },
  {
   "cell_type": "code",
   "execution_count": null,
   "metadata": {},
   "outputs": [],
   "source": [
    "p = Pool(processes=cpu_count())\n",
    "print('simulating')\n",
    "statesDigit = qSim.run(p, cav, cavFreqSweep.sweepList)\n",
    "parityDigit = p.map(partial(expectationKetList, cavParity),statesDigit)\n",
    "print(JCSys._QuantumSystem__kept)"
   ]
  },
  {
   "cell_type": "code",
   "execution_count": null,
   "metadata": {},
   "outputs": [],
   "source": [
    "ck.Plotting.SimplePlots.colorPlot(cavFreqSweep.sweepList, qSim.times, parityDigit, irregular=irreg)"
   ]
  },
  {
   "cell_type": "code",
   "execution_count": null,
   "metadata": {},
   "outputs": [],
   "source": [
    "JCSys.reset()\n",
    "JCSys.createSysCoupling([qub,cav],[QuantumToolbox.operators.sigmax, QuantumToolbox.operators.create], g)\n",
    "JCSys.createSysCoupling([cav, qub],[QuantumToolbox.operators.destroy, QuantumToolbox.operators.sigmax], g)\n",
    "JCSys.couplingName = 'Rabi'\n",
    "\n",
    "print(JCSys.couplingName)"
   ]
  },
  {
   "cell_type": "code",
   "execution_count": null,
   "metadata": {},
   "outputs": [],
   "source": [
    "print('simulating')\n",
    "statesDigit = qSim.run(p, cav, cavFreqSweep.sweepList)\n",
    "parityDigit = p.map(partial(expectationKetList, cavParity),statesDigit)\n",
    "ck.Plotting.SimplePlots.colorPlot(cavFreqSweep.sweepList, qSim.times, parityDigit, irregular=irreg)\n",
    "print(JCSys._QuantumSystem__kept)"
   ]
  },
  {
   "cell_type": "code",
   "execution_count": null,
   "metadata": {},
   "outputs": [],
   "source": [
    "JCSys.reset(to='JC')\n",
    "#JCSys.addCoupling([qub,cav],[qtbox.operators.destroy, qtbox.operators.create], g)\n",
    "#JCSys.addCoupling([cav, qub],[qtbox.operators.destroy, qtbox.operators.create], g)\n",
    "JCSys.sigmaX = QuantumToolbox.operators.sigmax\n",
    "JCSys.Unitaries = digitalRabi"
   ]
  },
  {
   "cell_type": "code",
   "execution_count": null,
   "metadata": {},
   "outputs": [],
   "source": [
    "print('simulating')\n",
    "'''for i in range(len(cavFreqSweep.sweepList)):\n",
    "    qSim.evolveTimeIndep(cav, cavFreqSweep.sweepList[i])'''\n",
    "statesDigit = qSim.run(p, cav, cavFreqSweep.sweepList)\n",
    "parityDigit = p.map(partial(expectationKetList, cavParity),statesDigit)\n",
    "ck.Plotting.SimplePlots.colorPlot(cavFreqSweep.sweepList, qSim.times, parityDigit, irregular=irreg)\n",
    "print(JCSys._QuantumSystem__kept)"
   ]
  },
  {
   "cell_type": "code",
   "execution_count": null,
   "metadata": {},
   "outputs": [],
   "source": [
    "JCSys.reset(to='Rabi')\n",
    "print('simulating')\n",
    "statesDigit = qSim.run(p, cav, cavFreqSweep.sweepList)\n",
    "parityDigit = p.map(partial(expectationKetList, cavParity),statesDigit)\n",
    "ck.Plotting.SimplePlots.colorPlot(cavFreqSweep.sweepList, qSim.times, parityDigit, irregular=irreg)\n",
    "print(JCSys._QuantumSystem__kept)"
   ]
  },
  {
   "cell_type": "code",
   "execution_count": null,
   "metadata": {},
   "outputs": [],
   "source": [
    "JCSys.reset(to='JC')\n",
    "JCcoupling.couplingStrength = 1\n",
    "print('simulating')\n",
    "statesDigit = qSim.run(p, cav, cavFreqSweep.sweepList)\n",
    "parityDigit = p.map(partial(expectationKetList, cavParity),statesDigit)\n",
    "ck.Plotting.SimplePlots.colorPlot(cavFreqSweep.sweepList, qSim.times, parityDigit, irregular=irreg)\n",
    "print(JCSys._QuantumSystem__kept)"
   ]
  },
  {
   "cell_type": "code",
   "execution_count": null,
   "metadata": {},
   "outputs": [],
   "source": [
    "JCSys.reset(to=2)\n",
    "print(JCSys.couplingName)\n",
    "JCcoupling.couplingStrength = 1.79\n",
    "JCSys.constructCompSys()\n",
    "print('simulating')\n",
    "statesDigit = p.map(partial(qSim.evolveTimeIndep, cav), cavFreqSweep.sweepList)\n",
    "parityDigit = p.map(partial(expectationKetList, cavParity),statesDigit)\n",
    "ck.Plotting.SimplePlots.colorPlot(cavFreqSweep.sweepList, qSim.times, parityDigit, irregular=irreg)\n",
    "print(JCSys._QuantumSystem__kept)"
   ]
  },
  {
   "cell_type": "code",
   "execution_count": null,
   "metadata": {
    "pycharm": {
     "is_executing": false,
     "name": "#%%\n"
    }
   },
   "outputs": [],
   "source": []
  }
 ],
 "metadata": {
  "kernelspec": {
   "display_name": "Python 3",
   "language": "python",
   "name": "python3"
  },
  "language_info": {
   "codemirror_mode": {
    "name": "ipython",
    "version": 3
   },
   "file_extension": ".py",
   "mimetype": "text/x-python",
   "name": "python",
   "nbconvert_exporter": "python",
   "pygments_lexer": "ipython3",
   "version": "3.7.6-final"
  },
  "pycharm": {
   "stem_cell": {
    "cell_type": "raw",
    "source": [],
    "metadata": {
     "collapsed": false
    }
   }
  }
 },
 "nbformat": 4,
 "nbformat_minor": 2
}