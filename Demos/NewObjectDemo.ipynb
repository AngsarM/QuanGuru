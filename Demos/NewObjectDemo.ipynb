{
 "cells": [
  {
   "cell_type": "code",
   "execution_count": null,
   "metadata": {},
   "outputs": [],
   "source": [
    "from qTools import *\n",
    "import Cahit as ck\n",
    "\n",
    "import scipy.sparse as sp\n",
    "import numpy as np\n",
    "\n",
    "from functools import partial\n",
    "from multiprocessing import Pool, cpu_count\n",
    "\n",
    "import matplotlib.pyplot as plt\n",
    "import datetime\n",
    "\n",
    "import copy"
   ]
  },
  {
   "cell_type": "code",
   "execution_count": null,
   "metadata": {},
   "outputs": [],
   "source": [
    "resonatorDimension = 200\n",
    "g = 1.79\n",
    "qfreq = 0\n",
    "resFreq = 2"
   ]
  },
  {
   "cell_type": "code",
   "execution_count": null,
   "metadata": {},
   "outputs": [],
   "source": [
    "qSim = Simulation()\n",
    "qSim.finalTime = 1.2\n",
    "qSim.stepSize = 0.02\n",
    "JCSys = qSim.qSys\n",
    "#qSim.delState = True"
   ]
  },
  {
   "cell_type": "code",
   "execution_count": null,
   "metadata": {},
   "outputs": [],
   "source": [
    "cav = Cavity(dimension=resonatorDimension, frequency=resFreq)\n",
    "JCSys.addSubSys(cav)\n",
    "\n",
    "qub = JCSys.createSubSys(subClass=Qubit)\n",
    "qub.frequency = qfreq"
   ]
  },
  {
   "cell_type": "code",
   "execution_count": null,
   "metadata": {},
   "outputs": [],
   "source": [
    "digitalRabi = qProtocol(superSys=JCSys)\n",
    "JCunitary = freeEvolution(ratio=0.5, superSys=JCSys)\n",
    "bitFlip = xGate(implementation='instant', superSys=qub, fixed=True)\n",
    "digitalRabi.addStep(JCunitary, bitFlip, JCunitary, JCunitary, bitFlip, JCunitary)\n",
    "\n",
    "JCSys.unitary = digitalRabi"
   ]
  },
  {
   "cell_type": "code",
   "execution_count": null,
   "metadata": {},
   "outputs": [],
   "source": [
    "JCcoupling = JCSys.JC(cav, qub, g)"
   ]
  },
  {
   "cell_type": "code",
   "execution_count": null,
   "metadata": {},
   "outputs": [],
   "source": [
    "RabiSys = JCSys.copy(name='Rabi')\n",
    "RabiCoupling = RabiSys.Rabi(RabiSys.qSystems['Cavity2'],RabiSys.qSystems['Qubit2'], g)\n",
    "qSim.subSystems = RabiSys"
   ]
  },
  {
   "cell_type": "code",
   "execution_count": null,
   "metadata": {},
   "outputs": [],
   "source": [
    "JCSys.initialState = [0,0]\n",
    "\n",
    "cavFreqSweep = qSim.Loop.addSweep(sys=cav, sweepKey='frequency')\n",
    "cavFreqSweep.sweepList = np.arange(-4, 4+0.05, 0.05)\n",
    "\n",
    "\"\"\"gSweep = qSim.beforeLoop.addSweep(sys=JCcoupling, sweepKey='couplingStrength')\n",
    "gSweep.sweepList = np.arange(0, 2, 0.05)\"\"\""
   ]
  },
  {
   "cell_type": "code",
   "execution_count": null,
   "metadata": {},
   "outputs": [],
   "source": [
    "# TODO copy should copy the initial state \n",
    "RabiSys.initialState = [0,0]\n",
    "\n",
    "cavFreqSweep2 = qSim.Loop.addSweep(sys=RabiSys.qSystems['Cavity2'], sweepKey='frequency')\n",
    "cavFreqSweep2.sweepList = np.arange(-8, 8+0.1, 0.1)"
   ]
  },
  {
   "cell_type": "code",
   "execution_count": null,
   "metadata": {},
   "outputs": [],
   "source": [
    "cavParity = parityEXP(cav.freeMat)\n",
    "qubPop = qub.freeMat\n",
    "\n",
    "def expect(qSim, state1, state2):\n",
    "    qSim.qRes.result = expectationKet(cavParity, state1)\n",
    "    qSim.qRes.result = fidelityKet(state1, state2)\n",
    "\n",
    "qSim.compute = expect"
   ]
  },
  {
   "cell_type": "code",
   "execution_count": null,
   "metadata": {},
   "outputs": [],
   "source": [
    "nw = datetime.datetime.now()\n",
    "\n",
    "results = qSim.run(p=True, coreCount='all')\n",
    "\n",
    "en = datetime.datetime.now()\n",
    "\n",
    "print(en-nw)"
   ]
  },
  {
   "cell_type": "code",
   "execution_count": null,
   "metadata": {},
   "outputs": [],
   "source": [
    "def plotRes(xList = cavFreqSweep2.sweepList):\n",
    "    fig = plt.figure(figsize=(12,9))\n",
    "    setC = [0.88, 0.25, 0.02, 0.6]\n",
    "    axGrids = ck.Plotting.Functions.grid(2, 1, fig=fig)\n",
    "\n",
    "    ck.Plotting.SimplePlots.colorPlot(xList, [x*qSim.stepSize for x in range(qSim.steps+1)], results.results[0],ax=axGrids[0], gif=fig, setC=setC)\n",
    "    ck.Plotting.SimplePlots.colorPlot(xList, [x*qSim.stepSize for x in range(qSim.steps+1)], results.results[1],ax=axGrids[1], gif=fig, setC=setC)\n",
    "plotRes()"
   ]
  },
  {
   "cell_type": "code",
   "execution_count": null,
   "metadata": {},
   "outputs": [],
   "source": [
    "JCSys.reset()\n",
    "JCSys.createSysCoupling([qub,cav],[QuantumToolbox.operators.sigmax, QuantumToolbox.operators.create], couplingStrength=g)\n",
    "JCSys.createSysCoupling([cav, qub],[QuantumToolbox.operators.destroy, QuantumToolbox.operators.sigmax], couplingStrength=g)\n",
    "JCSys.couplingName = 'Rabi'"
   ]
  },
  {
   "cell_type": "code",
   "execution_count": null,
   "metadata": {},
   "outputs": [],
   "source": [
    "# TODO remove corresponding sweeps\n",
    "qSim.removeSys(RabiSys)\n",
    "\n",
    "def expectn(qSim, state1):\n",
    "    qSim.qRes.result = expectationKet(cavParity, state1)\n",
    "    qSim.qRes.result = fidelityKet(qSim.qSys.initialState, state1)\n",
    "\n",
    "qSim.compute = expectn"
   ]
  },
  {
   "cell_type": "code",
   "execution_count": null,
   "metadata": {},
   "outputs": [],
   "source": [
    "#p1 = Pool(processes=cpu_count())\n",
    "nw = datetime.datetime.now()\n",
    "\n",
    "results = qSim.run()\n",
    "\n",
    "en = datetime.datetime.now()\n",
    "print(en-nw)"
   ]
  },
  {
   "cell_type": "code",
   "execution_count": null,
   "metadata": {},
   "outputs": [],
   "source": [
    "fig = plt.figure(figsize=(12,9))\n",
    "setC = [0.88, 0.25, 0.02, 0.6]\n",
    "axGrids = ck.Plotting.Functions.grid(2, 1, fig=fig)\n",
    "\n",
    "ck.Plotting.SimplePlots.colorPlot(cavFreqSweep.sweepList, [x*qSim.stepSize for x in range(qSim.steps+1)], results.results[0],ax=axGrids[0], gif=fig, setC=setC)\n",
    "ck.Plotting.SimplePlots.colorPlot(cavFreqSweep.sweepList, [x*qSim.stepSize for x in range(qSim.steps+1)], results.results[1],ax=axGrids[1], gif=fig, setC=setC)"
   ]
  },
  {
   "cell_type": "code",
   "execution_count": null,
   "metadata": {},
   "outputs": [],
   "source": [
    "JCSys.reset(to='JC')\n",
    "\n",
    "nw = datetime.datetime.now()\n",
    "\n",
    "results = qSim.run()\n",
    "\n",
    "en = datetime.datetime.now()\n",
    "plotRes(cavFreqSweep.sweepList)"
   ]
  },
  {
   "cell_type": "code",
   "execution_count": null,
   "metadata": {},
   "outputs": [],
   "source": [
    "JCSys.reset(to='JC')\n",
    "\n",
    "cavFreqSweep.sweepList = np.arange(-2, 2+0.025, 0.025)\n",
    "JCSys.unitary = None"
   ]
  },
  {
   "cell_type": "code",
   "execution_count": null,
   "metadata": {},
   "outputs": [],
   "source": [
    "nw = datetime.datetime.now()\n",
    "\n",
    "results = qSim.run()\n",
    "\n",
    "en = datetime.datetime.now()\n",
    "plotRes(cavFreqSweep.sweepList)"
   ]
  },
  {
   "cell_type": "code",
   "execution_count": null,
   "metadata": {},
   "outputs": [],
   "source": [
    "JCcoupling.couplingStrength = 1\n",
    "nw = datetime.datetime.now()\n",
    "\n",
    "results = qSim.run()\n",
    "\n",
    "en = datetime.datetime.now()\n",
    "print(en-nw)\n",
    "plotRes(cavFreqSweep.sweepList)"
   ]
  },
  {
   "cell_type": "code",
   "execution_count": null,
   "metadata": {},
   "outputs": [],
   "source": []
  }
 ],
 "metadata": {
  "kernelspec": {
   "display_name": "Python 3",
   "language": "python",
   "name": "python3"
  },
  "language_info": {
   "codemirror_mode": {
    "name": "ipython",
    "version": 3
   },
   "file_extension": ".py",
   "mimetype": "text/x-python",
   "name": "python",
   "nbconvert_exporter": "python",
   "pygments_lexer": "ipython3",
   "version": "3.7.6-final"
  },
  "pycharm": {
   "stem_cell": {
    "cell_type": "raw",
    "source": [],
    "metadata": {
     "collapsed": false
    }
   }
  }
 },
 "nbformat": 4,
 "nbformat_minor": 2
}