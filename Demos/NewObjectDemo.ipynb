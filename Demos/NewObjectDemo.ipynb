{
 "cells": [
  {
   "cell_type": "code",
   "execution_count": 1,
   "metadata": {},
   "outputs": [],
   "source": [
    "from qTools import *\n",
    "import Cahit as ck\n",
    "\n",
    "import scipy.sparse as sp\n",
    "import numpy as np\n",
    "\n",
    "from functools import partial\n",
    "from multiprocessing import Pool, cpu_count"
   ]
  },
  {
   "cell_type": "code",
   "execution_count": 2,
   "metadata": {},
   "outputs": [],
   "source": [
    "resonatorDimension = 200\n",
    "g = 1.79\n",
    "qfreq = 0\n",
    "resFreq = 2\n",
    "irreg = False"
   ]
  },
  {
   "cell_type": "code",
   "execution_count": 3,
   "metadata": {},
   "outputs": [],
   "source": [
    "def digitalRabi(obj, stepSize):\n",
    "    sigmaX = sp.kron(qOps.identity(obj.subSystems[0].dimension), obj.sigmaX(obj.subSystems[1].dimension), format='csc')\n",
    "    HamJC = 2 * np.pi * (((obj.subSystems[0].frequency/2)*obj.subSystems[0].freeMat) + obj.couplingHam)\n",
    "    UnitaryJC = lio.Liouvillian(HamJC, timeStep=(stepSize / 2))\n",
    "    UnitaryAJC = (UnitaryJC @ UnitaryJC)\n",
    "    Unitary = UnitaryJC @ sigmaX @ UnitaryAJC @ sigmaX @ UnitaryJC\n",
    "    return Unitary"
   ]
  },
  {
   "cell_type": "code",
   "execution_count": 4,
   "metadata": {},
   "outputs": [],
   "source": [
    "JCSys = QuantumSystem()\n",
    "cav = Cavity(dimension=resonatorDimension, frequency=resFreq)\n",
    "JCSys.addSubSys(cav)\n",
    "\n",
    "qub = JCSys.createSubSys(subClass=Qubit)\n",
    "qub.frequency = qfreq\n",
    "#qub.freeMat = None"
   ]
  },
  {
   "cell_type": "code",
   "execution_count": 5,
   "metadata": {},
   "outputs": [
    {
     "name": "stdout",
     "output_type": "stream",
     "text": "sigmaz\n1.79\n"
    }
   ],
   "source": [
    "JCcoupling = JCSys.coupleBy(cav, qub,'JC', g)\n",
    "print(JCcoupling.couplingStrength)\n",
    "\"\"\"JCcoupling = qsys.qCoupling()\n",
    "JCSys.addSysCoupling(JCcoupling)\"\"\"\n",
    "\n",
    "JCSys.initialState = sp.kron(states.basis(cav.dimension, 0), states.basis(2, 0), format='csc')"
   ]
  },
  {
   "cell_type": "code",
   "execution_count": 6,
   "metadata": {},
   "outputs": [
    {
     "name": "stdout",
     "output_type": "stream",
     "text": "<qTools.classes.QSim._sweep object at 0xa1b4b19b0>\n  (0, 0)\t0.0\n  (1, 1)\t0.0\n  (2, 2)\t1.0\n  (3, 3)\t1.0\n  (4, 4)\t2.0\n  (5, 5)\t2.0\n  (6, 6)\t3.0\n  (7, 7)\t3.0\n  (8, 8)\t4.0\n  (9, 9)\t4.0\n  (10, 10)\t5.0\n  (11, 11)\t5.0\n  (12, 12)\t6.0\n  (13, 13)\t6.0\n  (14, 14)\t7.0\n  (15, 15)\t7.0\n  (16, 16)\t8.0\n  (17, 17)\t8.0\n  (18, 18)\t9.0\n  (19, 19)\t9.0\n  (20, 20)\t10.0\n  (21, 21)\t10.0\n  (22, 22)\t11.0\n  (23, 23)\t11.0\n  (24, 24)\t12.0\n  :\t:\n  (375, 375)\t187.0\n  (376, 376)\t188.0\n  (377, 377)\t188.0\n  (378, 378)\t189.0\n  (379, 379)\t189.0\n  (380, 380)\t190.0\n  (381, 381)\t190.0\n  (382, 382)\t191.0\n  (383, 383)\t191.0\n  (384, 384)\t192.0\n  (385, 385)\t192.0\n  (386, 386)\t193.0\n  (387, 387)\t193.0\n  (388, 388)\t194.0\n  (389, 389)\t194.0\n  (390, 390)\t195.0\n  (391, 391)\t195.0\n  (392, 392)\t196.0\n  (393, 393)\t196.0\n  (394, 394)\t197.0\n  (395, 395)\t197.0\n  (396, 396)\t198.0\n  (397, 397)\t198.0\n  (398, 398)\t199.0\n  (399, 399)\t199.0\nsimulating\n"
    },
    {
     "ename": "NameError",
     "evalue": "name 'expectationKetList' is not defined",
     "output_type": "error",
     "traceback": [
      "\u001b[0;31m---------------------------------------------------------------------------\u001b[0m",
      "\u001b[0;31mNameError\u001b[0m                                 Traceback (most recent call last)",
      "\u001b[0;32m<ipython-input-6-f2f8f38340d2>\u001b[0m in \u001b[0;36m<module>\u001b[0;34m\u001b[0m\n\u001b[1;32m      9\u001b[0m \u001b[0mprint\u001b[0m\u001b[0;34m(\u001b[0m\u001b[0;34m'simulating'\u001b[0m\u001b[0;34m)\u001b[0m\u001b[0;34m\u001b[0m\u001b[0;34m\u001b[0m\u001b[0m\n\u001b[1;32m     10\u001b[0m \u001b[0mstatesDigit\u001b[0m \u001b[0;34m=\u001b[0m \u001b[0mp\u001b[0m\u001b[0;34m.\u001b[0m\u001b[0mmap\u001b[0m\u001b[0;34m(\u001b[0m\u001b[0mpartial\u001b[0m\u001b[0;34m(\u001b[0m\u001b[0mqSim\u001b[0m\u001b[0;34m.\u001b[0m\u001b[0mevolveTimeIndep\u001b[0m\u001b[0;34m,\u001b[0m \u001b[0mcav\u001b[0m\u001b[0;34m)\u001b[0m\u001b[0;34m,\u001b[0m \u001b[0mcavFreqSweep\u001b[0m\u001b[0;34m.\u001b[0m\u001b[0msweepList\u001b[0m\u001b[0;34m)\u001b[0m\u001b[0;34m\u001b[0m\u001b[0;34m\u001b[0m\u001b[0m\n\u001b[0;32m---> 11\u001b[0;31m \u001b[0mparityDigit\u001b[0m \u001b[0;34m=\u001b[0m \u001b[0mp\u001b[0m\u001b[0;34m.\u001b[0m\u001b[0mmap\u001b[0m\u001b[0;34m(\u001b[0m\u001b[0mpartial\u001b[0m\u001b[0;34m(\u001b[0m\u001b[0mexpectationKetList\u001b[0m\u001b[0;34m,\u001b[0m \u001b[0mcavParity\u001b[0m\u001b[0;34m)\u001b[0m\u001b[0;34m,\u001b[0m\u001b[0mstatesDigit\u001b[0m\u001b[0;34m)\u001b[0m\u001b[0;34m\u001b[0m\u001b[0;34m\u001b[0m\u001b[0m\n\u001b[0m\u001b[1;32m     12\u001b[0m \u001b[0;34m\u001b[0m\u001b[0m\n\u001b[1;32m     13\u001b[0m \u001b[0mck\u001b[0m\u001b[0;34m.\u001b[0m\u001b[0mPlotting\u001b[0m\u001b[0;34m.\u001b[0m\u001b[0mSimplePlots\u001b[0m\u001b[0;34m.\u001b[0m\u001b[0mcolorPlot\u001b[0m\u001b[0;34m(\u001b[0m\u001b[0mcavFreqSweep\u001b[0m\u001b[0;34m.\u001b[0m\u001b[0msweepList\u001b[0m\u001b[0;34m,\u001b[0m \u001b[0mqSim\u001b[0m\u001b[0;34m.\u001b[0m\u001b[0mtimes\u001b[0m\u001b[0;34m,\u001b[0m \u001b[0mparityDigit\u001b[0m\u001b[0;34m,\u001b[0m \u001b[0mirregular\u001b[0m\u001b[0;34m=\u001b[0m\u001b[0mirreg\u001b[0m\u001b[0;34m)\u001b[0m\u001b[0;34m\u001b[0m\u001b[0;34m\u001b[0m\u001b[0m\n",
      "\u001b[0;31mNameError\u001b[0m: name 'expectationKetList' is not defined"
     ]
    }
   ],
   "source": [
    "qSim = Simulation(qSys=JCSys)\n",
    "cavFreqSweep = qSim.addSweep(cav, 'frequency')\n",
    "print(cavFreqSweep)\n",
    "cavFreqSweep.sweepList = np.arange(-4, 4, 0.05)\n",
    "print(cav.freeMat)\n",
    "\n",
    "cavParity = parityEXP(cav.freeMat)\n",
    "p = Pool(processes=cpu_count())\n",
    "print('simulating')\n",
    "statesDigit = p.map(partial(qSim.evolveTimeIndep, cav), cavFreqSweep.sweepList)\n",
    "parityDigit = p.map(partial(expectationKetList, cavParity),statesDigit)\n",
    "\n",
    "ck.Plotting.SimplePlots.colorPlot(cavFreqSweep.sweepList, qSim.times, parityDigit, irregular=irreg)\n",
    "print(JCSys._QuantumSystem__kept)"
   ]
  },
  {
   "cell_type": "code",
   "execution_count": null,
   "metadata": {},
   "outputs": [],
   "source": [
    "JCSys.reset()\n",
    "JCSys.createSysCoupling([qub,cav],[qtbox.operators.sigmax, qtbox.operators.create], g)\n",
    "JCSys.createSysCoupling([cav, qub],[qtbox.operators.destroy, qtbox.operators.sigmax], g)\n",
    "JCSys.couplingName = 'Rabi'\n",
    "\n",
    "print(JCSys.couplingName)"
   ]
  },
  {
   "cell_type": "code",
   "execution_count": null,
   "metadata": {},
   "outputs": [],
   "source": [
    "qSim.qSys = JCSys\n",
    "print('simulating')\n",
    "statesDigit = p.map(partial(qSim.evolveTimeIndep, cav), qSim.sweepList)\n",
    "parityDigit = p.map(partial(qFncs.expectationKetList, cavParity),statesDigit)\n",
    "sPlt.colorPlot(qSim.sweepList, qSim.times, parityDigit, irregular=irreg)\n",
    "print(JCSys._QuantumSystem__kept)"
   ]
  },
  {
   "cell_type": "code",
   "execution_count": null,
   "metadata": {},
   "outputs": [],
   "source": [
    "JCSys.reset(to='JC')\n",
    "#JCSys.addCoupling([qub,cav],[qtbox.operators.destroy, qtbox.operators.create], g)\n",
    "#JCSys.addCoupling([cav, qub],[qtbox.operators.destroy, qtbox.operators.create], g)\n",
    "JCSys.sigmaX = oper.sigmax\n",
    "JCSys.Unitaries = digitalRabi"
   ]
  },
  {
   "cell_type": "code",
   "execution_count": null,
   "metadata": {},
   "outputs": [],
   "source": [
    "qSim.qSys = JCSys\n",
    "print('simulating')\n",
    "statesDigit = p.map(partial(qSim.evolveTimeIndep, cav), qSim.sweepList)\n",
    "print('calculating')\n",
    "parityDigit = p.map(partial(qFncs.expectationKetList, cavParity),statesDigit)\n",
    "sPlt.colorPlot(qSim.sweepList, qSim.times, parityDigit, irregular=irreg)\n",
    "print(JCSys._QuantumSystem__kept)"
   ]
  },
  {
   "cell_type": "code",
   "execution_count": null,
   "metadata": {},
   "outputs": [],
   "source": [
    "JCSys.reset(to='Rabi')\n",
    "\n",
    "qSim.qSys = JCSys\n",
    "\n",
    "statesDigit = p.map(partial(qSim.evolveTimeIndep, cav), qSim.sweepList)\n",
    "parityDigit = p.map(partial(qFncs.expectationKetList, cavParity),statesDigit)\n",
    "sPlt.colorPlot(qSim.sweepList, qSim.times, parityDigit, irregular=irreg)\n",
    "print(JCSys._QuantumSystem__kept)"
   ]
  },
  {
   "cell_type": "code",
   "execution_count": null,
   "metadata": {},
   "outputs": [],
   "source": [
    "JCSys.reset(to='JC')\n",
    "JCcoupling.couplingStrength = 1\n",
    "qSim.qSys = JCSys\n",
    "statesDigit = p.map(partial(qSim.evolveTimeIndep, cav), qSim.sweepList)\n",
    "parityDigit = p.map(partial(qFncs.expectationKetList, cavParity),statesDigit)\n",
    "sPlt.colorPlot(qSim.sweepList, qSim.times, parityDigit, irregular=irreg)\n",
    "print(JCSys._QuantumSystem__kept)"
   ]
  },
  {
   "cell_type": "code",
   "execution_count": null,
   "metadata": {},
   "outputs": [],
   "source": [
    "JCSys.reset(to=2)\n",
    "print(JCSys.couplingName)\n",
    "JCcoupling.couplingStrength = 1.79\n",
    "qSim.qSys = JCSys\n",
    "statesDigit = p.map(partial(qSim.evolveTimeIndep, cav), qSim.sweepList)\n",
    "parityDigit = p.map(partial(qFncs.expectationKetList, cavParity),statesDigit)\n",
    "sPlt.colorPlot(qSim.sweepList, qSim.times, parityDigit, irregular=irreg)\n",
    "print(JCSys._QuantumSystem__kept)"
   ]
  },
  {
   "cell_type": "code",
   "execution_count": null,
   "metadata": {
    "pycharm": {
     "is_executing": false,
     "name": "#%%\n"
    }
   },
   "outputs": [],
   "source": []
  }
 ],
 "metadata": {
  "kernelspec": {
   "display_name": "Python 3",
   "language": "python",
   "name": "python3"
  },
  "language_info": {
   "codemirror_mode": {
    "name": "ipython",
    "version": 3
   },
   "file_extension": ".py",
   "mimetype": "text/x-python",
   "name": "python",
   "nbconvert_exporter": "python",
   "pygments_lexer": "ipython3",
   "version": "3.7.6-final"
  },
  "pycharm": {
   "stem_cell": {
    "cell_type": "raw",
    "source": [],
    "metadata": {
     "collapsed": false
    }
   }
  }
 },
 "nbformat": 4,
 "nbformat_minor": 2
}