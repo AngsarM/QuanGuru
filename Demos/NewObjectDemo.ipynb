{
 "cells": [
  {
   "cell_type": "code",
   "execution_count": null,
   "metadata": {},
   "outputs": [],
   "source": [
    "from qTools import *\n",
    "import Cahit as ck\n",
    "\n",
    "import scipy.sparse as sp\n",
    "import numpy as np\n",
    "\n",
    "from functools import partial\n",
    "from multiprocessing import Pool, cpu_count\n",
    "\n",
    "import matplotlib.pyplot as plt\n",
    "import datetime"
   ]
  },
  {
   "cell_type": "code",
   "execution_count": null,
   "metadata": {},
   "outputs": [],
   "source": [
    "resonatorDimension = 200\n",
    "g = 1.79\n",
    "qfreq = 0\n",
    "resFreq = 2\n",
    "irreg = False"
   ]
  },
  {
   "cell_type": "code",
   "execution_count": null,
   "metadata": {},
   "outputs": [],
   "source": [
    "qSim = Simulation()\n",
    "JCSys = qSim.qSys\n",
    "qSim.delState = True"
   ]
  },
  {
   "cell_type": "code",
   "execution_count": null,
   "metadata": {},
   "outputs": [],
   "source": [
    "cav = Cavity(dimension=resonatorDimension, frequency=resFreq)\n",
    "JCSys.addSubSys(cav)\n",
    "\n",
    "qub = JCSys.createSubSys(subClass=Qubit)\n",
    "qub.frequency = qfreq"
   ]
  },
  {
   "cell_type": "code",
   "execution_count": null,
   "metadata": {},
   "outputs": [],
   "source": [
    "digitalRabi = qProtocol(superSys=JCSys)\n",
    "JCunitary = freeEvolution(ratio=0.5, superSys=JCSys)\n",
    "bitFlip = xGate(implementation='instant', superSys=qub)\n",
    "digitalRabi.addStep(JCunitary, bitFlip, JCunitary, JCunitary, bitFlip, JCunitary)"
   ]
  },
  {
   "cell_type": "code",
   "execution_count": null,
   "metadata": {},
   "outputs": [],
   "source": [
    "JCcoupling = JCSys.JC(cav, qub, g)"
   ]
  },
  {
   "cell_type": "code",
   "execution_count": null,
   "metadata": {},
   "outputs": [],
   "source": [
    "JCSys.initialState = [0,0]\n",
    "\n",
    "cavFreqSweep = qSim.Loop.addSweep(sys=cav, sweepKey='frequency')\n",
    "cavFreqSweep.sweepList = np.arange(-4, 4+0.05, 0.05)\n",
    "\n",
    "\"\"\"gSweep = qSim.beforeLoop.addSweep(sys=JCcoupling, sweepKey='couplingStrength')\n",
    "gSweep.sweepList = np.arange(0, 2, 0.05)\"\"\"\n",
    "qSim.finalTime = 1.2\n",
    "qSim.stepSize = 0.02"
   ]
  },
  {
   "cell_type": "code",
   "execution_count": null,
   "metadata": {},
   "outputs": [],
   "source": [
    "JCSys.constructCompSys()\n",
    "cavParity = parityEXP(cav.freeMat)\n",
    "qubPop = qub.freeMat\n",
    "def expect(qSim, state):\n",
    "    qSim.qRes.result = expectationKet(cavParity, state)\n",
    "    qSim.qRes.result = fidelityKet(qSim.qSys.initialState, state)\n",
    "\n",
    "qSim.compute = expect"
   ]
  },
  {
   "cell_type": "code",
   "execution_count": null,
   "metadata": {},
   "outputs": [],
   "source": [
    "p = Pool(processes=cpu_count())\n",
    "print('simulating')\n",
    "\n",
    "nw = datetime.datetime.now()\n",
    "\n",
    "results = qSim.run(p)\n",
    "\n",
    "en = datetime.datetime.now()\n",
    "print(en-nw)"
   ]
  },
  {
   "cell_type": "code",
   "execution_count": null,
   "metadata": {},
   "outputs": [],
   "source": [
    "fig = plt.figure(figsize=(12,9))\n",
    "setC = [0.88, 0.25, 0.02, 0.6]\n",
    "axGrids = ck.Plotting.Functions.grid(2, 1, fig=fig)\n",
    "\n",
    "ck.Plotting.SimplePlots.colorPlot(cavFreqSweep.sweepList, [x*qSim.stepSize for x in range(qSim.steps+1)], results.results[0],ax=axGrids[0], gif=fig, setC=setC)\n",
    "ck.Plotting.SimplePlots.colorPlot(cavFreqSweep.sweepList, [x*qSim.stepSize for x in range(qSim.steps+1)], results.results[1],ax=axGrids[1], gif=fig, setC=setC)"
   ]
  },
  {
   "cell_type": "code",
   "execution_count": null,
   "metadata": {},
   "outputs": [],
   "source": [
    "JCSys.reset()\n",
    "JCSys.createSysCoupling([qub,cav],[QuantumToolbox.operators.sigmax, QuantumToolbox.operators.create], couplingStrength=g)\n",
    "JCSys.createSysCoupling([cav, qub],[QuantumToolbox.operators.destroy, QuantumToolbox.operators.sigmax], couplingStrength=g)\n",
    "JCSys.couplingName = 'Rabi'\n",
    "\n",
    "print(JCSys.couplingName)"
   ]
  },
  {
   "cell_type": "code",
   "execution_count": null,
   "metadata": {},
   "outputs": [],
   "source": [
    "print('simulating')\n",
    "statesDigit = qSim.run(p)\n",
    "print(JCSys._QuantumSystem__kept)"
   ]
  },
  {
   "cell_type": "code",
   "execution_count": null,
   "metadata": {},
   "outputs": [],
   "source": [
    "fig = plt.figure(figsize=(12,9))\n",
    "setC = [0.88, 0.25, 0.02, 0.6]\n",
    "axGrids = ck.Plotting.Functions.grid(2, 1, fig=fig)\n",
    "\n",
    "ck.Plotting.SimplePlots.colorPlot(cavFreqSweep.sweepList, [x*qSim.stepSize for x in range(qSim.steps+1)], qSim.qRes.results[0],ax=axGrids[0], gif=fig, setC=setC)\n",
    "ck.Plotting.SimplePlots.colorPlot(cavFreqSweep.sweepList, [x*qSim.stepSize for x in range(qSim.steps+1)], qSim.qRes.results[1],ax=axGrids[1], gif=fig, setC=setC)"
   ]
  },
  {
   "cell_type": "code",
   "execution_count": null,
   "metadata": {},
   "outputs": [],
   "source": [
    "JCSys.reset(to='JC')\n",
    "#JCSys.addCoupling([qub,cav],[qtbox.operators.destroy, qtbox.operators.create], g)\n",
    "#JCSys.addCoupling([cav, qub],[qtbox.operators.destroy, qtbox.operators.create], g)\n",
    "JCSys.unitary = digitalRabi"
   ]
  },
  {
   "cell_type": "code",
   "execution_count": null,
   "metadata": {},
   "outputs": [],
   "source": [
    "print('simulating')\n",
    "#p = Pool(processes=cpu_count())\n",
    "cavFreqSweep.sweepList = np.arange(-2, 2+0.025, 0.025)\n",
    "'''for i in range(len(cavFreqSweep.sweepList)):\n",
    "    qSim.evolveTimeIndep(cav, cavFreqSweep.sweepList[i])'''\n",
    "results = qSim.run(p)\n",
    "print(JCSys._QuantumSystem__kept)"
   ]
  },
  {
   "cell_type": "code",
   "execution_count": null,
   "metadata": {},
   "outputs": [],
   "source": [
    "fig = plt.figure(figsize=(12,9))\n",
    "setC = [0.88, 0.25, 0.02, 0.6]\n",
    "axGrids = ck.Plotting.Functions.grid(2, 1, fig=fig)\n",
    "\n",
    "ck.Plotting.SimplePlots.colorPlot(cavFreqSweep.sweepList*2, [x*qSim.stepSize for x in range(qSim.steps+1)], qSim.qRes.results[0],ax=axGrids[0], gif=fig, setC=setC)\n",
    "ck.Plotting.SimplePlots.colorPlot(cavFreqSweep.sweepList*2, [x*qSim.stepSize for x in range(qSim.steps+1)], qSim.qRes.results[1],ax=axGrids[1], gif=fig, setC=setC)\n",
    "axGrids[0].set_xlim([-4, 4])\n",
    "axGrids[1].set_xlim([-4, 4])"
   ]
  },
  {
   "cell_type": "code",
   "execution_count": null,
   "metadata": {},
   "outputs": [],
   "source": [
    "JCSys.reset(to='Rabi')\n",
    "print('simulating')\n",
    "statesDigit = qSim.run(p)\n",
    "parityDigit = p.map(partial(expectationKetList, cavParity),statesDigit)\n",
    "fig = plt.figure(figsize=(12,9))fig = plt.figure(figsize=(12,9))\n",
    "setC = [0.88, 0.25, 0.02, 0.6]\n",
    "axGrids = ck.Plotting.Functions.grid(2, 1, fig=fig)\n",
    "\n",
    "ck.Plotting.SimplePlots.colorPlot(cavFreqSweep.sweepList, [x*qSim.stepSize for x in range(qSim.steps+1)], qSim.qRes.results[0],ax=axGrids[0], gif=fig, setC=setC)\n",
    "ck.Plotting.SimplePlots.colorPlot(cavFreqSweep.sweepList, [x*qSim.stepSize for x in range(qSim.steps+1)], qSim.qRes.results[1],ax=axGrids[1], gif=fig, setC=setC)\n",
    "print(JCSys._QuantumSystem__kept)"
   ]
  },
  {
   "cell_type": "code",
   "execution_count": null,
   "metadata": {},
   "outputs": [],
   "source": [
    "JCSys.reset(to='JC')\n",
    "JCcoupling.couplingStrength = 1\n",
    "print('simulating')\n",
    "statesDigit = qSim.run(p)\n",
    "parityDigit = p.map(partial(expectationKetList, cavParity),statesDigit)\n",
    "fig = plt.figure(figsize=(12,9))\n",
    "setC = [0.88, 0.25, 0.02, 0.6]\n",
    "axGrids = ck.Plotting.Functions.grid(2, 1, fig=fig)\n",
    "\n",
    "ck.Plotting.SimplePlots.colorPlot(cavFreqSweep.sweepList, [x*qSim.stepSize for x in range(qSim.steps+1)], qSim.qRes.results[0],ax=axGrids[0], gif=fig, setC=setC)\n",
    "ck.Plotting.SimplePlots.colorPlot(cavFreqSweep.sweepList, [x*qSim.stepSize for x in range(qSim.steps+1)], qSim.qRes.results[1],ax=axGrids[1], gif=fig, setC=setC)\n",
    "print(JCSys._QuantumSystem__kept)"
   ]
  },
  {
   "cell_type": "code",
   "execution_count": null,
   "metadata": {},
   "outputs": [],
   "source": [
    "JCSys.reset(to=2)\n",
    "print(JCSys.couplingName)\n",
    "JCcoupling.couplingStrength = 1.79\n",
    "print('simulating')\n",
    "statesDigit = qSim.run(p)\n",
    "parityDigit = p.map(partial(expectationKetList, cavParity),statesDigit)\n",
    "fig = plt.figure(figsize=(12,9))\n",
    "setC = [0.88, 0.25, 0.02, 0.6]\n",
    "axGrids = ck.Plotting.Functions.grid(2, 1, fig=fig)\n",
    "\n",
    "ck.Plotting.SimplePlots.colorPlot(cavFreqSweep.sweepList, [x*qSim.stepSize for x in range(qSim.steps+1)], qSim.qRes.results[0],ax=axGrids[0], gif=fig, setC=setC)\n",
    "ck.Plotting.SimplePlots.colorPlot(cavFreqSweep.sweepList, [x*qSim.stepSize for x in range(qSim.steps+1)], qSim.qRes.results[1],ax=axGrids[1], gif=fig, setC=setC)\n",
    "print(JCSys._QuantumSystem__kept)"
   ]
  },
  {
   "cell_type": "code",
   "execution_count": null,
   "metadata": {
    "pycharm": {
     "is_executing": false,
     "name": "#%%\n"
    }
   },
   "outputs": [],
   "source": []
  }
 ],
 "metadata": {
  "kernelspec": {
   "display_name": "Python 3",
   "language": "python",
   "name": "python3"
  },
  "language_info": {
   "codemirror_mode": {
    "name": "ipython",
    "version": 3
   },
   "file_extension": ".py",
   "mimetype": "text/x-python",
   "name": "python",
   "nbconvert_exporter": "python",
   "pygments_lexer": "ipython3",
   "version": "3.7.6-final"
  },
  "pycharm": {
   "stem_cell": {
    "cell_type": "raw",
    "source": [],
    "metadata": {
     "collapsed": false
    }
   }
  }
 },
 "nbformat": 4,
 "nbformat_minor": 2
}