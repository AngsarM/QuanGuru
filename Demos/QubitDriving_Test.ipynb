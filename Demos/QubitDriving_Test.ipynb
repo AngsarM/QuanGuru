{
 "cells": [
  {
   "cell_type": "code",
   "execution_count": 1,
   "metadata": {},
   "outputs": [],
   "source": [
    "from qTools import *\n",
    "\n",
    "import numpy as np\n",
    "from datetime import datetime\n",
    "import os\n",
    "import qutip\n",
    "\n",
    "%matplotlib inline\n",
    "import matplotlib.pyplot as plt\n",
    "import matplotlib as mpl"
   ]
  },
  {
   "cell_type": "markdown",
   "metadata": {},
   "source": [
    "## Drive coupling extension \n",
    "### (To be put together later)"
   ]
  },
  {
   "cell_type": "markdown",
   "metadata": {},
   "source": [
    "## System Parameters"
   ]
  },
  {
   "cell_type": "code",
   "execution_count": 2,
   "metadata": {},
   "outputs": [],
   "source": [
    "omega_q     = 10\n",
    "omega_drive = 10 + 1\n",
    "omega_Rabi  = 10\n",
    "\n",
    "detuning = omega_q - omega_drive"
   ]
  },
  {
   "cell_type": "markdown",
   "metadata": {},
   "source": [
    "## Creating Qubit and Drive"
   ]
  },
  {
   "cell_type": "code",
   "execution_count": 3,
   "metadata": {},
   "outputs": [],
   "source": [
    "qubit = Qubit(frequency=omega_q)\n",
    "\n",
    "#drive terms\n",
    "drive_term1 = qubit.addTerm(sigmam, omega_Rabi)\n",
    "drive_term2 = qubit.addTerm(sigmap, omega_Rabi)"
   ]
  },
  {
   "cell_type": "code",
   "execution_count": 4,
   "metadata": {},
   "outputs": [],
   "source": [
    "qubit.initialState = {0:0.5, 1:0.5}\n",
    "# qubit.initialState = qubit.initialState * (np.exp(-1j*0.3))"
   ]
  },
  {
   "cell_type": "code",
   "execution_count": 5,
   "metadata": {
    "tags": []
   },
   "outputs": [
    {
     "output_type": "stream",
     "name": "stdout",
     "text": "[[0.70710678]\n [0.70710678]]\n"
    }
   ],
   "source": [
    "print(qubit.initialState.A)"
   ]
  },
  {
   "cell_type": "markdown",
   "metadata": {},
   "source": [
    "## (For time dependency)"
   ]
  },
  {
   "cell_type": "code",
   "execution_count": 6,
   "metadata": {},
   "outputs": [
    {
     "output_type": "execute_result",
     "data": {
      "text/plain": "\"tSweep = qubit.simulation.timeDependency.createSweep(system=qubit)\\n\\ndef coeff_sweep(sweep):\\n    qubit = sweep.system\\n    time = qubit.simulation.stepSize * sweep.index\\n    \\n    qubit.subSys['Qubit1term2'].frequency = np.conj(drive_coeff(time))\\n    qubit.subSys['Qubit1term3'].frequency = drive_coeff(time)\\n\\ntSweep.sweepFunction = coeff_sweep\""
     },
     "metadata": {},
     "execution_count": 6
    }
   ],
   "source": [
    "drive_coeff = lambda t: np.exp(-1j * detuning * t)\n",
    "drive_coeffc = lambda t: np.exp(1j * detuning * t)\n",
    "\n",
    "qubit.subSys['Qubit1term2'].timeDependency = drive_coeffc\n",
    "qubit.subSys['Qubit1term3'].timeDependency = drive_coeff\n",
    "\n",
    "\"\"\"tSweep = qubit.simulation.timeDependency.createSweep(system=qubit)\n",
    "\n",
    "def coeff_sweep(sweep):\n",
    "    qubit = sweep.system\n",
    "    time = qubit.simulation.stepSize * sweep.index\n",
    "    \n",
    "    qubit.subSys['Qubit1term2'].frequency = np.conj(drive_coeff(time))\n",
    "    qubit.subSys['Qubit1term3'].frequency = drive_coeff(time)\n",
    "\n",
    "tSweep.sweepFunction = coeff_sweep\"\"\""
   ]
  },
  {
   "cell_type": "markdown",
   "metadata": {},
   "source": [
    "## Define Simulation Output"
   ]
  },
  {
   "cell_type": "code",
   "execution_count": 7,
   "metadata": {},
   "outputs": [],
   "source": [
    "def expect(sim, state):\n",
    "    # Fidelity to intial\n",
    "    sim.qRes.results['fidelity'].append(fidelityKet(state, qubit.initialState))\n",
    "\n",
    "    # Bloch Sphere coordinates\n",
    "    sim.qRes.results['x'].append(expectationKet(sigmax(), state))\n",
    "    sim.qRes.results['y'].append(expectationKet(sigmay(), state))\n",
    "    sim.qRes.results['z'].append(expectationKet(sigmaz(), state))\n",
    "\n",
    "qubit.simulation.compute = expect"
   ]
  },
  {
   "cell_type": "markdown",
   "metadata": {},
   "source": [
    "## Simulation Parameters and Sweeps"
   ]
  },
  {
   "cell_type": "code",
   "execution_count": 8,
   "metadata": {
    "tags": []
   },
   "outputs": [
    {
     "output_type": "stream",
     "name": "stdout",
     "text": "250\n"
    }
   ],
   "source": [
    "qubit.simulation.totalTime = 0.25\n",
    "qubit.simulation.stepSize = 0.001\n",
    "qubit.simulation.delStates = True\n",
    "print(qubit.simulation.stepCount)"
   ]
  },
  {
   "cell_type": "code",
   "execution_count": 9,
   "metadata": {},
   "outputs": [],
   "source": [
    "#detuning_sweep = qubit.simulation.Sweep.createSweep(system=qubit, sweepKey='frequency', sweepList=np.linspace(0, 20, 5))"
   ]
  },
  {
   "cell_type": "markdown",
   "metadata": {},
   "source": [
    "## Run Simulation"
   ]
  },
  {
   "cell_type": "code",
   "execution_count": 10,
   "metadata": {
    "tags": []
   },
   "outputs": [
    {
     "output_type": "execute_result",
     "data": {
      "text/plain": "<qTools.classes.QRes.qResults at 0x7fbca8a64b80>"
     },
     "metadata": {},
     "execution_count": 10
    }
   ],
   "source": [
    "qubit.simulation.run()"
   ]
  },
  {
   "cell_type": "code",
   "execution_count": 11,
   "metadata": {},
   "outputs": [
    {
     "output_type": "execute_result",
     "data": {
      "text/plain": "250"
     },
     "metadata": {},
     "execution_count": 11
    }
   ],
   "source": [
    "freeEvolution.numberOfExponentiations"
   ]
  },
  {
   "cell_type": "markdown",
   "metadata": {},
   "source": [
    "## Plotting"
   ]
  },
  {
   "cell_type": "code",
   "execution_count": null,
   "metadata": {},
   "outputs": [],
   "source": [
    "# plt.pcolormesh(np.arange(0, qSim.totalTime + qSim.stepSize, qSim.stepSize), wSweep.sweepList, qSim.qRes.results['fidelity'])\n",
    "# plt.xlabel('Time (μs)')\n",
    "# plt.ylabel('Frequency (MHz)')\n",
    "# plt.show()"
   ]
  },
  {
   "cell_type": "code",
   "execution_count": 12,
   "metadata": {},
   "outputs": [
    {
     "output_type": "display_data",
     "data": {
      "text/plain": "<Figure size 432x288 with 1 Axes>",
      "image/svg+xml": "<?xml version=\"1.0\" encoding=\"utf-8\" standalone=\"no\"?>\n<!DOCTYPE svg PUBLIC \"-//W3C//DTD SVG 1.1//EN\"\n  \"http://www.w3.org/Graphics/SVG/1.1/DTD/svg11.dtd\">\n<!-- Created with matplotlib (https://matplotlib.org/) -->\n<svg height=\"248.518125pt\" version=\"1.1\" viewBox=\"0 0 386.845313 248.518125\" width=\"386.845313pt\" xmlns=\"http://www.w3.org/2000/svg\" xmlns:xlink=\"http://www.w3.org/1999/xlink\">\n <defs>\n  <style type=\"text/css\">\n*{stroke-linecap:butt;stroke-linejoin:round;}\n  </style>\n </defs>\n <g id=\"figure_1\">\n  <g id=\"patch_1\">\n   <path d=\"M 0 248.518125 \nL 386.845313 248.518125 \nL 386.845313 0 \nL 0 0 \nz\n\" style=\"fill:none;\"/>\n  </g>\n  <g id=\"axes_1\">\n   <g id=\"patch_2\">\n    <path d=\"M 44.845313 224.64 \nL 379.645313 224.64 \nL 379.645313 7.2 \nL 44.845313 7.2 \nz\n\" style=\"fill:#ffffff;\"/>\n   </g>\n   <g id=\"matplotlib.axis_1\">\n    <g id=\"xtick_1\">\n     <g id=\"line2d_1\">\n      <defs>\n       <path d=\"M 0 0 \nL 0 3.5 \n\" id=\"mebe35f1311\" style=\"stroke:#000000;stroke-width:0.8;\"/>\n      </defs>\n      <g>\n       <use style=\"stroke:#000000;stroke-width:0.8;\" x=\"60.063494\" xlink:href=\"#mebe35f1311\" y=\"224.64\"/>\n      </g>\n     </g>\n     <g id=\"text_1\">\n      <!-- 0.00 -->\n      <defs>\n       <path d=\"M 31.78125 66.40625 \nQ 24.171875 66.40625 20.328125 58.90625 \nQ 16.5 51.421875 16.5 36.375 \nQ 16.5 21.390625 20.328125 13.890625 \nQ 24.171875 6.390625 31.78125 6.390625 \nQ 39.453125 6.390625 43.28125 13.890625 \nQ 47.125 21.390625 47.125 36.375 \nQ 47.125 51.421875 43.28125 58.90625 \nQ 39.453125 66.40625 31.78125 66.40625 \nz\nM 31.78125 74.21875 \nQ 44.046875 74.21875 50.515625 64.515625 \nQ 56.984375 54.828125 56.984375 36.375 \nQ 56.984375 17.96875 50.515625 8.265625 \nQ 44.046875 -1.421875 31.78125 -1.421875 \nQ 19.53125 -1.421875 13.0625 8.265625 \nQ 6.59375 17.96875 6.59375 36.375 \nQ 6.59375 54.828125 13.0625 64.515625 \nQ 19.53125 74.21875 31.78125 74.21875 \nz\n\" id=\"DejaVuSans-48\"/>\n       <path d=\"M 10.6875 12.40625 \nL 21 12.40625 \nL 21 0 \nL 10.6875 0 \nz\n\" id=\"DejaVuSans-46\"/>\n      </defs>\n      <g transform=\"translate(48.930682 239.238437)scale(0.1 -0.1)\">\n       <use xlink:href=\"#DejaVuSans-48\"/>\n       <use x=\"63.623047\" xlink:href=\"#DejaVuSans-46\"/>\n       <use x=\"95.410156\" xlink:href=\"#DejaVuSans-48\"/>\n       <use x=\"159.033203\" xlink:href=\"#DejaVuSans-48\"/>\n      </g>\n     </g>\n    </g>\n    <g id=\"xtick_2\">\n     <g id=\"line2d_2\">\n      <g>\n       <use style=\"stroke:#000000;stroke-width:0.8;\" x=\"120.936222\" xlink:href=\"#mebe35f1311\" y=\"224.64\"/>\n      </g>\n     </g>\n     <g id=\"text_2\">\n      <!-- 0.05 -->\n      <defs>\n       <path d=\"M 10.796875 72.90625 \nL 49.515625 72.90625 \nL 49.515625 64.59375 \nL 19.828125 64.59375 \nL 19.828125 46.734375 \nQ 21.96875 47.46875 24.109375 47.828125 \nQ 26.265625 48.1875 28.421875 48.1875 \nQ 40.625 48.1875 47.75 41.5 \nQ 54.890625 34.8125 54.890625 23.390625 \nQ 54.890625 11.625 47.5625 5.09375 \nQ 40.234375 -1.421875 26.90625 -1.421875 \nQ 22.3125 -1.421875 17.546875 -0.640625 \nQ 12.796875 0.140625 7.71875 1.703125 \nL 7.71875 11.625 \nQ 12.109375 9.234375 16.796875 8.0625 \nQ 21.484375 6.890625 26.703125 6.890625 \nQ 35.15625 6.890625 40.078125 11.328125 \nQ 45.015625 15.765625 45.015625 23.390625 \nQ 45.015625 31 40.078125 35.4375 \nQ 35.15625 39.890625 26.703125 39.890625 \nQ 22.75 39.890625 18.8125 39.015625 \nQ 14.890625 38.140625 10.796875 36.28125 \nz\n\" id=\"DejaVuSans-53\"/>\n      </defs>\n      <g transform=\"translate(109.803409 239.238437)scale(0.1 -0.1)\">\n       <use xlink:href=\"#DejaVuSans-48\"/>\n       <use x=\"63.623047\" xlink:href=\"#DejaVuSans-46\"/>\n       <use x=\"95.410156\" xlink:href=\"#DejaVuSans-48\"/>\n       <use x=\"159.033203\" xlink:href=\"#DejaVuSans-53\"/>\n      </g>\n     </g>\n    </g>\n    <g id=\"xtick_3\">\n     <g id=\"line2d_3\">\n      <g>\n       <use style=\"stroke:#000000;stroke-width:0.8;\" x=\"181.808949\" xlink:href=\"#mebe35f1311\" y=\"224.64\"/>\n      </g>\n     </g>\n     <g id=\"text_3\">\n      <!-- 0.10 -->\n      <defs>\n       <path d=\"M 12.40625 8.296875 \nL 28.515625 8.296875 \nL 28.515625 63.921875 \nL 10.984375 60.40625 \nL 10.984375 69.390625 \nL 28.421875 72.90625 \nL 38.28125 72.90625 \nL 38.28125 8.296875 \nL 54.390625 8.296875 \nL 54.390625 0 \nL 12.40625 0 \nz\n\" id=\"DejaVuSans-49\"/>\n      </defs>\n      <g transform=\"translate(170.676136 239.238437)scale(0.1 -0.1)\">\n       <use xlink:href=\"#DejaVuSans-48\"/>\n       <use x=\"63.623047\" xlink:href=\"#DejaVuSans-46\"/>\n       <use x=\"95.410156\" xlink:href=\"#DejaVuSans-49\"/>\n       <use x=\"159.033203\" xlink:href=\"#DejaVuSans-48\"/>\n      </g>\n     </g>\n    </g>\n    <g id=\"xtick_4\">\n     <g id=\"line2d_4\">\n      <g>\n       <use style=\"stroke:#000000;stroke-width:0.8;\" x=\"242.681676\" xlink:href=\"#mebe35f1311\" y=\"224.64\"/>\n      </g>\n     </g>\n     <g id=\"text_4\">\n      <!-- 0.15 -->\n      <g transform=\"translate(231.548864 239.238437)scale(0.1 -0.1)\">\n       <use xlink:href=\"#DejaVuSans-48\"/>\n       <use x=\"63.623047\" xlink:href=\"#DejaVuSans-46\"/>\n       <use x=\"95.410156\" xlink:href=\"#DejaVuSans-49\"/>\n       <use x=\"159.033203\" xlink:href=\"#DejaVuSans-53\"/>\n      </g>\n     </g>\n    </g>\n    <g id=\"xtick_5\">\n     <g id=\"line2d_5\">\n      <g>\n       <use style=\"stroke:#000000;stroke-width:0.8;\" x=\"303.554403\" xlink:href=\"#mebe35f1311\" y=\"224.64\"/>\n      </g>\n     </g>\n     <g id=\"text_5\">\n      <!-- 0.20 -->\n      <defs>\n       <path d=\"M 19.1875 8.296875 \nL 53.609375 8.296875 \nL 53.609375 0 \nL 7.328125 0 \nL 7.328125 8.296875 \nQ 12.9375 14.109375 22.625 23.890625 \nQ 32.328125 33.6875 34.8125 36.53125 \nQ 39.546875 41.84375 41.421875 45.53125 \nQ 43.3125 49.21875 43.3125 52.78125 \nQ 43.3125 58.59375 39.234375 62.25 \nQ 35.15625 65.921875 28.609375 65.921875 \nQ 23.96875 65.921875 18.8125 64.3125 \nQ 13.671875 62.703125 7.8125 59.421875 \nL 7.8125 69.390625 \nQ 13.765625 71.78125 18.9375 73 \nQ 24.125 74.21875 28.421875 74.21875 \nQ 39.75 74.21875 46.484375 68.546875 \nQ 53.21875 62.890625 53.21875 53.421875 \nQ 53.21875 48.921875 51.53125 44.890625 \nQ 49.859375 40.875 45.40625 35.40625 \nQ 44.1875 33.984375 37.640625 27.21875 \nQ 31.109375 20.453125 19.1875 8.296875 \nz\n\" id=\"DejaVuSans-50\"/>\n      </defs>\n      <g transform=\"translate(292.421591 239.238437)scale(0.1 -0.1)\">\n       <use xlink:href=\"#DejaVuSans-48\"/>\n       <use x=\"63.623047\" xlink:href=\"#DejaVuSans-46\"/>\n       <use x=\"95.410156\" xlink:href=\"#DejaVuSans-50\"/>\n       <use x=\"159.033203\" xlink:href=\"#DejaVuSans-48\"/>\n      </g>\n     </g>\n    </g>\n    <g id=\"xtick_6\">\n     <g id=\"line2d_6\">\n      <g>\n       <use style=\"stroke:#000000;stroke-width:0.8;\" x=\"364.427131\" xlink:href=\"#mebe35f1311\" y=\"224.64\"/>\n      </g>\n     </g>\n     <g id=\"text_6\">\n      <!-- 0.25 -->\n      <g transform=\"translate(353.294318 239.238437)scale(0.1 -0.1)\">\n       <use xlink:href=\"#DejaVuSans-48\"/>\n       <use x=\"63.623047\" xlink:href=\"#DejaVuSans-46\"/>\n       <use x=\"95.410156\" xlink:href=\"#DejaVuSans-50\"/>\n       <use x=\"159.033203\" xlink:href=\"#DejaVuSans-53\"/>\n      </g>\n     </g>\n    </g>\n   </g>\n   <g id=\"matplotlib.axis_2\">\n    <g id=\"ytick_1\">\n     <g id=\"line2d_7\">\n      <defs>\n       <path d=\"M 0 0 \nL -3.5 0 \n\" id=\"m3f8a27413e\" style=\"stroke:#000000;stroke-width:0.8;\"/>\n      </defs>\n      <g>\n       <use style=\"stroke:#000000;stroke-width:0.8;\" x=\"44.845313\" xlink:href=\"#m3f8a27413e\" y=\"216.078195\"/>\n      </g>\n     </g>\n     <g id=\"text_7\">\n      <!-- −1.00 -->\n      <defs>\n       <path d=\"M 10.59375 35.5 \nL 73.1875 35.5 \nL 73.1875 27.203125 \nL 10.59375 27.203125 \nz\n\" id=\"DejaVuSans-8722\"/>\n      </defs>\n      <g transform=\"translate(7.2 219.877414)scale(0.1 -0.1)\">\n       <use xlink:href=\"#DejaVuSans-8722\"/>\n       <use x=\"83.789062\" xlink:href=\"#DejaVuSans-49\"/>\n       <use x=\"147.412109\" xlink:href=\"#DejaVuSans-46\"/>\n       <use x=\"179.199219\" xlink:href=\"#DejaVuSans-48\"/>\n       <use x=\"242.822266\" xlink:href=\"#DejaVuSans-48\"/>\n      </g>\n     </g>\n    </g>\n    <g id=\"ytick_2\">\n     <g id=\"line2d_8\">\n      <g>\n       <use style=\"stroke:#000000;stroke-width:0.8;\" x=\"44.845313\" xlink:href=\"#m3f8a27413e\" y=\"191.203875\"/>\n      </g>\n     </g>\n     <g id=\"text_8\">\n      <!-- −0.75 -->\n      <defs>\n       <path d=\"M 8.203125 72.90625 \nL 55.078125 72.90625 \nL 55.078125 68.703125 \nL 28.609375 0 \nL 18.3125 0 \nL 43.21875 64.59375 \nL 8.203125 64.59375 \nz\n\" id=\"DejaVuSans-55\"/>\n      </defs>\n      <g transform=\"translate(7.2 195.003094)scale(0.1 -0.1)\">\n       <use xlink:href=\"#DejaVuSans-8722\"/>\n       <use x=\"83.789062\" xlink:href=\"#DejaVuSans-48\"/>\n       <use x=\"147.412109\" xlink:href=\"#DejaVuSans-46\"/>\n       <use x=\"179.199219\" xlink:href=\"#DejaVuSans-55\"/>\n       <use x=\"242.822266\" xlink:href=\"#DejaVuSans-53\"/>\n      </g>\n     </g>\n    </g>\n    <g id=\"ytick_3\">\n     <g id=\"line2d_9\">\n      <g>\n       <use style=\"stroke:#000000;stroke-width:0.8;\" x=\"44.845313\" xlink:href=\"#m3f8a27413e\" y=\"166.329555\"/>\n      </g>\n     </g>\n     <g id=\"text_9\">\n      <!-- −0.50 -->\n      <g transform=\"translate(7.2 170.128774)scale(0.1 -0.1)\">\n       <use xlink:href=\"#DejaVuSans-8722\"/>\n       <use x=\"83.789062\" xlink:href=\"#DejaVuSans-48\"/>\n       <use x=\"147.412109\" xlink:href=\"#DejaVuSans-46\"/>\n       <use x=\"179.199219\" xlink:href=\"#DejaVuSans-53\"/>\n       <use x=\"242.822266\" xlink:href=\"#DejaVuSans-48\"/>\n      </g>\n     </g>\n    </g>\n    <g id=\"ytick_4\">\n     <g id=\"line2d_10\">\n      <g>\n       <use style=\"stroke:#000000;stroke-width:0.8;\" x=\"44.845313\" xlink:href=\"#m3f8a27413e\" y=\"141.455235\"/>\n      </g>\n     </g>\n     <g id=\"text_10\">\n      <!-- −0.25 -->\n      <g transform=\"translate(7.2 145.254454)scale(0.1 -0.1)\">\n       <use xlink:href=\"#DejaVuSans-8722\"/>\n       <use x=\"83.789062\" xlink:href=\"#DejaVuSans-48\"/>\n       <use x=\"147.412109\" xlink:href=\"#DejaVuSans-46\"/>\n       <use x=\"179.199219\" xlink:href=\"#DejaVuSans-50\"/>\n       <use x=\"242.822266\" xlink:href=\"#DejaVuSans-53\"/>\n      </g>\n     </g>\n    </g>\n    <g id=\"ytick_5\">\n     <g id=\"line2d_11\">\n      <g>\n       <use style=\"stroke:#000000;stroke-width:0.8;\" x=\"44.845313\" xlink:href=\"#m3f8a27413e\" y=\"116.580916\"/>\n      </g>\n     </g>\n     <g id=\"text_11\">\n      <!-- 0.00 -->\n      <g transform=\"translate(15.579688 120.380134)scale(0.1 -0.1)\">\n       <use xlink:href=\"#DejaVuSans-48\"/>\n       <use x=\"63.623047\" xlink:href=\"#DejaVuSans-46\"/>\n       <use x=\"95.410156\" xlink:href=\"#DejaVuSans-48\"/>\n       <use x=\"159.033203\" xlink:href=\"#DejaVuSans-48\"/>\n      </g>\n     </g>\n    </g>\n    <g id=\"ytick_6\">\n     <g id=\"line2d_12\">\n      <g>\n       <use style=\"stroke:#000000;stroke-width:0.8;\" x=\"44.845313\" xlink:href=\"#m3f8a27413e\" y=\"91.706596\"/>\n      </g>\n     </g>\n     <g id=\"text_12\">\n      <!-- 0.25 -->\n      <g transform=\"translate(15.579688 95.505815)scale(0.1 -0.1)\">\n       <use xlink:href=\"#DejaVuSans-48\"/>\n       <use x=\"63.623047\" xlink:href=\"#DejaVuSans-46\"/>\n       <use x=\"95.410156\" xlink:href=\"#DejaVuSans-50\"/>\n       <use x=\"159.033203\" xlink:href=\"#DejaVuSans-53\"/>\n      </g>\n     </g>\n    </g>\n    <g id=\"ytick_7\">\n     <g id=\"line2d_13\">\n      <g>\n       <use style=\"stroke:#000000;stroke-width:0.8;\" x=\"44.845313\" xlink:href=\"#m3f8a27413e\" y=\"66.832276\"/>\n      </g>\n     </g>\n     <g id=\"text_13\">\n      <!-- 0.50 -->\n      <g transform=\"translate(15.579688 70.631495)scale(0.1 -0.1)\">\n       <use xlink:href=\"#DejaVuSans-48\"/>\n       <use x=\"63.623047\" xlink:href=\"#DejaVuSans-46\"/>\n       <use x=\"95.410156\" xlink:href=\"#DejaVuSans-53\"/>\n       <use x=\"159.033203\" xlink:href=\"#DejaVuSans-48\"/>\n      </g>\n     </g>\n    </g>\n    <g id=\"ytick_8\">\n     <g id=\"line2d_14\">\n      <g>\n       <use style=\"stroke:#000000;stroke-width:0.8;\" x=\"44.845313\" xlink:href=\"#m3f8a27413e\" y=\"41.957956\"/>\n      </g>\n     </g>\n     <g id=\"text_14\">\n      <!-- 0.75 -->\n      <g transform=\"translate(15.579688 45.757175)scale(0.1 -0.1)\">\n       <use xlink:href=\"#DejaVuSans-48\"/>\n       <use x=\"63.623047\" xlink:href=\"#DejaVuSans-46\"/>\n       <use x=\"95.410156\" xlink:href=\"#DejaVuSans-55\"/>\n       <use x=\"159.033203\" xlink:href=\"#DejaVuSans-53\"/>\n      </g>\n     </g>\n    </g>\n    <g id=\"ytick_9\">\n     <g id=\"line2d_15\">\n      <g>\n       <use style=\"stroke:#000000;stroke-width:0.8;\" x=\"44.845313\" xlink:href=\"#m3f8a27413e\" y=\"17.083636\"/>\n      </g>\n     </g>\n     <g id=\"text_15\">\n      <!-- 1.00 -->\n      <g transform=\"translate(15.579688 20.882855)scale(0.1 -0.1)\">\n       <use xlink:href=\"#DejaVuSans-49\"/>\n       <use x=\"63.623047\" xlink:href=\"#DejaVuSans-46\"/>\n       <use x=\"95.410156\" xlink:href=\"#DejaVuSans-48\"/>\n       <use x=\"159.033203\" xlink:href=\"#DejaVuSans-48\"/>\n      </g>\n     </g>\n    </g>\n   </g>\n   <g id=\"line2d_16\">\n    <path clip-path=\"url(#pc376af2881)\" d=\"M 60.063494 17.083636 \nL 61.280949 17.279969 \nL 62.498403 17.868162 \nL 63.715858 18.845804 \nL 64.933313 20.208888 \nL 66.150767 21.951826 \nL 67.368222 24.067474 \nL 68.585676 26.547158 \nL 69.803131 29.380715 \nL 71.020585 32.55653 \nL 73.455494 39.881506 \nL 75.890403 48.402104 \nL 78.325313 57.978755 \nL 80.760222 68.454594 \nL 84.412585 85.475624 \nL 89.282403 109.624349 \nL 95.369676 139.920936 \nL 99.02204 156.968252 \nL 101.456949 167.468314 \nL 103.891858 177.074091 \nL 106.326767 185.628235 \nL 108.761676 192.990623 \nL 109.979131 196.1864 \nL 111.196585 199.04065 \nL 112.41404 201.541671 \nL 113.631494 203.67921 \nL 114.848949 205.444504 \nL 116.066403 206.830316 \nL 117.283858 207.830964 \nL 118.501313 208.442346 \nL 119.718767 208.661954 \nL 120.936222 208.488887 \nL 122.153676 207.923854 \nL 123.371131 206.96917 \nL 124.588585 205.628749 \nL 125.80604 203.908083 \nL 127.023494 201.814227 \nL 128.240949 199.355761 \nL 129.458403 196.542765 \nL 130.675858 193.386768 \nL 133.110767 186.098873 \nL 135.545676 177.611451 \nL 137.980585 168.063528 \nL 140.415494 157.611501 \nL 144.067858 140.616153 \nL 148.937676 116.481625 \nL 155.024949 86.169653 \nL 158.677313 69.096059 \nL 161.112222 58.571941 \nL 163.547131 48.937349 \nL 165.98204 40.350127 \nL 168.416949 32.950967 \nL 169.634403 29.735611 \nL 170.851858 26.861099 \nL 172.069313 24.339219 \nL 173.286767 22.180312 \nL 174.504222 20.393233 \nL 175.721676 18.985312 \nL 176.939131 17.962325 \nL 178.156585 17.32847 \nL 179.37404 17.08635 \nL 180.591494 17.236962 \nL 181.808949 17.779694 \nL 183.026403 18.712325 \nL 184.243858 20.031036 \nL 185.461313 21.730427 \nL 186.678767 23.803536 \nL 187.896222 26.241869 \nL 189.113676 29.035435 \nL 190.331131 32.172786 \nL 192.76604 39.426062 \nL 195.200949 47.882918 \nL 197.635858 57.404858 \nL 200.070767 67.835936 \nL 203.723131 84.810088 \nL 208.592949 108.936664 \nL 214.680222 139.272049 \nL 218.332585 156.376756 \nL 220.767494 166.92813 \nL 223.202403 176.594702 \nL 225.637313 185.218119 \nL 228.072222 192.657114 \nL 229.289676 195.893556 \nL 230.507131 198.78982 \nL 231.724585 201.334033 \nL 232.94204 203.515763 \nL 234.159494 205.326064 \nL 235.376949 206.757513 \nL 236.594403 207.804239 \nL 237.811858 208.461949 \nL 239.029313 208.727944 \nL 240.246767 208.601132 \nL 241.464222 208.08203 \nL 242.681676 207.172764 \nL 243.899131 205.877058 \nL 245.116585 204.200223 \nL 246.33404 202.149129 \nL 247.551494 199.732184 \nL 248.768949 196.959293 \nL 249.986403 193.841821 \nL 252.421313 186.625608 \nL 254.856222 178.201743 \nL 257.291131 168.708206 \nL 259.72604 158.300507 \nL 263.378403 141.351256 \nL 268.248222 117.237771 \nL 274.335494 86.885914 \nL 277.987858 69.75463 \nL 280.422767 59.179209 \nL 282.857676 49.48403 \nL 285.292585 40.827962 \nL 287.727494 33.352857 \nL 288.944949 30.097262 \nL 290.162403 27.181225 \nL 291.379858 24.616706 \nL 292.597313 22.414229 \nL 293.814767 20.582829 \nL 295.032222 19.130024 \nL 296.249676 18.061778 \nL 297.467131 17.38248 \nL 298.684585 17.094923 \nL 299.90204 17.200295 \nL 301.119494 17.698173 \nL 302.336949 18.586525 \nL 303.554403 19.861718 \nL 304.771858 21.518535 \nL 305.989313 23.550191 \nL 307.206767 25.948367 \nL 308.424222 28.703241 \nL 309.641676 31.803526 \nL 312.076585 38.988166 \nL 314.511494 47.384657 \nL 316.946403 56.855516 \nL 319.381313 67.245657 \nL 323.033676 84.178873 \nL 327.903494 108.291252 \nL 333.990767 138.674633 \nL 337.643131 155.841468 \nL 340.07804 166.446868 \nL 342.512949 176.176533 \nL 344.947858 184.871068 \nL 347.382767 192.38803 \nL 348.600222 195.665624 \nL 349.817676 198.604262 \nL 351.035131 201.191894 \nL 352.252585 203.41791 \nL 353.47004 205.273179 \nL 354.687494 206.750093 \nL 355.904949 207.842593 \nL 357.122403 208.546197 \nL 358.339858 208.858016 \nL 359.557313 208.776769 \nL 360.774767 208.302784 \nL 361.992222 207.438001 \nL 363.209676 206.185961 \nL 364.427131 204.551794 \nL 364.427131 204.551794 \n\" style=\"fill:none;stroke:#0000ff;stroke-linecap:square;stroke-width:1.5;\"/>\n   </g>\n   <g id=\"line2d_17\">\n    <path clip-path=\"url(#pc376af2881)\" d=\"M 60.063494 116.580916 \nL 66.150767 85.855355 \nL 69.803131 68.731404 \nL 72.23804 58.258839 \nL 74.672949 48.743443 \nL 77.107858 40.341396 \nL 79.542767 33.19062 \nL 80.760222 30.122002 \nL 81.977676 27.408512 \nL 83.195131 25.061301 \nL 84.412585 23.090019 \nL 85.63004 21.502772 \nL 86.847494 20.306088 \nL 88.064949 19.504894 \nL 89.282403 19.102493 \nL 90.499858 19.100551 \nL 91.717313 19.49909 \nL 92.934767 20.296489 \nL 94.152222 21.489489 \nL 95.369676 23.073209 \nL 96.587131 25.041162 \nL 97.804585 27.385286 \nL 99.02204 30.095973 \nL 100.239494 33.162112 \nL 102.674403 40.309058 \nL 105.109313 48.709021 \nL 107.544222 58.22435 \nL 109.979131 68.699102 \nL 113.631494 85.830986 \nL 118.501313 110.32924 \nL 125.80604 147.353509 \nL 129.458403 164.512682 \nL 131.893313 175.011997 \nL 134.328222 184.556542 \nL 136.763131 192.989912 \nL 139.19804 200.173926 \nL 140.415494 203.259791 \nL 141.632949 205.990894 \nL 142.850403 208.356044 \nL 144.067858 210.345551 \nL 145.285313 211.951264 \nL 146.502767 213.166613 \nL 147.720222 213.986624 \nL 148.937676 214.407951 \nL 150.155131 214.428882 \nL 151.372585 214.049347 \nL 152.59004 213.270923 \nL 153.807494 212.096822 \nL 155.024949 210.53188 \nL 156.242403 208.582538 \nL 157.459858 206.256814 \nL 158.677313 203.564272 \nL 159.894767 200.515981 \nL 161.112222 197.124468 \nL 163.547131 189.368881 \nL 165.98204 180.424847 \nL 168.416949 170.439191 \nL 170.851858 159.575818 \nL 174.504222 142.02829 \nL 180.591494 111.064362 \nL 185.461313 86.573372 \nL 189.113676 69.424986 \nL 191.548585 58.929481 \nL 193.983494 49.386234 \nL 196.418403 40.951863 \nL 198.853313 33.764798 \nL 200.070767 30.676725 \nL 201.288222 27.943009 \nL 202.505676 25.574881 \nL 203.723131 23.582073 \nL 204.940585 21.972775 \nL 206.15804 20.753605 \nL 207.375494 19.929577 \nL 208.592949 19.504086 \nL 209.810403 19.478888 \nL 211.027858 19.8541 \nL 212.245313 20.628191 \nL 213.462767 21.797996 \nL 214.680222 23.358725 \nL 215.897676 25.303984 \nL 217.115131 27.6258 \nL 218.332585 30.314654 \nL 219.55004 33.359523 \nL 220.767494 36.74792 \nL 223.202403 44.498366 \nL 225.637313 53.438976 \nL 228.072222 63.423216 \nL 230.507131 74.287439 \nL 234.159494 91.840975 \nL 240.246767 122.828854 \nL 245.116585 147.352268 \nL 248.768949 164.53267 \nL 251.203858 175.053017 \nL 253.638767 184.623727 \nL 256.073676 193.087983 \nL 258.508585 200.307117 \nL 259.72604 203.411959 \nL 260.943494 206.162885 \nL 262.160949 208.548626 \nL 263.378403 210.559407 \nL 264.595858 212.186998 \nL 265.813313 213.424736 \nL 267.030767 214.267564 \nL 268.248222 214.712041 \nL 269.465676 214.756364 \nL 270.683131 214.40037 \nL 271.900585 213.645542 \nL 273.11804 212.494998 \nL 274.335494 210.953479 \nL 275.552949 209.027334 \nL 276.770403 206.724487 \nL 277.987858 204.054411 \nL 279.205313 201.028084 \nL 280.422767 197.657946 \nL 282.857676 189.943 \nL 285.292585 181.036254 \nL 287.727494 171.083932 \nL 290.162403 160.249401 \nL 293.814767 142.735708 \nL 299.90204 111.800221 \nL 304.771858 87.305205 \nL 308.424222 70.138157 \nL 310.859131 59.623067 \nL 313.29404 50.054859 \nL 315.728949 41.590536 \nL 318.163858 34.368997 \nL 319.381313 31.262158 \nL 320.598767 28.508751 \nL 321.816222 26.120088 \nL 323.033676 24.105981 \nL 324.251131 22.474703 \nL 325.468585 21.23296 \nL 326.68604 20.385855 \nL 327.903494 19.936874 \nL 329.120949 19.887868 \nL 330.338403 20.239046 \nL 331.555858 20.988975 \nL 332.773313 22.134584 \nL 333.990767 23.671181 \nL 335.208222 25.592468 \nL 336.425676 27.890566 \nL 337.643131 30.556054 \nL 338.860585 33.578 \nL 340.07804 36.944009 \nL 342.512949 44.651643 \nL 344.947858 53.552626 \nL 347.382767 63.501062 \nL 349.817676 74.333885 \nL 353.47004 91.849663 \nL 359.557313 122.802685 \nL 364.427131 147.325464 \nL 364.427131 147.325464 \n\" style=\"fill:none;stroke:#ff0000;stroke-linecap:square;stroke-width:1.5;\"/>\n   </g>\n   <g id=\"line2d_18\">\n    <path clip-path=\"url(#pc376af2881)\" d=\"M 60.063494 116.580916 \nL 62.498403 116.420273 \nL 64.933313 115.943553 \nL 67.368222 115.158816 \nL 69.803131 114.079329 \nL 72.23804 112.723341 \nL 74.672949 111.113776 \nL 77.107858 109.277844 \nL 80.760222 106.168325 \nL 84.412585 102.738165 \nL 91.717313 95.444134 \nL 96.587131 90.704562 \nL 100.239494 87.443623 \nL 102.674403 85.479444 \nL 105.109313 83.72227 \nL 107.544222 82.201804 \nL 109.979131 80.943753 \nL 112.41404 79.969384 \nL 114.848949 79.295171 \nL 117.283858 78.932511 \nL 119.718767 78.887535 \nL 122.153676 79.161003 \nL 124.588585 79.748293 \nL 127.023494 80.639476 \nL 129.458403 81.819486 \nL 131.893313 83.268373 \nL 134.328222 84.961643 \nL 136.763131 86.87067 \nL 140.415494 90.067292 \nL 145.285313 94.759039 \nL 155.024949 104.412105 \nL 158.677313 107.704395 \nL 162.329676 110.617717 \nL 164.764585 112.294042 \nL 167.199494 113.724049 \nL 169.634403 114.88356 \nL 172.069313 115.752975 \nL 174.504222 116.317594 \nL 176.939131 116.567872 \nL 179.37404 116.499579 \nL 181.808949 116.113868 \nL 184.243858 115.417261 \nL 186.678767 114.421534 \nL 189.113676 113.143521 \nL 191.548585 111.604827 \nL 193.983494 109.831466 \nL 197.635858 106.797965 \nL 201.288222 103.419915 \nL 207.375494 97.376419 \nL 213.462767 91.369372 \nL 217.115131 88.046902 \nL 220.767494 85.091879 \nL 223.202403 83.382118 \nL 225.637313 81.914818 \nL 228.072222 80.714783 \nL 230.507131 79.802301 \nL 232.94204 79.1928 \nL 235.376949 78.896582 \nL 237.811858 78.918656 \nL 240.246767 79.258648 \nL 242.681676 79.910812 \nL 245.116585 80.86412 \nL 247.551494 82.102457 \nL 249.986403 83.604888 \nL 252.421313 85.346013 \nL 256.073676 88.339881 \nL 259.72604 91.69007 \nL 264.595858 96.490048 \nL 271.900585 103.742659 \nL 275.552949 107.094127 \nL 279.205313 110.0898 \nL 281.640222 111.832389 \nL 284.075131 113.336462 \nL 286.51004 114.576594 \nL 288.944949 115.531818 \nL 291.379858 116.185985 \nL 293.814767 116.528037 \nL 296.249676 116.55219 \nL 298.684585 116.258037 \nL 301.119494 115.65055 \nL 303.554403 114.739999 \nL 305.989313 113.541778 \nL 308.424222 112.076143 \nL 310.859131 110.367873 \nL 313.29404 108.445848 \nL 316.946403 105.23395 \nL 321.816222 100.530568 \nL 331.555858 90.886271 \nL 335.208222 87.607959 \nL 337.643131 85.628682 \nL 340.07804 83.853886 \nL 342.512949 82.313574 \nL 344.947858 81.033786 \nL 347.382767 80.036159 \nL 349.817676 79.337559 \nL 352.252585 78.949795 \nL 354.687494 78.879423 \nL 357.122403 79.127633 \nL 359.557313 79.690228 \nL 361.992222 80.557698 \nL 364.427131 81.715377 \nL 364.427131 81.715377 \n\" style=\"fill:none;stroke:#008000;stroke-linecap:square;stroke-width:1.5;\"/>\n   </g>\n   <g id=\"patch_3\">\n    <path d=\"M 44.845313 224.64 \nL 44.845313 7.2 \n\" style=\"fill:none;stroke:#000000;stroke-linecap:square;stroke-linejoin:miter;stroke-width:0.8;\"/>\n   </g>\n   <g id=\"patch_4\">\n    <path d=\"M 379.645313 224.64 \nL 379.645313 7.2 \n\" style=\"fill:none;stroke:#000000;stroke-linecap:square;stroke-linejoin:miter;stroke-width:0.8;\"/>\n   </g>\n   <g id=\"patch_5\">\n    <path d=\"M 44.845313 224.64 \nL 379.645313 224.64 \n\" style=\"fill:none;stroke:#000000;stroke-linecap:square;stroke-linejoin:miter;stroke-width:0.8;\"/>\n   </g>\n   <g id=\"patch_6\">\n    <path d=\"M 44.845313 7.2 \nL 379.645313 7.2 \n\" style=\"fill:none;stroke:#000000;stroke-linecap:square;stroke-linejoin:miter;stroke-width:0.8;\"/>\n   </g>\n   <g id=\"legend_1\">\n    <g id=\"patch_7\">\n     <path d=\"M 51.845313 219.64 \nL 89.764063 219.64 \nQ 91.764063 219.64 91.764063 217.64 \nL 91.764063 174.605625 \nQ 91.764063 172.605625 89.764063 172.605625 \nL 51.845313 172.605625 \nQ 49.845313 172.605625 49.845313 174.605625 \nL 49.845313 217.64 \nQ 49.845313 219.64 51.845313 219.64 \nz\n\" style=\"fill:#ffffff;opacity:0.8;stroke:#cccccc;stroke-linejoin:miter;\"/>\n    </g>\n    <g id=\"line2d_19\">\n     <path d=\"M 53.845313 180.704062 \nL 73.845313 180.704062 \n\" style=\"fill:none;stroke:#0000ff;stroke-linecap:square;stroke-width:1.5;\"/>\n    </g>\n    <g id=\"line2d_20\"/>\n    <g id=\"text_16\">\n     <!-- x -->\n     <defs>\n      <path d=\"M 54.890625 54.6875 \nL 35.109375 28.078125 \nL 55.90625 0 \nL 45.3125 0 \nL 29.390625 21.484375 \nL 13.484375 0 \nL 2.875 0 \nL 24.125 28.609375 \nL 4.6875 54.6875 \nL 15.28125 54.6875 \nL 29.78125 35.203125 \nL 44.28125 54.6875 \nz\n\" id=\"DejaVuSans-120\"/>\n     </defs>\n     <g transform=\"translate(81.845313 184.204062)scale(0.1 -0.1)\">\n      <use xlink:href=\"#DejaVuSans-120\"/>\n     </g>\n    </g>\n    <g id=\"line2d_21\">\n     <path d=\"M 53.845313 195.382187 \nL 73.845313 195.382187 \n\" style=\"fill:none;stroke:#ff0000;stroke-linecap:square;stroke-width:1.5;\"/>\n    </g>\n    <g id=\"line2d_22\"/>\n    <g id=\"text_17\">\n     <!-- y -->\n     <defs>\n      <path d=\"M 32.171875 -5.078125 \nQ 28.375 -14.84375 24.75 -17.8125 \nQ 21.140625 -20.796875 15.09375 -20.796875 \nL 7.90625 -20.796875 \nL 7.90625 -13.28125 \nL 13.1875 -13.28125 \nQ 16.890625 -13.28125 18.9375 -11.515625 \nQ 21 -9.765625 23.484375 -3.21875 \nL 25.09375 0.875 \nL 2.984375 54.6875 \nL 12.5 54.6875 \nL 29.59375 11.921875 \nL 46.6875 54.6875 \nL 56.203125 54.6875 \nz\n\" id=\"DejaVuSans-121\"/>\n     </defs>\n     <g transform=\"translate(81.845313 198.882187)scale(0.1 -0.1)\">\n      <use xlink:href=\"#DejaVuSans-121\"/>\n     </g>\n    </g>\n    <g id=\"line2d_23\">\n     <path d=\"M 53.845313 210.060312 \nL 73.845313 210.060312 \n\" style=\"fill:none;stroke:#008000;stroke-linecap:square;stroke-width:1.5;\"/>\n    </g>\n    <g id=\"line2d_24\"/>\n    <g id=\"text_18\">\n     <!-- z -->\n     <defs>\n      <path d=\"M 5.515625 54.6875 \nL 48.1875 54.6875 \nL 48.1875 46.484375 \nL 14.40625 7.171875 \nL 48.1875 7.171875 \nL 48.1875 0 \nL 4.296875 0 \nL 4.296875 8.203125 \nL 38.09375 47.515625 \nL 5.515625 47.515625 \nz\n\" id=\"DejaVuSans-122\"/>\n     </defs>\n     <g transform=\"translate(81.845313 213.560312)scale(0.1 -0.1)\">\n      <use xlink:href=\"#DejaVuSans-122\"/>\n     </g>\n    </g>\n   </g>\n  </g>\n </g>\n <defs>\n  <clipPath id=\"pc376af2881\">\n   <rect height=\"217.44\" width=\"334.8\" x=\"44.845313\" y=\"7.2\"/>\n  </clipPath>\n </defs>\n</svg>\n",
      "image/png": "[encoded data removed]"
     },
     "metadata": {
      "needs_background": "light"
     }
    }
   ],
   "source": [
    "x = qubit.simulation.qRes.results['x']\n",
    "y = qubit.simulation.qRes.results['y']\n",
    "z = qubit.simulation.qRes.results['z']\n",
    "\n",
    "t = qubit.simulation.timeList\n",
    "plt.plot(t, x, c='b')\n",
    "plt.plot(t, y, c='r')\n",
    "plt.plot(t, z, c='g')\n",
    "plt.legend(['x', 'y', 'z'])\n",
    "plt.show()"
   ]
  },
  {
   "cell_type": "code",
   "execution_count": null,
   "metadata": {},
   "outputs": [],
   "source": [
    "x = qubit.simulation.qRes.results['x']\n",
    "y = qubit.simulation.qRes.results['y']\n",
    "z = qubit.simulation.qRes.results['z']\n",
    "\n",
    "plt.plot(x, y)\n",
    "plt.xlim([-1, 1])\n",
    "plt.ylim([-1, 1])\n",
    "plt.show()"
   ]
  },
  {
   "cell_type": "code",
   "execution_count": null,
   "metadata": {},
   "outputs": [],
   "source": [
    "#If no normal sweeps have been done\n",
    "\n",
    "x = qubit.simulation.qRes.results['x']\n",
    "y = qubit.simulation.qRes.results['y']\n",
    "z = qubit.simulation.qRes.results['z']\n",
    "\n",
    "b = qutip.Bloch3d()\n",
    "b.add_points([x, y, z])\n",
    "b.show()"
   ]
  },
  {
   "cell_type": "code",
   "execution_count": null,
   "metadata": {},
   "outputs": [],
   "source": [
    "#If a normal sweep has been done\n",
    "\n",
    "x = qubit.simulation.qRes.results['x']\n",
    "y = qubit.simulation.qRes.results['y']\n",
    "z = qubit.simulation.qRes.results['z']\n",
    "\n",
    "for xi, yi, zi in zip(x, y, z):\n",
    "    b = qutip.Bloch()\n",
    "    b.add_points([xi, yi, zi])\n",
    "    b.show()"
   ]
  },
  {
   "cell_type": "code",
   "execution_count": null,
   "metadata": {},
   "outputs": [],
   "source": []
  }
 ],
 "metadata": {
  "language_info": {
   "codemirror_mode": {
    "name": "ipython",
    "version": 3
   },
   "file_extension": ".py",
   "mimetype": "text/x-python",
   "name": "python",
   "nbconvert_exporter": "python",
   "pygments_lexer": "ipython3",
   "version": "3.8.3-final"
  },
  "orig_nbformat": 2,
  "kernelspec": {
   "name": "python38364bitd9806c2b30d7438a96dd0e693421993a",
   "display_name": "Python 3.8.3 64-bit"
  }
 },
 "nbformat": 4,
 "nbformat_minor": 2
}