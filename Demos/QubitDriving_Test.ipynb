{
 "cells": [
  {
   "cell_type": "code",
   "execution_count": null,
   "metadata": {},
   "outputs": [],
   "source": [
    "from qTools import *\n",
    "\n",
    "import numpy as np\n",
    "from datetime import datetime\n",
    "import os\n",
    "import qutip\n",
    "\n",
    "%matplotlib inline\n",
    "import matplotlib.pyplot as plt\n",
    "import matplotlib as mpl"
   ]
  },
  {
   "cell_type": "code",
   "execution_count": null,
   "metadata": {},
   "outputs": [],
   "source": [
    "    "
   ]
  },
  {
   "cell_type": "markdown",
   "metadata": {},
   "source": [
    "## Drive coupling extension \n",
    "### (To be put together later)"
   ]
  },
  {
   "cell_type": "markdown",
   "metadata": {},
   "source": [
    "## System Parameters"
   ]
  },
  {
   "cell_type": "code",
   "execution_count": null,
   "metadata": {},
   "outputs": [],
   "source": [
    "omega_q     = 10\n",
    "omega_drive = 10 + 1\n",
    "omega_Rabi  = 10\n",
    "\n",
    "detuning = omega_q - omega_drive"
   ]
  },
  {
   "cell_type": "markdown",
   "metadata": {},
   "source": [
    "## Creating Qubit and Drive"
   ]
  },
  {
   "cell_type": "code",
   "execution_count": null,
   "metadata": {},
   "outputs": [],
   "source": [
    "qubit = Qubit(frequency=omega_q)\n",
    "\n",
    "#drive terms\n",
    "# drive_term1 = qubit.addTerm(sigmam, omega_Rabi)\n",
    "# drive_term2 = qubit.addTerm(sigmap, omega_Rabi)"
   ]
  },
  {
   "cell_type": "code",
   "execution_count": null,
   "metadata": {},
   "outputs": [],
   "source": [
    "qubit.initialState = {0:0.5, 1:0.5}\n",
    "# qubit.initialState = qubit.initialState * (np.exp(-1j*0.3))"
   ]
  },
  {
   "cell_type": "code",
   "execution_count": null,
   "metadata": {},
   "outputs": [],
   "source": [
    "print(qubit.initialState.A)"
   ]
  },
  {
   "cell_type": "markdown",
   "metadata": {},
   "source": [
    "## (For time dependency)"
   ]
  },
  {
   "cell_type": "code",
   "execution_count": null,
   "metadata": {},
   "outputs": [],
   "source": [
    "drive_coeff = lambda t: np.exp(-1j * detuning * t)\n",
    "\n",
    "tSweep = qubit.simulation.timeDependency.createSweep(system=qubit)\n",
    "\n",
    "def coeff_sweep(sweep):\n",
    "    qubit = sweep.system\n",
    "    time = qubit.simulation.stepSize * sweep.index\n",
    "    \n",
    "    qubit.subSys['Qubit2'].frequency = np.conj(drive_coeff(time))\n",
    "    qubit.subSys['Qubit3'].frequency = drive_coeff(time)\n",
    "\n",
    "tSweep.sweepFunction = coeff_sweep"
   ]
  },
  {
   "cell_type": "markdown",
   "metadata": {},
   "source": [
    "## Define Simulation Output"
   ]
  },
  {
   "cell_type": "code",
   "execution_count": null,
   "metadata": {},
   "outputs": [],
   "source": [
    "def expect(sim, state):\n",
    "    # Fidelity to intial\n",
    "    sim.qRes.results['fidelity'].append(fidelityKet(state, qubit.initialState))\n",
    "\n",
    "    # Bloch Sphere coordinates\n",
    "    sim.qRes.results['x'].append(expectationKet(sigmax(), state))\n",
    "    sim.qRes.results['y'].append(expectationKet(sigmay(), state))\n",
    "    sim.qRes.results['z'].append(expectationKet(sigmaz(), state))\n",
    "\n",
    "qubit.simulation.compute = expect"
   ]
  },
  {
   "cell_type": "markdown",
   "metadata": {},
   "source": [
    "## Simulation Parameters and Sweeps"
   ]
  },
  {
   "cell_type": "code",
   "execution_count": null,
   "metadata": {},
   "outputs": [],
   "source": [
    "qubit.simulation.totalTime = 0.1\n",
    "qubit.simulation.stepSize = 0.01\n",
    "qubit.simulation.delStates = True\n",
    "print(qubit.simulation.stepCount)"
   ]
  },
  {
   "cell_type": "code",
   "execution_count": null,
   "metadata": {},
   "outputs": [],
   "source": [
    "detuning_sweep = qubit.simulation.Sweep.createSweep(system=qubit, sweepKey='frequency', sweepList=np.linspace(0, 20, 5))"
   ]
  },
  {
   "cell_type": "markdown",
   "metadata": {},
   "source": [
    "## Run Simulation"
   ]
  },
  {
   "cell_type": "code",
   "execution_count": null,
   "metadata": {
    "tags": [
     "outputPrepend",
     "outputPrepend"
    ]
   },
   "outputs": [],
   "source": [
    "qubit.simulation.run()"
   ]
  },
  {
   "cell_type": "markdown",
   "metadata": {},
   "source": [
    "## Plotting"
   ]
  },
  {
   "cell_type": "code",
   "execution_count": null,
   "metadata": {},
   "outputs": [],
   "source": [
    "# plt.pcolormesh(np.arange(0, qSim.totalTime + qSim.stepSize, qSim.stepSize), wSweep.sweepList, qSim.qRes.results['fidelity'])\n",
    "# plt.xlabel('Time (μs)')\n",
    "# plt.ylabel('Frequency (MHz)')\n",
    "# plt.show()"
   ]
  },
  {
   "cell_type": "code",
   "execution_count": null,
   "metadata": {},
   "outputs": [],
   "source": [
    "x = qubit.simulation.qRes.results['x']\n",
    "y = qubit.simulation.qRes.results['y']\n",
    "z = qubit.simulation.qRes.results['z']\n",
    "\n",
    "t = np.arange(0, qubit.simulation.totalTime + qubit.simulation.stepSize, qubit.simulation.stepSize)\n",
    "\n",
    "plt.plot(x, c='b')\n",
    "plt.plot(y, c='r')\n",
    "plt.plot(z, c='g')\n",
    "plt.legend(['x', 'y', 'z'])\n",
    "plt.show()"
   ]
  },
  {
   "cell_type": "code",
   "execution_count": null,
   "metadata": {},
   "outputs": [],
   "source": [
    "x = qubit.simulation.qRes.results['x']\n",
    "y = qubit.simulation.qRes.results['y']\n",
    "z = qubit.simulation.qRes.results['z']\n",
    "\n",
    "plt.plot(x, y)\n",
    "plt.xlim([-1, 1])\n",
    "plt.ylim([-1, 1])\n",
    "plt.show()"
   ]
  },
  {
   "cell_type": "code",
   "execution_count": null,
   "metadata": {},
   "outputs": [],
   "source": [
    "#If no normal sweeps have been done\n",
    "\n",
    "x = qubit.simulation.qRes.results['x']\n",
    "y = qubit.simulation.qRes.results['y']\n",
    "z = qubit.simulation.qRes.results['z']\n",
    "\n",
    "b = qutip.Bloch3d()\n",
    "b.add_points([x, y, z])\n",
    "b.show()"
   ]
  },
  {
   "cell_type": "code",
   "execution_count": null,
   "metadata": {},
   "outputs": [],
   "source": [
    "#If a normal sweep has been done\n",
    "\n",
    "x = qubit.simulation.qRes.results['x']\n",
    "y = qubit.simulation.qRes.results['y']\n",
    "z = qubit.simulation.qRes.results['z']\n",
    "\n",
    "for xi, yi, zi in zip(x, y, z):\n",
    "    b = qutip.Bloch()\n",
    "    b.add_points([xi, yi, zi])\n",
    "    b.show()"
   ]
  },
  {
   "cell_type": "code",
   "execution_count": null,
   "metadata": {},
   "outputs": [],
   "source": []
  }
 ],
 "metadata": {
  "language_info": {
   "codemirror_mode": {
    "name": "ipython",
    "version": 3
   },
   "file_extension": ".py",
   "mimetype": "text/x-python",
   "name": "python",
   "nbconvert_exporter": "python",
   "pygments_lexer": "ipython3",
   "version": "3.8.3-final"
  },
  "orig_nbformat": 2,
  "kernelspec": {
   "name": "python38364bit8bede7f8620c4630a0af9c8571d78b41",
   "display_name": "Python 3.8.3 64-bit"
  }
 },
 "nbformat": 4,
 "nbformat_minor": 2
}