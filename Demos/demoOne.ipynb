{
 "cells": [
  {
   "cell_type": "code",
   "execution_count": null,
   "metadata": {},
   "outputs": [],
   "source": [
    "from qTools import *\n",
    "import matplotlib.pyplot as plt\n",
    "import numpy as np"
   ]
  },
  {
   "cell_type": "code",
   "execution_count": null,
   "metadata": {},
   "outputs": [],
   "source": [
    "qubit = Qubit(frequency=1)"
   ]
  },
  {
   "cell_type": "code",
   "execution_count": null,
   "metadata": {},
   "outputs": [],
   "source": [
    "#qubit.initialState = 1\n",
    "qubit.initialState = [0, 1]\n",
    "#qubit.initialState = {0:0.2, 1:0.8}"
   ]
  },
  {
   "cell_type": "code",
   "execution_count": null,
   "metadata": {},
   "outputs": [],
   "source": [
    "sx = sigmax()\n",
    "sy = sigmay()\n",
    "sz = sigmaz()\n",
    "\n",
    "def compute(qub, state):\n",
    "    # Fidelity to initial\n",
    "    qub.results['fidelity'].append(fidelityKet(state, qub.initialState))\n",
    "\n",
    "    # Bloch Sphere coordinates\n",
    "    qub.results['x'].append(expectationKet(sx, state))\n",
    "    qub.results['y'].append(expectationKet(sy, state))\n",
    "    qub.results['z'].append(expectationKet(sz, state))\n",
    "\n",
    "qubit.compute = compute"
   ]
  },
  {
   "cell_type": "code",
   "execution_count": null,
   "metadata": {},
   "outputs": [],
   "source": [
    "qubit.simTotalTime = 4\n",
    "qubit.simStepSize = 0.01\n",
    "qubit.simDelStates = True"
   ]
  },
  {
   "cell_type": "code",
   "execution_count": null,
   "metadata": {},
   "outputs": [],
   "source": [
    "qubit.runSimulation()"
   ]
  },
  {
   "cell_type": "code",
   "execution_count": null,
   "metadata": {},
   "outputs": [],
   "source": [
    "def plot(sys=qubit, index = None, lineCS = ['b', 'r', 'g']):\n",
    "    if index is None:\n",
    "        x = sys.results['x']\n",
    "        y = sys.results['y']\n",
    "        z = sys.results['z']\n",
    "    elif isinstance(index, int):\n",
    "        x = sys.results['x'][index]\n",
    "        y = sys.results['y'][index]\n",
    "        z = sys.results['z'][index]\n",
    "\n",
    "    t = qubit.simulation.timeList\n",
    "\n",
    "    plt.plot(t, x, lineCS[0])\n",
    "    plt.plot(t, y, lineCS[1])\n",
    "    plt.plot(t, z, lineCS[2])\n",
    "    plt.legend(['x', 'y', 'z'])\n",
    "\n",
    "plot()"
   ]
  },
  {
   "cell_type": "code",
   "execution_count": null,
   "metadata": {},
   "outputs": [],
   "source": []
  }
 ],
 "metadata": {
  "language_info": {
   "codemirror_mode": {
    "name": "ipython",
    "version": 3
   },
   "file_extension": ".py",
   "mimetype": "text/x-python",
   "name": "python",
   "nbconvert_exporter": "python",
   "pygments_lexer": "ipython3",
   "version": "3.8.3-final"
  },
  "orig_nbformat": 2,
  "kernelspec": {
   "name": "python38364bitd9806c2b30d7438a96dd0e693421993a",
   "display_name": "Python 3.8.3 64-bit"
  }
 },
 "nbformat": 4,
 "nbformat_minor": 2
}