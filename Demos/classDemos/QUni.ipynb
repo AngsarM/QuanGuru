{
 "nbformat": 4,
 "nbformat_minor": 2,
 "metadata": {
  "language_info": {
   "name": "python",
   "codemirror_mode": {
    "name": "ipython",
    "version": 3
   },
   "version": "3.7.6-final"
  },
  "orig_nbformat": 2,
  "file_extension": ".py",
  "mimetype": "text/x-python",
  "name": "python",
  "npconvert_exporter": "python",
  "pygments_lexer": "ipython3",
  "version": 3,
  "kernelspec": {
   "name": "python3",
   "display_name": "Python 3"
  }
 },
 "cells": [
  {
   "cell_type": "code",
   "execution_count": null,
   "metadata": {},
   "outputs": [],
   "source": [
    "from qTools import *"
   ]
  },
  {
   "cell_type": "code",
   "execution_count": null,
   "metadata": {},
   "outputs": [],
   "source": [
    "un = qResults(name='bob')"
   ]
  },
  {
   "cell_type": "code",
   "execution_count": null,
   "metadata": {},
   "outputs": [],
   "source": [
    "un2, un3 = un.copy(n=2, name='bob')\n",
    "un4 = Qubit(name='bob')\n",
    "un5 = qResults(name='bob')\n",
    "un6 = qResults(name='bob')\n",
    "un7 = Qubit(name='bob')"
   ]
  },
  {
   "cell_type": "code",
   "execution_count": null,
   "metadata": {},
   "outputs": [],
   "source": [
    "un.addSubSys(['bob2', un3])\n",
    "un.addSubSys({1:un4, 2:'bob5'})\n",
    "un.addSubSys('bob5')\n",
    "print(un.subSys)"
   ]
  },
  {
   "cell_type": "code",
   "execution_count": null,
   "metadata": {},
   "outputs": [],
   "source": [
    "un.removeSubSys(['bob4', un2])\n",
    "print(un.subSys)"
   ]
  },
  {
   "cell_type": "code",
   "execution_count": null,
   "metadata": {},
   "outputs": [],
   "source": [
    "print(un.instances)\n",
    "print(un.instNames)\n",
    "print(un.label)"
   ]
  },
  {
   "cell_type": "code",
   "execution_count": null,
   "metadata": {},
   "outputs": [],
   "source": [
    "from qTools import *\n",
    "\n",
    "un = qUniversal(name='bob')\n",
    "\n",
    "un1, un2 = un.copy(n=2, name='alice')\n",
    "\n",
    "un3 = un.createSubSys(Qubit)\n",
    "un4 = un.createSubSys(Qubit())\n",
    "\n",
    "un5 = un.addSubSys(Qubit)"
   ]
  },
  {
   "cell_type": "code",
   "execution_count": null,
   "metadata": {},
   "outputs": [],
   "source": [
    "print(un.subSys)\n",
    "print(un1)\n",
    "print(un2)\n",
    "print(un3)\n",
    "print(un4)\n",
    "print(un5)"
   ]
  },
  {
   "cell_type": "code",
   "execution_count": null,
   "metadata": {},
   "outputs": [],
   "source": [
    "un.removeSubSys(un3)"
   ]
  },
  {
   "cell_type": "code",
   "execution_count": null,
   "metadata": {},
   "outputs": [],
   "source": []
  }
 ]
}