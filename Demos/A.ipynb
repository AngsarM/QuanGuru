{
 "cells": [
  {
   "cell_type": "code",
   "execution_count": null,
   "metadata": {},
   "outputs": [],
   "source": [
    "import numpy as np \n",
    "from qTools import *\n",
    "\n",
    "import matplotlib.pyplot as plt\n",
    "from mpl_toolkits.axes_grid1 import make_axes_locatable\n",
    "\n",
    "import datetime"
   ]
  },
  {
   "cell_type": "markdown",
   "metadata": {},
   "source": [
    "# Define Input Parameters"
   ]
  },
  {
   "cell_type": "code",
   "execution_count": null,
   "metadata": {},
   "outputs": [],
   "source": [
    "wq = 1\n",
    "wc = 1\n",
    "dim = 2\n",
    "g = 1"
   ]
  },
  {
   "cell_type": "code",
   "execution_count": null,
   "metadata": {},
   "outputs": [],
   "source": [
    "system = Qubit(frequency=wq) + Cavity(dimension=dim, frequency=wc)\n",
    "\n",
    "coupling = system.JC(g)\n",
    "\n",
    "system.initialState = identity(system.dimension)"
   ]
  },
  {
   "cell_type": "code",
   "execution_count": null,
   "metadata": {},
   "outputs": [],
   "source": [
    "halfTime = 5\n",
    "system.simulation.totalTime = 2*halfTime\n",
    "system.simulation.stepCount = 150\n",
    "system.simulation.delStates = True"
   ]
  },
  {
   "cell_type": "code",
   "execution_count": null,
   "metadata": {},
   "outputs": [],
   "source": [
    "Amax = 1.5\n",
    "Amin = 0.5\n",
    "Bmax = 2.0\n",
    "Bmin = 0.5\n",
    "NA = 60 #Steps in Amplitude array\n",
    "NB = 60 #Steps in Standard deviation array\n",
    "\n",
    "AA = np.linspace(Amin, Amax, NA)\n",
    "BB = np.linspace(Bmin, Bmax, NB)\n",
    "\n",
    "ampSweep = system.simulation.Sweep.createSweep(system='Qubit1', sweepKey='amp', sweepList = AA)\n",
    "bSweep = system.simulation.Sweep.createSweep(system='Qubit1', sweepKey='std',  sweepList = BB, multiParam=True)\n",
    "\n",
    "timeDependency = system.simulation.timeDependency.createSweep(system='Qubit1')\n",
    "\n",
    "def specialSweep(sweep):\n",
    "    #compSys = sweep.getObjByName('QuantumSystem1')\n",
    "\n",
    "    time = sweep.system.simulation.stepSize*sweep.index\n",
    "    amplitude = sweep.system.aux['amp']\n",
    "    std = sweep.system.aux['std']\n",
    "\n",
    "    sweep.system.frequency = amplitude*np.exp(-(time-halfTime)**2/std**2)\n",
    "\n",
    "timeDependency.sweepFunction = specialSweep"
   ]
  },
  {
   "cell_type": "code",
   "execution_count": null,
   "metadata": {},
   "outputs": [],
   "source": [
    "def compute(qSim, *args):\n",
    "    qSim.qRes.result = ('qubit freq', qSim.getObjByName('Qubit1').frequency)\n",
    "\n",
    "def calculate(sys):\n",
    "    res = sys.qRes\n",
    "    unitary = sys.unitary\n",
    "\n",
    "    res.result = ('00real', np.real(unitary[0,0]))\n",
    "    res.result = ('11real', np.real(unitary[1,1]))\n",
    "    res.result = ('22real', np.real(unitary[2,2]))\n",
    "    res.result = ('33real', np.real(unitary[3,3]))\n",
    "\n",
    "    res.result = ('00imag', np.imag(unitary[0,0]))\n",
    "    res.result = ('11imag', np.imag(unitary[1,1]))\n",
    "    res.result = ('22imag', np.imag(unitary[2,2]))\n",
    "    res.result = ('33imag', np.imag(unitary[3,3]))\n",
    "\n",
    "    res.result = ('03real', np.real(unitary[0,3]))\n",
    "    res.result = ('30real', np.real(unitary[3,0]))\n",
    "\n",
    "    res.result = ('03imag', np.imag(unitary[0,3]))\n",
    "    res.result = ('30imag', np.imag(unitary[3,0]))\n",
    "\n",
    "system.calculate = (calculate, 'end')\n",
    "system.simulation.compute = compute\n",
    "\n",
    "nw = datetime.datetime.now()\n",
    "\n",
    "system.simulation.run(p=True, coreCount='all')\n",
    "\n",
    "en = datetime.datetime.now()\n",
    "print(en-nw)"
   ]
  },
  {
   "cell_type": "code",
   "execution_count": null,
   "metadata": {},
   "outputs": [],
   "source": [
    "print(np.abs(system.unitary.A))"
   ]
  },
  {
   "cell_type": "code",
   "execution_count": null,
   "metadata": {},
   "outputs": [],
   "source": [
    "print(system.simulation.qRes.results['qubit freq'][0][0])"
   ]
  },
  {
   "cell_type": "code",
   "execution_count": null,
   "metadata": {},
   "outputs": [],
   "source": [
    "time = [system.simulation.stepSize*x for x in range(system.simulation.stepCount-1)]\n",
    "print(time)"
   ]
  },
  {
   "cell_type": "code",
   "execution_count": null,
   "metadata": {},
   "outputs": [],
   "source": [
    "plt.plot(time, system.simulation.qRes.results['qubit freq'][0][0])\n",
    "plt.plot(time, system.simulation.qRes.results['qubit freq'][29][0])\n",
    "plt.plot(time, system.simulation.qRes.results['qubit freq'][59][0])\n",
    "plt.plot(time, system.simulation.qRes.results['qubit freq'][0][29])\n",
    "plt.plot(time, system.simulation.qRes.results['qubit freq'][0][29])\n",
    "plt.plot(time, system.simulation.qRes.results['qubit freq'][15][15])"
   ]
  },
  {
   "cell_type": "code",
   "execution_count": null,
   "metadata": {},
   "outputs": [],
   "source": [
    "def pltcolor(axis, X, Y, Z):\n",
    "    surf = axis.pcolormesh(Y,X,Z,  cmap='plasma') #vmin =-1, vmax=1\n",
    "    divider = make_axes_locatable(axis)\n",
    "    cax = divider.append_axes('right', size='5%', pad=0.05)\n",
    "    fig.colorbar(surf, cax=cax, orientation='vertical')\n",
    "    axis.set_xlabel('Gauss std \"B\" variation (time)')\n",
    "    axis.set_ylabel('Amp \"A\" Variation (Frequency)')\n",
    "\n",
    "\n",
    "Y, X = np.meshgrid(BB,AA)\n",
    "\n",
    "\n",
    "fig, ((ax1,ax7), (ax2,ax8), (ax3,ax9), (ax4,ax10), (ax5,ax11), (ax6,ax12)) = plt.subplots(nrows=6, ncols=2, figsize=(12,15))\n",
    "pltcolor(ax1,X,Y, system.qRes.results['00real'])\n",
    "ax1.set_title('Real Element [0,0]')\n",
    "pltcolor(ax2,X,Y, system.qRes.results['11real'])\n",
    "ax2.set_title('Real Element [1,1]')\n",
    "pltcolor(ax3,X,Y, system.qRes.results['22real'])\n",
    "ax3.set_title('Real Element [2,2]')\n",
    "pltcolor(ax4,X,Y, system.qRes.results['33real'])\n",
    "ax4.set_title('Real Element [3,3]')\n",
    "pltcolor(ax5,X,Y, system.qRes.results['03real'])\n",
    "ax5.set_title('Real Element [0,3]')\n",
    "pltcolor(ax6,X,Y, system.qRes.results['30real'])\n",
    "ax6.set_title('Real Element [3,0]')\n",
    "pltcolor(ax7,X,Y, system.qRes.results['00imag'])\n",
    "ax7.set_title('Imaginary Element [0,0]')\n",
    "pltcolor(ax8,X,Y, system.qRes.results['11imag'])\n",
    "ax8.set_title('Imaginary Element [1,1]')\n",
    "pltcolor(ax9,X,Y, system.qRes.results['22imag'])\n",
    "ax9.set_title('Imaginary Element [2,2]')\n",
    "pltcolor(ax10,X,Y, system.qRes.results['33imag'])\n",
    "ax10.set_title('Imaginary Element [3,3]')\n",
    "pltcolor(ax11,X,Y, system.qRes.results['03imag'])\n",
    "ax11.set_title('Imaginary Element [0,3]')\n",
    "pltcolor(ax12,X,Y, system.qRes.results['30imag'])\n",
    "ax12.set_title('Imaginary Element [3,0]')\n",
    "\n",
    "plt.tight_layout()"
   ]
  },
  {
   "cell_type": "code",
   "execution_count": null,
   "metadata": {},
   "outputs": [],
   "source": [
    "NT = 150 #Time Steps\n",
    "Tf = 10.0 #Total time\n",
    "Ti = 0.0 #Starting time\n",
    "dt = (Tf-Ti)/NT \n",
    "t = np.linspace(0,Tf,NT) \n",
    "Tm = (Tf-Ti)/2\n",
    "wq = 1\n",
    "wc = 1\n",
    "dim = 2\n",
    "g = 1e-3"
   ]
  },
  {
   "cell_type": "code",
   "execution_count": null,
   "metadata": {},
   "outputs": [],
   "source": [
    "#Parameters for square function\n",
    "b1 = 4\n",
    "b2 = 6"
   ]
  },
  {
   "cell_type": "code",
   "execution_count": null,
   "metadata": {},
   "outputs": [],
   "source": [
    "#Paramters for Gaussian\n",
    "Amax = 1.5\n",
    "Amin = 0.5\n",
    "Bmax = 2.0\n",
    "Bmin = 0.5\n",
    "NA = 150 #Steps in Amplitude array\n",
    "NB = 150 #Steps in Standard deviation array\n",
    "AA = np.linspace(Amin,Amax,NA) #Amplitude array\n",
    "BB = np.linspace(Bmin,Bmax,NB) #Std array"
   ]
  },
  {
   "cell_type": "markdown",
   "metadata": {},
   "source": [
    "# Define Functions"
   ]
  },
  {
   "cell_type": "code",
   "execution_count": null,
   "metadata": {},
   "outputs": [],
   "source": [
    "def gauss(time, std, amplitude):\n",
    "    G = amplitude*np.exp(-(time-Tm)**2/std**2)\n",
    "    return G\n",
    "\n",
    "def square(time,boundary_1,boundary_2):\n",
    "    S = wq*(time>boundary_1)*(time<boundary_2)\n",
    "    return S\n",
    "\n",
    "def plot_graph(ax, xvalues, yvalues, fontsize=12):\n",
    "    ax.plot(xvalues,yvalues)\n",
    "\n",
    "    ax.locator_params(nbins=3)\n",
    "    ax.set_xlabel('Time', fontsize=fontsize)\n",
    "    ax.set_ylabel('Qubit Frequnecy (Hz)', fontsize=fontsize)\n",
    "    ax.set_title('Gaussian VS Square', fontsize=fontsize)\n",
    "    ax.set_ylim(0,1.6)\n",
    "\n",
    "def Ugauss(time, std, amplitude):\n",
    "    qub.frequency = gauss(time,std,amplitude)\n",
    "    H = system.totalHam.A\n",
    "    Ugauss = sy.expm(-1j*H*dt)\n",
    "    return Ugauss\n",
    "\n",
    "def Usqaure(time, boundary1, boundary2):\n",
    "    qub.frequency = square(time,boundary1,boundary2)\n",
    "    H = system.totalHam.A\n",
    "    Usquare = sy.expm(-1j*H*dt)\n",
    "    return Usquare\n",
    "\n",
    "def fetch_realZ(Element_1, Element_2):\n",
    "    z = np.zeros([NA,NB])\n",
    "    for ii in range(len(U)):\n",
    "        for jj in range(len(U)):\n",
    "            z[ii,jj] = np.real(U[ii][jj][Element_1, Element_2])\n",
    "    return z\n",
    "\n",
    "def fetch_imagZ(Element_1, Element_2):\n",
    "    z = np.zeros([NA,NB])\n",
    "    for ii in range(len(U)):\n",
    "        for jj in range(len(U)):\n",
    "            z[ii,jj] = np.imag(U[ii][jj][Element_1, Element_2])\n",
    "    return z\n",
    "\n",
    "def pltcolor(axis, X, Y, Z):\n",
    "    surf = axis.pcolormesh(Y,X,Z,  cmap='plasma') #vmin =-1, vmax=1\n",
    "    divider = make_axes_locatable(axis)\n",
    "    cax = divider.append_axes('right', size='5%', pad=0.05)\n",
    "    fig.colorbar(surf, cax=cax, orientation='vertical')\n",
    "    axis.set_xlabel('Gauss std \"B\" variation (time)')\n",
    "    axis.set_ylabel('Amp \"A\" Variation (Frequency)')\n",
    "\n",
    "def makeDir(RootPath):\n",
    "    now = datetime.now()\n",
    "    date_time = now.strftime(\"%Y-%m-%d\")\n",
    "    path = RootPath + date_time\n",
    "    if not os.path.isdir(path):\n",
    "        os.mkdir(path)\n",
    "    return path + '/' + str(now.timestamp())\n",
    "\n",
    "save_path = makeDir(save_folder)"
   ]
  },
  {
   "cell_type": "markdown",
   "metadata": {},
   "source": [
    "# Sanity Checks - Limitations"
   ]
  },
  {
   "cell_type": "code",
   "execution_count": null,
   "metadata": {},
   "outputs": [],
   "source": [
    "fig, ((ax1, ax2, ax3, ax4)) = plt.subplots(nrows=1, ncols=4, figsize=(16,4))\n",
    "plot_graph(ax1, t, gauss(t,Bmax,Amax))\n",
    "plot_graph(ax1, t, square(t,b1,b2))\n",
    "plot_graph(ax2, t, gauss(t,Bmin,Amax))\n",
    "plot_graph(ax2, t, square(t,b1,b2))\n",
    "plot_graph(ax3, t, gauss(t,Bmax,Amin))\n",
    "plot_graph(ax3, t, square(t,b1,b2))\n",
    "plot_graph(ax4, t, gauss(t,Bmin,Amin))\n",
    "plot_graph(ax4, t, square(t,b1,b2))\n",
    "\n",
    "plt.tight_layout()"
   ]
  },
  {
   "cell_type": "markdown",
   "metadata": {},
   "source": [
    "# Define System"
   ]
  },
  {
   "cell_type": "code",
   "execution_count": null,
   "metadata": {},
   "outputs": [],
   "source": [
    "system = QuantumSystem()\n",
    "cav = Cavity(dimension=dim, frequency=wc)    \n",
    "qub = Qubit()\n",
    "system.add(qub, cav)\n",
    "coupling = system.createSysCoupling([qub,cav], [destroy, create], couplingStrength=g)\n",
    "coupling.addTerm([qub,cav],[create, destroy])\n",
    "system.constructCompSys()\n",
    "\n",
    "Uinitial = np.identity(dim*2)"
   ]
  },
  {
   "cell_type": "markdown",
   "metadata": {},
   "source": [
    "# Calculating total Unitary"
   ]
  },
  {
   "cell_type": "code",
   "execution_count": null,
   "metadata": {
    "tags": [
     "outputPrepend"
    ]
   },
   "outputs": [],
   "source": [
    "#just for practise runs\n",
    "'''\n",
    "Utotal = []\n",
    "for A in AA:\n",
    "    UA = []\n",
    "    for B in BB:\n",
    "        U = Uinitial\n",
    "        for kk in t:\n",
    "            Udt = Ugauss(kk, B, A)\n",
    "            U = Udt@U\n",
    "        UA.append(U)\n",
    "    Utotal.append(UA)\n",
    "\n",
    "#remember enumerate 'for ii,A in enumerate(AA)\n",
    "'''\n"
   ]
  },
  {
   "cell_type": "markdown",
   "metadata": {},
   "source": [
    "# Retrieving Data"
   ]
  },
  {
   "cell_type": "code",
   "execution_count": null,
   "metadata": {},
   "outputs": [],
   "source": [
    "filename = \"C:/Users/andre/OneDrive/Documents/QFYZ/Jaynes-Cummings_Model/QuantumSimulations/Data/2020-05-27/1590565140.486998.h5\"\n",
    "\n",
    "f = h5py.File(filename, 'r')\n",
    "\n",
    "U = np.array(f['Data']['Total Unitary'])"
   ]
  },
  {
   "cell_type": "markdown",
   "metadata": {},
   "source": [
    "# Plotting Real and Imaginary Elements"
   ]
  },
  {
   "cell_type": "code",
   "execution_count": null,
   "metadata": {},
   "outputs": [],
   "source": [
    "Y, X = np.meshgrid(BB,AA)\n",
    "\n",
    "fig, ((ax1,ax7), (ax2,ax8), (ax3,ax9), (ax4,ax10), (ax5,ax11), (ax6,ax12)) = plt.subplots(nrows=6, ncols=2, figsize=(12,15))\n",
    "pltcolor(ax1,X,Y,fetch_realZ(0,0))\n",
    "ax1.set_title('Real Element [0,0]')\n",
    "pltcolor(ax2,X,Y,fetch_realZ(1,1))\n",
    "ax2.set_title('Real Element [1,1]')\n",
    "pltcolor(ax3,X,Y,fetch_realZ(2,2))\n",
    "ax3.set_title('Real Element [2,2]')\n",
    "pltcolor(ax4,X,Y,fetch_realZ(3,3))\n",
    "ax4.set_title('Real Element [3,3]')\n",
    "pltcolor(ax5,X,Y,fetch_realZ(1,2))\n",
    "ax5.set_title('Real Element [1,2]')\n",
    "pltcolor(ax6,X,Y,fetch_realZ(2,1))\n",
    "ax6.set_title('Real Element [2,1]')\n",
    "pltcolor(ax7,X,Y,fetch_imagZ(0,0))\n",
    "ax7.set_title('Imaginary Element [0,0]')\n",
    "pltcolor(ax8,X,Y,fetch_imagZ(1,1))\n",
    "ax8.set_title('Imaginary Element [1,1]')\n",
    "pltcolor(ax9,X,Y,fetch_imagZ(2,2))\n",
    "ax9.set_title('Imaginary Element [2,2]')\n",
    "pltcolor(ax10,X,Y,fetch_imagZ(3,3))\n",
    "ax10.set_title('Imaginary Element [3,3]')\n",
    "pltcolor(ax11,X,Y,fetch_imagZ(1,2))\n",
    "ax11.set_title('Imaginary Element [1,2]')\n",
    "pltcolor(ax12,X,Y,fetch_imagZ(2,1))\n",
    "ax12.set_title('Imaginary Element [2,1]')\n",
    "\n",
    "plt.tight_layout()\n",
    "plt.savefig(save_path+'.png')"
   ]
  },
  {
   "cell_type": "markdown",
   "metadata": {},
   "source": [
    "# Saving Data"
   ]
  },
  {
   "cell_type": "code",
   "execution_count": null,
   "metadata": {},
   "outputs": [],
   "source": [
    "# .txt file\n",
    "with open(save_path + '.txt', 'w') as f:\n",
    "    f.write('Explanation \\n')\n",
    "    f.write('Cavity frequency: ' + str(cav.frequency) + '\\n')\n",
    "    f.write('Qubit frequency: ' + str(qub.frequency) + '\\n')\n",
    "    f.write('Total time: ' + str(Tf) + '\\n')\n",
    "    f.write('Time Steps: ' + str(NT) + '\\n')\n",
    "    f.write('Gaussian Amplitude:' + str(AA) +'\\n')\n",
    "    f.write('Gaussian Standard deviation:' + str(BB) +'\\n')\n",
    "    f.write('Total unitary:' + str(Utotal) +'\\n')\n",
    "f.close()\n",
    "\n",
    "# h5 file\n",
    "file = h5py.File(save_path + '.h5', 'w')\n",
    "\n",
    "parameters = file.create_group('Parameters')\n",
    "parameters.create_dataset('omegaC', data=cav.frequency)\n",
    "parameters.create_dataset('omegaQ', data=qub.frequency)\n",
    "parameters.create_dataset('t_total', data=Tf)\n",
    "parameters.create_dataset('t_steps', data=NT)\n",
    "parameters.create_dataset('Amp', data=AA)\n",
    "parameters.create_dataset('GStd', data=BB)\n",
    "parameters.create_dataset('total Unitary', data = Utotal)\n",
    "\n",
    "sweep = file.create_group('Sweep')\n",
    "sweep.create_dataset('time', data=t)\n",
    "\n",
    "result = file.create_group('Data')\n",
    "result.create_dataset('Total Unitary', data=Utotal)\n",
    "file.close()"
   ]
  },
  {
   "cell_type": "code",
   "execution_count": null,
   "metadata": {},
   "outputs": [],
   "source": [
    "file.close()"
   ]
  },
  {
   "cell_type": "code",
   "execution_count": null,
   "metadata": {},
   "outputs": [],
   "source": []
  }
 ],
 "metadata": {
  "kernelspec": {
   "display_name": "Python 3.7.6 64-bit ('anaconda3': virtualenv)",
   "language": "python",
   "name": "python37664bitanaconda3virtualenvb329dec24e7e4f7f99b0b28d7020383d"
  },
  "language_info": {
   "codemirror_mode": {
    "name": "ipython",
    "version": 3
   },
   "file_extension": ".py",
   "mimetype": "text/x-python",
   "name": "python",
   "nbconvert_exporter": "python",
   "pygments_lexer": "ipython3",
   "version": "3.7.6-final"
  }
 },
 "nbformat": 4,
 "nbformat_minor": 2
}