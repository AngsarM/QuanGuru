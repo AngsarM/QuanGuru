{
 "cells": [
  {
   "cell_type": "code",
   "execution_count": null,
   "metadata": {},
   "outputs": [],
   "source": [
    "import numpy as np \n",
    "from qTools import *\n",
    "\n",
    "import matplotlib.pyplot as plt\n",
    "from mpl_toolkits.axes_grid1 import make_axes_locatable\n",
    "\n",
    "import datetime"
   ]
  },
  {
   "cell_type": "markdown",
   "metadata": {},
   "source": [
    "# Define Input Parameters"
   ]
  },
  {
   "cell_type": "code",
   "execution_count": null,
   "metadata": {},
   "outputs": [],
   "source": [
    "wq = 1\n",
    "wc = 1\n",
    "dim = 2\n",
    "g = 1"
   ]
  },
  {
   "cell_type": "code",
   "execution_count": null,
   "metadata": {},
   "outputs": [],
   "source": [
    "system = Qubit(frequency=wq) + Cavity(dimension=dim, frequency=wc)\n",
    "\n",
    "coupling = system.JC(g)\n",
    "\n",
    "system.initialState = identity(system.dimension)"
   ]
  },
  {
   "cell_type": "code",
   "execution_count": null,
   "metadata": {},
   "outputs": [],
   "source": [
    "halfTime = 5\n",
    "system.simulation.totalTime = 2*halfTime\n",
    "system.simulation.stepCount = 150\n",
    "system.simulation.delStates = True"
   ]
  },
  {
   "cell_type": "code",
   "execution_count": null,
   "metadata": {},
   "outputs": [],
   "source": [
    "Amax = 1.5\n",
    "Amin = 0.5\n",
    "Bmax = 2.0\n",
    "Bmin = 0.5\n",
    "NA = 60 #Steps in Amplitude array\n",
    "NB = 60 #Steps in Standard deviation array\n",
    "\n",
    "AA = np.linspace(Amin, Amax, NA)\n",
    "BB = np.linspace(Bmin, Bmax, NB)\n",
    "\n",
    "ampSweep = system.simulation.Sweep.createSweep(system='Qubit1', sweepKey='amp', sweepList = AA)\n",
    "bSweep = system.simulation.Sweep.createSweep(system='Qubit1', sweepKey='std',  sweepList = BB, multiParam=True)\n",
    "\n",
    "timeDependency = system.simulation.timeDependency.createSweep(system='Qubit1')\n",
    "\n",
    "def specialSweep(sweep):\n",
    "    #compSys = sweep.getObjByName('QuantumSystem1')\n",
    "\n",
    "    time = sweep.system.simulation.stepSize*sweep.index\n",
    "    amplitude = sweep.system.aux['amp']\n",
    "    std = sweep.system.aux['std']\n",
    "\n",
    "    sweep.system.frequency = amplitude*np.exp(-(time-halfTime)**2/std**2)\n",
    "\n",
    "timeDependency.sweepFunction = specialSweep"
   ]
  },
  {
   "cell_type": "code",
   "execution_count": null,
   "metadata": {},
   "outputs": [],
   "source": [
    "def compute(qSim, *args):\n",
    "    qSim.qRes.result = ('qubit freq', qSim.getObjByName('Qubit1').frequency)\n",
    "\n",
    "def calculate(sys):\n",
    "    res = sys.qRes\n",
    "    unitary = sys.unitary\n",
    "\n",
    "    res.result = ('00real', np.real(unitary[0,0]))\n",
    "    res.result = ('11real', np.real(unitary[1,1]))\n",
    "    res.result = ('22real', np.real(unitary[2,2]))\n",
    "    res.result = ('33real', np.real(unitary[3,3]))\n",
    "\n",
    "    res.result = ('00imag', np.imag(unitary[0,0]))\n",
    "    res.result = ('11imag', np.imag(unitary[1,1]))\n",
    "    res.result = ('22imag', np.imag(unitary[2,2]))\n",
    "    res.result = ('33imag', np.imag(unitary[3,3]))\n",
    "\n",
    "    res.result = ('03real', np.real(unitary[0,3]))\n",
    "    res.result = ('30real', np.real(unitary[3,0]))\n",
    "\n",
    "    res.result = ('03imag', np.imag(unitary[0,3]))\n",
    "    res.result = ('30imag', np.imag(unitary[3,0]))\n",
    "\n",
    "system.calculate = (calculate, 'end')\n",
    "system.simulation.compute = compute\n",
    "\n",
    "nw = datetime.datetime.now()\n",
    "\n",
    "system.simulation.run(p=True, coreCount='all')\n",
    "\n",
    "en = datetime.datetime.now()\n",
    "print(en-nw)"
   ]
  },
  {
   "cell_type": "code",
   "execution_count": null,
   "metadata": {},
   "outputs": [],
   "source": [
    "time = [system.simulation.stepSize*x for x in range(system.simulation.stepCount-1)]\n",
    "plt.plot(time, system.simulation.qRes.results['qubit freq'][0][0])\n",
    "plt.plot(time, system.simulation.qRes.results['qubit freq'][29][0])\n",
    "plt.plot(time, system.simulation.qRes.results['qubit freq'][59][0])\n",
    "plt.plot(time, system.simulation.qRes.results['qubit freq'][0][29])\n",
    "plt.plot(time, system.simulation.qRes.results['qubit freq'][0][29])\n",
    "plt.plot(time, system.simulation.qRes.results['qubit freq'][15][15])"
   ]
  },
  {
   "cell_type": "code",
   "execution_count": null,
   "metadata": {},
   "outputs": [],
   "source": [
    "def pltcolor(axis, X, Y, Z):\n",
    "    surf = axis.pcolormesh(Y,X,Z,  cmap='plasma') #vmin =-1, vmax=1\n",
    "    divider = make_axes_locatable(axis)\n",
    "    cax = divider.append_axes('right', size='5%', pad=0.05)\n",
    "    fig.colorbar(surf, cax=cax, orientation='vertical')\n",
    "    axis.set_xlabel('Gauss std \"B\" variation (time)')\n",
    "    axis.set_ylabel('Amp \"A\" Variation (Frequency)')\n",
    "\n",
    "\n",
    "Y, X = np.meshgrid(BB,AA)\n",
    "\n",
    "\n",
    "fig, ((ax1,ax7), (ax2,ax8), (ax3,ax9), (ax4,ax10), (ax5,ax11), (ax6,ax12)) = plt.subplots(nrows=6, ncols=2, figsize=(12,15))\n",
    "pltcolor(ax1,X,Y, system.qRes.results['00real'])\n",
    "ax1.set_title('Real Element [0,0]')\n",
    "pltcolor(ax2,X,Y, system.qRes.results['11real'])\n",
    "ax2.set_title('Real Element [1,1]')\n",
    "pltcolor(ax3,X,Y, system.qRes.results['22real'])\n",
    "ax3.set_title('Real Element [2,2]')\n",
    "pltcolor(ax4,X,Y, system.qRes.results['33real'])\n",
    "ax4.set_title('Real Element [3,3]')\n",
    "pltcolor(ax5,X,Y, system.qRes.results['03real'])\n",
    "ax5.set_title('Real Element [0,3]')\n",
    "pltcolor(ax6,X,Y, system.qRes.results['30real'])\n",
    "ax6.set_title('Real Element [3,0]')\n",
    "pltcolor(ax7,X,Y, system.qRes.results['00imag'])\n",
    "ax7.set_title('Imaginary Element [0,0]')\n",
    "pltcolor(ax8,X,Y, system.qRes.results['11imag'])\n",
    "ax8.set_title('Imaginary Element [1,1]')\n",
    "pltcolor(ax9,X,Y, system.qRes.results['22imag'])\n",
    "ax9.set_title('Imaginary Element [2,2]')\n",
    "pltcolor(ax10,X,Y, system.qRes.results['33imag'])\n",
    "ax10.set_title('Imaginary Element [3,3]')\n",
    "pltcolor(ax11,X,Y, system.qRes.results['03imag'])\n",
    "ax11.set_title('Imaginary Element [0,3]')\n",
    "pltcolor(ax12,X,Y, system.qRes.results['30imag'])\n",
    "ax12.set_title('Imaginary Element [3,0]')\n",
    "\n",
    "plt.tight_layout()"
   ]
  },
  {
   "cell_type": "code",
   "execution_count": null,
   "metadata": {},
   "outputs": [],
   "source": []
  }
 ],
 "metadata": {
  "kernelspec": {
   "display_name": "Python 3.7.6 64-bit ('anaconda3': virtualenv)",
   "language": "python",
   "name": "python37664bitanaconda3virtualenvb329dec24e7e4f7f99b0b28d7020383d"
  },
  "language_info": {
   "codemirror_mode": {
    "name": "ipython",
    "version": 3
   },
   "file_extension": ".py",
   "mimetype": "text/x-python",
   "name": "python",
   "nbconvert_exporter": "python",
   "pygments_lexer": "ipython3",
   "version": "3.7.6-final"
  }
 },
 "nbformat": 4,
 "nbformat_minor": 2
}