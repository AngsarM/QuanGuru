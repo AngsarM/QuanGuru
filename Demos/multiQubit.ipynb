{
 "cells": [
  {
   "cell_type": "code",
   "execution_count": null,
   "metadata": {},
   "outputs": [],
   "source": [
    "from qTools import Qubit, sigmax, sigmay, sigmaz, fidelityKet, expectationKet, compositeOp, Jx\n",
    "\n",
    "import matplotlib.pyplot as plt"
   ]
  },
  {
   "cell_type": "code",
   "execution_count": null,
   "metadata": {
    "tags": []
   },
   "outputs": [],
   "source": [
    "qubit = Qubit(frequency=1)\n",
    "qubit.initialState = 1\n",
    "#qubit.initialState = {0:0.2, 1:0.8}\n",
    "#qubit.frequency = 1"
   ]
  },
  {
   "cell_type": "code",
   "execution_count": null,
   "metadata": {},
   "outputs": [],
   "source": [
    "sx = sigmax()\n",
    "sy = sigmay()\n",
    "sz = sigmaz()\n",
    "\n",
    "def calculate(qub):\n",
    "    qub.aux['sx'] = compositeOp(sx, dimA=qub._dimsAfter, dimB=qub._dimsBefore)\n",
    "    qub.aux['sy'] = compositeOp(sy, dimA=qub._dimsAfter, dimB=qub._dimsBefore)\n",
    "    qub.aux['sz'] = compositeOp(sz, dimA=qub._dimsAfter, dimB=qub._dimsBefore)\n",
    "\n",
    "def compute(qub, state):\n",
    "    # Bloch Sphere coordinates\n",
    "    \n",
    "    qub.results['x'].append(expectationKet(qub.aux['sx'], state))\n",
    "    #print(qub.simulation._currentTime, len(qub.results['x']), qub.simulation._Simulation__index)\n",
    "    qub.results['y'].append(expectationKet(qub.aux['sy'], state))\n",
    "    qub.results['z'].append(expectationKet(qub.aux['sz'], state))\n",
    "\n",
    "qubit.compute = compute\n",
    "qubit.calculate = calculate"
   ]
  },
  {
   "cell_type": "code",
   "execution_count": null,
   "metadata": {},
   "outputs": [],
   "source": [
    "qubit.simTotalTime = 4\n",
    "qubit.simStepSize = 0.01\n",
    "qubit.simDelStates = True"
   ]
  },
  {
   "cell_type": "code",
   "execution_count": null,
   "metadata": {
    "tags": []
   },
   "outputs": [],
   "source": [
    "qubit.runSimulation()"
   ]
  },
  {
   "cell_type": "code",
   "execution_count": null,
   "metadata": {},
   "outputs": [],
   "source": [
    "def plot(sys=qubit, index = None, lineCS = ['b', 'r', 'g']):\n",
    "    if index is None:\n",
    "        x = sys.results['x']\n",
    "        y = sys.results['y']\n",
    "        z = sys.results['z']\n",
    "    elif isinstance(index, int):\n",
    "        x = sys.results['x'][index]\n",
    "        y = sys.results['y'][index]\n",
    "        z = sys.results['z'][index]\n",
    "\n",
    "    t = qubit.simulation.timeList\n",
    "\n",
    "    plt.plot(t, x, lineCS[0])\n",
    "    plt.plot(t, y, lineCS[1])\n",
    "    plt.plot(t, z, lineCS[2])\n",
    "    plt.legend(['x', 'y', 'z'])\n",
    "\n",
    "plot()"
   ]
  },
  {
   "cell_type": "code",
   "execution_count": null,
   "metadata": {
    "tags": []
   },
   "outputs": [],
   "source": [
    "twoQubit = qubit + qubit"
   ]
  },
  {
   "cell_type": "code",
   "execution_count": null,
   "metadata": {},
   "outputs": [],
   "source": [
    "secondQubit = twoQubit.getObjByName('Qubit2')\n",
    "\n",
    "secondQubit.initialState = 0"
   ]
  },
  {
   "cell_type": "code",
   "execution_count": null,
   "metadata": {
    "tags": []
   },
   "outputs": [],
   "source": [
    "def sxCoupling(compSys, qub1, qub2):\n",
    "    coupling = compSys.createSysCoupling([qub1, qub2], [Jx, Jx], couplingStrength=2)\n",
    "    return coupling\n",
    "\n",
    "coupleQubits = sxCoupling(twoQubit, qubit, secondQubit)"
   ]
  },
  {
   "cell_type": "code",
   "execution_count": null,
   "metadata": {},
   "outputs": [],
   "source": [
    "\"\"\"twoQubit.simTotalTime = 4\n",
    "twoQubit.simStepSize = 0.01\n",
    "twoQubit.simDelStates = True\"\"\""
   ]
  },
  {
   "cell_type": "code",
   "execution_count": null,
   "metadata": {},
   "outputs": [],
   "source": [
    "\"\"\"twoQubit.aux['sx'] = compositeOp(sigmax(), dimA=2)\n",
    "twoQubit.aux['sy'] = compositeOp(sigmay(), dimA=2)\n",
    "twoQubit.aux['sz'] = compositeOp(sigmaz(), dimA=2)\n",
    "\n",
    "def compute(sys, state):\n",
    "    # Fidelity to intial\n",
    "    sys.results['fidelity'].append(fidelityKet(state, sys.initialState))\n",
    "\n",
    "    # Bloch Sphere coordinates\n",
    "    sys.results['x'].append(expectationKet(sys.aux['sx'], state))\n",
    "    sys.results['y'].append(expectationKet(sys.aux['sy'], state))\n",
    "    sys.results['z'].append(expectationKet(sys.aux['sz'], state))\"\"\"\n",
    "\n",
    "\"\"\"def computeTwo(tq, state):\n",
    "    pass\n",
    "\n",
    "def calculateTwo(tw):\n",
    "    pass\n",
    "\n",
    "twoQubit.compute = computeTwo\n",
    "twoQubit.simulation.compute = computeTwo\n",
    "twoQubit.calculate = calculateTwo\"\"\"\n",
    "#qubit.compute = None"
   ]
  },
  {
   "cell_type": "code",
   "execution_count": null,
   "metadata": {
    "tags": []
   },
   "outputs": [],
   "source": [
    "twoQubit.simulation.run()"
   ]
  },
  {
   "cell_type": "code",
   "execution_count": null,
   "metadata": {},
   "outputs": [],
   "source": [
    "plot()"
   ]
  },
  {
   "cell_type": "code",
   "execution_count": null,
   "metadata": {
    "tags": []
   },
   "outputs": [],
   "source": [
    "fourQubit = twoQubit + twoQubit.copy(name='bob')"
   ]
  },
  {
   "cell_type": "code",
   "execution_count": null,
   "metadata": {},
   "outputs": [],
   "source": [
    "\"\"\"fourQubit.aux['sx'] = compositeOp(sigmax(), dimA=8)\n",
    "fourQubit.aux['sy'] = compositeOp(sigmay(), dimA=8)\n",
    "fourQubit.aux['sz'] = compositeOp(sigmaz(), dimA=8)\"\"\"\n",
    "\n",
    "\"\"\"fourQubit.compute = computeTwo\n",
    "fourQubit.calculate = calculateTwo\n",
    "twoQubit.subSys['Qubit1'].dimension = 2\"\"\""
   ]
  },
  {
   "cell_type": "code",
   "execution_count": null,
   "metadata": {},
   "outputs": [],
   "source": [
    "twoQubit._paramUpdated"
   ]
  },
  {
   "cell_type": "code",
   "execution_count": null,
   "metadata": {
    "tags": []
   },
   "outputs": [],
   "source": [
    "\"\"\"fourQubit.simulation.totalTime = 4\n",
    "fourQubit.simulation.stepSize = 0.01\n",
    "fourQubit.simulation.delStates = True\"\"\"\n",
    "\n",
    "fourQubit.simulation.run()"
   ]
  },
  {
   "cell_type": "code",
   "execution_count": null,
   "metadata": {},
   "outputs": [],
   "source": [
    "plot()"
   ]
  },
  {
   "cell_type": "code",
   "execution_count": null,
   "metadata": {},
   "outputs": [],
   "source": [
    "coupleQubits34 = sxCoupling(fourQubit.subSys['bob'], fourQubit.subSys['QuantumSystem1'].subSys['Qubit1'], fourQubit.subSys['bob'].subSys['Qubit4'])\n",
    "coupleQubits34.couplingStrength = 1"
   ]
  },
  {
   "cell_type": "code",
   "execution_count": null,
   "metadata": {},
   "outputs": [],
   "source": [
    "fourQubit._paramUpdated"
   ]
  },
  {
   "cell_type": "code",
   "execution_count": null,
   "metadata": {
    "tags": []
   },
   "outputs": [],
   "source": [
    "fourQubit.runSimulation()\n",
    "plot()"
   ]
  },
  {
   "cell_type": "code",
   "execution_count": null,
   "metadata": {
    "tags": []
   },
   "outputs": [],
   "source": [
    "fourQubit - 'Qubit4'\n",
    "#fourQubit.initialState = [[1,0],[1]]"
   ]
  },
  {
   "cell_type": "code",
   "execution_count": null,
   "metadata": {},
   "outputs": [],
   "source": [
    "\"\"\"fourQubit.aux['sx'] = compositeOp(sigmax(), dimA=2, dimB=2)\n",
    "fourQubit.aux['sy'] = compositeOp(sigmay(), dimA=2, dimB=2)\n",
    "fourQubit.aux['sz'] = compositeOp(sigmaz(), dimA=2, dimB=2)\n",
    "fourQubit.simulation.compute = compute\"\"\""
   ]
  },
  {
   "cell_type": "code",
   "execution_count": null,
   "metadata": {},
   "outputs": [],
   "source": [
    "twoQubit.qCouplings['qCoupling1'].subSys"
   ]
  },
  {
   "cell_type": "code",
   "execution_count": null,
   "metadata": {
    "tags": []
   },
   "outputs": [],
   "source": [
    "fourQubit.simulation.run()\n",
    "plot()"
   ]
  },
  {
   "cell_type": "code",
   "execution_count": null,
   "metadata": {
    "tags": []
   },
   "outputs": [],
   "source": [
    "twoQubit - 'Qubit2'"
   ]
  },
  {
   "cell_type": "code",
   "execution_count": null,
   "metadata": {},
   "outputs": [],
   "source": [
    "\"\"\"fourQubit.aux['sx'] = compositeOp(sigmax(), dimB=2)\n",
    "fourQubit.aux['sy'] = compositeOp(sigmay(), dimB=2)\n",
    "fourQubit.aux['sz'] = compositeOp(sigmaz(), dimB=2)\n",
    "fourQubit.simulation.compute = compute\"\"\""
   ]
  },
  {
   "cell_type": "code",
   "execution_count": null,
   "metadata": {
    "tags": []
   },
   "outputs": [],
   "source": [
    "fourQubit.simulation.run()\n",
    "plot()"
   ]
  },
  {
   "cell_type": "code",
   "execution_count": null,
   "metadata": {},
   "outputs": [],
   "source": []
  }
 ],
 "metadata": {
  "language_info": {
   "codemirror_mode": {
    "name": "ipython",
    "version": 3
   },
   "file_extension": ".py",
   "mimetype": "text/x-python",
   "name": "python",
   "nbconvert_exporter": "python",
   "pygments_lexer": "ipython3",
   "version": "3.8.3-final"
  },
  "orig_nbformat": 2,
  "kernelspec": {
   "name": "python38364bitd9806c2b30d7438a96dd0e693421993a",
   "display_name": "Python 3.8.3 64-bit"
  }
 },
 "nbformat": 4,
 "nbformat_minor": 2
}