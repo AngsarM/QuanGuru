{
 "cells": [
  {
   "cell_type": "code",
   "execution_count": null,
   "metadata": {},
   "outputs": [],
   "source": [
    "from qTools import Qubit, sigmax, sigmay, sigmaz, fidelityKet, expectationKet, compositeOp, Jx\n",
    "\n",
    "import matplotlib.pyplot as plt"
   ]
  },
  {
   "cell_type": "code",
   "execution_count": null,
   "metadata": {},
   "outputs": [],
   "source": [
    "qubit = Qubit(frequency=1)\n",
    "qubit.initialState = 1"
   ]
  },
  {
   "cell_type": "code",
   "execution_count": null,
   "metadata": {},
   "outputs": [],
   "source": [
    "sx = sigmax()\n",
    "sy = sigmay()\n",
    "sz = sigmaz()\n",
    "\n",
    "def compute(sim, state):\n",
    "    # Fidelity to intial\n",
    "    sim.results['fidelity'].append(fidelityKet(state, sim.initialState))\n",
    "\n",
    "    # Bloch Sphere coordinates\n",
    "    sim.results['x'].append(expectationKet(sx, state))\n",
    "    sim.results['y'].append(expectationKet(sy, state))\n",
    "    sim.results['z'].append(expectationKet(sz, state))\n",
    "\n",
    "qubit.simulation.compute = compute"
   ]
  },
  {
   "cell_type": "code",
   "execution_count": null,
   "metadata": {},
   "outputs": [],
   "source": [
    "qubit.simulation.totalTime = 4\n",
    "qubit.simulation.stepSize = 0.01\n",
    "qubit.simulation.delStates = True"
   ]
  },
  {
   "cell_type": "code",
   "execution_count": null,
   "metadata": {
    "tags": [
     "outputPrepend",
     "outputPrepend"
    ]
   },
   "outputs": [],
   "source": [
    "qubit.simulation.run()"
   ]
  },
  {
   "cell_type": "code",
   "execution_count": null,
   "metadata": {},
   "outputs": [],
   "source": [
    "def plot(sys=qubit, index = None, lineCS = ['b', 'r', 'g']):\n",
    "    if index is None:\n",
    "        x = sys.simulation.qRes.results['x']\n",
    "        y = sys.simulation.qRes.results['y']\n",
    "        z = sys.simulation.qRes.results['z']\n",
    "    elif isinstance(index, int):\n",
    "        x = sys.simulation.qRes.results['x'][index]\n",
    "        y = sys.simulation.qRes.results['y'][index]\n",
    "        z = sys.simulation.qRes.results['z'][index]\n",
    "\n",
    "    t = qubit.simulation.timeList\n",
    "\n",
    "    plt.plot(t, x, lineCS[0])\n",
    "    plt.plot(t, y, lineCS[1])\n",
    "    plt.plot(t, z, lineCS[2])\n",
    "    plt.legend(['x', 'y', 'z'])\n",
    "\n",
    "plot()"
   ]
  },
  {
   "cell_type": "code",
   "execution_count": null,
   "metadata": {},
   "outputs": [],
   "source": [
    "twoQubit = qubit + qubit"
   ]
  },
  {
   "cell_type": "code",
   "execution_count": null,
   "metadata": {},
   "outputs": [],
   "source": [
    "secondQubit = twoQubit.getObjByName('Qubit2')\n",
    "\n",
    "secondQubit.initialState = 0"
   ]
  },
  {
   "cell_type": "code",
   "execution_count": null,
   "metadata": {},
   "outputs": [],
   "source": [
    "def sxCoupling(compSys, qub1, qub2):\n",
    "    coupling = compSys.createSysCoupling([qub1, qub2], [Jx, Jx], couplingStrength=2)\n",
    "    return coupling\n",
    "\n",
    "coupleQubits = sxCoupling(twoQubit, qubit, secondQubit)"
   ]
  },
  {
   "cell_type": "code",
   "execution_count": null,
   "metadata": {},
   "outputs": [],
   "source": [
    "twoQubit.simulation.totalTime = 4\n",
    "twoQubit.simulation.stepSize = 0.01\n",
    "twoQubit.simulation.delStates = True"
   ]
  },
  {
   "cell_type": "code",
   "execution_count": null,
   "metadata": {},
   "outputs": [],
   "source": [
    "twoQubit.aux['sx'] = compositeOp(sigmax(), dimA=2)\n",
    "twoQubit.aux['sy'] = compositeOp(sigmay(), dimA=2)\n",
    "twoQubit.aux['sz'] = compositeOp(sigmaz(), dimA=2)\n",
    "\n",
    "def compute(sim, state):\n",
    "    # Fidelity to intial\n",
    "    sim.results['fidelity'].append(fidelityKet(state, sim.initialState))\n",
    "\n",
    "    # Bloch Sphere coordinates\n",
    "    sim.results['x'].append(expectationKet(sim.aux['sx'], state))\n",
    "    sim.results['y'].append(expectationKet(sim.aux['sy'], state))\n",
    "    sim.results['z'].append(expectationKet(sim.aux['sz'], state))\n",
    "\n",
    "twoQubit.simulation.compute = compute"
   ]
  },
  {
   "cell_type": "code",
   "execution_count": null,
   "metadata": {},
   "outputs": [],
   "source": [
    "twoQubit.simulation.run()"
   ]
  },
  {
   "cell_type": "code",
   "execution_count": null,
   "metadata": {},
   "outputs": [],
   "source": [
    "plot(twoQubit)"
   ]
  },
  {
   "cell_type": "code",
   "execution_count": null,
   "metadata": {},
   "outputs": [],
   "source": [
    "fourQubit = twoQubit + twoQubit.copy(name='bob')"
   ]
  },
  {
   "cell_type": "code",
   "execution_count": null,
   "metadata": {},
   "outputs": [],
   "source": [
    "fourQubit.aux['sx'] = compositeOp(sigmax(), dimA=4, dimB=4)\n",
    "fourQubit.aux['sy'] = compositeOp(sigmay(), dimA=4, dimB=4)\n",
    "fourQubit.aux['sz'] = compositeOp(sigmaz(), dimA=4, dimB=4)\n",
    "\n",
    "fourQubit.simulation.compute = compute\n",
    "twoQubit.subSys['Qubit1'].dimension = 4"
   ]
  },
  {
   "cell_type": "code",
   "execution_count": null,
   "metadata": {},
   "outputs": [],
   "source": [
    "fourQubit.simulation.totalTime = 4\n",
    "fourQubit.simulation.stepSize = 0.01\n",
    "fourQubit.simulation.delStates = True\n",
    "\n",
    "fourQubit.simulation.run()"
   ]
  },
  {
   "cell_type": "code",
   "execution_count": null,
   "metadata": {},
   "outputs": [],
   "source": [
    "plot(fourQubit)"
   ]
  },
  {
   "cell_type": "code",
   "execution_count": null,
   "metadata": {},
   "outputs": [],
   "source": [
    "coupleQubits34 = sxCoupling(fourQubit.subSys['bob'], fourQubit.subSys['QuantumSystem1'].subSys['Qubit1'], fourQubit.subSys['bob'].subSys['Qubit4'])\n",
    "#coupleQubits34.couplingStrength = 1"
   ]
  },
  {
   "cell_type": "code",
   "execution_count": null,
   "metadata": {},
   "outputs": [],
   "source": [
    "fourQubit.simulation.run()\n",
    "plot(fourQubit)"
   ]
  },
  {
   "cell_type": "code",
   "execution_count": null,
   "metadata": {},
   "outputs": [],
   "source": [
    "fourQubit - 'Qubit4'\n",
    "#fourQubit.initialState = [[1,0],[1]]"
   ]
  },
  {
   "cell_type": "code",
   "execution_count": null,
   "metadata": {},
   "outputs": [],
   "source": [
    "fourQubit.aux['sx'] = compositeOp(sigmax(), dimA=4, dimB=2)\n",
    "fourQubit.aux['sy'] = compositeOp(sigmay(), dimA=4, dimB=2)\n",
    "fourQubit.aux['sz'] = compositeOp(sigmaz(), dimA=4, dimB=2)\n",
    "fourQubit.simulation.compute = compute"
   ]
  },
  {
   "cell_type": "code",
   "execution_count": null,
   "metadata": {},
   "outputs": [],
   "source": [
    "fourQubit.simulation.run()\n",
    "plot(fourQubit)"
   ]
  },
  {
   "cell_type": "code",
   "execution_count": null,
   "metadata": {},
   "outputs": [],
   "source": [
    "twoQubit - 'Qubit1'"
   ]
  },
  {
   "cell_type": "code",
   "execution_count": null,
   "metadata": {},
   "outputs": [],
   "source": [
    "fourQubit.aux['sx'] = compositeOp(sigmax(), dimB=2)\n",
    "fourQubit.aux['sy'] = compositeOp(sigmay(), dimB=2)\n",
    "fourQubit.aux['sz'] = compositeOp(sigmaz(), dimB=2)\n",
    "fourQubit.simulation.compute = compute"
   ]
  },
  {
   "cell_type": "code",
   "execution_count": null,
   "metadata": {},
   "outputs": [],
   "source": [
    "fourQubit.simulation.run()\n",
    "plot(fourQubit)"
   ]
  },
  {
   "cell_type": "code",
   "execution_count": null,
   "metadata": {},
   "outputs": [],
   "source": []
  }
 ],
 "metadata": {
  "language_info": {
   "codemirror_mode": {
    "name": "ipython",
    "version": 3
   },
   "file_extension": ".py",
   "mimetype": "text/x-python",
   "name": "python",
   "nbconvert_exporter": "python",
   "pygments_lexer": "ipython3",
   "version": "3.8.3-final"
  },
  "orig_nbformat": 2,
  "kernelspec": {
   "name": "python38364bit6f44eb9f135b41e0ad3eb56751a93f77",
   "display_name": "Python 3.8.3 64-bit"
  }
 },
 "nbformat": 4,
 "nbformat_minor": 2
}