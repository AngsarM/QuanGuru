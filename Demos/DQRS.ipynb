{
 "nbformat": 4,
 "nbformat_minor": 2,
 "metadata": {
  "language_info": {
   "name": "python",
   "codemirror_mode": {
    "name": "ipython",
    "version": 3
   },
   "version": "3.7.6-final"
  },
  "orig_nbformat": 2,
  "file_extension": ".py",
  "mimetype": "text/x-python",
  "name": "python",
  "npconvert_exporter": "python",
  "pygments_lexer": "ipython3",
  "version": 3,
  "kernelspec": {
   "name": "python3",
   "display_name": "Python 3"
  }
 },
 "cells": [
  {
   "cell_type": "code",
   "execution_count": null,
   "metadata": {},
   "outputs": [],
   "source": [
    "from qTools import *\n",
    "\n",
    "import Cahit as ck\n",
    "\n",
    "import numpy as np\n",
    "\n",
    "import matplotlib.pyplot as plt\n",
    "import datetime"
   ]
  },
  {
   "cell_type": "markdown",
   "metadata": {},
   "source": [
    "### System parameters"
   ],
   "execution_count": null,
   "outputs": []
  },
  {
   "cell_type": "code",
   "execution_count": null,
   "metadata": {},
   "outputs": [],
   "source": [
    "resonatorDimension = 20\n",
    "g = 1.79\n",
    "qfreq = 0\n",
    "resFreq = 1"
   ]
  },
  {
   "cell_type": "markdown",
   "metadata": {},
   "source": [
    "### Simulation Parameters and Settings"
   ],
   "execution_count": null,
   "outputs": []
  },
  {
   "cell_type": "code",
   "execution_count": null,
   "metadata": {},
   "outputs": [],
   "source": [
    "qSim = Simulation()\n",
    "qSim.finalTime = 2\n",
    "qSim.stepSize = 0.02\n",
    "qSim.delStates = True"
   ]
  },
  {
   "cell_type": "markdown",
   "metadata": {},
   "source": [
    "### Composite System Creation and Components"
   ],
   "execution_count": null,
   "outputs": []
  },
  {
   "cell_type": "code",
   "execution_count": null,
   "metadata": {},
   "outputs": [],
   "source": [
    "JCSys = QuantumSystem(name='JC')\n",
    "RabiSys = QuantumSystem(name='Rabi')\n",
    "\n",
    "cavJC = JCSys.addSubSys(Cavity(dimension=resonatorDimension, frequency=resFreq))\n",
    "qubJC = JCSys.createSubSys(Qubit, frequency=qfreq)\n",
    "\n",
    "#cavRabi = RabiSys.addSubSys(cavJC.copy())\n",
    "cavRabi = RabiSys.addSubSys(cavJC.copy(),frequency=2*resFreq)\n",
    "qubRabi = RabiSys.addSubSys(qubJC.copy())"
   ]
  },
  {
   "cell_type": "markdown",
   "metadata": {},
   "source": [
    "#### Coupling term and initial state"
   ],
   "execution_count": null,
   "outputs": []
  },
  {
   "cell_type": "code",
   "execution_count": null,
   "metadata": {},
   "outputs": [],
   "source": [
    "JCcoupling = JCSys.JC(cavJC, qubJC, g)\n",
    "RabiCoupling = RabiSys.Rabi(cavRabi, qubRabi, g)\n",
    "\n",
    "#JCSys.initialState = [0,0]\n",
    "cavJC.initialState = 0\n",
    "qubJC.initialState = basis(2,0)\n",
    "\n",
    "cavRabi.initialState = 0\n",
    "qubRabi.initialState = basis(2,0)"
   ]
  },
  {
   "cell_type": "markdown",
   "metadata": {},
   "source": [
    "### Define the Digital Algorithm"
   ],
   "execution_count": null,
   "outputs": []
  },
  {
   "cell_type": "code",
   "execution_count": null,
   "metadata": {},
   "outputs": [],
   "source": [
    "JCunitary = freeEvolution(ratio=0.5, superSys=JCSys)\n",
    "#qubset = JCunitary.createUpdate(system=qubJC, key='frequency', value=0)\n",
    "\n",
    "bitFlip = xGate(implementation='instant', superSys=qubJC)\n",
    "#AJC = freeEvolution(superSys=JCSys)\n",
    "\n",
    "#AJCunitary = qProtocol(steps=[bitFlip, AJC, bitFlip])\n",
    "digitalRabi = qProtocol(superSys=JCSys, steps=[JCunitary, bitFlip, JCunitary, JCunitary, bitFlip, JCunitary], name='DigitalRabi')"
   ]
  },
  {
   "cell_type": "markdown",
   "metadata": {},
   "source": [
    "### Add the systems into Simulation interface"
   ],
   "execution_count": null,
   "outputs": []
  },
  {
   "cell_type": "code",
   "execution_count": null,
   "metadata": {},
   "outputs": [],
   "source": [
    "qSim.addSubSys(JCSys, digitalRabi)\n",
    "qSim.addSubSys(RabiSys)"
   ]
  },
  {
   "cell_type": "markdown",
   "metadata": {},
   "source": [
    "### Define Parameter Sweeps"
   ],
   "execution_count": null,
   "outputs": []
  },
  {
   "cell_type": "code",
   "execution_count": null,
   "metadata": {},
   "outputs": [],
   "source": [
    "'''cavJCFreqSweep = qSim.Sweep.createSweep(system=cavJC, sweepKey='frequency', sweepList=np.arange(-2, 2+0.005, 0.005))\n",
    "cavRabiFreqSweep = qSim.Sweep.createSweep(system=cavRabi, sweepKey='frequency', sweepList=np.arange(-4, 4+0.01, 0.01))'''\n",
    "stepSizeSweep = qSim.Sweep.createSweep(system=qSim, sweepKey='stepSize', sweepList=np.arange(0.001,0.1,0.001))"
   ]
  },
  {
   "cell_type": "markdown",
   "metadata": {},
   "source": [
    "### Define the (run-time) compute"
   ],
   "execution_count": null,
   "outputs": []
  },
  {
   "cell_type": "code",
   "execution_count": null,
   "metadata": {},
   "outputs": [],
   "source": [
    "cavParity = parityEXP(cavJC.freeMat)\n",
    "cavFree = cavJC.freeMat\n",
    "\n",
    "# Phase space \n",
    "xvec = np.linspace(-7, 7, 400)\n",
    "\n",
    "subSysDimsOrdered = JCSys.subSysDimensions\n",
    "\n",
    "def expectn(qSim, stateJC, stateRabi):\n",
    "    # Observable expectations\n",
    "    # Cavity Parity\n",
    "    qSim.getResultByName('RabiResults').resultsKeyValList = ('Cavity Parity', expectationKet(cavParity, stateRabi))\n",
    "    qSim.getResultByName('JCDigitalRabiResults').resultsKeyValList = ('Cavity Parity', expectationKet(cavParity, stateJC))\n",
    "    # Photon number\n",
    "    qSim.getResultByName('RabiResults').resultsKeyValList = ('Photon Number', expectationKet(cavFree, stateRabi))\n",
    "    qSim.getResultByName('JCDigitalRabiResults').resultsKeyValList = ('Photon Number', expectationKet(cavFree, stateJC))\n",
    "\n",
    "    # Simulation fidelity\n",
    "    qSim.qRes.resultsKeyValList = ['simFidelity', fidelityKet(stateJC, stateRabi)]\n",
    "    \n",
    "    # Fidelity decay under resonator frequency perturbationN\n",
    "    # if sweeping step size, it is required to use two different frequencies, so it is easier and more convenient to use 4 systems\n",
    "    # protocols can be arranged to avoid extra exponentiation (in the digital case)\n",
    "    # if doing multi-processing and sweeping resonator frequency, it is not possible to use the \"previous time series\" \n",
    "    # because they are simulated simultaneously on different cores\n",
    "    # so the only option in both cases with multi-processing, it to use 4 systems\n",
    "    #qSim.getResultByName('RabiResults').resultsKeyValList = ('FidelityDecay', fidelityKet(stateJC, stateJCPert))\n",
    "\n",
    "    #qSim.getResultByName('JCDigitalRabiResults').resultsKeyValList = ('PhotonNumber', fidelityKet(stateRabi, stateRabiPert))\n",
    "\n",
    "    # Fidelity to initial state\n",
    "    # Below is another possibility to reach different results objects, all of above can be included below, which would simplfy the script a lot\n",
    "    for protocol, qsys in qSim.subSys.items():\n",
    "        # Fidelity to initial state\n",
    "        protocol.qRes.resultsKeyValList = ('Fidelity to initial', fidelityKet(protocol.lastState, qsys.initialState))\n",
    "\n",
    "        # delocalisation measure (number of principle components)\n",
    "        protocol.qRes.resultsKeyValList = ('NPC', iprKetNB(protocol.lastState))\n",
    "\n",
    "        # for the Wigner and qubit entropy, we need to take the partial trace. also, it is easier and more efficient to use partial traced state for Fock populations\n",
    "        # Note: partial trace returns density matrices\n",
    "        cavState = partialTrace(keep=[0], dims=subSysDimsOrdered, state=protocol.lastState)\n",
    "        qubState = partialTrace(keep=[1], dims=subSysDimsOrdered, state=protocol.lastState)\n",
    "        \n",
    "        # Fock state populations by getting the diagonals.\n",
    "        # the reason for np.real is that, even though it is real, it still has complex part that is zero, so this gets rid of extra information for the memory\n",
    "        fockPops = np.real(cavState.diagonal()) # useful in two ways, obviously this and eigenvector statistics, so they should be turned into a method in QT\n",
    "        protocol.qRes.resultsKeyValList = ('Fock state populations', fockPops[0:10])\n",
    "        protocol.qRes.averageKeyVal = ('Fock state populations Ave', fockPops[0:10])\n",
    "\n",
    "        # calculating Wigner and time-averaged Wigner\n",
    "        #WignerFunc = Wigner(cavState, xvec=xvec)\n",
    "        #protocol.qRes.resultsKeyValList = ('Wigner', WignerFunc)\n",
    "        #protocol.qRes.averageKeyVal = ('Wigner average', WignerFunc)\n",
    "\n",
    "        # calculating qubit entropy and its time average\n",
    "        qubEntropy = entropy(qubState)\n",
    "        protocol.qRes.resultsKeyValList = ['Qubit entropy', qubEntropy]\n",
    "        protocol.qRes.averageKeyVal = ('Qubit entropy average', qubEntropy)\n",
    "\n",
    "    # BELOW ARE THE TREE DIFFERENT POSSIBLE SYNTAX THAT IS ALREADY AVAILABLE\n",
    "\n",
    "    #qSim.qRes.results['simFidelity'].append(fidelityKet(stateJC, stateRabi))\n",
    "    #qSim.qRes.resultsMethod('simFidelity', fidelityKet(stateJC, stateRabi))\n",
    "    #qSim.qRes.resultsKeyValList = ['simFidelity', fidelityKet(stateJC, stateRabi)]\n",
    "\n",
    "    #qSim.getResultByName('RabiResults').results['cavParity'].append(expectationKet(cavParity, stateRabi))\n",
    "    #qSim.getResultByName('RabiResults').resultsMethod('cavParity', expectationKet(cavParity, stateRabi))\n",
    "    #qSim.getResultByName('RabiResults').resultsKeyValList = ('cavParity', expectationKet(cavParity, stateRabi))\n",
    "    \n",
    "    #qSim.getResultByName('JCDigitalRabiResults').results['cavParity'].append(expectationKet(cavParity, stateJC))\n",
    "    #qSim.getResultByName('JCDigitalRabiResults').resultsMethod('cavParity', expectationKet(cavParity, stateJC))\n",
    "    #qSim.getResultByName('JCDigitalRabiResults').resultsKeyValList = ('cavParity', expectationKet(cavParity, stateJC))\n",
    "\n",
    "qSim.compute = expectn"
   ]
  },
  {
   "cell_type": "markdown",
   "metadata": {},
   "source": [
    "### Run the simulation"
   ],
   "execution_count": null,
   "outputs": []
  },
  {
   "cell_type": "code",
   "execution_count": null,
   "metadata": {},
   "outputs": [],
   "source": [
    "nw = datetime.datetime.now()\n",
    "\n",
    "results = qSim.run(p=True, coreCount='all')\n",
    "\n",
    "en = datetime.datetime.now()\n",
    "print(en-nw)"
   ]
  },
  {
   "cell_type": "markdown",
   "metadata": {},
   "source": [
    "### Save Results"
   ],
   "execution_count": null,
   "outputs": []
  },
  {
   "cell_type": "code",
   "execution_count": null,
   "metadata": {},
   "outputs": [],
   "source": [
    "path, fname = qSim.qRes.saveAll(fileName='trial', path='/Users/cahitkargi/Desktop')"
   ]
  },
  {
   "cell_type": "markdown",
   "metadata": {},
   "source": [
    "### Plot the Results\n",
    "---\n",
    "\n",
    "Plotting is not part of the simulation library"
   ],
   "execution_count": null,
   "outputs": []
  },
  {
   "cell_type": "code",
   "execution_count": null,
   "metadata": {},
   "outputs": [],
   "source": [
    "def plotRes(xList = cavRabiFreqSweep.sweepList):\n",
    "    fig = plt.figure(figsize=(12,9))\n",
    "    setC = [0.88, 0.25, 0.02, 0.6]\n",
    "\n",
    "    axGrids = ck.Plotting.Functions.grid(3, 1, fig=fig)\n",
    "\n",
    "    ck.Plotting.SimplePlots.colorPlot(xList, [x*qSim.stepSize for x in range(qSim.steps+1)], qSim.qRes.results['simFidelity'], ax=axGrids[0], gif=fig, setC=setC)\n",
    "    ck.Plotting.SimplePlots.colorPlot(xList, [x*qSim.stepSize for x in range(qSim.steps+1)], qSim.getResultByName('RabiResults').results['cavParity'], ax=axGrids[1], gif=fig, setC=setC)\n",
    "    ck.Plotting.SimplePlots.colorPlot(xList, [x*qSim.stepSize for x in range(qSim.steps+1)], qSim.getResultByName('JCDigitalRabiResults').results['cavParity'], ax=axGrids[2], gif=fig, setC=setC)\n",
    "\n",
    "plotRes(cavRabiFreqSweep.sweepList)"
   ]
  },
  {
   "cell_type": "code",
   "execution_count": null,
   "metadata": {},
   "outputs": [],
   "source": [
    "print(list(qSim.subSys.keys())[1].qRes.superSys.name)\n",
    "print(list(qSim.subSys.keys())[1].name)\n",
    "print(RabiSys._genericQSys__unitary.name)\n",
    "print(qSim.getResultByName('RabiResults').superSys.name)"
   ]
  },
  {
   "cell_type": "code",
   "execution_count": null,
   "metadata": {},
   "outputs": [],
   "source": [
    "def plotRes(xList = stepSizeSweep.sweepList):\n",
    "    fig = plt.figure(figsize=(12,9))\n",
    "    setC = [0.92, 0.25, 0.02, 0.6]\n",
    "\n",
    "    axGrids = ck.Plotting.Functions.grid(8, 2, fig=fig)\n",
    "\n",
    "    ck.Plotting.SimplePlots.colorPlotIreg(xList, qSim.finalTime, qSim.qRes.results['simFidelity'], ax=axGrids[14], gif=fig, setC=setC, mapC='GrYl', maxC=1, minC=0)\n",
    "\n",
    "    ck.Plotting.SimplePlots.colorPlotIreg(xList, qSim.finalTime, qSim.getResultByName('RabiResults').results['Cavity Parity'], ax=axGrids[0], gif=fig, setC=setC)\n",
    "    ck.Plotting.SimplePlots.colorPlotIreg(xList, qSim.finalTime, qSim.getResultByName('JCDigitalRabiResults').results['Cavity Parity'], ax=axGrids[1], gif=fig, setC=setC)\n",
    "\n",
    "\n",
    "    ck.Plotting.SimplePlots.colorPlotIreg(xList, qSim.finalTime, qSim.getResultByName('RabiResults').results['Photon Number'], ax=axGrids[2], gif=fig, setC=setC, maxC=20, minC=0)\n",
    "    ck.Plotting.SimplePlots.colorPlotIreg(xList, qSim.finalTime, qSim.getResultByName('JCDigitalRabiResults').results['Photon Number'], ax=axGrids[3], gif=fig, setC=setC, maxC=20, minC=0)\n",
    "\n",
    "\n",
    "    ck.Plotting.SimplePlots.colorPlotIreg(xList, qSim.finalTime, qSim.getResultByName('RabiResults').results['Fidelity to initial'], ax=axGrids[4], gif=fig, setC=setC, maxC=1, minC=0)\n",
    "    ck.Plotting.SimplePlots.colorPlotIreg(xList, qSim.finalTime, qSim.getResultByName('JCDigitalRabiResults').results['Fidelity to initial'], ax=axGrids[5], gif=fig, setC=setC, maxC=1, minC=0)\n",
    "\n",
    "\n",
    "    ck.Plotting.SimplePlots.colorPlotIreg(xList, qSim.finalTime, qSim.getResultByName('RabiResults').results['NPC'], ax=axGrids[6], gif=fig, setC=setC, maxC=20, minC=1)\n",
    "    ck.Plotting.SimplePlots.colorPlotIreg(xList, qSim.finalTime, qSim.getResultByName('JCDigitalRabiResults').results['NPC'], ax=axGrids[7], gif=fig, setC=setC, maxC=20, minC=1)\n",
    "\n",
    "\n",
    "    ck.Plotting.SimplePlots.colorPlot(xList, np.arange(0, 10, 1), qSim.getResultByName('RabiResults').results['Fock state populations Ave'], ax=axGrids[12], gif=fig, setC=setC, maxC=0.4, minC=0)\n",
    "    ck.Plotting.SimplePlots.colorPlot(xList, np.arange(0, 10, 1), qSim.getResultByName('JCDigitalRabiResults').results['Fock state populations Ave'], ax=axGrids[13], gif=fig, setC=setC, maxC=0.4, minC=0)\n",
    "    ck.Plotting.SimplePlots.colorPlotIreg(xList, qSim.finalTime, qSim.getResultByName('RabiResults').results['Qubit entropy'], ax=axGrids[8], gif=fig, setC=setC, maxC=1.7, minC=0)\n",
    "    ck.Plotting.SimplePlots.colorPlotIreg(xList, qSim.finalTime, qSim.getResultByName('JCDigitalRabiResults').results['Qubit entropy'], ax=axGrids[9], gif=fig, setC=setC, maxC=1.7, minC=0)\n",
    "    axGrids[10].plot(xList, qSim.getResultByName('RabiResults').results['Qubit entropy average'])\n",
    "    axGrids[11].plot(xList, qSim.getResultByName('JCDigitalRabiResults').results['Qubit entropy average'])\n",
    "\n",
    "plotRes()"
   ]
  },
  {
   "cell_type": "code",
   "execution_count": null,
   "metadata": {},
   "outputs": [],
   "source": [
    "print(len(qSim.qRes.results['simFidelityAve']))\n",
    "print(qSim.qRes.results['simFidelityAve'])"
   ]
  },
  {
   "cell_type": "code",
   "execution_count": null,
   "metadata": {},
   "outputs": [],
   "source": [
    "average = [sum(l)/len(l) for l in qSim.qRes.results['simFidelity']]"
   ]
  },
  {
   "cell_type": "code",
   "execution_count": null,
   "metadata": {},
   "outputs": [],
   "source": [
    "for i in range(len(average)):\n",
    "    print(average[i] - qSim.qRes.results['simFidelityAve'][i])"
   ]
  },
  {
   "cell_type": "code",
   "execution_count": null,
   "metadata": {},
   "outputs": [],
   "source": [
    "s = 0\n",
    "for val in qSim.getResultByName('JCDigitalRabiResults').results['Fock state populations Ave'][0]:\n",
    "    s += np.sqrt(val)\n",
    "print(s)"
   ]
  },
  {
   "cell_type": "code",
   "execution_count": null,
   "metadata": {},
   "outputs": [],
   "source": [
    "x = qSim.getResultByName('JCDigitalRabiResults').results['Fock state populations'][0][0]\n",
    "print(qSim.getResultByName('JCDigitalRabiResults').results['Fock state populations'][0][1])\n",
    "y = (x + qSim.getResultByName('JCDigitalRabiResults').results['Fock state populations'][0][1])/2\n",
    "z = ((2*y) + qSim.getResultByName('JCDigitalRabiResults').results['Fock state populations'][0][2])/3\n",
    "print(x)\n",
    "print(y)\n",
    "print(z)"
   ]
  },
  {
   "cell_type": "code",
   "execution_count": null,
   "metadata": {},
   "outputs": [],
   "source": []
  }
 ]
}