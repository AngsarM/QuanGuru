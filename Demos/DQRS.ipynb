{
 "cells": [
  {
   "cell_type": "code",
   "execution_count": null,
   "metadata": {},
   "outputs": [],
   "source": [
    "from qTools import *\n",
    "\n",
    "import Cahit as ck\n",
    "\n",
    "import numpy as np\n",
    "\n",
    "import matplotlib.pyplot as plt\n",
    "import datetime"
   ]
  },
  {
   "cell_type": "markdown",
   "metadata": {},
   "source": [
    "### System parameters"
   ]
  },
  {
   "cell_type": "code",
   "execution_count": null,
   "metadata": {},
   "outputs": [],
   "source": [
    "resonatorDimension = 20\n",
    "g = 1.79\n",
    "qfreq = 0\n",
    "resFreq = 2"
   ]
  },
  {
   "cell_type": "markdown",
   "metadata": {},
   "source": [
    "### Simulation Parameters and Settings"
   ]
  },
  {
   "cell_type": "code",
   "execution_count": null,
   "metadata": {},
   "outputs": [],
   "source": [
    "qSim = Simulation()\n",
    "qSim.totalTime = 2\n",
    "qSim.stepSize = 0.02\n",
    "qSim.delStates = True"
   ]
  },
  {
   "cell_type": "markdown",
   "metadata": {},
   "source": [
    "### Composite System Creation and Components"
   ]
  },
  {
   "cell_type": "code",
   "execution_count": null,
   "metadata": {},
   "outputs": [],
   "source": [
    "JCSys = QuantumSystem(name='JC')"
   ]
  },
  {
   "cell_type": "code",
   "execution_count": null,
   "metadata": {},
   "outputs": [],
   "source": [
    "cavJC = Cavity(dimension=resonatorDimension, frequency=resFreq)\n",
    "qubJC = Qubit(frequency=qfreq)\n",
    "JCSys.addSubSys([cavJC, qubJC])"
   ]
  },
  {
   "cell_type": "code",
   "execution_count": null,
   "metadata": {},
   "outputs": [],
   "source": [
    "RabiSys = QuantumSystem(name='Rabi')"
   ]
  },
  {
   "cell_type": "code",
   "execution_count": null,
   "metadata": {},
   "outputs": [],
   "source": [
    "#cavRabi = RabiSys.addSubSys(cavJC.copy())\n",
    "cavRabi = RabiSys.addSubSys(Cavity(dimension=resonatorDimension, frequency=2*resFreq))\n",
    "qubRabi = RabiSys.addSubSys(Qubit, frequency=qfreq)"
   ]
  },
  {
   "cell_type": "code",
   "execution_count": null,
   "metadata": {},
   "outputs": [],
   "source": [
    "print(JCSys._freeEvol.simulation._stateBase__initialState._bound)\n",
    "print(JCSys.simulation._stateBase__initialState)"
   ]
  },
  {
   "cell_type": "markdown",
   "metadata": {},
   "source": [
    "#### Coupling term and initial state"
   ]
  },
  {
   "cell_type": "code",
   "execution_count": null,
   "metadata": {},
   "outputs": [],
   "source": [
    "JCcoupling = JCSys.JC(g)\n",
    "\n",
    "RabiCoupling = RabiSys.Rabi(g)\n",
    "\n",
    "JCSys.initialState = [0,0]\n",
    "\n",
    "RabiSys.initialState = [0,0]\n",
    "\n",
    "# cavJC.initialState = 0\n",
    "# qubJC.initialState = basis(2,0)\n",
    "\n",
    "# cavRabi.initialState = 0\n",
    "# qubRabi.initialState = basis(2,0)"
   ]
  },
  {
   "cell_type": "markdown",
   "metadata": {},
   "source": [
    "### Define the Digital Algorithm"
   ]
  },
  {
   "cell_type": "code",
   "execution_count": null,
   "metadata": {},
   "outputs": [],
   "source": [
    "JCunitary = freeEvolution(ratio=0.5, superSys=JCSys)\n",
    "#JCunitary._createUnitary = \n",
    "bitFlip = xGate(implementation='instant', superSys=qubJC)\n",
    "\n",
    "#AJC = freeEvolution(superSys=JCSys)\n",
    "#qubset = AJC.createUpdate(system=qubJC, key='frequency', value=0)\n",
    "AJCunitary = qProtocol(steps=[bitFlip, JCunitary, JCunitary, bitFlip])\n",
    "\n",
    "digitalRabi = qProtocol(superSys=JCSys, steps=[JCunitary, AJCunitary, JCunitary], name='DigitalRabi')"
   ]
  },
  {
   "cell_type": "markdown",
   "metadata": {},
   "source": [
    "### Add the systems into Simulation interface"
   ]
  },
  {
   "cell_type": "code",
   "execution_count": null,
   "metadata": {},
   "outputs": [],
   "source": [
    "qSim.addSubSys(JCSys, digitalRabi)\n",
    "qSim.addSubSys(RabiSys)"
   ]
  },
  {
   "cell_type": "markdown",
   "metadata": {},
   "source": [
    "### Define Parameter Sweeps"
   ]
  },
  {
   "cell_type": "code",
   "execution_count": null,
   "metadata": {},
   "outputs": [],
   "source": [
    "cavJCFreqSweep = qSim.Sweep.createSweep(system=cavJC, sweepKey='frequency', sweepList=np.arange(-2, 2+0.05, 0.05))\n",
    "\n",
    "cavRabiFreqSweep = qSim.Sweep.createSweep(system=cavRabi, sweepKey='frequency', sweepList=np.arange(-4, 4+0.1, 0.1))\n",
    "\n",
    "# stepSizeSweep = qSim.Sweep.createSweep(system=qSim, sweepKey='stepSize', sweepList=np.arange(0.001,0.1,0.001))\n",
    "dimSweep1 = qSim.Sweep.createSweep(system=cavJC, sweepKey='dimension', sweepList=np.arange(2, 163, 1, dtype=np.int32))\n",
    "dimSweep2 = qSim.Sweep.createSweep(system=cavRabi, sweepKey='dimension', sweepList=np.arange(2, 163, 1, dtype=np.int32))"
   ]
  },
  {
   "cell_type": "markdown",
   "metadata": {},
   "source": [
    "### Define the (run-time) compute"
   ]
  },
  {
   "cell_type": "code",
   "execution_count": null,
   "metadata": {},
   "outputs": [],
   "source": [
    "\"\"\"cavParity = parityEXP(cavJC.freeMat)\n",
    "cavFree = cavJC.freeMat\n",
    "subSysDimsOrdered = JCSys.subSysDimensions\"\"\"\n",
    "\n",
    "def expectn(qSim, *args):\n",
    "    JCs = list(qSim.subSys.values())[0]\n",
    "    cav = JCs.getObjByName('Cavity1')\n",
    "    cavParity = paritySUM(2*cav.dimension)\n",
    "    cavFree = cav.freeMat\n",
    "    subSysDimsOrdered = JCs.subSysDimensions\n",
    "    # Observable expectations\n",
    "    # Cavity Parity\n",
    "    stateRabi = args[0]\n",
    "    stateJC = args[1]\n",
    "\n",
    "    exp = expectationKet(cavParity, stateRabi)\n",
    "    qSim.getResultByName('RabiResults').result = ('Cavity Parity', exp)\n",
    "    qSim.getResultByName('JCResults').result = ('Cavity Parity', expectationKet(cavParity, stateJC))\n",
    "    # Photon number\n",
    "    qSim.getResultByName('RabiResults').result = ('Photon Number', expectationKet(cavFree, stateRabi))\n",
    "    qSim.getResultByName('JCResults').result = ('Photon Number', expectationKet(cavFree, stateJC))\n",
    "\n",
    "    # Simulation fidelity\n",
    "    qSim.qRes.result = ['simFidelity', fidelityKet(stateJC, stateRabi)]\n",
    "    \n",
    "    # Fidelity decay under resonator frequency perturbationN\n",
    "    # if sweeping step size, it is required to use two different frequencies, so it is easier and more convenient to use 4 systems\n",
    "    # protocols can be arranged to avoid extra exponentiation (in the digital case)\n",
    "    # if doing multi-processing and sweeping resonator frequency, it is not possible to use the \"previous time series\" \n",
    "    # because they are simulated simultaneously on different cores\n",
    "    # so the only option in both cases with multi-processing, it to use 4 systems\n",
    "    #qSim.getResultByName('RabiResults').resultsKeyValList = ('FidelityDecay', fidelityKet(stateJC, stateJCPert))\n",
    "\n",
    "    #qSim.getResultByName('JCDigitalRabiResults').resultsKeyValList = ('FidelityDecay', fidelityKet(stateRabi, stateRabiPert))\n",
    "\n",
    "    # Fidelity to initial state\n",
    "    # Below is another possibility to reach different results objects, all of above can be included below, which would simplfy the script a lot\n",
    "    for protocol, qsys in qSim.subSys.items():\n",
    "        # Fidelity to initial state\n",
    "        qsys.qRes.result = ('Fidelity to initial', fidelityKet(protocol.currentState, qsys.initialState))\n",
    "\n",
    "        # delocalisation measure (number of principle components)\n",
    "        qsys.qRes.result = ('NPC', iprKetNB(protocol.currentState))\n",
    "\n",
    "        # for the Wigner and qubit entropy, we need to take the partial trace. also, it is easier and more efficient to use partial traced state for Fock populations\n",
    "        # Note: partial trace returns density matrices\n",
    "        cavState = partialTrace(keep=[0], dims=subSysDimsOrdered, state=protocol.currentState)\n",
    "        qubState = partialTrace(keep=[1], dims=subSysDimsOrdered, state=protocol.currentState)\n",
    "        \n",
    "        # Fock state populations by getting the diagonals.\n",
    "        # the reason for np.real is that, even though it is real, it still has complex part that is zero, so this gets rid of extra information for the memory\n",
    "        fockPops = np.real(cavState.diagonal()) # useful in two ways, obviously this and eigenvector statistics, so they should be turned into a method in QT\n",
    "        #qsys.qRes.resultsKeyValList = ('Fock state populations', fockPops[0:10])\n",
    "        qsys.qRes.resAverage= ('Fock state populations Ave', fockPops[0:10])\n",
    "        del cavState\n",
    "        # calculating Wigner and time-averaged Wigner\n",
    "        #WignerFunc = Wigner(cavState, xvec=xvec)\n",
    "        #protocol.qRes.resultsKeyValList = ('Wigner', WignerFunc)\n",
    "        #protocol.qRes.averageKeyVal = ('Wigner average', WignerFunc)\n",
    "\n",
    "        # calculating qubit entropy and its time average\n",
    "        qubEntropy = entropy(qubState)\n",
    "        del qubState\n",
    "        qsys.qRes.result = ['Qubit entropy', qubEntropy]\n",
    "        qsys.qRes.resAverage = ('Qubit entropy average', qubEntropy)\n",
    "\n",
    "        # print(qsys.qRes.results)\n",
    "        # print(qsys.qRes.states)\n",
    "\n",
    "    # BELOW ARE THE TREE DIFFERENT POSSIBLE SYNTAX THAT IS ALREADY AVAILABLE\n",
    "\n",
    "    #qSim.qRes.results['simFidelity'].append(fidelityKet(stateJC, stateRabi))\n",
    "    #qSim.qRes.resultsMethod('simFidelity', fidelityKet(stateJC, stateRabi))\n",
    "    #qSim.qRes.resultsKeyValList = ['simFidelity', fidelityKet(stateJC, stateRabi)]\n",
    "\n",
    "    #qSim.getResultByName('RabiResults').results['cavParity'].append(expectationKet(cavParity, stateRabi))\n",
    "    #qSim.getResultByName('RabiResults').resultsMethod('cavParity', expectationKet(cavParity, stateRabi))\n",
    "    #qSim.getResultByName('RabiResults').resultsKeyValList = ('cavParity', expectationKet(cavParity, stateRabi))\n",
    "    \n",
    "    #qSim.getResultByName('JCDigitalRabiResults').results['cavParity'].append(expectationKet(cavParity, stateJC))\n",
    "    #qSim.getResultByName('JCDigitalRabiResults').resultsMethod('cavParity', expectationKet(cavParity, stateJC))\n",
    "    #qSim.getResultByName('JCDigitalRabiResults').resultsKeyValList = ('cavParity', expectationKet(cavParity, stateJC))\n",
    "\n",
    "qSim.compute = expectn"
   ]
  },
  {
   "cell_type": "markdown",
   "metadata": {},
   "source": [
    "### Run the simulation"
   ]
  },
  {
   "cell_type": "code",
   "execution_count": null,
   "metadata": {
    "tags": [
     "outputPrepend",
     "outputPrepend"
    ]
   },
   "outputs": [],
   "source": [
    "nw = datetime.datetime.now()\n",
    "\n",
    "results = qSim.run(p=True, coreCount='all')\n",
    "\n",
    "en = datetime.datetime.now()\n",
    "print(en-nw)"
   ]
  },
  {
   "cell_type": "code",
   "execution_count": null,
   "metadata": {},
   "outputs": [],
   "source": [
    "print(cavRabi.superSys)"
   ]
  },
  {
   "cell_type": "code",
   "execution_count": null,
   "metadata": {},
   "outputs": [],
   "source": [
    "print(JCSys._freeEvol.numberOfExponentiations)"
   ]
  },
  {
   "cell_type": "code",
   "execution_count": null,
   "metadata": {},
   "outputs": [],
   "source": [
    "print(qSim.qRes.results['simFidelity'])"
   ]
  },
  {
   "cell_type": "code",
   "execution_count": null,
   "metadata": {},
   "outputs": [],
   "source": [
    "print(len(qSim.qRes.results['simFidelity']))\n",
    "\n",
    "plt.plot([x*qSim.stepSize for x in range(qSim.stepCount)], qSim.qRes.results['simFidelity'], 'g-', label=r'Sim Fidelity ($\\omega_r = 2$)')\n",
    "plt.plot([x*qSim.stepSize for x in range(qSim.stepCount)], qSim.getResultByName('RabiResults').results['Cavity Parity'], 'b-.', label='Cav Parity Ideal')\n",
    "plt.plot([x*qSim.stepSize for x in range(qSim.stepCount)], qSim.getResultByName('DigitalRabiResults').results['Cavity Parity'], 'r.', label='Cav Parity Digital')\n",
    "plt.legend()\n",
    "plt.xlabel(r'Time ($\\mu s$)')"
   ]
  },
  {
   "cell_type": "markdown",
   "metadata": {},
   "source": [
    "### Save Results"
   ]
  },
  {
   "cell_type": "code",
   "execution_count": null,
   "metadata": {},
   "outputs": [],
   "source": [
    "path, fname = qSim.qRes.saveAll(fileName='trial', path='/Users/cahitkargi/Desktop', irregular=True)"
   ]
  },
  {
   "cell_type": "markdown",
   "metadata": {},
   "source": [
    "### Plot the Results\n",
    "---\n",
    "\n",
    "Plotting is not part of the simulation library"
   ]
  },
  {
   "cell_type": "code",
   "execution_count": null,
   "metadata": {},
   "outputs": [],
   "source": [
    "print(len(qSim.timeList))\n",
    "print(len(qSim.qRes.results['simFidelity']), len(qSim.qRes.results['simFidelity'][0]))"
   ]
  },
  {
   "cell_type": "code",
   "execution_count": null,
   "metadata": {},
   "outputs": [],
   "source": [
    "def plotRes(xList = cavJCFreqSweep.sweepList):\n",
    "    fig = plt.figure(figsize=(12,9))\n",
    "    setC = [0.94, 0.25, 0.02, 0.6]\n",
    "\n",
    "    axGrids = ck.Plotting.Functions.grid(2, 3, fig=fig)\n",
    "\n",
    "    ck.Plotting.SimplePlots.colorPlot(xList, qSim.timeList, qSim.qRes.results['simFidelity'], ax=axGrids[0], gif=fig, setC=setC)\n",
    "    ck.Plotting.SimplePlots.colorPlot(xList, qSim.timeList, qSim.getResultByName('RabiResults').results['Cavity Parity'], ax=axGrids[1], gif=fig, setC=setC)\n",
    "    ck.Plotting.SimplePlots.colorPlot(xList, qSim.timeList, qSim.getResultByName('JCResults').results['Cavity Parity'], ax=axGrids[2], gif=fig, setC=setC)\n",
    "\n",
    "plotRes(cavJCFreqSweep.sweepList)"
   ]
  },
  {
   "cell_type": "code",
   "execution_count": null,
   "metadata": {},
   "outputs": [],
   "source": [
    "def plotRes(xList = stepSizeSweep.sweepList):\n",
    "    fig = plt.figure(figsize=(12,9))\n",
    "    setC = [0.92, 0.25, 0.02, 0.6]\n",
    "\n",
    "    axGrids = ck.Plotting.Functions.grid(8, 2, fig=fig)\n",
    "\n",
    "    ck.Plotting.SimplePlots.colorPlotIreg(xList, qSim.finalTime, qSim.qRes.results['simFidelity'], ax=axGrids[14], gif=fig, setC=setC, mapC='GrYl', maxC=1, minC=0)\n",
    "\n",
    "    ck.Plotting.SimplePlots.colorPlotIreg(xList, qSim.finalTime, qSim.getResultByName('RabiResults').results['Cavity Parity'], ax=axGrids[0], gif=fig, setC=setC)\n",
    "    ck.Plotting.SimplePlots.colorPlotIreg(xList, qSim.finalTime, qSim.getResultByName('JCDigitalRabiResults').results['Cavity Parity'], ax=axGrids[1], gif=fig, setC=setC)\n",
    "\n",
    "\n",
    "    ck.Plotting.SimplePlots.colorPlotIreg(xList, qSim.finalTime, qSim.getResultByName('RabiResults').results['Photon Number'], ax=axGrids[2], gif=fig, setC=setC, maxC=20, minC=0)\n",
    "    ck.Plotting.SimplePlots.colorPlotIreg(xList, qSim.finalTime, qSim.getResultByName('JCDigitalRabiResults').results['Photon Number'], ax=axGrids[3], gif=fig, setC=setC, maxC=20, minC=0)\n",
    "\n",
    "\n",
    "    ck.Plotting.SimplePlots.colorPlotIreg(xList, qSim.finalTime, qSim.getResultByName('RabiResults').results['Fidelity to initial'], ax=axGrids[4], gif=fig, setC=setC, maxC=1, minC=0)\n",
    "    ck.Plotting.SimplePlots.colorPlotIreg(xList, qSim.finalTime, qSim.getResultByName('JCResults').results['Fidelity to initial'], ax=axGrids[5], gif=fig, setC=setC, maxC=1, minC=0)\n",
    "\n",
    "\n",
    "    ck.Plotting.SimplePlots.colorPlotIreg(xList, qSim.finalTime, qSim.getResultByName('RabiResults').results['NPC'], ax=axGrids[6], gif=fig, setC=setC, maxC=20, minC=1)\n",
    "    ck.Plotting.SimplePlots.colorPlotIreg(xList, qSim.finalTime, qSim.getResultByName('JCResults').results['NPC'], ax=axGrids[7], gif=fig, setC=setC, maxC=20, minC=1)\n",
    "\n",
    "\n",
    "    ck.Plotting.SimplePlots.colorPlot(xList, np.arange(0, 10, 1), qSim.getResultByName('RabiResults').results['Fock state populations Ave'], ax=axGrids[12], gif=fig, setC=setC, maxC=0.4, minC=0)\n",
    "    ck.Plotting.SimplePlots.colorPlot(xList, np.arange(0, 10, 1), qSim.getResultByName('JCResults').results['Fock state populations Ave'], ax=axGrids[13], gif=fig, setC=setC, maxC=0.4, minC=0)\n",
    "    ck.Plotting.SimplePlots.colorPlotIreg(xList, qSim.finalTime, qSim.getResultByName('RabiResults').results['Qubit entropy'], ax=axGrids[8], gif=fig, setC=setC, maxC=1.7, minC=0)\n",
    "    ck.Plotting.SimplePlots.colorPlotIreg(xList, qSim.finalTime, qSim.getResultByName('JCResults').results['Qubit entropy'], ax=axGrids[9], gif=fig, setC=setC, maxC=1.7, minC=0)\n",
    "    axGrids[10].plot(xList, qSim.getResultByName('RabiResults').results['Qubit entropy average'])\n",
    "    axGrids[11].plot(xList, qSim.getResultByName('JCResults').results['Qubit entropy average'])\n",
    "\n",
    "plotRes()"
   ]
  },
  {
   "cell_type": "code",
   "execution_count": null,
   "metadata": {},
   "outputs": [],
   "source": []
  }
 ],
 "metadata": {
  "language_info": {
   "name": "python",
   "codemirror_mode": {
    "name": "ipython",
    "version": 3
   },
   "version": "3.8.3-final"
  },
  "orig_nbformat": 2,
  "file_extension": ".py",
  "mimetype": "text/x-python",
  "name": "python",
  "npconvert_exporter": "python",
  "pygments_lexer": "ipython3",
  "version": 3,
  "kernelspec": {
   "name": "python38364bit6f44eb9f135b41e0ad3eb56751a93f77",
   "display_name": "Python 3.8.3 64-bit"
  }
 },
 "nbformat": 4,
 "nbformat_minor": 2
}