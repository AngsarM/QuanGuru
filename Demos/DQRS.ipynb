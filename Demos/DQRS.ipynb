{
 "nbformat": 4,
 "nbformat_minor": 2,
 "metadata": {
  "language_info": {
   "name": "python",
   "codemirror_mode": {
    "name": "ipython",
    "version": 3
   },
   "version": "3.7.6-final"
  },
  "orig_nbformat": 2,
  "file_extension": ".py",
  "mimetype": "text/x-python",
  "name": "python",
  "npconvert_exporter": "python",
  "pygments_lexer": "ipython3",
  "version": 3,
  "kernelspec": {
   "name": "python3",
   "display_name": "Python 3"
  }
 },
 "cells": [
  {
   "cell_type": "code",
   "execution_count": null,
   "metadata": {},
   "outputs": [],
   "source": [
    "from qTools import *\n",
    "import Cahit as ck\n",
    "\n",
    "import numpy as np\n",
    "\n",
    "import matplotlib.pyplot as plt\n",
    "import datetime"
   ]
  },
  {
   "cell_type": "markdown",
   "metadata": {},
   "source": [
    "### System parameters"
   ],
   "execution_count": null,
   "outputs": []
  },
  {
   "cell_type": "code",
   "execution_count": null,
   "metadata": {},
   "outputs": [],
   "source": [
    "resonatorDimension = 200\n",
    "g = 1.79\n",
    "qfreq = 0\n",
    "resFreq = 1"
   ]
  },
  {
   "cell_type": "markdown",
   "metadata": {},
   "source": [
    "### Simulation Parameters and Settings"
   ],
   "execution_count": null,
   "outputs": []
  },
  {
   "cell_type": "code",
   "execution_count": null,
   "metadata": {},
   "outputs": [],
   "source": [
    "qSim = Simulation()\n",
    "qSim.finalTime = 2\n",
    "qSim.stepSize = 0.02\n",
    "qSim.delStates = True"
   ]
  },
  {
   "cell_type": "markdown",
   "metadata": {},
   "source": [
    "### Composite System Creation and Components"
   ],
   "execution_count": null,
   "outputs": []
  },
  {
   "cell_type": "code",
   "execution_count": null,
   "metadata": {},
   "outputs": [],
   "source": [
    "JCSys = QuantumSystem(name='JC')\n",
    "RabiSys = QuantumSystem(name='Rabi')\n",
    "\n",
    "cavJC = JCSys.addSubSys(Cavity(dimension=resonatorDimension, frequency=resFreq))\n",
    "qubJC = JCSys.createSubSys(Qubit, frequency=qfreq)\n",
    "\n",
    "#cavRabi = RabiSys.addSubSys(cavJC.copy())\n",
    "cavRabi = RabiSys.addSubSys(cavJC.copy(),frequency=2*resFreq)\n",
    "qubRabi = RabiSys.addSubSys(qubJC.copy())"
   ]
  },
  {
   "cell_type": "markdown",
   "metadata": {},
   "source": [
    "#### Coupling term and initial state"
   ],
   "execution_count": null,
   "outputs": []
  },
  {
   "cell_type": "code",
   "execution_count": null,
   "metadata": {},
   "outputs": [],
   "source": [
    "JCcoupling = JCSys.JC(cavJC, qubJC, g)\n",
    "RabiCoupling = RabiSys.Rabi(cavRabi, qubRabi, g)\n",
    "\n",
    "#JCSys.initialState = [0,0]\n",
    "cavJC.initialState = 0\n",
    "qubJC.initialState = basis(2,0)\n",
    "\n",
    "cavRabi.initialState = 0\n",
    "qubRabi.initialState = basis(2,0)"
   ]
  },
  {
   "cell_type": "markdown",
   "metadata": {},
   "source": [
    "### Define the Digital Algorithm"
   ],
   "execution_count": null,
   "outputs": []
  },
  {
   "cell_type": "code",
   "execution_count": null,
   "metadata": {},
   "outputs": [],
   "source": [
    "JCunitary = freeEvolution(ratio=0.5, superSys=JCSys)\n",
    "#qubset = JCunitary.createUpdate(system=qubJC, key='frequency', value=0)\n",
    "\n",
    "bitFlip = xGate(implementation='instant', superSys=qubJC)\n",
    "#AJC = freeEvolution(superSys=JCSys)\n",
    "\n",
    "#AJCunitary = qProtocol(steps=[bitFlip, AJC, bitFlip])\n",
    "digitalRabi = qProtocol(superSys=JCSys, steps=[JCunitary, bitFlip, JCunitary, JCunitary, bitFlip, JCunitary], name='DigitalRabi')"
   ]
  },
  {
   "cell_type": "markdown",
   "metadata": {},
   "source": [
    "### Add the systems into Simulation interface"
   ],
   "execution_count": null,
   "outputs": []
  },
  {
   "cell_type": "code",
   "execution_count": null,
   "metadata": {},
   "outputs": [],
   "source": [
    "qSim.addSubSys(JCSys, digitalRabi)\n",
    "qSim.addSubSys(RabiSys)"
   ]
  },
  {
   "cell_type": "markdown",
   "metadata": {},
   "source": [
    "### Define Parameter Sweeps"
   ],
   "execution_count": null,
   "outputs": []
  },
  {
   "cell_type": "code",
   "execution_count": null,
   "metadata": {},
   "outputs": [],
   "source": [
    "'''cavJCFreqSweep = qSim.Sweep.createSweep(system=cavJC, sweepKey='frequency', sweepList=np.arange(-2, 2+0.005, 0.005))\n",
    "cavRabiFreqSweep = qSim.Sweep.createSweep(system=cavRabi, sweepKey='frequency', sweepList=np.arange(-4, 4+0.01, 0.01))'''\n",
    "stepSizeSweep = qSim.Sweep.createSweep(system=qSim, sweepKey='stepSize', sweepList=np.arange(0.001,0.1,0.001))"
   ]
  },
  {
   "cell_type": "markdown",
   "metadata": {},
   "source": [
    "### Define the (run-time) compute"
   ],
   "execution_count": null,
   "outputs": []
  },
  {
   "cell_type": "code",
   "execution_count": null,
   "metadata": {},
   "outputs": [],
   "source": [
    "cavParity = parityEXP(cavJC.freeMat)\n",
    "\n",
    "def expectn(qSim, stateJC, stateRabi):\n",
    "    \n",
    "    #qSim.qRes.results['simFidelity'].append(fidelityKet(stateJC, stateRabi))\n",
    "    qSim.qRes.resultsMethod('simFidelity', fidelityKet(stateJC, stateRabi))\n",
    "\n",
    "    #qSim.getResultByName('RabiResults').results['cavParity'].append(expectationKet(cavParity, stateRabi))\n",
    "    qSim.getResultByName('RabiResults').resultsMethod('cavParity', expectationKet(cavParity, stateRabi))\n",
    "    \n",
    "    #qSim.getResultByName('JCDigitalRabiResults').results['cavParity'].append(expectationKet(cavParity, stateJC))\n",
    "    qSim.getResultByName('JCDigitalRabiResults').resultsMethod('cavParity', expectationKet(cavParity, stateJC))\n",
    "\n",
    "qSim.compute = expectn"
   ]
  },
  {
   "cell_type": "markdown",
   "metadata": {},
   "source": [
    "### Run the simulation"
   ],
   "execution_count": null,
   "outputs": []
  },
  {
   "cell_type": "code",
   "execution_count": null,
   "metadata": {},
   "outputs": [],
   "source": [
    "nw = datetime.datetime.now()\n",
    "\n",
    "results = qSim.run(p=True, coreCount='all')\n",
    "\n",
    "en = datetime.datetime.now()\n",
    "print(en-nw)"
   ]
  },
  {
   "cell_type": "markdown",
   "metadata": {},
   "source": [
    "### Save Results"
   ],
   "execution_count": null,
   "outputs": []
  },
  {
   "cell_type": "code",
   "execution_count": null,
   "metadata": {},
   "outputs": [],
   "source": [
    "path, fname = qSim.qRes.saveAll(fileName='trial', path='/Users/cahitkargi/Desktop')"
   ]
  },
  {
   "cell_type": "markdown",
   "metadata": {},
   "source": [
    "### Plot the Results\n",
    "---\n",
    "\n",
    "Plotting is not part of the simulation library"
   ],
   "execution_count": null,
   "outputs": []
  },
  {
   "cell_type": "code",
   "execution_count": null,
   "metadata": {},
   "outputs": [],
   "source": [
    "def plotRes(xList = cavRabiFreqSweep.sweepList):\n",
    "    fig = plt.figure(figsize=(12,9))\n",
    "    setC = [0.88, 0.25, 0.02, 0.6]\n",
    "\n",
    "    axGrids = ck.Plotting.Functions.grid(3, 1, fig=fig)\n",
    "\n",
    "    ck.Plotting.SimplePlots.colorPlot(xList, [x*qSim.stepSize for x in range(qSim.steps+1)], qSim.qRes.results['simFidelity'], ax=axGrids[0], gif=fig, setC=setC)\n",
    "    ck.Plotting.SimplePlots.colorPlot(xList, [x*qSim.stepSize for x in range(qSim.steps+1)], qSim.getResultByName('RabiResults').results['cavParity'], ax=axGrids[1], gif=fig, setC=setC)\n",
    "    ck.Plotting.SimplePlots.colorPlot(xList, [x*qSim.stepSize for x in range(qSim.steps+1)], qSim.getResultByName('JCDigitalRabiResults').results['cavParity'], ax=axGrids[2], gif=fig, setC=setC)\n",
    "\n",
    "plotRes(cavRabiFreqSweep.sweepList)"
   ]
  },
  {
   "cell_type": "code",
   "execution_count": null,
   "metadata": {},
   "outputs": [],
   "source": [
    "def plotRes(xList = stepSizeSweep.sweepList):\n",
    "    fig = plt.figure(figsize=(12,9))\n",
    "    setC = [0.88, 0.25, 0.02, 0.6]\n",
    "\n",
    "    axGrids = ck.Plotting.Functions.grid(3, 1, fig=fig)\n",
    "\n",
    "    ck.Plotting.SimplePlots.colorPlotIreg(xList, qSim.finalTime, qSim.qRes.results['simFidelity'], ax=axGrids[0], gif=fig, setC=setC, mapC='GrYl', maxC=1, minC=0)\n",
    "    ck.Plotting.SimplePlots.colorPlotIreg(xList, qSim.finalTime, qSim.getResultByName('RabiResults').results['cavParity'], ax=axGrids[1], gif=fig, setC=setC)\n",
    "    ck.Plotting.SimplePlots.colorPlotIreg(xList, qSim.finalTime, qSim.getResultByName('JCDigitalRabiResults').results['cavParity'], ax=axGrids[2], gif=fig, setC=setC)\n",
    "\n",
    "plotRes()"
   ]
  },
  {
   "cell_type": "code",
   "execution_count": null,
   "metadata": {},
   "outputs": [],
   "source": []
  }
 ]
}