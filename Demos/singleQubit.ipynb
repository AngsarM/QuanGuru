{
 "cells": [
  {
   "cell_type": "code",
   "execution_count": null,
   "metadata": {},
   "outputs": [],
   "source": [
    "from qTools import *\n",
    "\n",
    "import matplotlib.pyplot as plt"
   ]
  },
  {
   "cell_type": "code",
   "execution_count": null,
   "metadata": {},
   "outputs": [],
   "source": [
    "qubit = Qubit(frequency=1)\n",
    "\n",
    "qubit.initialState = {0:0.5, 1:0.5}\n",
    "#qubit.initialState = [0, 1]"
   ]
  },
  {
   "cell_type": "code",
   "execution_count": null,
   "metadata": {},
   "outputs": [],
   "source": [
    "print(qubit.totalHam.A)\n",
    "print(qubit.initialState.A)"
   ]
  },
  {
   "cell_type": "code",
   "execution_count": null,
   "metadata": {},
   "outputs": [],
   "source": [
    "def compute(sim, state):\n",
    "    # Fidelity to intial\n",
    "    sim.results['fidelity'].append(fidelityKet(state, qubit.initialState))\n",
    "\n",
    "    # Bloch Sphere coordinates\n",
    "    sim.results['x'].append(expectationKet(sigmax(), state))\n",
    "    sim.results['y'].append(expectationKet(sigmay(), state))\n",
    "    sim.results['z'].append(expectationKet(sigmaz(), state))\n",
    "\n",
    "qubit.simulation.compute = compute"
   ]
  },
  {
   "cell_type": "code",
   "execution_count": null,
   "metadata": {},
   "outputs": [],
   "source": [
    "qubit.simulation.totalTime = 1\n",
    "qubit.simulation.stepSize = 0.01\n",
    "qubit.simulation.delStates = True"
   ]
  },
  {
   "cell_type": "code",
   "execution_count": null,
   "metadata": {},
   "outputs": [],
   "source": [
    "qubit.simulation.run()"
   ]
  },
  {
   "cell_type": "code",
   "execution_count": null,
   "metadata": {},
   "outputs": [],
   "source": [
    "def plot(index = None, lineCS = ['b', 'r', 'g']):\n",
    "    if index is None:\n",
    "        x = qubit.simulation.qRes.results['x']\n",
    "        y = qubit.simulation.qRes.results['y']\n",
    "        z = qubit.simulation.qRes.results['z']\n",
    "    elif isinstance(index, int):\n",
    "        x = qubit.simulation.qRes.results['x'][index]\n",
    "        y = qubit.simulation.qRes.results['y'][index]\n",
    "        z = qubit.simulation.qRes.results['z'][index]\n",
    "\n",
    "    t = qubit.simulation.timeList\n",
    "\n",
    "    plt.plot(t, x, lineCS[0])\n",
    "    plt.plot(t, y, lineCS[1])\n",
    "    plt.plot(t, z, lineCS[2])\n",
    "    plt.legend(['x', 'y', 'z'])\n",
    "\n",
    "plot()"
   ]
  },
  {
   "cell_type": "code",
   "execution_count": null,
   "metadata": {},
   "outputs": [],
   "source": [
    "freqSweep = qubit.simulation.Sweep.createSweep(sweepKey='frequency', sweepList = [1, 2])\n",
    "\n",
    "qubit.simulation.run()"
   ]
  },
  {
   "cell_type": "code",
   "execution_count": null,
   "metadata": {},
   "outputs": [],
   "source": [
    "plot(index=0)\n",
    "plot(index=1, lineCS=['b-.', 'r-.', 'g-.'])"
   ]
  },
  {
   "cell_type": "code",
   "execution_count": null,
   "metadata": {},
   "outputs": [],
   "source": [
    "qubit.operator = sigmax\n",
    "qubit.frequency = 1\n",
    "\n",
    "qubit.simulation.run()"
   ]
  },
  {
   "cell_type": "code",
   "execution_count": null,
   "metadata": {},
   "outputs": [],
   "source": [
    "print(qubit.frequency)\n",
    "print(qubit.totalHam.A)\n",
    "print(qubit.initialState.A)"
   ]
  },
  {
   "cell_type": "code",
   "execution_count": null,
   "metadata": {},
   "outputs": [],
   "source": [
    "plot(index=0)\n",
    "plot(index=1, lineCS=['b-.', 'r-.', 'g-.'])"
   ]
  },
  {
   "cell_type": "code",
   "execution_count": null,
   "metadata": {},
   "outputs": [],
   "source": [
    "sy = qubit.addTerm(sigmay, 1)\n",
    "\n",
    "qubit.simulation.run()"
   ]
  },
  {
   "cell_type": "code",
   "execution_count": null,
   "metadata": {},
   "outputs": [],
   "source": [
    "print(qubit.totalHam.A)\n",
    "print(qubit.initialState.A)"
   ]
  },
  {
   "cell_type": "code",
   "execution_count": null,
   "metadata": {},
   "outputs": [],
   "source": [
    "plot(index=0)\n",
    "plot(index=1, lineCS=['b-.', 'r-.', 'g-.'])"
   ]
  },
  {
   "cell_type": "code",
   "execution_count": null,
   "metadata": {},
   "outputs": [],
   "source": [
    "sy.order = 2\n",
    "\n",
    "qubit.simulation.run()"
   ]
  },
  {
   "cell_type": "code",
   "execution_count": null,
   "metadata": {},
   "outputs": [],
   "source": [
    "print(qubit.totalHam.A)\n",
    "print(qubit.initialState.A)"
   ]
  },
  {
   "cell_type": "code",
   "execution_count": null,
   "metadata": {},
   "outputs": [],
   "source": [
    "plot(index=0)\n",
    "plot(index=1, lineCS=['b-.', 'r-.', 'g-.'])"
   ]
  },
  {
   "cell_type": "code",
   "execution_count": null,
   "metadata": {},
   "outputs": [],
   "source": [
    "qubit.removeSubSys(sy)\n",
    "\n",
    "qubit.operator = sigmaz\n",
    "\n",
    "qubit.initialState = 0"
   ]
  },
  {
   "cell_type": "code",
   "execution_count": null,
   "metadata": {},
   "outputs": [],
   "source": [
    "print(qubit.totalHam.A)\n",
    "print(qubit.initialState.A)"
   ]
  },
  {
   "cell_type": "code",
   "execution_count": null,
   "metadata": {},
   "outputs": [],
   "source": [
    "qubit.simulation.run()"
   ]
  },
  {
   "cell_type": "code",
   "execution_count": null,
   "metadata": {},
   "outputs": [],
   "source": [
    "plot(index=0)\n",
    "plot(index=1, lineCS=['b-.', 'r-.', 'g-.'])"
   ]
  },
  {
   "cell_type": "code",
   "execution_count": null,
   "metadata": {},
   "outputs": [],
   "source": [
    "driveFreq = 1\n",
    "\n",
    "driveTerm1 = qubit.addTerm(sigmam, driveFreq)\n",
    "driveTerm2 = qubit.addTerm(sigmap, driveFreq)"
   ]
  },
  {
   "cell_type": "code",
   "execution_count": null,
   "metadata": {},
   "outputs": [],
   "source": [
    "print(qubit.totalHam.A)\n",
    "print(qubit.initialState.A)"
   ]
  },
  {
   "cell_type": "code",
   "execution_count": null,
   "metadata": {},
   "outputs": [],
   "source": [
    "qubit.simulation.run()"
   ]
  },
  {
   "cell_type": "code",
   "execution_count": null,
   "metadata": {},
   "outputs": [],
   "source": [
    "plot(index=0)\n",
    "plot(index=1, lineCS=['b-.', 'r-.', 'g-.'])"
   ]
  },
  {
   "cell_type": "code",
   "execution_count": null,
   "metadata": {},
   "outputs": [],
   "source": []
  }
 ],
 "metadata": {
  "language_info": {
   "codemirror_mode": {
    "name": "ipython",
    "version": 3
   },
   "file_extension": ".py",
   "mimetype": "text/x-python",
   "name": "python",
   "nbconvert_exporter": "python",
   "pygments_lexer": "ipython3",
   "version": "3.8.3-final"
  },
  "orig_nbformat": 2,
  "kernelspec": {
   "name": "python38364bit8bede7f8620c4630a0af9c8571d78b41",
   "display_name": "Python 3.8.3 64-bit"
  }
 },
 "nbformat": 4,
 "nbformat_minor": 2
}