{
 "cells": [
  {
   "cell_type": "code",
   "execution_count": 1,
   "metadata": {},
   "outputs": [],
   "source": [
    "from Cahit import Plotting as ck\n",
    "\n",
    "from qTools.extensions.saveReadH5 import readAll, readH5\n",
    "\n",
    "import numpy as np\n",
    "\n",
    "import matplotlib.pyplot as plt\n",
    "import datetime"
   ]
  },
  {
   "cell_type": "code",
   "execution_count": 2,
   "metadata": {},
   "outputs": [
    {
     "output_type": "stream",
     "name": "stdout",
     "text": "0:33:17.123490\n"
    }
   ],
   "source": [
    "nw = datetime.datetime.now()\n",
    "results = readAll('/Users/cahitkargi/Dropbox/HPC/g1', '1589284806.164588')\n",
    "en = datetime.datetime.now()\n",
    "print(en-nw)"
   ]
  },
  {
   "cell_type": "code",
   "execution_count": null,
   "metadata": {},
   "outputs": [],
   "source": [
    "print(results.keys())"
   ]
  },
  {
   "cell_type": "code",
   "execution_count": null,
   "metadata": {},
   "outputs": [],
   "source": [
    "print(results['DigitalRabiResults'].keys())\n",
    "print(results['JCResults'].keys())\n",
    "print(results['RabiResults'].keys())\n",
    "print(results['Simulation1Results'].keys())"
   ]
  },
  {
   "cell_type": "code",
   "execution_count": null,
   "metadata": {},
   "outputs": [],
   "source": [
    "import qutip\n",
    "import qTools\n",
    "\n",
    "print(qutip.sigmam())\n",
    "print(qTools.sigmam().A)\n",
    "print(qTools.Jm(j=2).A)\n",
    "print(qTools.Jx(j=5).A)"
   ]
  },
  {
   "cell_type": "code",
   "execution_count": null,
   "metadata": {},
   "outputs": [],
   "source": [
    "i = 0\n",
    "print(len(attr.items()))\n",
    "for k, v in attr.items():\n",
    "    print(k, v)\n",
    "    i+=1\n",
    "    print(i)"
   ]
  },
  {
   "cell_type": "code",
   "execution_count": null,
   "metadata": {},
   "outputs": [],
   "source": [
    "print(results.keys())"
   ]
  },
  {
   "cell_type": "code",
   "execution_count": null,
   "metadata": {},
   "outputs": [],
   "source": [
    "def plotRes(xList = np.arange(-4, 4+0.1, 0.1)):\n",
    "    fig = plt.figure(figsize=(12,9))\n",
    "    setC = [0.88, 0.25, 0.02, 0.6]\n",
    "    axGrids = ck.Functions.grid(2, 3, fig=fig)\n",
    "\n",
    "    ck.SimplePlots.colorPlot(xList, [x*0.02 for x in range(60+1)], results['JCSysResults']['cavParity'][0],ax=axGrids[0], gif=fig, setC=setC)\n",
    "    ck.SimplePlots.colorPlot(xList, [x*0.02 for x in range(60+1)], results['JCSysResults']['cavParity'][1],ax=axGrids[1], gif=fig, setC=setC)\n",
    "    ck.SimplePlots.colorPlot(xList, [x*0.02 for x in range(60+1)], results['JCSysResults']['cavParity'][2],ax=axGrids[2], gif=fig, setC=setC)\n",
    "    ck.SimplePlots.colorPlot(xList, [x*0.02 for x in range(60+1)], results['Simulation1Results']['cavParity'][0],ax=axGrids[3], gif=fig, setC=setC)\n",
    "    ck.SimplePlots.colorPlot(xList, [x*0.02 for x in range(60+1)], results['Simulation1Results']['cavParity'][1],ax=axGrids[4], gif=fig, setC=setC)\n",
    "    ck.SimplePlots.colorPlot(xList, [x*0.02 for x in range(60+1)], results['Simulation1Results']['cavParity'][2],ax=axGrids[5], gif=fig, setC=setC)\n",
    "plotRes()"
   ]
  },
  {
   "cell_type": "code",
   "execution_count": null,
   "metadata": {
    "tags": [
     "outputPrepend"
    ]
   },
   "outputs": [],
   "source": [
    "print(results['Simulation1Results']['simFidelity'])"
   ]
  },
  {
   "cell_type": "code",
   "execution_count": null,
   "metadata": {},
   "outputs": [],
   "source": [
    "for ind in range(len(np.arange(0.001,0.1,0.001))):\n",
    "    print(len(results['Simulation1Results']['simFidelity'][str(ind)]))"
   ]
  },
  {
   "cell_type": "code",
   "execution_count": null,
   "metadata": {},
   "outputs": [],
   "source": [
    "print(results['Simulation1Results']['simFidelity']['0'][0])"
   ]
  },
  {
   "cell_type": "code",
   "execution_count": null,
   "metadata": {},
   "outputs": [],
   "source": [
    "list1 = [(0.0005+(0.0005*n)) for n in range(160)]\n",
    "list2 = [(0.081+(0.001*n)) for n in range(170)]\n",
    "list3 = list1+list2\n",
    "\n",
    "l1 = []\n",
    "for x in list3:\n",
    "    if x < 0.01:\n",
    "        l1.append(0.01)\n",
    "    else:\n",
    "        l1.append(x)\n",
    "\n",
    "def plotRes(xList = list3, x=l1):\n",
    "    fig = plt.figure(figsize=(12,9))\n",
    "    setC = [0.92, 0.25, 0.02, 0.6]\n",
    "\n",
    "    axGrids = ck.Functions.grid(8, 2, fig=fig)\n",
    "    \n",
    "    results1 = {'RabiResults':{},\n",
    "    'DigitalRabiResults':{},\n",
    "    'JCResults':{},\n",
    "    'Simulation1Results':{}}\n",
    "    for key, val in results.items():\n",
    "        for key1, val1 in val.items():\n",
    "            Z = []\n",
    "            if isinstance(val1, dict):\n",
    "                for ind in range(len(val1.keys())):\n",
    "                    Z.append(val1[str(ind)])\n",
    "            else:\n",
    "                print(key1)\n",
    "                Z = val1\n",
    "            results1[key][key1] = Z\n",
    "    print(len(results1['Simulation1Results']['simFidelity'][0]))\n",
    "    \n",
    "    ck.SimplePlots.colorPlotIreg(x, 2, results1['Simulation1Results']['simFidelity'], ax=axGrids[14], gif=fig, setC=setC, mapC='GrYl', maxC=1, minC=0)\n",
    "\n",
    "    ck.SimplePlots.colorPlotIreg(x, 2, results1['RabiResults']['Cavity Parity'], ax=axGrids[0], gif=fig, setC=setC)\n",
    "    ck.SimplePlots.colorPlotIreg(x, 2, results1['DigitalRabiResults']['Cavity Parity'], ax=axGrids[1], gif=fig, setC=setC)\n",
    "\n",
    "\n",
    "    ck.SimplePlots.colorPlotIreg(x, 2, results1['RabiResults']['Photon Number'], ax=axGrids[2], gif=fig, setC=setC, maxC=20, minC=0)\n",
    "    ck.SimplePlots.colorPlotIreg(x, 2, results1['DigitalRabiResults']['Photon Number'], ax=axGrids[3], gif=fig, setC=setC, maxC=20, minC=0)\n",
    "\n",
    "\n",
    "    ck.SimplePlots.colorPlotIreg(x, 2, results1['RabiResults']['Fidelity to initial'], ax=axGrids[4], gif=fig, setC=setC, maxC=1, minC=0)\n",
    "    ck.SimplePlots.colorPlotIreg(x, 2, results1['JCResults']['Fidelity to initial'], ax=axGrids[5], gif=fig, setC=setC, maxC=1, minC=0)\n",
    "\n",
    "\n",
    "    ck.SimplePlots.colorPlotIreg(x, 2, results1['RabiResults']['NPC'], ax=axGrids[6], gif=fig, setC=setC, maxC=20, minC=1)\n",
    "    ck.SimplePlots.colorPlotIreg(x, 2, results1['JCResults']['NPC'], ax=axGrids[7], gif=fig, setC=setC, maxC=20, minC=1)\n",
    "\n",
    "\n",
    "    ck.SimplePlots.colorPlot(x, np.arange(0, 10, 1), results1['RabiResults']['Fock state populations Ave'], ax=axGrids[12], gif=fig, setC=setC, maxC=0.4, minC=0)\n",
    "    ck.SimplePlots.colorPlot(x, np.arange(0, 10, 1), results1['JCResults']['Fock state populations Ave'], ax=axGrids[13], gif=fig, setC=setC, maxC=0.4, minC=0)\n",
    "    ck.SimplePlots.colorPlotIreg(x, 2, results1['RabiResults']['Qubit entropy'], ax=axGrids[8], gif=fig, setC=setC, maxC=1.7, minC=0)\n",
    "    ck.SimplePlots.colorPlotIreg(x, 2, results1['JCResults']['Qubit entropy'], ax=axGrids[9], gif=fig, setC=setC, maxC=1.7, minC=0)\n",
    "    axGrids[10].plot(x, results1['RabiResults']['Qubit entropy average'])\n",
    "    axGrids[11].plot(x, results1['JCResults']['Qubit entropy average'])\n",
    "    axGrids[10].set_yticks([])\n",
    "    axGrids[11].set_yticks([])\n",
    "\n",
    "plotRes()"
   ]
  },
  {
   "cell_type": "code",
   "execution_count": null,
   "metadata": {},
   "outputs": [],
   "source": [
    "plt.savefig('/home/ckargi/Data'+'/'+'1588114272221777'+'.png')"
   ]
  },
  {
   "cell_type": "code",
   "execution_count": null,
   "metadata": {},
   "outputs": [],
   "source": []
  }
 ],
 "metadata": {
  "language_info": {
   "name": "python",
   "codemirror_mode": {
    "name": "ipython",
    "version": 3
   },
   "version": "3.8.3-final"
  },
  "orig_nbformat": 2,
  "file_extension": ".py",
  "mimetype": "text/x-python",
  "name": "python",
  "npconvert_exporter": "python",
  "pygments_lexer": "ipython3",
  "version": 3,
  "kernelspec": {
   "name": "python38364bit8bede7f8620c4630a0af9c8571d78b41",
   "display_name": "Python 3.8.3 64-bit"
  }
 },
 "nbformat": 4,
 "nbformat_minor": 2
}