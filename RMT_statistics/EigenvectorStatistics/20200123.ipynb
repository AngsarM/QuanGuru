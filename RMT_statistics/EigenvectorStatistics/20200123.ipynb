{
 "nbformat": 4,
 "nbformat_minor": 2,
 "metadata": {
  "language_info": {
   "name": "python",
   "codemirror_mode": {
    "name": "ipython",
    "version": 3
   },
   "version": "3.7.4-final"
  },
  "orig_nbformat": 2,
  "file_extension": ".py",
  "mimetype": "text/x-python",
  "name": "python",
  "npconvert_exporter": "python",
  "pygments_lexer": "ipython3",
  "version": 3,
  "kernelspec": {
   "name": "python37464bitbasecondac54faf9e347140e88ccfc3faf0c38256",
   "display_name": "Python 3.7.4 64-bit ('base': conda)"
  },
  "pycharm": {
   "stem_cell": {
    "cell_type": "raw",
    "source": [],
    "metadata": {
     "collapsed": false
    }
   }
  }
 },
 "cells": [
  {
   "cell_type": "code",
   "execution_count": 1,
   "metadata": {},
   "outputs": [],
   "source": [
    "import numpy as np\n",
    "import scipy.linalg as lina\n",
    "\n",
    "import scipy.stats as stat\n",
    "\n",
    "import QuantumToolbox.operators as qOps\n",
    "import QuantumToolbox.liouvillian as liou\n",
    "import QuantumToolbox.states as states\n",
    "\n",
    "import RMT_statistics.Modules.Distributions as RMTdist\n",
    "\n",
    "import matplotlib.pyplot as plt\n",
    "\n",
    "import Plotting.Functions as pltFncs\n",
    "import Plotting.SimplePlots as sPlt"
   ]
  },
  {
   "cell_type": "markdown",
   "execution_count": null,
   "metadata": {
    "pycharm": {
     "name": "#%% md\n"
    }
   },
   "outputs": [],
   "source": [
    "# Eigenvector Statistics of Kicked-top of Different Symmetries\n",
    "---\n",
    "    M Kus, J Mostowski and F Haake\n",
    "    Journal of Physics A: Mathematical and General, Volume 21, Number 22\n",
    "    https://iopscience.iop.org/article/10.1088/0305-4470/21/22/006\n",
    "---\n",
    "\n",
    " ## 1.COE\n",
    "\n",
    "Parameters, Hamiltonian, and the Unitaries"
   ]
  },
  {
   "cell_type": "code",
   "execution_count": null,
   "metadata": {},
   "outputs": [],
   "source": [
    "# Parameters\n",
    "p = 1.7\n",
    "j = 100\n",
    "la = 6\n",
    "\n",
    "# required operators\n",
    "jz = qOps.Jz(j)\n",
    "jy = qOps.Jy(j)\n",
    "jzs = jz@jz\n",
    "\n",
    "# Hamiltonians\n",
    "h_o = p*jy\n",
    "v_o = (la/(2*j + 1))*(jzs)\n",
    "\n",
    "# Unitaries\n",
    "U_ho = liou.Liouvillian(h_o)\n",
    "U_o = liou.Liouvillian(v_o)@U_ho\n",
    "\n",
    "# Eigenvectors of the U_o\n",
    "vecs = lina.eig(U_o.A)[1]\n",
    "\n",
    "# components of eigenvectors in the Jz basis\n",
    "components = (np.abs(vecs.flatten()))**2"
   ]
  },
  {
   "cell_type": "code",
   "execution_count": null,
   "metadata": {},
   "outputs": [],
   "source": [
    "# Plotting\n",
    "bins = np.logspace(-5, -1, num=50, base=10.0)\n",
    "\n",
    "# quasi-continuous PDF and linear axes\n",
    "sPlt.pltEig(components, Dims=((2*j) + 1), Bins=bins, Step=False, logScale=False)"
   ]
  },
  {
   "cell_type": "code",
   "execution_count": null,
   "metadata": {},
   "outputs": [],
   "source": [
    "x_o = []\n",
    "x_s = []\n",
    "x_u = []\n",
    "\n",
    "jlist = np.arange(0.5,8.5,0.5)\n",
    "\n",
    "bins = np.logspace(-5, -1, num=50, base=10.0)\n",
    "dig = (np.histogram(components, bins, density=True)[0])\n",
    "\n",
    "bin_means = (np.histogram(bins, bins, weights=bins)[0] / np.histogram(bins, bins)[0])\n",
    "\n",
    "COE = [RMTdist.EigenVectorDist(X, int(2 * j) + 1, 1) for X in bin_means]\n",
    "CUE = [RMTdist.EigenVectorDist(X, int(2 * j) + 1, 2) for X in bin_means]\n",
    "CSE = [RMTdist.EigenVectorDist(X, int(2 * j) + 1, 4) for X in bin_means]\n",
    "\n",
    "xo = stat.chisquare(dig,f_exp=COE)\n",
    "xu = stat.chisquare(dig,f_exp=CUE)\n",
    "xs = stat.chisquare(dig,f_exp=CSE)\n",
    "    \n",
    "print(xu)\n",
    "print(xo)"
   ]
  },
  {
   "cell_type": "code",
   "execution_count": null,
   "metadata": {
    "pycharm": {
     "name": "#%%\n"
    }
   },
   "outputs": [],
   "source": [
    "# discrete PDF and log axes\n",
    "sPlt.pltEig(components, Dims=((2*j) + 1), Bins=bins, Step=True, logScale=True)"
   ]
  },
  {
   "cell_type": "markdown",
   "execution_count": null,
   "metadata": {
    "pycharm": {
     "name": "#%% md\n"
    }
   },
   "outputs": [],
   "source": [
    " ## 2.CUE\n",
    "\n",
    "Parameters, Hamiltonian, and the Unitaries"
   ]
  },
  {
   "cell_type": "code",
   "execution_count": null,
   "metadata": {},
   "outputs": [],
   "source": [
    "# Parameters\n",
    "pu = 1.7\n",
    "ju = 100\n",
    "ku = 6\n",
    "kpu = 0.5\n",
    "\n",
    "# required operators\n",
    "jzu = qOps.Jz(ju)\n",
    "jxu = qOps.Jx(ju)\n",
    "jyu = qOps.Jy(ju)\n",
    "jzsu = jzu@jzu\n",
    "jxsu = jxu@jxu\n",
    "\n",
    "# Hamiltonians\n",
    "h_u = pu*jy\n",
    "v_u1 = (ku/(2*j))*(jzsu)\n",
    "v_u2 = (kpu/(2*j))*(jxsu)\n",
    "\n",
    "# Unitaries\n",
    "U_hu = liou.Liouvillian(h_u)\n",
    "U_u1 = liou.Liouvillian(v_u1)@U_hu\n",
    "U_u = liou.Liouvillian(v_u2)@U_u1\n",
    "\n",
    "# Eigenvectors of the U_u\n",
    "vecsu = lina.eig(U_u.toarray())[1]\n",
    "\n",
    "# components of eigenvectors in the Jz basis\n",
    "components = (np.abs(vecsu.flatten()))**2"
   ]
  },
  {
   "cell_type": "code",
   "execution_count": null,
   "metadata": {
    "pycharm": {
     "name": "#%%\n"
    }
   },
   "outputs": [],
   "source": [
    "# discrete PDF and log axes\n",
    "sPlt.pltEig(components, Dims=((2*ju) + 1), Bins=bins, Step=True, logScale=True)"
   ]
  },
  {
   "cell_type": "markdown",
   "execution_count": null,
   "metadata": {
    "pycharm": {
     "name": "#%% md\n"
    }
   },
   "outputs": [],
   "source": [
    " ## 3.CSE\n",
    "\n",
    "Parameters, Hamiltonian, and the Unitaries"
   ]
  },
  {
   "cell_type": "code",
   "execution_count": null,
   "metadata": {},
   "outputs": [],
   "source": [
    "# Parameters\n",
    "ps = 2.5\n",
    "js = 399.5\n",
    "ks = 2.5\n",
    "kps = 2\n",
    "kpps = 3\n",
    "\n",
    "# required operators\n",
    "jz_s = qOps.Jz(js)\n",
    "jy_s = qOps.Jy(js)\n",
    "jx_s = qOps.Jx(js)\n",
    "jzs_s = jz_s@jz_s\n",
    "\n",
    "# Hamiltonians\n",
    "h_s = (ps/js)*jzs_s\n",
    "v_s = (ks/js)*(jzs_s + kps*(jx_s@jz_s + jz_s@jx_s) + kpps*(jx_s@jy_s + jy_s@jx_s))\n",
    "\n",
    "# Unitaries\n",
    "U_hs = liou.Liouvillian(h_s)\n",
    "U_s = liou.Liouvillian(v_s)@U_hs\n",
    "\n",
    "# Eigenvectors of the U_s\n",
    "vecss = lina.eig(U_s.toarray())[1]\n",
    "\n",
    "# components of eigenvectors in the Jz basis & taking the degeneracy into account\n",
    "components = []\n",
    "for i in range(len(vecss)):\n",
    "    el = 0\n",
    "    for k in range(int(len(vecss)/2)-2):\n",
    "        p1 = (np.abs(vecss[:,i][el]))**2\n",
    "        p2 = (np.abs(vecss[:,i][el+1]))**2\n",
    "        el += 2\n",
    "        components.append(p1+p2)"
   ]
  },
  {
   "cell_type": "code",
   "execution_count": null,
   "metadata": {
    "pycharm": {
     "name": "#%%\n"
    }
   },
   "outputs": [],
   "source": [
    "# discrete PDF and log axes\n",
    "sPlt.pltEig(components, Dims=((2*js) + 1), Bins=bins, Step=True, logScale=True)"
   ]
  },
  {
   "cell_type": "markdown",
   "execution_count": null,
   "metadata": {
    "collapsed": false,
    "pycharm": {
     "name": "#%% md\n"
    }
   },
   "outputs": [],
   "source": [
    "# Eigenvector Statistics for Digital Ising Simulation \n",
    "---\n",
    "    L. M. Sieberer, T. Olsacher, A. Elben, M. Heyl, P. Hauke, F. Haake, and P. Zoller\n",
    "    npj Quantum Information volume 5, Article number: 78 (2019)\n",
    "    https://www.nature.com/articles/s41534-019-0192-5\n",
    "---\n",
    "This digital quantum simulation maps to kicked-top, and the goal below is to find j value at which system is sensibly chaotic. <br/>"
   ]
  },
  {
   "cell_type": "code",
   "execution_count": 2,
   "metadata": {},
   "outputs": [],
   "source": [
    "\n",
    "def IsingDS(jv, symp=False, chi=False):\n",
    "    # parameters\n",
    "    h_x = 0.1\n",
    "    j_x = 0.7\n",
    "    h_z = 0.3\n",
    "\n",
    "    # Trotter step size\n",
    "    tau = 5\n",
    "\n",
    "    # required operators\n",
    "    jz = qOps.Jz(jv)\n",
    "    jx = qOps.Jx(jv)\n",
    "    jzs = jz @ jz\n",
    "    jxs = jx @ jx\n",
    "\n",
    "    # Hamiltonians\n",
    "    Ham_x = ( (h_x*jx) + ( (j_x*jxs)/( (2*jv) + 1) ) )\n",
    "    Ham_z = ( (h_z*jz) + ( jzs/( (2*jv) + 1) ) ) \n",
    "\n",
    "    #Unitaries\n",
    "    U_x = liou.Liouvillian(tau * Ham_x)\n",
    "    U_z = liou.Liouvillian(tau * Ham_z)\n",
    "    U_t = U_z @ U_x\n",
    "\n",
    "    # Eigenvectors\n",
    "    vecsi = lina.eig(U_t.toarray())[1]\n",
    "\n",
    "\n",
    "    # components of eigenvectors in the Jz basis\n",
    "    components = []\n",
    "    if symp == True:\n",
    "        if chi == False:\n",
    "            el = 0\n",
    "            for i in range(int(len(vecss)/2)):\n",
    "                p1 = (np.abs(vecss[el].flatten()))**2\n",
    "                p2 = (np.abs(vecss[el+1].flatten()))**2\n",
    "                el += 2\n",
    "                comps.append(sum(p1+p2))\n",
    "        elif chi == True:\n",
    "            for i in range(len(vecss)):\n",
    "                el = 0\n",
    "                for k in range(int(len(vecss)/2)-2):\n",
    "                    p1 = (np.abs(vecss[:,i][el]))**2\n",
    "                    p2 = (np.abs(vecss[:,i][el+1]))**2\n",
    "                    el += 2\n",
    "                    components.append(p1+p2)\n",
    "    else:\n",
    "        if chi == False:\n",
    "            components = (np.abs(vecsi.flatten()))**2\n",
    "        elif chi == True:\n",
    "            for ind1 in range(len(vecsi)):\n",
    "                components.append((np.abs(vecsi[ind1].flatten()))**2)\n",
    "\n",
    "    return components"
   ]
  },
  {
   "cell_type": "code",
   "execution_count": null,
   "metadata": {},
   "outputs": [],
   "source": [
    "def jInterval(jmin, jmax, logScale, xlim=1):\n",
    "    print(xlim)\n",
    "    fig = plt.figure(figsize=(12, 9))\n",
    "    fig.text(0.5, 0.01, r'$|c_n|^2$', ha='center', fontsize=24)\n",
    "    fig.text(0.005, 0.5, r'# of $|c_n|^2$', va='center', rotation='vertical', fontsize=24)\n",
    "\n",
    "    axGrids = pltFncs.grid(2,2)\n",
    "    jlist = np.arange(jmin,jmax,0.5)\n",
    "    print(len(jlist))\n",
    "    for ind in range(len(jlist)):\n",
    "        components = IsingDS(jlist[ind])\n",
    "        sPlt.pltEig(components, Dims=((2*jlist[ind]) + 1), Step=False, logScale=logScale, ax=axGrids[ind], Legend=False, xlim=xlim)\n",
    "        print(ind)\n",
    "    plt.show()"
   ]
  },
  {
   "cell_type": "code",
   "execution_count": null,
   "metadata": {},
   "outputs": [],
   "source": [
    "jInterval(0.5, 2.5, False)"
   ]
  },
  {
   "cell_type": "code",
   "execution_count": null,
   "metadata": {},
   "outputs": [],
   "source": [
    "jInterval(2.5, 4.5, False)"
   ]
  },
  {
   "cell_type": "code",
   "execution_count": null,
   "metadata": {},
   "outputs": [],
   "source": [
    "jInterval(4.5, 6.5, False)"
   ]
  },
  {
   "cell_type": "code",
   "execution_count": null,
   "metadata": {},
   "outputs": [],
   "source": [
    "jInterval(6.5, 8.5, False)"
   ]
  },
  {
   "cell_type": "code",
   "execution_count": null,
   "metadata": {},
   "outputs": [],
   "source": [
    "jInterval(0.5, 2.5, True)"
   ]
  },
  {
   "cell_type": "code",
   "execution_count": null,
   "metadata": {},
   "outputs": [],
   "source": [
    "jInterval(2.5, 4.5, True)"
   ]
  },
  {
   "cell_type": "code",
   "execution_count": null,
   "metadata": {},
   "outputs": [],
   "source": [
    "jInterval(4.5, 6.5, True)"
   ]
  },
  {
   "cell_type": "code",
   "execution_count": null,
   "metadata": {},
   "outputs": [],
   "source": [
    "jInterval(6.5, 8.5, True)"
   ]
  }
 ]
}