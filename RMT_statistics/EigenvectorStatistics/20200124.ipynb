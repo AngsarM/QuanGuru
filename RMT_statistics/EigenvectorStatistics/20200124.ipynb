{
 "nbformat": 4,
 "nbformat_minor": 2,
 "metadata": {
  "language_info": {
   "name": "python",
   "codemirror_mode": {
    "name": "ipython",
    "version": 3
   },
   "version": "3.7.4-final"
  },
  "orig_nbformat": 2,
  "file_extension": ".py",
  "mimetype": "text/x-python",
  "name": "python",
  "npconvert_exporter": "python",
  "pygments_lexer": "ipython3",
  "version": 3,
  "kernelspec": {
   "name": "python37464bitbasecondac54faf9e347140e88ccfc3faf0c38256",
   "display_name": "Python 3.7.4 64-bit ('base': conda)"
  }
 },
 "cells": [
  {
   "cell_type": "code",
   "execution_count": 1,
   "metadata": {},
   "outputs": [],
   "source": [
    "import numpy as np\n",
    "import scipy.linalg as lina\n",
    "\n",
    "import scipy.stats as stat\n",
    "\n",
    "import QuantumToolbox.operators as qOps\n",
    "import QuantumToolbox.liouvillian as liou\n",
    "import QuantumToolbox.states as states\n",
    "\n",
    "import RMT_statistics.Modules.Distributions as RMTdist\n",
    "\n",
    "import matplotlib.pyplot as plt\n",
    "\n",
    "import Plotting.Functions as pltFncs\n",
    "import Plotting.SimplePlots as sPlt"
   ]
  },
  {
   "cell_type": "code",
   "execution_count": 1,
   "metadata": {},
   "outputs": [
    {
     "ename": "NameError",
     "evalue": "name 'np' is not defined",
     "output_type": "error",
     "traceback": [
      "\u001b[0;31m---------------------------------------------------------------------------\u001b[0m",
      "\u001b[0;31mNameError\u001b[0m                                 Traceback (most recent call last)",
      "\u001b[0;32m<ipython-input-1-b3b897f17545>\u001b[0m in \u001b[0;36m<module>\u001b[0;34m\u001b[0m\n\u001b[1;32m      3\u001b[0m \u001b[0mx_u\u001b[0m \u001b[0;34m=\u001b[0m \u001b[0;34m[\u001b[0m\u001b[0;34m]\u001b[0m\u001b[0;34m\u001b[0m\u001b[0;34m\u001b[0m\u001b[0m\n\u001b[1;32m      4\u001b[0m \u001b[0;34m\u001b[0m\u001b[0m\n\u001b[0;32m----> 5\u001b[0;31m \u001b[0mjlist\u001b[0m \u001b[0;34m=\u001b[0m \u001b[0mnp\u001b[0m\u001b[0;34m.\u001b[0m\u001b[0marange\u001b[0m\u001b[0;34m(\u001b[0m\u001b[0;36m0.5\u001b[0m\u001b[0;34m,\u001b[0m\u001b[0;36m8.5\u001b[0m\u001b[0;34m,\u001b[0m\u001b[0;36m0.5\u001b[0m\u001b[0;34m)\u001b[0m\u001b[0;34m\u001b[0m\u001b[0;34m\u001b[0m\u001b[0m\n\u001b[0m\u001b[1;32m      6\u001b[0m \u001b[0;34m\u001b[0m\u001b[0m\n\u001b[1;32m      7\u001b[0m \u001b[0mbins\u001b[0m \u001b[0;34m=\u001b[0m \u001b[0mnp\u001b[0m\u001b[0;34m.\u001b[0m\u001b[0mlogspace\u001b[0m\u001b[0;34m(\u001b[0m\u001b[0;34m-\u001b[0m\u001b[0;36m5\u001b[0m\u001b[0;34m,\u001b[0m \u001b[0;34m-\u001b[0m\u001b[0;36m1\u001b[0m\u001b[0;34m,\u001b[0m \u001b[0mnum\u001b[0m\u001b[0;34m=\u001b[0m\u001b[0;36m50\u001b[0m\u001b[0;34m,\u001b[0m \u001b[0mbase\u001b[0m\u001b[0;34m=\u001b[0m\u001b[0;36m10.0\u001b[0m\u001b[0;34m)\u001b[0m\u001b[0;34m\u001b[0m\u001b[0;34m\u001b[0m\u001b[0m\n",
      "\u001b[0;31mNameError\u001b[0m: name 'np' is not defined"
     ]
    }
   ],
   "source": [
    "x_o = []\n",
    "x_s = []\n",
    "x_u = []\n",
    "\n",
    "jlist = np.arange(0.5,8.5,0.5)\n",
    "\n",
    "bins = np.logspace(-5, -1, num=50, base=10.0)\n",
    "dig = (np.histogram(components, bins, density=True)[0])\n",
    "\n",
    "bin_means = (np.histogram(bins, bins, weights=bins)[0] / np.histogram(bins, bins)[0])\n",
    "\n",
    "COE = [RMTdist.EigenVectorDist(X, int(2 * j) + 1, 1) for X in bin_means]\n",
    "CUE = [RMTdist.EigenVectorDist(X, int(2 * j) + 1, 2) for X in bin_means]\n",
    "CSE = [RMTdist.EigenVectorDist(X, int(2 * j) + 1, 4) for X in bin_means]\n",
    "\n",
    "xo = stat.chisquare(dig,f_exp=COE)\n",
    "xu = stat.chisquare(dig,f_exp=CUE)\n",
    "xs = stat.chisquare(dig,f_exp=CSE)\n",
    "    \n",
    "print(xu)\n",
    "print(xo)\n",
    "print('a')"
   ]
  },
  {
   "cell_type": "code",
   "execution_count": 2,
   "metadata": {},
   "outputs": [],
   "source": [
    "def IsingDS(jv, symp=False, chi=False):\n",
    "    # parameters\n",
    "    h_x = 0.1\n",
    "    j_x = 0.7\n",
    "    h_z = 0.3\n",
    "\n",
    "    # Trotter step size\n",
    "    tau = 5\n",
    "\n",
    "    # required operators\n",
    "    jz = qOps.Jz(jv)\n",
    "    jx = qOps.Jx(jv)\n",
    "    jzs = jz @ jz\n",
    "    jxs = jx @ jx\n",
    "\n",
    "    # Hamiltonians\n",
    "    Ham_x = ( (h_x*jx) + ( (j_x*jxs)/( (2*jv) + 1) ) )\n",
    "    Ham_z = ( (h_z*jz) + ( jzs/( (2*jv) + 1) ) ) \n",
    "\n",
    "    #Unitaries\n",
    "    U_x = liou.Liouvillian(tau * Ham_x)\n",
    "    U_z = liou.Liouvillian(tau * Ham_z)\n",
    "    U_t = U_z @ U_x\n",
    "\n",
    "    # Eigenvectors\n",
    "    vecsi = lina.eig(U_t.toarray())[1]\n",
    "\n",
    "\n",
    "    # components of eigenvectors in the Jz basis\n",
    "    components = []\n",
    "    if symp == True:\n",
    "        if chi == False:\n",
    "            el = 0\n",
    "            for i in range(int(len(vecss)/2)):\n",
    "                p1 = (np.abs(vecss[el].flatten()))**2\n",
    "                p2 = (np.abs(vecss[el+1].flatten()))**2\n",
    "                el += 2\n",
    "                comps.append(sum(p1+p2))\n",
    "        elif chi == True:\n",
    "            for i in range(len(vecss)):\n",
    "                el = 0\n",
    "                for k in range(int(len(vecss)/2)-2):\n",
    "                    p1 = (np.abs(vecss[:,i][el]))**2\n",
    "                    p2 = (np.abs(vecss[:,i][el+1]))**2\n",
    "                    el += 2\n",
    "                    components.append(p1+p2)\n",
    "    else:\n",
    "        if chi == False:\n",
    "            components = (np.abs(vecsi.flatten()))**2\n",
    "        elif chi == True:\n",
    "            for ind1 in range(len(vecsi)):\n",
    "                components.append((np.abs(vecsi[ind1].flatten()))**2)\n",
    "\n",
    "    return components"
   ]
  },
  {
   "cell_type": "code",
   "execution_count": 3,
   "metadata": {},
   "outputs": [
    {
     "name": "stdout",
     "output_type": "stream",
     "text": "\n\n\n\n\n\n\n\n\n/Users/cahitkargi/opt/anaconda3/lib/python3.7/site-packages/scipy/sparse/_index.py:84: SparseEfficiencyWarning: Changing the sparsity structure of a csc_matrix is expensive. lil_matrix is more efficient.\n  self._set_intXint(row, col, x.flat[0])\n/Users/cahitkargi/opt/anaconda3/lib/python3.7/site-packages/scipy/sparse/_index.py:84: SparseEfficiencyWarning: Changing the sparsity structure of a csc_matrix is expensive. lil_matrix is more efficient.\n  self._set_intXint(row, col, x.flat[0])\n/Users/cahitkargi/opt/anaconda3/lib/python3.7/site-packages/scipy/sparse/_index.py:84: SparseEfficiencyWarning: Changing the sparsity structure of a csc_matrix is expensive. lil_matrix is more efficient.\n  self._set_intXint(row, col, x.flat[0])\n/Users/cahitkargi/opt/anaconda3/lib/python3.7/site-packages/scipy/sparse/_index.py:84: SparseEfficiencyWarning: Changing the sparsity structure of a csc_matrix is expensive. lil_matrix is more efficient.\n  self._set_intXint(row, col, x.flat[0])\n/Users/cahitkargi/opt/anaconda3/lib/python3.7/site-packages/scipy/sparse/_index.py:84: SparseEfficiencyWarning: Changing the sparsity structure of a csc_matrix is expensive. lil_matrix is more efficient.\n  self._set_intXint(row, col, x.flat[0])\n/Users/cahitkargi/opt/anaconda3/lib/python3.7/site-packages/scipy/sparse/_index.py:84: SparseEfficiencyWarning: Changing the sparsity structure of a csc_matrix is expensive. lil_matrix is more efficient.\n  self._set_intXint(row, col, x.flat[0])\n/Users/cahitkargi/opt/anaconda3/lib/python3.7/site-packages/scipy/sparse/_index.py:84: SparseEfficiencyWarning: Changing the sparsity structure of a csc_matrix is expensive. lil_matrix is more efficient.\n  self._set_intXint(row, col, x.flat[0])\n/Users/cahitkargi/opt/anaconda3/lib/python3.7/site-packages/scipy/sparse/_index.py:84: SparseEfficiencyWarning: Changing the sparsity structure of a csc_matrix is expensive. lil_matrix is more efficient.\n  self._set_intXint(row, col, x.flat[0])\n\n\n\n\n\n/Users/cahitkargi/opt/anaconda3/lib/python3.7/site-packages/scipy/sparse/_index.py:84: SparseEfficiencyWarning: Changing the sparsity structure of a csc_matrix is expensive. lil_matrix is more efficient.\n  self._set_intXint(row, col, x.flat[0])\n/Users/cahitkargi/opt/anaconda3/lib/python3.7/site-packages/scipy/sparse/_index.py:84: SparseEfficiencyWarning: Changing the sparsity structure of a csc_matrix is expensive. lil_matrix is more efficient.\n  self._set_intXint(row, col, x.flat[0])\n/Users/cahitkargi/opt/anaconda3/lib/python3.7/site-packages/scipy/sparse/_index.py:84: SparseEfficiencyWarning: Changing the sparsity structure of a csc_matrix is expensive. lil_matrix is more efficient.\n  self._set_intXint(row, col, x.flat[0])\n/Users/cahitkargi/opt/anaconda3/lib/python3.7/site-packages/scipy/sparse/_index.py:84: SparseEfficiencyWarning: Changing the sparsity structure of a csc_matrix is expensive. lil_matrix is more efficient.\n  self._set_intXint(row, col, x.flat[0])\n/Users/cahitkargi/opt/anaconda3/lib/python3.7/site-packages/scipy/sparse/_index.py:84: SparseEfficiencyWarning: Changing the sparsity structure of a csc_matrix is expensive. lil_matrix is more efficient.\n  self._set_intXint(row, col, x.flat[0])\n\n\n/Users/cahitkargi/opt/anaconda3/lib/python3.7/site-packages/scipy/sparse/_index.py:84: SparseEfficiencyWarning: Changing the sparsity structure of a csc_matrix is expensive. lil_matrix is more efficient.\n  self._set_intXint(row, col, x.flat[0])\n"
    }
   ],
   "source": [
    "x_o = []\n",
    "x_s = []\n",
    "x_u = []\n",
    "\n",
    "jlist = np.arange(0.5,8.5,0.5)\n",
    "\n",
    "for ind in range(len(jlist)):\n",
    "    bins = np.logspace(-5, 0, num=int(2 * jlist[ind]) + 1, base=10.0)\n",
    "    components = IsingDS(jlist[ind], chi=True)[0]\n",
    "    dig = (np.histogram(components, bins, density=True)[0])\n",
    "\n",
    "    bin_means = (np.histogram(bins, bins, weights=bins)[0] / np.histogram(bins, bins)[0])\n",
    "\n",
    "    COE = [RMTdist.EigenVectorDist(X, int(2 * jlist[ind]) + 1, 1) for X in bin_means]\n",
    "    CUE = [RMTdist.EigenVectorDist(X, int(2 * jlist[ind]) + 1, 2) for X in bin_means]\n",
    "    CSE = [RMTdist.EigenVectorDist(X, int(2 * jlist[ind]) + 1, 4) for X in bin_means]\n",
    "\n",
    "    xo = stat.chisquare(dig,f_exp=COE)[1]\n",
    "    xu = stat.chisquare(dig,f_exp=CUE)[1]\n",
    "    xs = stat.chisquare(dig,f_exp=CSE)[1]\n",
    "    print()\n",
    "    x_o.append(xo)\n",
    "    x_u.append(xu)\n",
    "    x_s.append(xs)"
   ]
  },
  {
   "cell_type": "code",
   "execution_count": null,
   "metadata": {},
   "outputs": [],
   "source": [
    "plt.plot(jlist, x_o, 'r-')\n",
    "plt.show()\n",
    "plt.plot(jlist, x_s, 'b-')\n",
    "plt.show()\n",
    "plt.plot(jlist, x_u, 'g-')\n",
    "plt.show()"
   ]
  }
 ]
}