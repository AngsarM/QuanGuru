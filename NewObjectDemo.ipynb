{
 "cells": [
  {
   "cell_type": "code",
   "execution_count": null,
   "metadata": {},
   "outputs": [],
   "source": [
    "import classes.QSys as qsys\n",
    "import classes.QSim as qsim\n",
    "import QuantumToolbox as qtbox\n",
    "import QuantumToolbox.operators as oper\n",
    "import scipy.sparse as sp\n",
    "import QuantumToolbox.states as states\n",
    "from functools import partial\n",
    "from multiprocessing import Pool, cpu_count\n",
    "import QuantumToolbox.functions as qFncs\n",
    "import QuantumToolbox.operators as qOps\n",
    "import QuantumToolbox.liouvillian as lio\n",
    "import Plotting.SimplePlots as sPlt\n",
    "import numpy as np\n",
    "import matplotlib.pyplot as plt"
   ]
  },
  {
   "cell_type": "code",
   "execution_count": null,
   "metadata": {},
   "outputs": [],
   "source": [
    "resonatorDimension = 200\n",
    "g = 1.79\n",
    "qfreq = 0\n",
    "resFreq = 2\n",
    "irreg = False"
   ]
  },
  {
   "cell_type": "code",
   "execution_count": null,
   "metadata": {},
   "outputs": [],
   "source": [
    "def digitalRabi(obj, stepSize):\n",
    "    HamJC = 2 * np.pi * (((obj.subSystems[0].frequency/2)*obj.subSystems[0].freeMat()) + obj.couplingHam)\n",
    "    UnitaryJC = lio.Liouvillian(HamJC, timeStep=(stepSize / 2))\n",
    "    UnitaryAJC = (UnitaryJC @ UnitaryJC)\n",
    "    Unitary = UnitaryJC @ obj.sigmaX @ UnitaryAJC @ obj.sigmaX @ UnitaryJC\n",
    "    return Unitary"
   ]
  },
  {
   "cell_type": "code",
   "execution_count": null,
   "metadata": {},
   "outputs": [],
   "source": [
    "JCSys = qsys.QuantumSystem()\n",
    "\n",
    "cav = qsys.Cavity(dimension=resonatorDimension, frequency=resFreq)\n",
    "JCSys.addSubSys(cav)\n",
    "\n",
    "qub = JCSys.createSubSys(subClass=qsys.Qubit)\n",
    "qub.frequency = qfreq"
   ]
  },
  {
   "cell_type": "code",
   "execution_count": null,
   "metadata": {},
   "outputs": [],
   "source": [
    "JCSys.coupleBy(qub, cav,'JC', g)\n",
    "\n",
    "JCSys.initialState = sp.kron(states.basis(cav.dimension, 0), states.basis(2, 1), format='csc')"
   ]
  },
  {
   "cell_type": "code",
   "execution_count": null,
   "metadata": {},
   "outputs": [],
   "source": [
    "qSim = qsim.Simulation(JCSys)\n",
    "qSim.sweepKey = 'frequency'\n",
    "\n",
    "cavParity = qOps.parityEXP(cav.freeMat())\n",
    "p = Pool(processes=cpu_count())\n",
    "print('simulating')\n",
    "statesDigit = p.map(partial(qSim.evolveTimeIndep, cav), qSim.sweepList)\n",
    "parityDigit = p.map(partial(qFncs.expectationList, cavParity),statesDigit)\n",
    "\n",
    "sPlt.colorPlot(qSim.sweepList, qSim.times, parityDigit,irreg)\n",
    "print(JCSys.Couplings)"
   ]
  },
  {
   "cell_type": "code",
   "execution_count": null,
   "metadata": {},
   "outputs": [],
   "source": [
    "JCSys.reset()\n",
    "JCSys.addCoupling([qub,cav],[qtbox.operators.sigmax, qtbox.operators.create], g)\n",
    "JCSys.addCoupling([cav, qub],[qtbox.operators.destroy, qtbox.operators.sigmax], g)\n",
    "\n",
    "print(JCSys.couplingName)"
   ]
  },
  {
   "cell_type": "code",
   "execution_count": null,
   "metadata": {},
   "outputs": [],
   "source": [
    "qSim.qSys = JCSys\n",
    "print('simulating')\n",
    "statesDigit = p.map(partial(qSim.evolveTimeIndep, cav), qSim.sweepList)\n",
    "parityDigit = p.map(partial(qFncs.expectationList, cavParity),statesDigit)\n",
    "sPlt.colorPlot(qSim.sweepList, qSim.times, parityDigit,irreg)\n",
    "print(JCSys.Couplings)"
   ]
  },
  {
   "cell_type": "code",
   "execution_count": null,
   "metadata": {},
   "outputs": [],
   "source": [
    "JCSys.reset(to='JC')\n",
    "#JCSys.addCoupling([qub,cav],[qtbox.operators.destroy, qtbox.operators.create], g)\n",
    "#JCSys.addCoupling([cav, qub],[qtbox.operators.destroy, qtbox.operators.create], g)\n",
    "JCSys.sigmaX = sp.kron(oper.identity(cav.dimension), oper.sigmax())\n",
    "JCSys.Unitaries = digitalRabi"
   ]
  },
  {
   "cell_type": "code",
   "execution_count": null,
   "metadata": {},
   "outputs": [],
   "source": [
    "qSim.qSys = JCSys\n",
    "print('simulating')\n",
    "statesDigit = p.map(partial(qSim.evolveTimeIndep, cav), qSim.sweepList)\n",
    "print('calculating')\n",
    "parityDigit = p.map(partial(qFncs.expectationList, cavParity),statesDigit)\n",
    "sPlt.colorPlot(qSim.sweepList, qSim.times, parityDigit,irreg)\n",
    "print(JCSys.Couplings)"
   ]
  },
  {
   "cell_type": "code",
   "execution_count": null,
   "metadata": {},
   "outputs": [],
   "source": [
    "JCSys.reset(to=1)\n",
    "\n",
    "qSim.qSys = JCSys\n",
    "\n",
    "statesDigit = p.map(partial(qSim.evolveTimeIndep, cav), qSim.sweepList)\n",
    "parityDigit = p.map(partial(qFncs.expectationList, cavParity),statesDigit)\n",
    "sPlt.colorPlot(qSim.sweepList, qSim.times, parityDigit,irreg)\n",
    "print(JCSys.Couplings)"
   ]
  },
  {
   "cell_type": "code",
   "execution_count": null,
   "metadata": {},
   "outputs": [],
   "source": [
    "JCSys.reset(to='JC')\n",
    "qSim.qSys = JCSys\n",
    "statesDigit = p.map(partial(qSim.evolveTimeIndep, cav), qSim.sweepList)\n",
    "parityDigit = p.map(partial(qFncs.expectationList, cavParity),statesDigit)\n",
    "sPlt.colorPlot(qSim.sweepList, qSim.times, parityDigit,irreg)\n",
    "print(JCSys.Couplings)"
   ]
  },
  {
   "cell_type": "code",
   "execution_count": null,
   "metadata": {},
   "outputs": [],
   "source": [
    "JCSys.reset(to=2)\n",
    "print(JCSys.couplingName)\n",
    "qSim.qSys = JCSys\n",
    "statesDigit = p.map(partial(qSim.evolveTimeIndep, cav), qSim.sweepList)\n",
    "parityDigit = p.map(partial(qFncs.expectationList, cavParity),statesDigit)\n",
    "sPlt.colorPlot(qSim.sweepList, qSim.times, parityDigit,irreg)\n",
    "print(JCSys.Couplings)"
   ]
  },
  {
   "cell_type": "code",
   "execution_count": null,
   "metadata": {},
   "outputs": [],
   "source": []
  }
 ],
 "metadata": {
  "kernelspec": {
   "display_name": "PyCharm (Gamma 1.5)",
   "language": "python",
   "name": "pycharm-a8fd8083"
  },
  "language_info": {
   "codemirror_mode": {
    "name": "ipython",
    "version": 3
   },
   "file_extension": ".py",
   "mimetype": "text/x-python",
   "name": "python",
   "nbconvert_exporter": "python",
   "pygments_lexer": "ipython3",
   "version": "3.7.0"
  }
 },
 "nbformat": 4,
 "nbformat_minor": 2
}
