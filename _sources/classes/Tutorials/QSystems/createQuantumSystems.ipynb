{
 "cells": [
  {
   "cell_type": "code",
   "execution_count": 1,
   "source": [
    "from quanguru import QuantumSystem, qSystem, compQSystem, Spin, Qubit, Cavity\n",
    "from quanguru import QuantumToolbox as qt"
   ],
   "outputs": [],
   "metadata": {}
  },
  {
   "cell_type": "markdown",
   "source": [
    "Let's create some quantum systems.\n",
    "\n",
    "You can use ``Qubits`` class to create a qubit, and it won't require a ``dimension`` information and also use $\\sigma_{z}$ as the default ``operator``.\n",
    "Alternatively, you can use ``QuantumSystem`` class, but, in this case, you need to give at least one of the relevant information (``operator``, ``dimension``, or ``frequency``) while creating it."
   ],
   "metadata": {}
  },
  {
   "cell_type": "code",
   "execution_count": 2,
   "source": [
    "Qubit1 = QuantumSystem(operator=qt.sigmaz)\n",
    "Qubit2 = Qubit(frequency=0.5)\n",
    "Cavity1 = Cavity(dimension=3)\n",
    "Spin1 = Spin(jValue=1) # you can either give a dimension or, equivalently, the spin quantum number. The spin object can handle either."
   ],
   "outputs": [
    {
     "output_type": "stream",
     "name": "stdout",
     "text": [
      "<class 'quanguru.classes.QSys.qSystem'>\n"
     ]
    }
   ],
   "metadata": {}
  },
  {
   "cell_type": "markdown",
   "source": [
    "You can set any attribute while creating the objects as above, or you can set or change them later as below."
   ],
   "metadata": {}
  },
  {
   "cell_type": "code",
   "execution_count": 5,
   "source": [
    "Qubit1.frequency = 1\n",
    "Qubit1.dimension = 2\n",
    "Qubit2.frequency = 2"
   ],
   "outputs": [],
   "metadata": {}
  },
  {
   "cell_type": "markdown",
   "source": [
    "now let's print the Hamiltonian of these qubits.\n",
    "\n",
    "Notice that their Hamiltonians are equal, even though the Qubit1 has ``frequency=1`` and Qubit2 has ``frequency=2``.\n",
    "The reason is that the ``Qubit`` class also assumes the usual 1/2 in Qubit Hamiltonian:\n",
    "\n",
    "$H = \\frac{\\omega}{2}\\sigma_{z}$.\n",
    "\n",
    "while the generic ``QuantumSystem`` with ``operator`` $\\hat{O}$ and ``frequency`` $\\omega$ has the Hamiltonian:\n",
    "\n",
    "$H = \\omega\\hat{O}$."
   ],
   "metadata": {}
  },
  {
   "cell_type": "code",
   "execution_count": 8,
   "source": [
    "Qubit1.totalHam.A, Qubit2.totalHam.A"
   ],
   "outputs": [
    {
     "output_type": "execute_result",
     "data": {
      "text/plain": [
       "(array([[ 1,  0],\n",
       "        [ 0, -1]]),\n",
       " array([[ 1.,  0.],\n",
       "        [ 0., -1.]]))"
      ]
     },
     "metadata": {},
     "execution_count": 8
    }
   ],
   "metadata": {}
  },
  {
   "cell_type": "code",
   "execution_count": null,
   "source": [],
   "outputs": [],
   "metadata": {}
  }
 ],
 "metadata": {
  "orig_nbformat": 4,
  "language_info": {
   "name": "python",
   "version": "3.9.5",
   "mimetype": "text/x-python",
   "codemirror_mode": {
    "name": "ipython",
    "version": 3
   },
   "pygments_lexer": "ipython3",
   "nbconvert_exporter": "python",
   "file_extension": ".py"
  },
  "kernelspec": {
   "name": "python3",
   "display_name": "Python 3.9.5 64-bit ('macDevEnv': venv)"
  },
  "interpreter": {
   "hash": "814e14a992fb686cd256f9c235b414dba315a9a632c77b1dfe177340b7c2710b"
  }
 },
 "nbformat": 4,
 "nbformat_minor": 2
}